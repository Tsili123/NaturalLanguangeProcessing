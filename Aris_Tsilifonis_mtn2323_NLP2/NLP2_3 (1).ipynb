{
  "nbformat": 4,
  "nbformat_minor": 0,
  "metadata": {
    "colab": {
      "provenance": [],
      "machine_shape": "hm"
    },
    "kernelspec": {
      "name": "python3",
      "display_name": "Python 3"
    },
    "language_info": {
      "name": "python"
    }
  },
  "cells": [
    {
      "cell_type": "markdown",
      "source": [
        "## Text classification with Neural NetWorks (RNN, LSTM) - Aris Tsilifonis mtn2323\n",
        "\n",
        "Different architecture of Neural Networks were utilised to predict the correct class on the AG News Topic Classification Dataset. 1-layer and 2-layers Bidirectional Neural Networks were tested to measure performance. Also, we experimented with tokenization, pretrained embeddings, hyperparameter optimization to increase performance when possible."
      ],
      "metadata": {
        "id": "t4-_yC2jtuMQ"
      }
    },
    {
      "cell_type": "code",
      "execution_count": 1,
      "metadata": {
        "id": "GT-qdHDH6ghW"
      },
      "outputs": [],
      "source": [
        "\"\"\"\n",
        "\n",
        "A RNN classifier applied to AG_NEWS dataset\n",
        "\n",
        "Download dataset:\n",
        "https://www.kaggle.com/datasets/amananandrai/ag-news-classification-dataset\n",
        "\n",
        "\"\"\"\n",
        "\n",
        "import torch\n",
        "\n",
        "from torch.utils.data import DataLoader\n",
        "from torchtext.data import get_tokenizer\n",
        "from torchtext.vocab import build_vocab_from_iterator\n",
        "from torch.utils.data.dataset import random_split\n",
        "from torch import nn\n",
        "from torch.nn import functional as F\n",
        "import pandas as pd\n",
        "from tqdm import tqdm\n",
        "from sklearn.metrics import accuracy_score, classification_report, confusion_matrix\n",
        "import time\n",
        "\n",
        "device = torch.device(\"cuda\" if torch.cuda.is_available() else \"cpu\")\n",
        "\n",
        "# HYPER-PARAMETERS\n",
        "MAX_WORDS = 25\n",
        "EPOCHS = 15\n",
        "LEARNING_RATE = 1e-3\n",
        "BATCH_SIZE = 1024\n",
        "EMBEDDING_DIM = 100\n",
        "HIDDEN_DIM = 64\n"
      ]
    },
    {
      "cell_type": "markdown",
      "source": [
        "# Load Dataset"
      ],
      "metadata": {
        "id": "_A_f3Ysqu6F0"
      }
    },
    {
      "cell_type": "code",
      "source": [
        "######################################################################\n",
        "# Read dataset files\n",
        "# ------------------\n",
        "\n",
        "from google.colab import drive\n",
        "drive.mount('/content/drive')\n",
        "\n",
        "# Specify the path of the train file in your Google Drive\n",
        "train_file_path = '/content/drive/My Drive/train.csv'\n",
        "\n",
        "# Specify the path of the test file in your Google Drive\n",
        "test_file_path = '/content/drive/My Drive/test.csv'\n",
        "\n",
        "# Read the file using appropriate methods (e.g., pandas, numpy, etc.)\n",
        "# Example for reading a CSV file using pandas:\n",
        "\n",
        "train_data = pd.read_csv(train_file_path)\n",
        "\n",
        "test_data = pd.read_csv(test_file_path)\n"
      ],
      "metadata": {
        "colab": {
          "base_uri": "https://localhost:8080/"
        },
        "id": "ymWC3X6V6xPW",
        "outputId": "f84b82e6-f9cc-43d1-d156-0dc1cc0523db"
      },
      "execution_count": 2,
      "outputs": [
        {
          "output_type": "stream",
          "name": "stdout",
          "text": [
            "Mounted at /content/drive\n"
          ]
        }
      ]
    },
    {
      "cell_type": "code",
      "source": [
        "#print(test_data)\n",
        "test_data[\"text\"] = test_data['Title'] +\" \"+ test_data['Description']\n",
        "#print(test_data[\"text\"])"
      ],
      "metadata": {
        "id": "8pRBDVdFbgHT"
      },
      "execution_count": 3,
      "outputs": []
    },
    {
      "cell_type": "markdown",
      "source": [
        " # Data Processing"
      ],
      "metadata": {
        "id": "Ta_12QQBu9Gq"
      }
    },
    {
      "cell_type": "code",
      "source": [
        "######################################################################\n",
        "# Data processing\n",
        "# -----------------------------\n",
        "\n",
        "\n",
        "tokenizer = get_tokenizer(\"basic_english\")\n",
        "\n",
        "# All texts are truncated and padded to MAX_WORDS tokens\n",
        "def collate_batch(batch):\n",
        "    Y, X = list(zip(*batch))\n",
        "    Y = torch.tensor(Y) - 1 # Target names in range [0,1,2,3] instead of [1,2,3,4]\n",
        "    X = [vocab(tokenizer(text)) for text in X]\n",
        "    # Bringing all samples to MAX_WORDS length. Shorter texts are padded with <PAD> sequences, longer texts are truncated.\n",
        "    X = [tokens+([vocab['<PAD>']]* (MAX_WORDS-len(tokens))) if len(tokens)<MAX_WORDS else tokens[:MAX_WORDS] for tokens in X]\n",
        "    return torch.tensor(X, dtype=torch.int32).to(device), Y.to(device)\n",
        "\n",
        "train_dataset = [(label,train_data['Title'][i] + ' ' + train_data['Description'][i]) for i,label in enumerate(train_data['Class Index'])]\n",
        "test_dataset = [(label,test_data['Title'][i] + ' ' + test_data['Description'][i]) for i,label in enumerate(test_data['Class Index'])]\n",
        "\n",
        "train_loader = DataLoader(train_dataset, batch_size=BATCH_SIZE,\n",
        "                              shuffle=True, collate_fn=collate_batch)\n",
        "test_loader = DataLoader(test_dataset, batch_size=BATCH_SIZE,\n",
        "                              shuffle=False, collate_fn=collate_batch)\n",
        "\n",
        "target_classes = [\"World\", \"Sports\", \"Business\", \"Sci/Tech\"]\n",
        "\n",
        "def build_vocabulary(datasets):\n",
        "    for dataset in datasets:\n",
        "        for _, text in dataset:\n",
        "            yield tokenizer(text)\n",
        "\n",
        "# Vocabulary includes all tokens with at least 10 occurrences in the texts\n",
        "# Special tokens <PAD> and <UNK> are used for padding sequences and unknown words respectively\n",
        "vocab = build_vocab_from_iterator(build_vocabulary([train_dataset, test_dataset]), min_freq=10, specials=[\"<PAD>\",\"<UNK>\"])\n",
        "vocab.set_default_index(vocab[\"<UNK>\"])\n"
      ],
      "metadata": {
        "id": "kz3Fa2sZ62sP"
      },
      "execution_count": 4,
      "outputs": []
    },
    {
      "cell_type": "markdown",
      "source": [
        "# Define the model and initialize an instance of it"
      ],
      "metadata": {
        "id": "Yk0-iXKPvEJM"
      }
    },
    {
      "cell_type": "code",
      "source": [
        "######################################################################\n",
        "# Define the model\n",
        "# ----------------\n",
        "\n",
        "\n",
        "class model(nn.Module):\n",
        "    def __init__(self,input_dim, embedding_dim, hidden_dim, output_dim):\n",
        "        super(model, self).__init__()\n",
        "        self.embedding_layer = nn.Embedding(num_embeddings=input_dim, embedding_dim=embedding_dim)\n",
        "        self.rnn = nn.RNN(input_size=embedding_dim, hidden_size=hidden_dim, batch_first=True)\n",
        "        self.linear = nn.Linear(hidden_dim, output_dim)\n",
        "\n",
        "    def forward(self, X_batch):\n",
        "        embeddings = self.embedding_layer(X_batch)\n",
        "        output, hidden = self.rnn(embeddings)\n",
        "        logits = self.linear(output[:,-1])  # The last output of RNN is used for sequence classification\n",
        "        probs = F.softmax(logits, dim=1)\n",
        "        return probs\n",
        "\n",
        "######################################################################\n",
        "# Initiate an instance of the model\n",
        "# ---------------------------------\n",
        "\n",
        "\n",
        "classifier = model(len(vocab), EMBEDDING_DIM, HIDDEN_DIM, len(target_classes)).to(device)\n",
        "# Define loss function and opimization algorithm\n",
        "loss_fn = nn.CrossEntropyLoss()\n",
        "optimizer = torch.optim.Adam([param for param in classifier.parameters() if param.requires_grad == True],lr=LEARNING_RATE)\n",
        "\n",
        "# Count model parameters\n",
        "def count_parameters(model):\n",
        "    return sum(p.numel() for p in model.parameters() if p.requires_grad)\n",
        "\n",
        "print('\\nModel:')\n",
        "print(classifier)\n",
        "print('Total parameters: ',count_parameters(classifier))\n",
        "print('\\n\\n')\n"
      ],
      "metadata": {
        "colab": {
          "base_uri": "https://localhost:8080/"
        },
        "id": "NXHsULH368Ir",
        "outputId": "d1b2aa25-1bff-4350-d76d-4c3db4b45b4e"
      },
      "execution_count": 5,
      "outputs": [
        {
          "output_type": "stream",
          "name": "stdout",
          "text": [
            "\n",
            "Model:\n",
            "model(\n",
            "  (embedding_layer): Embedding(21254, 100)\n",
            "  (rnn): RNN(100, 64, batch_first=True)\n",
            "  (linear): Linear(in_features=64, out_features=4, bias=True)\n",
            ")\n",
            "Total parameters:  2136284\n",
            "\n",
            "\n",
            "\n"
          ]
        }
      ]
    },
    {
      "cell_type": "markdown",
      "source": [
        "# Define functions to train and evaluate the model"
      ],
      "metadata": {
        "id": "8sSMs5LYvLzh"
      }
    },
    {
      "cell_type": "code",
      "source": [
        "######################################################################\n",
        "# Define functions to train and evaluate the model\n",
        "# ------------------------------------------------\n",
        "from collections import defaultdict\n",
        "def find_missclassfication(y_pred,y_test,test_text):\n",
        "  missclf_text = []\n",
        "  missclf_label = []\n",
        "  misclf_dict = defaultdict(list)\n",
        "  counter=0\n",
        "  for i in range(0,len(y_test)):\n",
        "    if(y_test[i]!= y_pred[i]):\n",
        "      #a = int(test_text[i])\n",
        "      #a+=1\n",
        "      missclf_text.append(test_text[i])\n",
        "      #b = int(y_test[i])\n",
        "      #b+=1\n",
        "      missclf_label.append(y_test[i]+1)\n",
        "      misclf_dict[y_test[i]+1].append((y_pred[i]+1, test_text[i]))\n",
        "      counter+=1\n",
        "\n",
        "  return missclf_text,missclf_label, counter, misclf_dict\n",
        "\n",
        "def EvaluateModel(model, loss_fn, val_loader, test_texts):\n",
        "    model.eval()\n",
        "    with torch.no_grad():\n",
        "        Y_actual, Y_preds, losses = [],[],[]\n",
        "        for X, Y in val_loader:\n",
        "            preds = model(X)\n",
        "            loss = loss_fn(preds, Y)\n",
        "            losses.append(loss.item())\n",
        "\n",
        "            Y_actual.append(Y)\n",
        "            Y_preds.append(preds.argmax(dim=-1))\n",
        "\n",
        "        Y_actual = torch.cat(Y_actual)\n",
        "        Y_preds = torch.cat(Y_preds)\n",
        "\n",
        "\n",
        "        _,_,_,misclf_data = find_missclassfication(Y_preds.detach().cpu().numpy(),Y_actual.detach().cpu().numpy(),test_texts)\n",
        "\n",
        "\n",
        "    # Returns mean loss, actual labels, predicted labels\n",
        "    return torch.tensor(losses).mean(), Y_actual.detach().cpu().numpy(), Y_preds.detach().cpu().numpy(), misclf_data\n",
        "\n",
        "def TrainModel(model, loss_fn, optimizer, train_loader, epochs):\n",
        "    epoch_durations = []\n",
        "    for i in range(1, epochs+1):\n",
        "        start_time = time.time()  # Start time measurement\n",
        "        model.train()\n",
        "        print('Epoch:',i)\n",
        "        losses = []\n",
        "        for X, Y in tqdm(train_loader):\n",
        "            Y_preds = model(X)\n",
        "\n",
        "            loss = loss_fn(Y_preds, Y)\n",
        "            losses.append(loss.item())\n",
        "\n",
        "            optimizer.zero_grad()\n",
        "            loss.backward()\n",
        "            optimizer.step()\n",
        "\n",
        "        print(\"Train Loss : {:.3f}\".format(torch.tensor(losses).mean()))\n",
        "        end_time = time.time()  # End timing here\n",
        "        epoch_duration = end_time - start_time\n",
        "        print(f\"Epoch {i}/{epochs} - Duration: {epoch_duration:.2f} seconds \")\n",
        "        epoch_durations.append(epoch_duration)\n",
        "    return epoch_durations\n"
      ],
      "metadata": {
        "id": "OsZ3-Oyc6_lU"
      },
      "execution_count": 6,
      "outputs": []
    },
    {
      "cell_type": "markdown",
      "source": [
        "# Train and Evaluate model"
      ],
      "metadata": {
        "id": "j6lLXS_bvQFb"
      }
    },
    {
      "cell_type": "code",
      "source": [
        "epoch_durations1 = TrainModel(classifier, loss_fn, optimizer, train_loader, EPOCHS)\n",
        "# Calculate and print the average duration per epoch\n",
        "average_duration1 = sum(epoch_durations1) / len(epoch_durations1)\n",
        "print(f\"Average training time per epoch: {average_duration1:.2f} seconds\")\n",
        "\n",
        "######################################################################\n",
        "# Evaluate the model with test dataset\n",
        "# ------------------------------------\n",
        "\n",
        "_, Y_actual, Y_preds, misclf_data1 = EvaluateModel(classifier, loss_fn, test_loader, test_data[\"text\"])\n",
        "\n",
        "print(\"\\nTest Accuracy : {:.3f}\".format(accuracy_score(Y_actual, Y_preds)))\n",
        "print(\"\\nClassification Report : \")\n",
        "print(classification_report(Y_actual, Y_preds, target_names=target_classes))\n",
        "print(\"\\nConfusion Matrix : \")\n",
        "print(confusion_matrix(Y_actual, Y_preds))"
      ],
      "metadata": {
        "colab": {
          "base_uri": "https://localhost:8080/"
        },
        "id": "TctQhySA7FDU",
        "outputId": "7d7a3f47-6bbd-4b18-c70e-d81967f79830"
      },
      "execution_count": 7,
      "outputs": [
        {
          "output_type": "stream",
          "name": "stdout",
          "text": [
            "Epoch: 1\n"
          ]
        },
        {
          "output_type": "stream",
          "name": "stderr",
          "text": [
            "100%|██████████| 118/118 [00:05<00:00, 21.82it/s]\n"
          ]
        },
        {
          "output_type": "stream",
          "name": "stdout",
          "text": [
            "Train Loss : 1.309\n",
            "Epoch 1/15 - Duration: 5.43 seconds \n",
            "Epoch: 2\n"
          ]
        },
        {
          "output_type": "stream",
          "name": "stderr",
          "text": [
            "100%|██████████| 118/118 [00:04<00:00, 28.62it/s]\n"
          ]
        },
        {
          "output_type": "stream",
          "name": "stdout",
          "text": [
            "Train Loss : 1.068\n",
            "Epoch 2/15 - Duration: 4.13 seconds \n",
            "Epoch: 3\n"
          ]
        },
        {
          "output_type": "stream",
          "name": "stderr",
          "text": [
            "100%|██████████| 118/118 [00:04<00:00, 26.96it/s]\n"
          ]
        },
        {
          "output_type": "stream",
          "name": "stdout",
          "text": [
            "Train Loss : 0.972\n",
            "Epoch 3/15 - Duration: 4.38 seconds \n",
            "Epoch: 4\n"
          ]
        },
        {
          "output_type": "stream",
          "name": "stderr",
          "text": [
            "100%|██████████| 118/118 [00:04<00:00, 28.56it/s]\n"
          ]
        },
        {
          "output_type": "stream",
          "name": "stdout",
          "text": [
            "Train Loss : 0.929\n",
            "Epoch 4/15 - Duration: 4.14 seconds \n",
            "Epoch: 5\n"
          ]
        },
        {
          "output_type": "stream",
          "name": "stderr",
          "text": [
            "100%|██████████| 118/118 [00:04<00:00, 28.67it/s]\n"
          ]
        },
        {
          "output_type": "stream",
          "name": "stdout",
          "text": [
            "Train Loss : 0.904\n",
            "Epoch 5/15 - Duration: 4.12 seconds \n",
            "Epoch: 6\n"
          ]
        },
        {
          "output_type": "stream",
          "name": "stderr",
          "text": [
            "100%|██████████| 118/118 [00:04<00:00, 27.10it/s]\n"
          ]
        },
        {
          "output_type": "stream",
          "name": "stdout",
          "text": [
            "Train Loss : 0.889\n",
            "Epoch 6/15 - Duration: 4.36 seconds \n",
            "Epoch: 7\n"
          ]
        },
        {
          "output_type": "stream",
          "name": "stderr",
          "text": [
            "100%|██████████| 118/118 [00:04<00:00, 28.48it/s]\n"
          ]
        },
        {
          "output_type": "stream",
          "name": "stdout",
          "text": [
            "Train Loss : 0.877\n",
            "Epoch 7/15 - Duration: 4.15 seconds \n",
            "Epoch: 8\n"
          ]
        },
        {
          "output_type": "stream",
          "name": "stderr",
          "text": [
            "100%|██████████| 118/118 [00:04<00:00, 27.77it/s]\n"
          ]
        },
        {
          "output_type": "stream",
          "name": "stdout",
          "text": [
            "Train Loss : 0.868\n",
            "Epoch 8/15 - Duration: 4.26 seconds \n",
            "Epoch: 9\n"
          ]
        },
        {
          "output_type": "stream",
          "name": "stderr",
          "text": [
            "100%|██████████| 118/118 [00:04<00:00, 27.71it/s]\n"
          ]
        },
        {
          "output_type": "stream",
          "name": "stdout",
          "text": [
            "Train Loss : 0.861\n",
            "Epoch 9/15 - Duration: 4.26 seconds \n",
            "Epoch: 10\n"
          ]
        },
        {
          "output_type": "stream",
          "name": "stderr",
          "text": [
            "100%|██████████| 118/118 [00:04<00:00, 29.20it/s]\n"
          ]
        },
        {
          "output_type": "stream",
          "name": "stdout",
          "text": [
            "Train Loss : 0.857\n",
            "Epoch 10/15 - Duration: 4.04 seconds \n",
            "Epoch: 11\n"
          ]
        },
        {
          "output_type": "stream",
          "name": "stderr",
          "text": [
            "100%|██████████| 118/118 [00:04<00:00, 29.07it/s]\n"
          ]
        },
        {
          "output_type": "stream",
          "name": "stdout",
          "text": [
            "Train Loss : 0.850\n",
            "Epoch 11/15 - Duration: 4.07 seconds \n",
            "Epoch: 12\n"
          ]
        },
        {
          "output_type": "stream",
          "name": "stderr",
          "text": [
            "100%|██████████| 118/118 [00:04<00:00, 27.56it/s]\n"
          ]
        },
        {
          "output_type": "stream",
          "name": "stdout",
          "text": [
            "Train Loss : 0.847\n",
            "Epoch 12/15 - Duration: 4.29 seconds \n",
            "Epoch: 13\n"
          ]
        },
        {
          "output_type": "stream",
          "name": "stderr",
          "text": [
            "100%|██████████| 118/118 [00:04<00:00, 28.98it/s]\n"
          ]
        },
        {
          "output_type": "stream",
          "name": "stdout",
          "text": [
            "Train Loss : 0.842\n",
            "Epoch 13/15 - Duration: 4.08 seconds \n",
            "Epoch: 14\n"
          ]
        },
        {
          "output_type": "stream",
          "name": "stderr",
          "text": [
            "100%|██████████| 118/118 [00:04<00:00, 27.61it/s]\n"
          ]
        },
        {
          "output_type": "stream",
          "name": "stdout",
          "text": [
            "Train Loss : 0.838\n",
            "Epoch 14/15 - Duration: 4.28 seconds \n",
            "Epoch: 15\n"
          ]
        },
        {
          "output_type": "stream",
          "name": "stderr",
          "text": [
            "100%|██████████| 118/118 [00:04<00:00, 28.33it/s]\n"
          ]
        },
        {
          "output_type": "stream",
          "name": "stdout",
          "text": [
            "Train Loss : 0.837\n",
            "Epoch 15/15 - Duration: 4.17 seconds \n",
            "Average training time per epoch: 4.28 seconds\n",
            "\n",
            "Test Accuracy : 0.867\n",
            "\n",
            "Classification Report : \n",
            "              precision    recall  f1-score   support\n",
            "\n",
            "       World       0.89      0.86      0.87      1900\n",
            "      Sports       0.92      0.94      0.93      1900\n",
            "    Business       0.84      0.81      0.83      1900\n",
            "    Sci/Tech       0.83      0.85      0.84      1900\n",
            "\n",
            "    accuracy                           0.87      7600\n",
            "   macro avg       0.87      0.87      0.87      7600\n",
            "weighted avg       0.87      0.87      0.87      7600\n",
            "\n",
            "\n",
            "Confusion Matrix : \n",
            "[[1641   75  118   66]\n",
            " [  61 1784   10   45]\n",
            " [  91   32 1546  231]\n",
            " [  59   57  164 1620]]\n"
          ]
        }
      ]
    },
    {
      "cell_type": "markdown",
      "source": [
        "# Bidirectional 1-layer RecurrentNN"
      ],
      "metadata": {
        "id": "vIyOoMwHvVOq"
      }
    },
    {
      "cell_type": "code",
      "source": [
        "import torch\n",
        "import torch.nn as nn\n",
        "import torch.nn.functional as F\n",
        "\n",
        "class BiRNN1(nn.Module):\n",
        "    def __init__(self, input_dim, embedding_dim, hidden_dim, output_dim):\n",
        "        super(BiRNN1, self).__init__()\n",
        "        self.embedding_layer = nn.Embedding(num_embeddings=input_dim, embedding_dim=embedding_dim)\n",
        "        self.rnn = nn.RNN(input_size=embedding_dim, hidden_size=hidden_dim, batch_first=True, bidirectional=True, num_layers=1)\n",
        "        self.linear = nn.Linear(2 * hidden_dim, output_dim)  # 2 * hidden_dim because it's bidirectional\n",
        "\n",
        "    def forward(self, X_batch):\n",
        "        embeddings = self.embedding_layer(X_batch)\n",
        "        output, hidden = self.rnn(embeddings)\n",
        "        final_hidden = torch.cat((hidden[-2,:,:], hidden[-1,:,:]), dim=1)\n",
        "        logits = self.linear(final_hidden)\n",
        "        #logits = self.linear(output[:, -1, :])  # Directly use the last timestep's output\n",
        "        probs = F.softmax(logits, dim=1)\n",
        "        return probs\n",
        "\n",
        "# Usage example assuming vocab, EMBEDDING_DIM, HIDDEN_DIM, target_classes, device, and LEARNING_RATE are defined\n",
        "classifier2 = BiRNN1(len(vocab), EMBEDDING_DIM, HIDDEN_DIM, len(target_classes)).to(device)\n",
        "loss_fn2 = nn.CrossEntropyLoss().to(device)\n",
        "optimizer2 = torch.optim.Adam([param for param in classifier2.parameters() if param.requires_grad], lr=LEARNING_RATE)\n",
        "\n",
        "# Function to count parameters\n",
        "def count_parameters(model):\n",
        "    return sum(p.numel() for p in model.parameters() if p.requires_grad)\n",
        "\n",
        "print('\\nModel:')\n",
        "print(classifier2)\n",
        "print('Total parameters: ', count_parameters(classifier2))\n",
        "print('\\n\\n')\n"
      ],
      "metadata": {
        "colab": {
          "base_uri": "https://localhost:8080/"
        },
        "id": "yK3MIaZaFiqO",
        "outputId": "70ff0b44-0fb3-4080-8800-7b2682fe1cf3"
      },
      "execution_count": 8,
      "outputs": [
        {
          "output_type": "stream",
          "name": "stdout",
          "text": [
            "\n",
            "Model:\n",
            "BiRNN1(\n",
            "  (embedding_layer): Embedding(21254, 100)\n",
            "  (rnn): RNN(100, 64, batch_first=True, bidirectional=True)\n",
            "  (linear): Linear(in_features=128, out_features=4, bias=True)\n",
            ")\n",
            "Total parameters:  2147164\n",
            "\n",
            "\n",
            "\n"
          ]
        }
      ]
    },
    {
      "cell_type": "markdown",
      "source": [
        "# Train and Evaluate model"
      ],
      "metadata": {
        "id": "1XJdkMO3vgtm"
      }
    },
    {
      "cell_type": "code",
      "source": [
        "epoch_durations2 = TrainModel(classifier2, loss_fn2, optimizer2, train_loader, EPOCHS)\n",
        "# Calculate and print the average duration per epoch\n",
        "average_duration2 = sum(epoch_durations2) / len(epoch_durations2)\n",
        "print(f\"Average training time per epoch: {average_duration2:.2f} seconds\")\n",
        "\n",
        "######################################################################\n",
        "# Evaluate the model with test dataset\n",
        "# ------------------------------------\n",
        "\n",
        "\n",
        "_, Y_actual, Y_preds, misclf_data2 = EvaluateModel(classifier2, loss_fn2, test_loader, test_data[\"text\"])\n",
        "\n",
        "print(\"\\nTest Accuracy : {:.3f}\".format(accuracy_score(Y_actual, Y_preds)))\n",
        "print(\"\\nClassification Report : \")\n",
        "print(classification_report(Y_actual, Y_preds, target_names=target_classes))\n",
        "print(\"\\nConfusion Matrix : \")\n",
        "print(confusion_matrix(Y_actual, Y_preds))"
      ],
      "metadata": {
        "colab": {
          "base_uri": "https://localhost:8080/"
        },
        "id": "iQBy4eCYdLgn",
        "outputId": "64290b32-55a9-4e57-8776-83dbdb4a7f04"
      },
      "execution_count": 9,
      "outputs": [
        {
          "output_type": "stream",
          "name": "stdout",
          "text": [
            "Epoch: 1\n"
          ]
        },
        {
          "output_type": "stream",
          "name": "stderr",
          "text": [
            "100%|██████████| 118/118 [00:04<00:00, 27.60it/s]\n"
          ]
        },
        {
          "output_type": "stream",
          "name": "stdout",
          "text": [
            "Train Loss : 1.235\n",
            "Epoch 1/15 - Duration: 4.28 seconds \n",
            "Epoch: 2\n"
          ]
        },
        {
          "output_type": "stream",
          "name": "stderr",
          "text": [
            "100%|██████████| 118/118 [00:04<00:00, 26.20it/s]\n"
          ]
        },
        {
          "output_type": "stream",
          "name": "stdout",
          "text": [
            "Train Loss : 0.999\n",
            "Epoch 2/15 - Duration: 4.51 seconds \n",
            "Epoch: 3\n"
          ]
        },
        {
          "output_type": "stream",
          "name": "stderr",
          "text": [
            "100%|██████████| 118/118 [00:04<00:00, 27.81it/s]\n"
          ]
        },
        {
          "output_type": "stream",
          "name": "stdout",
          "text": [
            "Train Loss : 0.927\n",
            "Epoch 3/15 - Duration: 4.25 seconds \n",
            "Epoch: 4\n"
          ]
        },
        {
          "output_type": "stream",
          "name": "stderr",
          "text": [
            "100%|██████████| 118/118 [00:04<00:00, 28.11it/s]\n"
          ]
        },
        {
          "output_type": "stream",
          "name": "stdout",
          "text": [
            "Train Loss : 0.894\n",
            "Epoch 4/15 - Duration: 4.20 seconds \n",
            "Epoch: 5\n"
          ]
        },
        {
          "output_type": "stream",
          "name": "stderr",
          "text": [
            "100%|██████████| 118/118 [00:04<00:00, 27.03it/s]\n"
          ]
        },
        {
          "output_type": "stream",
          "name": "stdout",
          "text": [
            "Train Loss : 0.873\n",
            "Epoch 5/15 - Duration: 4.37 seconds \n",
            "Epoch: 6\n"
          ]
        },
        {
          "output_type": "stream",
          "name": "stderr",
          "text": [
            "100%|██████████| 118/118 [00:04<00:00, 27.99it/s]\n"
          ]
        },
        {
          "output_type": "stream",
          "name": "stdout",
          "text": [
            "Train Loss : 0.859\n",
            "Epoch 6/15 - Duration: 4.22 seconds \n",
            "Epoch: 7\n"
          ]
        },
        {
          "output_type": "stream",
          "name": "stderr",
          "text": [
            "100%|██████████| 118/118 [00:04<00:00, 26.65it/s]\n"
          ]
        },
        {
          "output_type": "stream",
          "name": "stdout",
          "text": [
            "Train Loss : 0.849\n",
            "Epoch 7/15 - Duration: 4.43 seconds \n",
            "Epoch: 8\n"
          ]
        },
        {
          "output_type": "stream",
          "name": "stderr",
          "text": [
            "100%|██████████| 118/118 [00:04<00:00, 26.97it/s]\n"
          ]
        },
        {
          "output_type": "stream",
          "name": "stdout",
          "text": [
            "Train Loss : 0.841\n",
            "Epoch 8/15 - Duration: 4.38 seconds \n",
            "Epoch: 9\n"
          ]
        },
        {
          "output_type": "stream",
          "name": "stderr",
          "text": [
            "100%|██████████| 118/118 [00:04<00:00, 28.00it/s]\n"
          ]
        },
        {
          "output_type": "stream",
          "name": "stdout",
          "text": [
            "Train Loss : 0.835\n",
            "Epoch 9/15 - Duration: 4.22 seconds \n",
            "Epoch: 10\n"
          ]
        },
        {
          "output_type": "stream",
          "name": "stderr",
          "text": [
            "100%|██████████| 118/118 [00:04<00:00, 27.41it/s]\n"
          ]
        },
        {
          "output_type": "stream",
          "name": "stdout",
          "text": [
            "Train Loss : 0.829\n",
            "Epoch 10/15 - Duration: 4.31 seconds \n",
            "Epoch: 11\n"
          ]
        },
        {
          "output_type": "stream",
          "name": "stderr",
          "text": [
            "100%|██████████| 118/118 [00:04<00:00, 26.55it/s]\n"
          ]
        },
        {
          "output_type": "stream",
          "name": "stdout",
          "text": [
            "Train Loss : 0.825\n",
            "Epoch 11/15 - Duration: 4.45 seconds \n",
            "Epoch: 12\n"
          ]
        },
        {
          "output_type": "stream",
          "name": "stderr",
          "text": [
            "100%|██████████| 118/118 [00:04<00:00, 27.92it/s]\n"
          ]
        },
        {
          "output_type": "stream",
          "name": "stdout",
          "text": [
            "Train Loss : 0.821\n",
            "Epoch 12/15 - Duration: 4.23 seconds \n",
            "Epoch: 13\n"
          ]
        },
        {
          "output_type": "stream",
          "name": "stderr",
          "text": [
            "100%|██████████| 118/118 [00:04<00:00, 27.20it/s]\n"
          ]
        },
        {
          "output_type": "stream",
          "name": "stdout",
          "text": [
            "Train Loss : 0.817\n",
            "Epoch 13/15 - Duration: 4.35 seconds \n",
            "Epoch: 14\n"
          ]
        },
        {
          "output_type": "stream",
          "name": "stderr",
          "text": [
            "100%|██████████| 118/118 [00:04<00:00, 26.57it/s]\n"
          ]
        },
        {
          "output_type": "stream",
          "name": "stdout",
          "text": [
            "Train Loss : 0.814\n",
            "Epoch 14/15 - Duration: 4.45 seconds \n",
            "Epoch: 15\n"
          ]
        },
        {
          "output_type": "stream",
          "name": "stderr",
          "text": [
            "100%|██████████| 118/118 [00:04<00:00, 27.59it/s]\n"
          ]
        },
        {
          "output_type": "stream",
          "name": "stdout",
          "text": [
            "Train Loss : 0.812\n",
            "Epoch 15/15 - Duration: 4.28 seconds \n",
            "Average training time per epoch: 4.33 seconds\n",
            "\n",
            "Test Accuracy : 0.879\n",
            "\n",
            "Classification Report : \n",
            "              precision    recall  f1-score   support\n",
            "\n",
            "       World       0.91      0.85      0.88      1900\n",
            "      Sports       0.93      0.95      0.94      1900\n",
            "    Business       0.85      0.84      0.84      1900\n",
            "    Sci/Tech       0.83      0.88      0.85      1900\n",
            "\n",
            "    accuracy                           0.88      7600\n",
            "   macro avg       0.88      0.88      0.88      7600\n",
            "weighted avg       0.88      0.88      0.88      7600\n",
            "\n",
            "\n",
            "Confusion Matrix : \n",
            "[[1616   68  120   96]\n",
            " [  30 1800   35   35]\n",
            " [  63   34 1594  209]\n",
            " [  58   34  137 1671]]\n"
          ]
        }
      ]
    },
    {
      "cell_type": "markdown",
      "source": [
        "# Bidirectional 2-layer Recurrent NN"
      ],
      "metadata": {
        "id": "M0AM2r4bvp2p"
      }
    },
    {
      "cell_type": "code",
      "source": [
        "import torch\n",
        "import torch.nn as nn\n",
        "import torch.nn.functional as F\n",
        "\n",
        "class BiRNN2(nn.Module):\n",
        "    def __init__(self, input_dim, embedding_dim, hidden_dim, output_dim):\n",
        "        super(BiRNN2, self).__init__()\n",
        "        self.embedding_layer = nn.Embedding(num_embeddings=input_dim, embedding_dim=embedding_dim)\n",
        "        # Set num_layers=2 for a two-layer network\n",
        "        self.rnn = nn.RNN(input_size=embedding_dim, hidden_size=hidden_dim, batch_first=True, bidirectional=True, num_layers=2)\n",
        "        self.linear = nn.Linear(2 * hidden_dim, output_dim)  # Still 2 * hidden_dim because it's bidirectional\n",
        "\n",
        "    def forward(self, X_batch):\n",
        "        embeddings = self.embedding_layer(X_batch)\n",
        "        output, hidden = self.rnn(embeddings)\n",
        "        # Use the last timestep's output from the last layer\n",
        "        final_hidden = torch.cat((hidden[-2,:,:], hidden[-1,:,:]), dim=1)\n",
        "        logits = self.linear(final_hidden)\n",
        "        probs = F.softmax(logits, dim=1)\n",
        "        return probs\n",
        "\n",
        "# Usage example assuming vocab, EMBEDDING_DIM, HIDDEN_DIM, target_classes, device, and LEARNING_RATE are defined\n",
        "classifier3 = BiRNN2(len(vocab), EMBEDDING_DIM, HIDDEN_DIM, len(target_classes)).to(device)\n",
        "loss_fn3 = nn.CrossEntropyLoss().to(device)\n",
        "optimizer3 = torch.optim.Adam(classifier3.parameters(), lr=LEARNING_RATE)\n",
        "\n",
        "\n",
        "print('\\nModel:')\n",
        "print(classifier3)\n",
        "print('Total parameters: ', count_parameters(classifier3))\n",
        "print('\\n\\n')\n"
      ],
      "metadata": {
        "colab": {
          "base_uri": "https://localhost:8080/"
        },
        "id": "hPVgv8-VoTIB",
        "outputId": "bcf3b5ee-71aa-402d-d7df-9a92df24c508"
      },
      "execution_count": 10,
      "outputs": [
        {
          "output_type": "stream",
          "name": "stdout",
          "text": [
            "\n",
            "Model:\n",
            "BiRNN2(\n",
            "  (embedding_layer): Embedding(21254, 100)\n",
            "  (rnn): RNN(100, 64, num_layers=2, batch_first=True, bidirectional=True)\n",
            "  (linear): Linear(in_features=128, out_features=4, bias=True)\n",
            ")\n",
            "Total parameters:  2171996\n",
            "\n",
            "\n",
            "\n"
          ]
        }
      ]
    },
    {
      "cell_type": "code",
      "source": [
        "epoch_durations3=TrainModel(classifier3, loss_fn3, optimizer3, train_loader, EPOCHS)\n",
        "# Calculate and print the average duration per epoch\n",
        "average_duration3 = sum(epoch_durations3) / len(epoch_durations3)\n",
        "print(f\"Average training time per epoch: {average_duration3:.2f} seconds\")\n",
        "\n",
        "######################################################################\n",
        "# Evaluate the model with test dataset\n",
        "# ------------------------------------\n",
        "\n",
        "_, Y_actual, Y_preds, misclf_data3 = EvaluateModel(classifier3, loss_fn3, test_loader, test_data[\"text\"])\n",
        "\n",
        "print(\"\\nTest Accuracy : {:.3f}\".format(accuracy_score(Y_actual, Y_preds)))\n",
        "print(\"\\nClassification Report : \")\n",
        "print(classification_report(Y_actual, Y_preds, target_names=target_classes))\n",
        "print(\"\\nConfusion Matrix : \")\n",
        "print(confusion_matrix(Y_actual, Y_preds))"
      ],
      "metadata": {
        "colab": {
          "base_uri": "https://localhost:8080/"
        },
        "id": "ZmkPypFLoiWd",
        "outputId": "a2c89ccf-cdb7-478f-e13d-ad89d90ae192"
      },
      "execution_count": 11,
      "outputs": [
        {
          "output_type": "stream",
          "name": "stdout",
          "text": [
            "Epoch: 1\n"
          ]
        },
        {
          "output_type": "stream",
          "name": "stderr",
          "text": [
            "100%|██████████| 118/118 [00:04<00:00, 25.37it/s]\n"
          ]
        },
        {
          "output_type": "stream",
          "name": "stdout",
          "text": [
            "Train Loss : 1.207\n",
            "Epoch 1/15 - Duration: 4.66 seconds \n",
            "Epoch: 2\n"
          ]
        },
        {
          "output_type": "stream",
          "name": "stderr",
          "text": [
            "100%|██████████| 118/118 [00:04<00:00, 25.86it/s]\n"
          ]
        },
        {
          "output_type": "stream",
          "name": "stdout",
          "text": [
            "Train Loss : 0.996\n",
            "Epoch 2/15 - Duration: 4.57 seconds \n",
            "Epoch: 3\n"
          ]
        },
        {
          "output_type": "stream",
          "name": "stderr",
          "text": [
            "100%|██████████| 118/118 [00:04<00:00, 26.77it/s]\n"
          ]
        },
        {
          "output_type": "stream",
          "name": "stdout",
          "text": [
            "Train Loss : 0.930\n",
            "Epoch 3/15 - Duration: 4.41 seconds \n",
            "Epoch: 4\n"
          ]
        },
        {
          "output_type": "stream",
          "name": "stderr",
          "text": [
            "100%|██████████| 118/118 [00:04<00:00, 26.22it/s]\n"
          ]
        },
        {
          "output_type": "stream",
          "name": "stdout",
          "text": [
            "Train Loss : 0.899\n",
            "Epoch 4/15 - Duration: 4.51 seconds \n",
            "Epoch: 5\n"
          ]
        },
        {
          "output_type": "stream",
          "name": "stderr",
          "text": [
            "100%|██████████| 118/118 [00:04<00:00, 26.64it/s]\n"
          ]
        },
        {
          "output_type": "stream",
          "name": "stdout",
          "text": [
            "Train Loss : 0.881\n",
            "Epoch 5/15 - Duration: 4.43 seconds \n",
            "Epoch: 6\n"
          ]
        },
        {
          "output_type": "stream",
          "name": "stderr",
          "text": [
            "100%|██████████| 118/118 [00:04<00:00, 26.01it/s]\n"
          ]
        },
        {
          "output_type": "stream",
          "name": "stdout",
          "text": [
            "Train Loss : 0.866\n",
            "Epoch 6/15 - Duration: 4.54 seconds \n",
            "Epoch: 7\n"
          ]
        },
        {
          "output_type": "stream",
          "name": "stderr",
          "text": [
            "100%|██████████| 118/118 [00:04<00:00, 24.90it/s]\n"
          ]
        },
        {
          "output_type": "stream",
          "name": "stdout",
          "text": [
            "Train Loss : 0.856\n",
            "Epoch 7/15 - Duration: 4.74 seconds \n",
            "Epoch: 8\n"
          ]
        },
        {
          "output_type": "stream",
          "name": "stderr",
          "text": [
            "100%|██████████| 118/118 [00:04<00:00, 26.40it/s]\n"
          ]
        },
        {
          "output_type": "stream",
          "name": "stdout",
          "text": [
            "Train Loss : 0.848\n",
            "Epoch 8/15 - Duration: 4.47 seconds \n",
            "Epoch: 9\n"
          ]
        },
        {
          "output_type": "stream",
          "name": "stderr",
          "text": [
            "100%|██████████| 118/118 [00:04<00:00, 26.23it/s]\n"
          ]
        },
        {
          "output_type": "stream",
          "name": "stdout",
          "text": [
            "Train Loss : 0.841\n",
            "Epoch 9/15 - Duration: 4.50 seconds \n",
            "Epoch: 10\n"
          ]
        },
        {
          "output_type": "stream",
          "name": "stderr",
          "text": [
            "100%|██████████| 118/118 [00:04<00:00, 26.40it/s]\n"
          ]
        },
        {
          "output_type": "stream",
          "name": "stdout",
          "text": [
            "Train Loss : 0.838\n",
            "Epoch 10/15 - Duration: 4.48 seconds \n",
            "Epoch: 11\n"
          ]
        },
        {
          "output_type": "stream",
          "name": "stderr",
          "text": [
            "100%|██████████| 118/118 [00:04<00:00, 25.09it/s]\n"
          ]
        },
        {
          "output_type": "stream",
          "name": "stdout",
          "text": [
            "Train Loss : 0.833\n",
            "Epoch 11/15 - Duration: 4.71 seconds \n",
            "Epoch: 12\n"
          ]
        },
        {
          "output_type": "stream",
          "name": "stderr",
          "text": [
            "100%|██████████| 118/118 [00:04<00:00, 25.26it/s]\n"
          ]
        },
        {
          "output_type": "stream",
          "name": "stdout",
          "text": [
            "Train Loss : 0.828\n",
            "Epoch 12/15 - Duration: 4.68 seconds \n",
            "Epoch: 13\n"
          ]
        },
        {
          "output_type": "stream",
          "name": "stderr",
          "text": [
            "100%|██████████| 118/118 [00:04<00:00, 25.07it/s]\n"
          ]
        },
        {
          "output_type": "stream",
          "name": "stdout",
          "text": [
            "Train Loss : 0.824\n",
            "Epoch 13/15 - Duration: 4.71 seconds \n",
            "Epoch: 14\n"
          ]
        },
        {
          "output_type": "stream",
          "name": "stderr",
          "text": [
            "100%|██████████| 118/118 [00:04<00:00, 26.19it/s]\n"
          ]
        },
        {
          "output_type": "stream",
          "name": "stdout",
          "text": [
            "Train Loss : 0.822\n",
            "Epoch 14/15 - Duration: 4.51 seconds \n",
            "Epoch: 15\n"
          ]
        },
        {
          "output_type": "stream",
          "name": "stderr",
          "text": [
            "100%|██████████| 118/118 [00:04<00:00, 26.76it/s]\n"
          ]
        },
        {
          "output_type": "stream",
          "name": "stdout",
          "text": [
            "Train Loss : 0.818\n",
            "Epoch 15/15 - Duration: 4.42 seconds \n",
            "Average training time per epoch: 4.56 seconds\n",
            "\n",
            "Test Accuracy : 0.873\n",
            "\n",
            "Classification Report : \n",
            "              precision    recall  f1-score   support\n",
            "\n",
            "       World       0.89      0.87      0.88      1900\n",
            "      Sports       0.94      0.94      0.94      1900\n",
            "    Business       0.82      0.84      0.83      1900\n",
            "    Sci/Tech       0.84      0.84      0.84      1900\n",
            "\n",
            "    accuracy                           0.87      7600\n",
            "   macro avg       0.87      0.87      0.87      7600\n",
            "weighted avg       0.87      0.87      0.87      7600\n",
            "\n",
            "\n",
            "Confusion Matrix : \n",
            "[[1651   55  117   77]\n",
            " [  44 1780   45   31]\n",
            " [  76   28 1604  192]\n",
            " [  82   29  186 1603]]\n"
          ]
        }
      ]
    },
    {
      "cell_type": "markdown",
      "source": [
        "# 1-layer LongShortTermMemory"
      ],
      "metadata": {
        "id": "lijNk9Kvv3O3"
      }
    },
    {
      "cell_type": "code",
      "source": [
        "import torch\n",
        "import torch.nn as nn\n",
        "import torch.nn.functional as F\n",
        "\n",
        "class LSTM1(nn.Module):\n",
        "    def __init__(self, input_dim, embedding_dim, hidden_dim, output_dim):\n",
        "        super(LSTM1, self).__init__()\n",
        "        self.embedding_layer = nn.Embedding(num_embeddings=input_dim, embedding_dim=embedding_dim)\n",
        "        # Using LSTM instead of RNN\n",
        "        self.lstm = nn.LSTM(input_size=embedding_dim, hidden_size=hidden_dim, batch_first=True)\n",
        "        self.linear = nn.Linear(hidden_dim, output_dim)\n",
        "\n",
        "    def forward(self, X_batch):\n",
        "        embeddings = self.embedding_layer(X_batch)\n",
        "        # output from LSTM; lstm_out is the last output state\n",
        "        lstm_out, (hidden, cell) = self.lstm(embeddings)\n",
        "        # We use the last hidden state for the last time step; hidden[-1] refers to the last layer's last hidden state\n",
        "        logits = self.linear(hidden[-1])  # hidden[-1] has shape (batch, hidden_dim)\n",
        "        probs = F.softmax(logits, dim=1)\n",
        "        return probs\n",
        "\n",
        "# Usage example assuming vocab, EMBEDDING_DIM, HIDDEN_DIM, target_classes, device, and LEARNING_RATE are defined\n",
        "classifier4 = LSTM1(len(vocab), EMBEDDING_DIM, HIDDEN_DIM, len(target_classes)).to(device)\n",
        "loss_fn4 = nn.CrossEntropyLoss().to(device)\n",
        "optimizer4 = torch.optim.Adam(classifier4.parameters(), lr=LEARNING_RATE)\n",
        "\n",
        "\n",
        "print('\\nModel:')\n",
        "print(classifier4)\n",
        "print('Total parameters: ', count_parameters(classifier4))\n",
        "print('\\n\\n')\n",
        "\n"
      ],
      "metadata": {
        "colab": {
          "base_uri": "https://localhost:8080/"
        },
        "id": "fnCFY5Yuz-Yt",
        "outputId": "3754ce19-cfad-41a9-8277-9629be436946"
      },
      "execution_count": 12,
      "outputs": [
        {
          "output_type": "stream",
          "name": "stdout",
          "text": [
            "\n",
            "Model:\n",
            "LSTM1(\n",
            "  (embedding_layer): Embedding(21254, 100)\n",
            "  (lstm): LSTM(100, 64, batch_first=True)\n",
            "  (linear): Linear(in_features=64, out_features=4, bias=True)\n",
            ")\n",
            "Total parameters:  2168156\n",
            "\n",
            "\n",
            "\n"
          ]
        }
      ]
    },
    {
      "cell_type": "code",
      "source": [
        "epoch_durations4 = TrainModel(classifier4, loss_fn4, optimizer4, train_loader, EPOCHS)\n",
        "# Calculate and print the average duration per epoch\n",
        "average_duration4 = sum(epoch_durations4) / len(epoch_durations4)\n",
        "print(f\"Average training time per epoch: {average_duration4:.2f} seconds\")\n",
        "\n",
        "\n",
        "######################################################################\n",
        "# Evaluate the model with test dataset\n",
        "# ------------------------------------\n",
        "\n",
        "_, Y_actual, Y_preds, misclf_data4 = EvaluateModel(classifier4, loss_fn4, test_loader, test_data[\"text\"])\n",
        "\n",
        "print(\"\\nTest Accuracy : {:.3f}\".format(accuracy_score(Y_actual, Y_preds)))\n",
        "print(\"\\nClassification Report : \")\n",
        "print(classification_report(Y_actual, Y_preds, target_names=target_classes))\n",
        "print(\"\\nConfusion Matrix : \")\n",
        "print(confusion_matrix(Y_actual, Y_preds))"
      ],
      "metadata": {
        "colab": {
          "base_uri": "https://localhost:8080/"
        },
        "id": "Lwi0ZZ1g1oR6",
        "outputId": "a9cc5ebf-b675-4a7c-a8c1-1b056ae200ca"
      },
      "execution_count": 13,
      "outputs": [
        {
          "output_type": "stream",
          "name": "stdout",
          "text": [
            "Epoch: 1\n"
          ]
        },
        {
          "output_type": "stream",
          "name": "stderr",
          "text": [
            "100%|██████████| 118/118 [00:04<00:00, 26.80it/s]\n"
          ]
        },
        {
          "output_type": "stream",
          "name": "stdout",
          "text": [
            "Train Loss : 1.249\n",
            "Epoch 1/15 - Duration: 4.41 seconds \n",
            "Epoch: 2\n"
          ]
        },
        {
          "output_type": "stream",
          "name": "stderr",
          "text": [
            "100%|██████████| 118/118 [00:04<00:00, 26.12it/s]\n"
          ]
        },
        {
          "output_type": "stream",
          "name": "stdout",
          "text": [
            "Train Loss : 0.977\n",
            "Epoch 2/15 - Duration: 4.52 seconds \n",
            "Epoch: 3\n"
          ]
        },
        {
          "output_type": "stream",
          "name": "stderr",
          "text": [
            "100%|██████████| 118/118 [00:04<00:00, 25.90it/s]\n"
          ]
        },
        {
          "output_type": "stream",
          "name": "stdout",
          "text": [
            "Train Loss : 0.909\n",
            "Epoch 3/15 - Duration: 4.56 seconds \n",
            "Epoch: 4\n"
          ]
        },
        {
          "output_type": "stream",
          "name": "stderr",
          "text": [
            "100%|██████████| 118/118 [00:04<00:00, 26.50it/s]\n"
          ]
        },
        {
          "output_type": "stream",
          "name": "stdout",
          "text": [
            "Train Loss : 0.881\n",
            "Epoch 4/15 - Duration: 4.46 seconds \n",
            "Epoch: 5\n"
          ]
        },
        {
          "output_type": "stream",
          "name": "stderr",
          "text": [
            "100%|██████████| 118/118 [00:04<00:00, 26.35it/s]\n"
          ]
        },
        {
          "output_type": "stream",
          "name": "stdout",
          "text": [
            "Train Loss : 0.863\n",
            "Epoch 5/15 - Duration: 4.48 seconds \n",
            "Epoch: 6\n"
          ]
        },
        {
          "output_type": "stream",
          "name": "stderr",
          "text": [
            "100%|██████████| 118/118 [00:04<00:00, 27.12it/s]\n"
          ]
        },
        {
          "output_type": "stream",
          "name": "stdout",
          "text": [
            "Train Loss : 0.850\n",
            "Epoch 6/15 - Duration: 4.35 seconds \n",
            "Epoch: 7\n"
          ]
        },
        {
          "output_type": "stream",
          "name": "stderr",
          "text": [
            "100%|██████████| 118/118 [00:04<00:00, 25.39it/s]\n"
          ]
        },
        {
          "output_type": "stream",
          "name": "stdout",
          "text": [
            "Train Loss : 0.842\n",
            "Epoch 7/15 - Duration: 4.65 seconds \n",
            "Epoch: 8\n"
          ]
        },
        {
          "output_type": "stream",
          "name": "stderr",
          "text": [
            "100%|██████████| 118/118 [00:04<00:00, 26.96it/s]\n"
          ]
        },
        {
          "output_type": "stream",
          "name": "stdout",
          "text": [
            "Train Loss : 0.835\n",
            "Epoch 8/15 - Duration: 4.38 seconds \n",
            "Epoch: 9\n"
          ]
        },
        {
          "output_type": "stream",
          "name": "stderr",
          "text": [
            "100%|██████████| 118/118 [00:04<00:00, 26.15it/s]\n"
          ]
        },
        {
          "output_type": "stream",
          "name": "stdout",
          "text": [
            "Train Loss : 0.830\n",
            "Epoch 9/15 - Duration: 4.52 seconds \n",
            "Epoch: 10\n"
          ]
        },
        {
          "output_type": "stream",
          "name": "stderr",
          "text": [
            "100%|██████████| 118/118 [00:04<00:00, 25.50it/s]\n"
          ]
        },
        {
          "output_type": "stream",
          "name": "stdout",
          "text": [
            "Train Loss : 0.824\n",
            "Epoch 10/15 - Duration: 4.63 seconds \n",
            "Epoch: 11\n"
          ]
        },
        {
          "output_type": "stream",
          "name": "stderr",
          "text": [
            "100%|██████████| 118/118 [00:04<00:00, 27.35it/s]\n"
          ]
        },
        {
          "output_type": "stream",
          "name": "stdout",
          "text": [
            "Train Loss : 0.821\n",
            "Epoch 11/15 - Duration: 4.32 seconds \n",
            "Epoch: 12\n"
          ]
        },
        {
          "output_type": "stream",
          "name": "stderr",
          "text": [
            "100%|██████████| 118/118 [00:04<00:00, 26.31it/s]\n"
          ]
        },
        {
          "output_type": "stream",
          "name": "stdout",
          "text": [
            "Train Loss : 0.818\n",
            "Epoch 12/15 - Duration: 4.49 seconds \n",
            "Epoch: 13\n"
          ]
        },
        {
          "output_type": "stream",
          "name": "stderr",
          "text": [
            "100%|██████████| 118/118 [00:04<00:00, 26.80it/s]\n"
          ]
        },
        {
          "output_type": "stream",
          "name": "stdout",
          "text": [
            "Train Loss : 0.814\n",
            "Epoch 13/15 - Duration: 4.41 seconds \n",
            "Epoch: 14\n"
          ]
        },
        {
          "output_type": "stream",
          "name": "stderr",
          "text": [
            "100%|██████████| 118/118 [00:04<00:00, 27.14it/s]\n"
          ]
        },
        {
          "output_type": "stream",
          "name": "stdout",
          "text": [
            "Train Loss : 0.812\n",
            "Epoch 14/15 - Duration: 4.35 seconds \n",
            "Epoch: 15\n"
          ]
        },
        {
          "output_type": "stream",
          "name": "stderr",
          "text": [
            "100%|██████████| 118/118 [00:04<00:00, 25.31it/s]\n"
          ]
        },
        {
          "output_type": "stream",
          "name": "stdout",
          "text": [
            "Train Loss : 0.810\n",
            "Epoch 15/15 - Duration: 4.67 seconds \n",
            "Average training time per epoch: 4.48 seconds\n",
            "\n",
            "Test Accuracy : 0.879\n",
            "\n",
            "Classification Report : \n",
            "              precision    recall  f1-score   support\n",
            "\n",
            "       World       0.88      0.89      0.88      1900\n",
            "      Sports       0.94      0.93      0.93      1900\n",
            "    Business       0.85      0.83      0.84      1900\n",
            "    Sci/Tech       0.85      0.87      0.86      1900\n",
            "\n",
            "    accuracy                           0.88      7600\n",
            "   macro avg       0.88      0.88      0.88      7600\n",
            "weighted avg       0.88      0.88      0.88      7600\n",
            "\n",
            "\n",
            "Confusion Matrix : \n",
            "[[1685   55   93   67]\n",
            " [  63 1759   50   28]\n",
            " [  85   31 1581  203]\n",
            " [  83   30  135 1652]]\n"
          ]
        }
      ]
    },
    {
      "cell_type": "markdown",
      "source": [
        "# Bidirectional 1-layer LSTM"
      ],
      "metadata": {
        "id": "dSl-qCkPwFSZ"
      }
    },
    {
      "cell_type": "code",
      "source": [
        "import torch\n",
        "import torch.nn as nn\n",
        "import torch.nn.functional as F\n",
        "\n",
        "class BiLSTM1(nn.Module):\n",
        "    def __init__(self, input_dim, embedding_dim, hidden_dim, output_dim):\n",
        "        super(BiLSTM1, self).__init__()\n",
        "        self.embedding_layer = nn.Embedding(num_embeddings=input_dim, embedding_dim=embedding_dim)\n",
        "        # Using a bidirectional LSTM\n",
        "        self.lstm = nn.LSTM(input_size=embedding_dim, hidden_size=hidden_dim, batch_first=True, bidirectional=True)\n",
        "        # Adjust linear layer to handle bidirectional output\n",
        "        self.linear = nn.Linear(2 * hidden_dim, output_dim)\n",
        "\n",
        "    def forward(self, X_batch):\n",
        "        embeddings = self.embedding_layer(X_batch)\n",
        "        # output from LSTM; lstm_out is the last output state\n",
        "        lstm_out, (hidden, cell) = self.lstm(embeddings)\n",
        "        # Concatenate the hidden states for both directions\n",
        "        hidden_forward = hidden[-2,:,:]  # Forward direction of the last layer\n",
        "        hidden_backward = hidden[-1,:,:]  # Backward direction of the last layer\n",
        "        hidden_concat = torch.cat((hidden_forward, hidden_backward), dim=1)\n",
        "        logits = self.linear(hidden_concat)\n",
        "        probs = F.softmax(logits, dim=1)\n",
        "        return probs\n",
        "\n",
        "# Usage example assuming vocab, EMBEDDING_DIM, HIDDEN_DIM, target_classes, device, and LEARNING_RATE are defined\n",
        "classifier5 = BiLSTM1(len(vocab), EMBEDDING_DIM, HIDDEN_DIM, len(target_classes)).to(device)\n",
        "loss_fn5 = nn.CrossEntropyLoss().to(device)\n",
        "optimizer5 = torch.optim.Adam(classifier5.parameters(), lr=LEARNING_RATE)\n",
        "\n",
        "# Function to count parameters\n",
        "def count_parameters(model):\n",
        "    return sum(p.numel() for p in model.parameters() if p.requires_grad)\n",
        "\n",
        "print('\\nModel:')\n",
        "print(classifier5)\n",
        "print('Total parameters: ', count_parameters(classifier5))\n",
        "print('\\n\\n')\n"
      ],
      "metadata": {
        "colab": {
          "base_uri": "https://localhost:8080/"
        },
        "id": "1f6IJx6i5OEm",
        "outputId": "1225de89-690e-4ace-a5f5-af78dd314ab9"
      },
      "execution_count": 14,
      "outputs": [
        {
          "output_type": "stream",
          "name": "stdout",
          "text": [
            "\n",
            "Model:\n",
            "BiLSTM1(\n",
            "  (embedding_layer): Embedding(21254, 100)\n",
            "  (lstm): LSTM(100, 64, batch_first=True, bidirectional=True)\n",
            "  (linear): Linear(in_features=128, out_features=4, bias=True)\n",
            ")\n",
            "Total parameters:  2210908\n",
            "\n",
            "\n",
            "\n"
          ]
        }
      ]
    },
    {
      "cell_type": "code",
      "source": [
        "epoch_durations5 = TrainModel(classifier5, loss_fn5, optimizer5, train_loader, EPOCHS)\n",
        "# Calculate and print the average duration per epoch\n",
        "average_duration5 = sum(epoch_durations5) / len(epoch_durations5)\n",
        "print(f\"Average training time per epoch: {average_duration5:.2f} seconds\")\n",
        "\n",
        "######################################################################\n",
        "# Evaluate the model with test dataset\n",
        "# ------------------------------------\n",
        "\n",
        "_, Y_actual, Y_preds, misclf_data5 = EvaluateModel(classifier5, loss_fn5, test_loader, test_data[\"text\"])\n",
        "\n",
        "print(\"\\nTest Accuracy : {:.3f}\".format(accuracy_score(Y_actual, Y_preds)))\n",
        "print(\"\\nClassification Report : \")\n",
        "print(classification_report(Y_actual, Y_preds, target_names=target_classes))\n",
        "print(\"\\nConfusion Matrix : \")\n",
        "print(confusion_matrix(Y_actual, Y_preds))"
      ],
      "metadata": {
        "colab": {
          "base_uri": "https://localhost:8080/"
        },
        "id": "8_PNHuX35afX",
        "outputId": "6be30dce-e270-40da-d513-8e7b809e8937"
      },
      "execution_count": 15,
      "outputs": [
        {
          "output_type": "stream",
          "name": "stdout",
          "text": [
            "Epoch: 1\n"
          ]
        },
        {
          "output_type": "stream",
          "name": "stderr",
          "text": [
            "100%|██████████| 118/118 [00:04<00:00, 24.56it/s]\n"
          ]
        },
        {
          "output_type": "stream",
          "name": "stdout",
          "text": [
            "Train Loss : 1.205\n",
            "Epoch 1/15 - Duration: 4.81 seconds \n",
            "Epoch: 2\n"
          ]
        },
        {
          "output_type": "stream",
          "name": "stderr",
          "text": [
            "100%|██████████| 118/118 [00:04<00:00, 24.54it/s]\n"
          ]
        },
        {
          "output_type": "stream",
          "name": "stdout",
          "text": [
            "Train Loss : 0.935\n",
            "Epoch 2/15 - Duration: 4.81 seconds \n",
            "Epoch: 3\n"
          ]
        },
        {
          "output_type": "stream",
          "name": "stderr",
          "text": [
            "100%|██████████| 118/118 [00:04<00:00, 24.62it/s]\n"
          ]
        },
        {
          "output_type": "stream",
          "name": "stdout",
          "text": [
            "Train Loss : 0.883\n",
            "Epoch 3/15 - Duration: 4.80 seconds \n",
            "Epoch: 4\n"
          ]
        },
        {
          "output_type": "stream",
          "name": "stderr",
          "text": [
            "100%|██████████| 118/118 [00:04<00:00, 24.12it/s]\n"
          ]
        },
        {
          "output_type": "stream",
          "name": "stdout",
          "text": [
            "Train Loss : 0.860\n",
            "Epoch 4/15 - Duration: 4.90 seconds \n",
            "Epoch: 5\n"
          ]
        },
        {
          "output_type": "stream",
          "name": "stderr",
          "text": [
            "100%|██████████| 118/118 [00:04<00:00, 24.53it/s]\n"
          ]
        },
        {
          "output_type": "stream",
          "name": "stdout",
          "text": [
            "Train Loss : 0.845\n",
            "Epoch 5/15 - Duration: 4.81 seconds \n",
            "Epoch: 6\n"
          ]
        },
        {
          "output_type": "stream",
          "name": "stderr",
          "text": [
            "100%|██████████| 118/118 [00:04<00:00, 24.96it/s]\n"
          ]
        },
        {
          "output_type": "stream",
          "name": "stdout",
          "text": [
            "Train Loss : 0.834\n",
            "Epoch 6/15 - Duration: 4.73 seconds \n",
            "Epoch: 7\n"
          ]
        },
        {
          "output_type": "stream",
          "name": "stderr",
          "text": [
            "100%|██████████| 118/118 [00:04<00:00, 24.82it/s]\n"
          ]
        },
        {
          "output_type": "stream",
          "name": "stdout",
          "text": [
            "Train Loss : 0.826\n",
            "Epoch 7/15 - Duration: 4.76 seconds \n",
            "Epoch: 8\n"
          ]
        },
        {
          "output_type": "stream",
          "name": "stderr",
          "text": [
            "100%|██████████| 118/118 [00:04<00:00, 24.87it/s]\n"
          ]
        },
        {
          "output_type": "stream",
          "name": "stdout",
          "text": [
            "Train Loss : 0.820\n",
            "Epoch 8/15 - Duration: 4.75 seconds \n",
            "Epoch: 9\n"
          ]
        },
        {
          "output_type": "stream",
          "name": "stderr",
          "text": [
            "100%|██████████| 118/118 [00:04<00:00, 24.15it/s]\n"
          ]
        },
        {
          "output_type": "stream",
          "name": "stdout",
          "text": [
            "Train Loss : 0.814\n",
            "Epoch 9/15 - Duration: 4.89 seconds \n",
            "Epoch: 10\n"
          ]
        },
        {
          "output_type": "stream",
          "name": "stderr",
          "text": [
            "100%|██████████| 118/118 [00:04<00:00, 24.50it/s]\n"
          ]
        },
        {
          "output_type": "stream",
          "name": "stdout",
          "text": [
            "Train Loss : 0.809\n",
            "Epoch 10/15 - Duration: 4.82 seconds \n",
            "Epoch: 11\n"
          ]
        },
        {
          "output_type": "stream",
          "name": "stderr",
          "text": [
            "100%|██████████| 118/118 [00:04<00:00, 23.89it/s]\n"
          ]
        },
        {
          "output_type": "stream",
          "name": "stdout",
          "text": [
            "Train Loss : 0.807\n",
            "Epoch 11/15 - Duration: 4.94 seconds \n",
            "Epoch: 12\n"
          ]
        },
        {
          "output_type": "stream",
          "name": "stderr",
          "text": [
            "100%|██████████| 118/118 [00:04<00:00, 24.52it/s]\n"
          ]
        },
        {
          "output_type": "stream",
          "name": "stdout",
          "text": [
            "Train Loss : 0.804\n",
            "Epoch 12/15 - Duration: 4.82 seconds \n",
            "Epoch: 13\n"
          ]
        },
        {
          "output_type": "stream",
          "name": "stderr",
          "text": [
            "100%|██████████| 118/118 [00:04<00:00, 24.48it/s]\n"
          ]
        },
        {
          "output_type": "stream",
          "name": "stdout",
          "text": [
            "Train Loss : 0.801\n",
            "Epoch 13/15 - Duration: 4.83 seconds \n",
            "Epoch: 14\n"
          ]
        },
        {
          "output_type": "stream",
          "name": "stderr",
          "text": [
            "100%|██████████| 118/118 [00:04<00:00, 25.07it/s]\n"
          ]
        },
        {
          "output_type": "stream",
          "name": "stdout",
          "text": [
            "Train Loss : 0.799\n",
            "Epoch 14/15 - Duration: 4.71 seconds \n",
            "Epoch: 15\n"
          ]
        },
        {
          "output_type": "stream",
          "name": "stderr",
          "text": [
            "100%|██████████| 118/118 [00:04<00:00, 24.68it/s]\n"
          ]
        },
        {
          "output_type": "stream",
          "name": "stdout",
          "text": [
            "Train Loss : 0.798\n",
            "Epoch 15/15 - Duration: 4.79 seconds \n",
            "Average training time per epoch: 4.81 seconds\n",
            "\n",
            "Test Accuracy : 0.886\n",
            "\n",
            "Classification Report : \n",
            "              precision    recall  f1-score   support\n",
            "\n",
            "       World       0.92      0.87      0.89      1900\n",
            "      Sports       0.92      0.96      0.94      1900\n",
            "    Business       0.84      0.86      0.85      1900\n",
            "    Sci/Tech       0.86      0.86      0.86      1900\n",
            "\n",
            "    accuracy                           0.89      7600\n",
            "   macro avg       0.89      0.89      0.89      7600\n",
            "weighted avg       0.89      0.89      0.89      7600\n",
            "\n",
            "\n",
            "Confusion Matrix : \n",
            "[[1649   80  106   65]\n",
            " [  21 1816   36   27]\n",
            " [  62   36 1631  171]\n",
            " [  55   41  168 1636]]\n"
          ]
        }
      ]
    },
    {
      "cell_type": "markdown",
      "source": [
        "## Bidirectional 2-layer LSTM"
      ],
      "metadata": {
        "id": "fOPU-mk0wMb-"
      }
    },
    {
      "cell_type": "code",
      "source": [
        "import torch\n",
        "import torch.nn as nn\n",
        "import torch.nn.functional as F\n",
        "\n",
        "class BiLSTM2(nn.Module):\n",
        "    def __init__(self, input_dim, embedding_dim, hidden_dim, output_dim):\n",
        "        super(BiLSTM2, self).__init__()\n",
        "        self.embedding_layer = nn.Embedding(num_embeddings=input_dim, embedding_dim=embedding_dim)\n",
        "        # Using a 2-layer bidirectional LSTM\n",
        "        self.lstm = nn.LSTM(input_size=embedding_dim, hidden_size=hidden_dim, batch_first=True, bidirectional=True, num_layers=2)\n",
        "        # Adjust linear layer to handle bidirectional output from the top layer\n",
        "        self.linear = nn.Linear(2 * hidden_dim, output_dim)\n",
        "\n",
        "    def forward(self, X_batch):\n",
        "        embeddings = self.embedding_layer(X_batch)\n",
        "        # output from LSTM; lstm_out is the last output state\n",
        "        lstm_out, (hidden, cell) = self.lstm(embeddings)\n",
        "        # We use the hidden states from the last layer (both forward and backward)\n",
        "        hidden_forward = hidden[-2,:,:]  # Forward direction of the last layer\n",
        "        hidden_backward = hidden[-1,:,:]  # Backward direction of the last layer\n",
        "        hidden_concat = torch.cat((hidden_forward, hidden_backward), dim=1)\n",
        "        logits = self.linear(hidden_concat)\n",
        "        probs = F.softmax(logits, dim=1)\n",
        "        return probs\n",
        "\n",
        "# Usage example assuming vocab, EMBEDDING_DIM, HIDDEN_DIM, target_classes, device, and LEARNING_RATE are defined\n",
        "classifier6 = BiLSTM2(len(vocab), EMBEDDING_DIM, HIDDEN_DIM, len(target_classes)).to(device)\n",
        "loss_fn6 = nn.CrossEntropyLoss().to(device)\n",
        "optimizer6 = torch.optim.Adam(classifier6.parameters(), lr=LEARNING_RATE)\n",
        "\n",
        "# Function to count parameters\n",
        "def count_parameters(model):\n",
        "    return sum(p.numel() for p in model.parameters() if p.requires_grad)\n",
        "\n",
        "print('\\nModel:')\n",
        "print(classifier6)\n",
        "print('Total parameters: ', count_parameters(classifier6))\n",
        "print('\\n\\n')\n"
      ],
      "metadata": {
        "colab": {
          "base_uri": "https://localhost:8080/"
        },
        "id": "rqbL4A8A_ast",
        "outputId": "3406ccca-7fe9-4e13-e6e6-26f9f92d3578"
      },
      "execution_count": 16,
      "outputs": [
        {
          "output_type": "stream",
          "name": "stdout",
          "text": [
            "\n",
            "Model:\n",
            "BiLSTM2(\n",
            "  (embedding_layer): Embedding(21254, 100)\n",
            "  (lstm): LSTM(100, 64, num_layers=2, batch_first=True, bidirectional=True)\n",
            "  (linear): Linear(in_features=128, out_features=4, bias=True)\n",
            ")\n",
            "Total parameters:  2310236\n",
            "\n",
            "\n",
            "\n"
          ]
        }
      ]
    },
    {
      "cell_type": "code",
      "source": [
        "epoch_durations6 = TrainModel(classifier6, loss_fn6, optimizer6, train_loader, EPOCHS)\n",
        "# Calculate and print the average duration per epoch\n",
        "average_duration6 = sum(epoch_durations6) / len(epoch_durations6)\n",
        "print(f\"Average training time per epoch: {average_duration6:.2f} seconds\")\n",
        "\n",
        "######################################################################\n",
        "# Evaluate the model with test dataset\n",
        "# ------------------------------------\n",
        "\n",
        "_, Y_actual, Y_preds, misclf_data6  = EvaluateModel(classifier6, loss_fn6, test_loader, test_data[\"text\"])\n",
        "\n",
        "print(\"\\nTest Accuracy : {:.3f}\".format(accuracy_score(Y_actual, Y_preds)))\n",
        "print(\"\\nClassification Report : \")\n",
        "print(classification_report(Y_actual, Y_preds, target_names=target_classes))\n",
        "print(\"\\nConfusion Matrix : \")\n",
        "print(confusion_matrix(Y_actual, Y_preds))"
      ],
      "metadata": {
        "colab": {
          "base_uri": "https://localhost:8080/"
        },
        "id": "ntNy12aI_p2B",
        "outputId": "a2baf264-3cf0-4299-eb8b-2d776fdc6375"
      },
      "execution_count": 17,
      "outputs": [
        {
          "output_type": "stream",
          "name": "stdout",
          "text": [
            "Epoch: 1\n"
          ]
        },
        {
          "output_type": "stream",
          "name": "stderr",
          "text": [
            "100%|██████████| 118/118 [00:05<00:00, 22.89it/s]\n"
          ]
        },
        {
          "output_type": "stream",
          "name": "stdout",
          "text": [
            "Train Loss : 1.152\n",
            "Epoch 1/15 - Duration: 5.16 seconds \n",
            "Epoch: 2\n"
          ]
        },
        {
          "output_type": "stream",
          "name": "stderr",
          "text": [
            "100%|██████████| 118/118 [00:04<00:00, 23.99it/s]\n"
          ]
        },
        {
          "output_type": "stream",
          "name": "stdout",
          "text": [
            "Train Loss : 0.926\n",
            "Epoch 2/15 - Duration: 4.92 seconds \n",
            "Epoch: 3\n"
          ]
        },
        {
          "output_type": "stream",
          "name": "stderr",
          "text": [
            "100%|██████████| 118/118 [00:04<00:00, 24.34it/s]\n"
          ]
        },
        {
          "output_type": "stream",
          "name": "stdout",
          "text": [
            "Train Loss : 0.881\n",
            "Epoch 3/15 - Duration: 4.85 seconds \n",
            "Epoch: 4\n"
          ]
        },
        {
          "output_type": "stream",
          "name": "stderr",
          "text": [
            "100%|██████████| 118/118 [00:04<00:00, 24.12it/s]\n"
          ]
        },
        {
          "output_type": "stream",
          "name": "stdout",
          "text": [
            "Train Loss : 0.861\n",
            "Epoch 4/15 - Duration: 4.90 seconds \n",
            "Epoch: 5\n"
          ]
        },
        {
          "output_type": "stream",
          "name": "stderr",
          "text": [
            "100%|██████████| 118/118 [00:05<00:00, 23.18it/s]\n"
          ]
        },
        {
          "output_type": "stream",
          "name": "stdout",
          "text": [
            "Train Loss : 0.848\n",
            "Epoch 5/15 - Duration: 5.10 seconds \n",
            "Epoch: 6\n"
          ]
        },
        {
          "output_type": "stream",
          "name": "stderr",
          "text": [
            "100%|██████████| 118/118 [00:04<00:00, 24.54it/s]\n"
          ]
        },
        {
          "output_type": "stream",
          "name": "stdout",
          "text": [
            "Train Loss : 0.840\n",
            "Epoch 6/15 - Duration: 4.82 seconds \n",
            "Epoch: 7\n"
          ]
        },
        {
          "output_type": "stream",
          "name": "stderr",
          "text": [
            "100%|██████████| 118/118 [00:05<00:00, 23.57it/s]\n"
          ]
        },
        {
          "output_type": "stream",
          "name": "stdout",
          "text": [
            "Train Loss : 0.833\n",
            "Epoch 7/15 - Duration: 5.01 seconds \n",
            "Epoch: 8\n"
          ]
        },
        {
          "output_type": "stream",
          "name": "stderr",
          "text": [
            "100%|██████████| 118/118 [00:04<00:00, 24.08it/s]\n"
          ]
        },
        {
          "output_type": "stream",
          "name": "stdout",
          "text": [
            "Train Loss : 0.828\n",
            "Epoch 8/15 - Duration: 4.91 seconds \n",
            "Epoch: 9\n"
          ]
        },
        {
          "output_type": "stream",
          "name": "stderr",
          "text": [
            "100%|██████████| 118/118 [00:04<00:00, 23.83it/s]\n"
          ]
        },
        {
          "output_type": "stream",
          "name": "stdout",
          "text": [
            "Train Loss : 0.822\n",
            "Epoch 9/15 - Duration: 4.96 seconds \n",
            "Epoch: 10\n"
          ]
        },
        {
          "output_type": "stream",
          "name": "stderr",
          "text": [
            "100%|██████████| 118/118 [00:05<00:00, 22.90it/s]\n"
          ]
        },
        {
          "output_type": "stream",
          "name": "stdout",
          "text": [
            "Train Loss : 0.817\n",
            "Epoch 10/15 - Duration: 5.16 seconds \n",
            "Epoch: 11\n"
          ]
        },
        {
          "output_type": "stream",
          "name": "stderr",
          "text": [
            "100%|██████████| 118/118 [00:04<00:00, 23.84it/s]\n"
          ]
        },
        {
          "output_type": "stream",
          "name": "stdout",
          "text": [
            "Train Loss : 0.813\n",
            "Epoch 11/15 - Duration: 4.95 seconds \n",
            "Epoch: 12\n"
          ]
        },
        {
          "output_type": "stream",
          "name": "stderr",
          "text": [
            "100%|██████████| 118/118 [00:05<00:00, 22.60it/s]\n"
          ]
        },
        {
          "output_type": "stream",
          "name": "stdout",
          "text": [
            "Train Loss : 0.811\n",
            "Epoch 12/15 - Duration: 5.23 seconds \n",
            "Epoch: 13\n"
          ]
        },
        {
          "output_type": "stream",
          "name": "stderr",
          "text": [
            "100%|██████████| 118/118 [00:04<00:00, 23.88it/s]\n"
          ]
        },
        {
          "output_type": "stream",
          "name": "stdout",
          "text": [
            "Train Loss : 0.810\n",
            "Epoch 13/15 - Duration: 4.95 seconds \n",
            "Epoch: 14\n"
          ]
        },
        {
          "output_type": "stream",
          "name": "stderr",
          "text": [
            "100%|██████████| 118/118 [00:05<00:00, 23.57it/s]\n"
          ]
        },
        {
          "output_type": "stream",
          "name": "stdout",
          "text": [
            "Train Loss : 0.806\n",
            "Epoch 14/15 - Duration: 5.01 seconds \n",
            "Epoch: 15\n"
          ]
        },
        {
          "output_type": "stream",
          "name": "stderr",
          "text": [
            "100%|██████████| 118/118 [00:04<00:00, 24.40it/s]\n"
          ]
        },
        {
          "output_type": "stream",
          "name": "stdout",
          "text": [
            "Train Loss : 0.805\n",
            "Epoch 15/15 - Duration: 4.84 seconds \n",
            "Average training time per epoch: 4.98 seconds\n",
            "\n",
            "Test Accuracy : 0.883\n",
            "\n",
            "Classification Report : \n",
            "              precision    recall  f1-score   support\n",
            "\n",
            "       World       0.92      0.86      0.89      1900\n",
            "      Sports       0.94      0.95      0.94      1900\n",
            "    Business       0.86      0.83      0.84      1900\n",
            "    Sci/Tech       0.83      0.89      0.86      1900\n",
            "\n",
            "    accuracy                           0.88      7600\n",
            "   macro avg       0.88      0.88      0.88      7600\n",
            "weighted avg       0.88      0.88      0.88      7600\n",
            "\n",
            "\n",
            "Confusion Matrix : \n",
            "[[1637   65  113   85]\n",
            " [  32 1796   39   33]\n",
            " [  59   24 1582  235]\n",
            " [  57   33  115 1695]]\n"
          ]
        }
      ]
    },
    {
      "cell_type": "markdown",
      "source": [
        "# Results"
      ],
      "metadata": {
        "id": "bcnIXOAM0H5v"
      }
    },
    {
      "cell_type": "markdown",
      "source": [
        "|  | 1RNN | 1-BiRNN | 2-BiRNN | 1LSTM | 1-BiLSTM |2-BiLSTM  |\n",
        "|:---------|:--------:|---------:|---------:|---------:|---------:|---------:|\n",
        "|  Accuracy   |  0.867   |  0.879  |0.873     |0.879     |0.886     |0.883 |\n",
        "|  Parameters   |  2136284   |  2147164  |217199    |2168156     |2210908    |2310236     |\n",
        "|  Time Cost(per epoch)   |  4.28 seconds  |  4.33 seconds   |4.56 seconds     |4.48 seconds     | 4.81 seconds    |4.98 seconds     |"
      ],
      "metadata": {
        "id": "2QUKk1DJxGXg"
      }
    },
    {
      "cell_type": "markdown",
      "source": [
        "Single-layer models (1RNN, 1LSTM, 1-BiRNN, 1-BiLSTM) generally perform well, but their bidirectional version outperforms them. This happens because bidirectional models process data in both directions and can understand the context better in the input sequence.\n",
        "\n",
        "Two-layer models (2-BiRNN, 2-BiLSTM) show a mix of results. The two-layer bidirectional LSTM (2-BiLSTM) has slightly lower accuracy than the single-layer version (1-BiLSTM). This could be due to the added complexity constituting the model slightly harder to train effectively within the same number of epochs or training parameters.\n",
        "\n",
        "Increasing the number of layers or making the model bidirectional usually increases the number of parameters. More parameters can capture more complex patterns but also make the model prone to overfitting without regularizing properly or providing more training data.\n",
        "The LSTM-architecture models have more parameters than RNN-architecture models due to the additional gates (input, forget, output) in LSTMs.\n",
        "\n",
        "The (average) time per epoch tends to increase when the number of parameters is increasing. This happens because they are more complex models. Single-layer models are faster per epoch than their two-layer counterparts. Bidirectional models require more time per  epoch than their unidirectional counterparts because they process data in poth directions.  \n",
        "\n",
        "Adding layers can potentially improve accuracy since the model can learn more abstract  information but it can result to overfitting if they training data does not support the complexity. On this experiment, two-layer models do not consistently outperform the single layer ones bacause the training dataset and training duration might not be appropriate.\n",
        "\n"
      ],
      "metadata": {
        "id": "1UimGZgd1FTG"
      }
    },
    {
      "cell_type": "markdown",
      "source": [
        "# Detect misclassifications\n",
        "\n",
        "Data from all of the previous models were used"
      ],
      "metadata": {
        "id": "jdCNT9hKwVo6"
      }
    },
    {
      "cell_type": "code",
      "source": [
        "print(misclf_data1)"
      ],
      "metadata": {
        "colab": {
          "base_uri": "https://localhost:8080/"
        },
        "id": "GeY1PB8rqrJp",
        "outputId": "cb26dd7a-2e2e-437c-bd7c-8ea8838fdb5d"
      },
      "execution_count": 18,
      "outputs": [
        {
          "output_type": "stream",
          "name": "stdout",
          "text": [
            "defaultdict(<class 'list'>, {4: [(3, 'FOAFKey: FOAF, PGP, Key Distribution, and Bloom Filters \\\\\\\\FOAF/LOAF  and bloom filters have a lot of interesting properties for social\\\\network and whitelist distribution.\\\\\\\\I think we can go one level higher though and include GPG/OpenPGP key\\\\fingerpring distribution in the FOAF file for simple web-of-trust based key\\\\distribution.\\\\\\\\What if we used FOAF and included the PGP key fingerprint(s) for identities?\\\\This could mean a lot.  You include the PGP key fingerprints within the FOAF\\\\file of your direct friends and then include a bloom filter of the PGP key\\\\fingerprints of your entire whitelist (the source FOAF file would of course need\\\\to be encrypted ).\\\\\\\\Your whitelist would be populated from the social network as your client\\\\discovered new identit ...\\\\\\\\'), (3, 'Super ant colony hits Australia A giant 100km colony of ants  which has been discovered in Melbourne, Australia, could threaten local insect species.'), (2, 'Socialites unite dolphin groups Dolphin groups, or \"pods\", rely on socialites to keep them from collapsing, scientists claim.'), (3, \"Storage, servers bruise HP earnings update Earnings per share rise compared with a year ago, but company misses analysts' expectations by a long shot.\"), (3, 'IBM to hire even more new workers By the end of the year, the computing giant plans to have its biggest headcount since 1991.'), (3, \"Some People Not Eligible to Get in on Google IPO Google has billed its IPO as a way for everyday people to get in on the process, denying Wall Street the usual stranglehold it's had on IPOs. Public bidding, a minimum of just five shares, an open process with 28 underwriters - all this pointed to a new level of public participation. But this isn't the case.\"), (2, 'Promoting a Shared Vision As Michael Kaleko kept running into people who were getting older and having more vision problems, he realized he could do something about it.'), (3, 'Consumers Would Pay In Phone Proposal A proposal backed by a coalition of telephone carriers would cut billions of dollars in fees owed by long-distance companies to regional phone giants but would allow the regional companies to make up some of the difference by raising monthly phone bills for millions of consumers. &lt;FONT face=\"verdana,MS Sans Serif,arial,helvetica\" size=\"-2\"\\\\ color=\"#666666\"&gt;&lt;B&gt;-The Washington Post&lt;/B&gt;&lt;/FONT&gt;'), (2, 'iPod Comparison Newsday #146;s Stephen Williams reports on seeing Sony #146;s NW-HD1 audio player in a store:  #147; #145;How #146;s it compare to the iPod? #146; I asked a salesman.  #145;Battery life is a lot longer, up to 30 hours, #146; he said.  #145;The LCD readout is kind of dim, #146; I said.   #146;Battery life is a lot longer, #146; he said.  #145;I understand it can #146;t play MP3 files, #146; I said.  #145;Battery life is a lot longer, #146; he said. #148; Aug 17'), (3, 'AMD Ships Notebook Chips It wasn #39;t the first to go small, and it won #39;t be the biggest producer, but AMD #39;s (Quote, Chart) 64-bit 90-nanometer (nm) chips are expected to make waves in the semiconductor pool. '), (1, \"Strong Family Equals Strong Education Single mothers, poverty were big factors in school performance    HealthDayNews -- American teenagers who live with poor single mothers are more likely to get into trouble at school and have poor marks and are less likely to think they'll go to college, says a Rice University study.    Holly Heard, an assistant professor of sociology, analyzed data from thousands of teens who took part in the National Longitudinal Study of Adolescent Health...\"), (3, 'Intuit Posts Wider Loss After Charge (Reuters) Reuters - Intuit Inc. (INTU.O), maker of\\\\the No. 1 U.S. tax presentation software TurboTax, on Wednesday\\\\posted a wider quarterly loss after taking a goodwill\\\\impairment charge during its seasonally weaker fourth quarter.'), (3, 'Bill Clinton Helps Launch Search Engine Former president Bill Clinton on Monday helped launch a new Internet search company backed by the Chinese government which says its technology uses artificial intelligence to produce better results than Google Inc.'), (3, 'Ciena Posts a Loss, Forecasts Flat Sales &lt;p&gt;&lt;/p&gt;&lt;p&gt; By Deborah Cohen&lt;/p&gt;&lt;p&gt; CHICAGO (Reuters) - Telecommunications equipment makerCiena Corp. &lt;CIEN.O&gt; on Thursday reported a wider loss for thefiscal third quarter due to slack demand and forecast sales inthe current quarter would be little changed from the thirdquarter.&lt;/p&gt;'), (3, 'Ecuadorean Lawsuit Vs Texaco Boils Down to Science (Reuters) Reuters - After a decade\\\\of court battles, lawyers on Wednesday took a lawsuit by\\\\Ecuadorean Indians accusing U.S. oil firm ChevronTexaco Corp..\\\\of polluting the Amazon jungle into the field.'), (1, 'Atlantis \"Evidence\" Found in Spain, Ireland In 360 B.C. the Greek philosopher Plato described an island he called Atlantis. Now contradicting new evidence claims the fabled city-state was based on a real place.'), (3, 'Salesforce.com 2Q Profit Up Sharply Software developer Salesforce.com Inc. posted a sharp rise in second-quarter profit on better-than-expected revenue during its first quarter as a public company, but investors shunned the stock in late trading '), (2, 'PRESS START FOR NOSTALGIA Like Led Zeppelin #39;s  #39; #39;Stairway to Heaven #39; #39; and Lynyrd Skynyrd #39;s  #39; #39;Freebird, #39; #39; classic video games like Frogger and Pong can bring back an entire era.'), (2, 'Prototype copter-cam: Here, there, everywhere It can only remain aloft for three minutes but weighs less than an empty soft drink can -- and it can take and transmit pictures in flight.'), (3, 'Intel cuts Pentium 4 prices The newest P4 chips drop in price by 18 percent to 35 percent; a host of other chips are cheaper now as well.'), (1, 'Iran shuts reformist websites WEBSITES CLOSE to Iran #39;s leading reformist party have been blocked by religious hardliners in the police bureau of public morals.'), (1, \"EPA: U.S. Waterways Contain Polluted Fish (AP) AP - One of every three lakes in the United States, and nearly one-quarter of the nation's rivers contain enough pollution that people should limit or avoid eating fish caught there.\"), (3, 'Barents Sea Under Threat from Fishing, Oil (Reuters) Reuters - The Arctic Barents Sea is\\\\under threat from overfishing, oil and gas exploration and\\\\Soviet-era radioactive waste, the U.N. Environment Program said\\\\on Tuesday.'), (3, \"Internosis Will Relocate To Greenbelt in October  Internosis Inc., an information technology company in Arlington, plans to move its headquarters to Greenbelt in October. The relocation will bring 170 jobs to Prince George's County.\"), (1, 'Site security gets a recount at Rock the Vote Grassroots movement to register younger voters leaves publishing tools accessible to outsiders.'), (3, 'EU to probe Microsoft-Time Warner buy The decision is a setback for the two companies and their plan to acquire ContentGuard, a digital rights management firm.'), (3, \"Science Magazine: Asia Farmers Sucking Continent Dry (Reuters) Reuters - Asian farmers drilling millions of\\\\pump-operated wells in an ever-deeper search for water are\\\\threatening to suck the continent's underground reserves dry, a\\\\science magazine warned on Wednesday.\"), (1, 'U.N. Urges Funds to Curb African Locusts (AP) AP - With swarms of locusts threatening crops in a number of African countries, a U.N. agency appealed for an additional  #36;70 million in assistance Thursday to prevent the upsurge from becoming a full-scale plague.'), (1, '103 arrests for Internet fraud, related crimes since June: US (AFP) AFP - US authorities arrested at least 103 suspects and filed 117 criminal complaints since June 1 in a crackdown on various forms of online fraud, Attorney General John Ashcroft said.'), (3, 'TiVo loss widens SAN FRANCISCO (CBS.MW) - TiVo said its second-quarter loss widened from a year earlier on higher customer acquisition costs. Free!'), (2, 'U.N. Agency Sees No Rapid Development of El Nino (Reuters) Reuters - Fears of a new El Nino, a phenomenon\\\\that brings extreme weather patterns, are unfounded despite\\\\unusual ocean temperatures which often herald the devastating\\\\weather anomaly, the World Meteorological Organization said\\\\Thursday.'), (3, 'HP Moves Deeper Into Consumer Electronics Personal computer giant Hewlett-Packard Co. is stepping deeper than ever into the consumer electronics arena with its fall product lineup - so don\\'t be surprised if you hear about \"HP TV\" along with \"HDTV\" when shopping for your next television.'), (3, 'Bea Arthur for President Bea Arthur sparked a security scare at Logan Airport in Boston this week when she tried to board a Cape Air flight with a pocketknife in her handbag.    The \"Golden Girls\" star, now 81, was flagged by a Transportation Security Administration agent, who discovered the knife - a strict no-no following 9/11.    \"She started yelling that it wasn\\'t hers and said \\'The terrorists put it there,\\' \" a fellow passenger said. \"She kept yelling about the \\'terrorists, the terrorists, the terrorists.\\' \"    After the blade was confiscated, Arthur took a keyring from her bag and told the agent it belonged to the \"terrorists,\" before throwing it at them.  - via philly.com'), (3, 'Our mobile margins will fall: Telstra TELSTRA chief financial officer John Stanhope has admitted Telstra #39;s margins in its \\\\$4.5 billion a year mobile phone business will shrink this year in the face of increased price competition and the growing cost of acquiring new customers.'), (3, '96 Processors Under Your Desktop Roland Piquepaille writes  quot;A small Santa Clara-based company, Orion Multisystems, today unveils a new concept in computing,  #39;cluster workstations.'), (2, 'Bryant Makes First Appearance at Trial (AP) AP - NBA star Kobe Bryant arrived at his sexual assault trial Monday as attorneys in the case who spent the weekend poring over questionnaires prepared to question potential jurors individually.'), (3, 'Survey: IT spending to grow modestly next year CIO confidence is up in third quarter, according to Forrester poll.'), (2, 'Coming to a TV near you: Ads for desktop Linux Linspire CEO points out that recent TV ads serve as indication of acceptance in mainstream populace.'), (3, 'IT seeing steady but slow growth: Forrester projects 7 percent &lt;b&gt;...&lt;/b&gt; Tech companies waiting for a big resurgence in spending on computer hardware, software, networks and staff better plan to wait about four more years, Forrester Research projected yesterday.'), (3, 'Samsung readies Philips #39; near-field communications for cellphones MANHASSET, NY - Philips Electronics and Samsung Electronics have entered into a deal that will enable Samsung to deploy cellular devices using Philips #39; near-field communications chip and technology.'), (1, \"China's Lenovo in talks with 'major IT firm' for acquisition (AFP) AFP - China's largest manufacturer of personal computers Lenovo Group said it is in negotiations with a major information technology company, believed to be US-based IBM.\"), (3, 'Taiwan #39;s Acer picks a European as president TAIPEI Acer, the Taiwan computer company, named Gianfranco Lanci of Italy as its president on Wednesday, an appointment that signals the company #39;s ambitions to expand its global market share.'), (3, 'Make hotels just like home HOTEL operators, take note: Todays hotel guests are making a nonsense of room-pricing strategies with their aggressive, Internet-aided discount-hunting.'), (1, \"Strong Hurricane Roars Over Bahamas Toward Florida (Reuters) Reuters - Hurricane Frances battered the\\\\southeastern Bahamas islands with 140 mph winds on Wednesday as\\\\it roared toward the United States and put millions of people\\\\on alert along Florida's heavily populated east coast.\"), (3, 'Appeals court faults Oracle in shareholder suit Judges send case back to lower court to sort out allegations of improper bookkeeping and \"suspicious\" stock sales.'), (2, 'The Bahamas - the real medal winner of the Athens Olympics A different way of calculating the medal standings brings some interesting results.'), (1, 'Md. Board Meeting Worries Democrats Republican-dominated election board met behind closed doors in deliberations that Democrats feared were aimed at ousting Elections Administrator Linda H. Lamone.&lt;BR&gt;\\\\&lt;FONT face=\"verdana,MS Sans Serif,arial,helvetica\" size=\"-2\"\\\\ color=\"#666666\"&gt;&lt;B&gt;-The Washington Post&lt;/B&gt;&lt;/FONT&gt;'), (3, 'NASA braces for Frances Thousands of automobiles clogged Florida #39;s highways during the largest evacuation in state history as residents anticipated the arrival of Hurricane Frances.'), (1, 'No Sign Yet of Predicted Big California Earthquake (Reuters) Reuters - The clock is running out on a\\\\highly publicized prediction that a major earthquake will rip\\\\through Southern California by Sunday.'), (1, 'Philippines mourns dead in Russian school siege The Philippines Saturday expressed quot;deepest sympathy quot; to the families of the dead in the Russian school siege on Friday, in which 322 people were killed when Russian troops stormed '), (3, 'Dell cuts prices on many corporate products Dell on Monday said it had cut prices by as much as fifth for a range of products aimed at US corporate customers, as the computer maker passed along savings from cheaper components.'), (2, 'The servers cannot take the strain, captain! A San Francisco startup plans to boldly go where no game developer has gone before with an online game based on the cult TV series  quot;Star Trek.'), (3, 'Hyundai signs deal for China truck plant Hyundai Motor Co. said yesterday that it has signed an agreement with a Chinese company, Jianghuai Automobile Corp., to build a commercial vehicle and engine plant in China #39;s Anhui province.'), (2, 'Groups Offers Beer for Blood Donations (AP) AP - Some in Michigan who roll up their sleeves to donate blood will get a racetrack T-shirt, hat and pin. Sponsors in San Diego have given away whale-watching trips. On Wednesday, the Cleveland Regional Transit Authority handed out vouchers for a pint of any beverage, including beer, in exchange for a pint of blood.'), (3, 'Teenager Charged With Creating Sasser Informants, seeking a reward from Microsoft, led police to the German student.'), (1, 'Florida Starts To Recover in the Wake of Hurricane Frances President Bush will travel to Florida Wednesday to survey damage from Hurricane Frances. He sent a letter to Congress asking for \\\\$2 billion to help with recovery efforts.'), (3, 'Web Sites Keep Tabs on Campaign Giving As a Washington journalist during the 90s, I made frequent treks to the Federal Election Commission to inspect cabinets full of campaign-finance reports to find out who was giving to whom.'), (3, \"Oracle case bounces to Europe The European Commission is studying the U.S. court decision favoring Oracle's PeopleSoft buyout and deciding whether to pursue its own objections.\"), (2, 'Tough to predict a hurricane landfall this season #39;s busy season of landfalling Atlantic hurricanes has seen a few less-than-perfect calls by tropical '), (2, 'Training is the Key to Defibrillator Success By DANIEL YEE     ALPHARETTA, Ga. (AP) -- Because defibrillators are more affordable than ever, they are quickly becoming commonplace in schools, businesses and other public places such as airports...'), (3, 'Sun trims fourth-quarter earnings by \\\\$12 million Sun Microsystems Inc. trimmed its fourth quarter and full-year 2004 results this week, to account for final accounting of asset retirement obligations and its settlement with Microsoft Corp.'), (3, 'Oracle 1Q Earnings Rise 16 Percent (AP) AP - Business software giant Oracle Corp. said Tuesday that first-quarter earnings rose 16 percent driven by new database license sales that rose 19 percent.'), (3, 'Sony Set to Exert Influence on Discs As the leader of the group that plans to buy Metro-Goldwyn-Mayer, Sony is poised to gain considerable power in its fight to set the format for the next generation of digital video discs.'), (3, \"Slowing population 'lacks funds' Rich countries are giving only half the amount they promised to help to slow world population growth, the UN says.\"), (3, \"'Cities in crisis' leaders warn World leaders warn that rapid urbanisation will become one of the biggest challenges of the 21st Century.\"), (3, 'Midtier ERP Vendors Can Capitalize On Oracle Antitrust Verdict The door is open for Oracle to win its bid for PeopleSoft, and for midmarket ERP vendors to increase their business. By Elena Malykhina.'), (3, 'Lonely men targeted by cell-phone based relationship HONG KONG - There #39;s a new service for men seeking true love. A software company has created an artificial girlfriend that lonely men can download to a mobile phone.'), (3, 'Shareholders Approve Aether Changeover Shareholders approved Aether Systems Inc.\\'s sale of one of its two remaining operating divisions Wednesday, a deal that will take the Owings Mills company out of the wireless business and nearly complete its transformation into a mortgage investment fund.&lt;BR&gt;\\\\&lt;FONT face=\"verdana,MS Sans Serif,arial,helvetica\" size=\"-2\"\\\\ color=\"#666666\"&gt;&lt;B&gt;-The Washington Post&lt;/B&gt;&lt;/FONT&gt;'), (3, 'Netopia to Restate Results (Reuters) Reuters - Netopia Inc.  a maker of\\\\networking gear, on Thursday said its auditor KPMG LLP\\\\resigned, and said it will restate two years of results and\\\\revise the results in its most recent fiscal quarter.'), (2, \"Czech Republic's Cell Operators Fined (AP) AP - All three cell phone operators in the Czech Republic were fined a total of  #36;1.7 million for breaching competition rules, officials said Thursday.\"), (1, 'Hurricane Ivan Slams U.S. Gulf Coast Hurricane Ivan roared into the Gulf Coast near Mobile, Alabama, early this morning with peak winds exceeding 125 miles an hour (200 kilometers an hour).'), (3, 'Nortel lowers expectations Nortel said it expects revenue for the third quarter to fall short of expectations.'), (3, 'Forecasters: More Hurricanes May Be on Way Ivan, Frances and Charley delivered three staggering blows to the Gulf Coast and Florida, as well as Caribbean island nations, all in just five weeks.'), (2, 'Foreseeing the Suns fate: Astronomical interferometry reveals &lt;b&gt;...&lt;/b&gt; For the first time, an international team of astronomers led by Guy Perrin from the Paris Observatory/LESIA, (Meudon, France) and Stephen Ridgway from the National Optical Astronomy Observatory (Tucson, Arizona, USA) has observed the close environment of '), (2, 'Sandia Motor Speedway for Sale on eBay (AP) AP - And the race is off! Only 29 days and some odd hours left to place your bid on eBay to buy the Sandia Motor Speedway.'), (3, 'FTC Endorses Bounty for Spammers The US Federal Trade Commission has given its endorsement to a plan that would reward insiders for information leading to the arrest and conviction of people or companies that produce spam.'), (3, \"Apple offers 2004 financial details Apple's latest Form 10-K filing with the Securities and Exchange Commission offers a look at how the company did this past year, how it thinks it's doing and what's to come.\"), (2, \"Back to School and Gaming Kids Internet-ready schools do little to protect kids from seemingly safe sites whose only reason to exist is invasive marketing aimed directly at young web surfers. These corporate-sponsored 'advergames' look interactive but the endgame is 'buy.'\"), (1, \"The battle for DR Congo's wildlife As donors pledge \\\\$40m to save DR Congo's wildlife, life in Virunga Park remains a battle ground.\"), (1, 'Bush Scraps Most U.S. Sanctions on Libya (Reuters) Reuters - President Bush on Monday formally\\\\ended the U.S. trade embargo on Libya to reward it for giving\\\\up weapons of mass destruction but left in place U.S.\\\\terrorism-related sanctions.'), (3, 'US ponders \\\\$250,000 bounty on spammers Authorities in the US are considering a \\\\$250,000 bounty on spammers in an attempt to close them down. The US Federal Trade Commission (FTC) has suggested rewards of anything from \\\\$100,000 to \\\\$250,000 for information.'), (1, 'Study: Wrecks Jump 3 Days After Terrorism Fatal traffic accidents increase sharply in Israel on the third day after a terrorist attack, and researchers are searching for an explanation why.'), (3, 'A  #39;Plan B #39; for PeopleSoft customers com September 20, 2004, 6:13 PM PT. This fourth priority #39;s main focus has been improving or obtaining CRM and ERP software for the past year and a half.'), (1, \"Noah's Ark Quest Dead in Water -- Was It a Stunt? In April a Christian activist announced a summer 2004 expedition to search for Noah's ark. The quest didn't happen, and now critics are questioning the project's credibility.\"), (2, 'Nothing Robotic About Robo-Art The ArtBots show in New York this past weekend proved that robots can wax artistic, too -- or at least carry out the instructions of their artistic creators. Cyrus Farivar reports from New York.'), (3, \"PeopleSoft, IBM strike middleware alliance PeopleSoft Inc. is deepening its ties with IBM Corp., announcing on Tuesday a sales and development partnership it called the most significant enterprise applications alliance in the companies' history.\"), (3, 'GAO: Outsourcing could hurt IT employment growth A new GAO report indicates that offshore outsourcing could hurt IT employment growth over the next decade, but the study released today is sprinkled with caveats and qualifiers and shows more study is needed.'), (3, \"Brits to lose 12 current of IT jobs by 2010 New report on offshoring's implications from the British Computer Society.\"), (1, 'Islands press Govt to reverse phone call decision Diplomats from a number of islands in the South Pacific are reported to be pressing the Government to reverse a decision to block all phone calls made to the islands.'), (2, ' #39;Blog #39; To Be Included in 2005 Dictionary The most requested online definition this year was  quot;blog quot; -- a word not even yet officially in the dictionary, Merriam-Webster says.'), (2, 'Symantec Firewall/VPN Appliance 200/200R (firmware builds prior to &lt;b&gt;...&lt;/b&gt; Rigel Kent Security  amp; Advisory Services notified Symantec of three high-risk vulnerabilities they identified in the Symantec Firewall/VPN Appliance during an assessment.'), (3, 'Baby for ovary transplant woman A Belgian cancer patient made infertile by chemotherapy has given birth following revolutionary treatment.'), (1, \"Locusts Encroach on West African Rice-Growing Area (Reuters) Reuters - West Africa's worst locust plague for 15\\\\years has encroached on one of the region's largest\\\\rice-growing areas, authorities in Mali said on Friday.\"), (1, \"Soldiers' War Blogs Detail Life in Iraq Iraq war blogs are as varied as the soldiers who write them. Some sites feature practical news, war pictures and advice. Some are overtly political, with more slanting to the right than to the left. Some question the war, some cheer it.\"), (3, 'MedImmune CEO Talks Finance and Science David Mott, a Dartmouth-educated Wall Street investment banker, is increasingly leveraging his reputation in the local and national biotech communities.&lt;br&gt;&lt;FONT face=\"verdana,MS Sans Serif,arial,helvetica\" size=\"-2\" color=\"#666666\"&gt;&lt;B&gt;-The Washington Post&lt;/b&gt;&lt;/font&gt;'), (1, 'Kill The Poor I\\'ve been a soup van volunteer for three months plus a couple of weeks. I\\'ve also been casually mentioning this example of my beneficence in everyday conversation for about the same length of time. I use this particular phrasing, rather than \"I work on a soup van\", because what I\\'m trying to emphasise is that I didn\\'t take it up lightly or gingerly. In the beginning, I didn\\'t know exactly how it would turn out, but I did know that I wanted to be good. Between then and now, an awful lot became clear.'), (3, 'Plan B Proposes Its Own Alternatives Donnie Downs, president and chief executive of Plan B Technologies Inc., said the company itself is a \"plan B.\"'), (2, 'Red Hat opens losing propaganda offensive against Sun Opinion Heaven help us all - there #39;s a blog battle being waged between Red Hat #39;s chief cheerleader Michael Tiemann and Sun Microsystems #39; President Jonathan Schwartz.'), (1, 'Gold Indian Coin Expected to Fetch  #36;27,000 (Reuters) Reuters - An Indian gold coin which is nearly\\\\1,900 years old and shows one of the earliest depictions of\\\\Buddha is to be sold at auction where it is expected to fetch\\\\up to 15,000 pounds ( #36;27,000).'), (1, \"Cray promotes two execs Ly-Huong Pham becomes the supercomputer maker's senior vice president of operations, and Peter Ungaro is made senior vice president for sales, marketing and services.\"), (1, 'Senate weighs H-1B visa changes U.S. senators are debating a controversial measure to exempt foreign student graduates from the cap on H-1B visas.'), (3, 'Gas prices up 5 cents after Hurricane Ivan CAMARILLO, Calif. - Gas prices jumped more than 5 cents a gallon in the past two weeks, largely because of supply problems related to Hurricane Ivan, an industry analyst said.'), (2, 'Meet UK #39;s  #39;Dr Dolittle #39; of animal behaviour London - Lincoln University in the east of England has appointed Britain #39;s first professor of animal psychiatry, a report said on Tuesday.'), (1, 'Russians Next In Line To Receive Cheap Windows After Thailand, Malaysia and Indonesia, Microsoft has identified Russia as the fourth market for its low cost scaled down operating system, Windows XP Starter Edition (XP SE).'), (3, 'Cendant Near Deal to Buy Orbitz for  #36;1.2 Bln-Source (Reuters) Reuters - Travel and real estate company\\\\Cendant Corp.  is close to an agreement to buy online\\\\travel site Orbitz Inc.  for about  #36;1.2 billion in\\\\cash, a source close to the talks said on Tuesday.'), (3, 'High-Tech Start-Up Strives For Open-Source Compatibility SourceLabs could create some buzz because of its pedigree team of founders. The company is led by Chief Executive Byron Sebastian, a former executive at San Jose #39;s BEA Systems, who founded the company in spring.'), (3, \"Invading Bullfrogs Appear Nearly Unstoppable The North American bullfrog population is booming. That may sound like good news, but it isn't #151;not when the frog has leaped far beyond its native habitat.\"), (3, 'Travelzoo Shares Rise as Offering Rumor Fades (Reuters) Reuters - Shares of Internet travel site\\\\Travelzoo Inc.  rose nearly 4 percent on Wednesday as\\\\market rumors of a secondary stock offering faded.'), (2, 'Mammoth toxic algae bloom sighted off Washington state coast SEATTLE - A toxic algae bloom 30 miles wide has been detected 15 miles off the northwest coast of Washington state, the largest and most potentially lethal yet found by scientists in the region.'), (3, 'I.B.M. Agrees to Settle Part of Giant Pension Case I.B.M. said that it had agreed to pay \\\\$320 million to its employees to settle in part a class-action lawsuit over its pension plan.'), (3, \"Immunity in Ebbers Case Opposed in U.S. Filing NEW YORK, Sept. 29 -- Federal prosecutors told a judge in a filing late Tuesday night that they have evidence that former WorldCom Inc. chief executive Bernard J. Ebbers knew company officials had improperly tinkered with the telecommunications firm's accounting to boost its publicly reported profits.\"), (2, 'Microsoft, Amazon to combine forces Individually theyve been unstoppable in their respective industries. Theyre both legends that have survived the dot com burst and came out winners.'), (1, 'An Interview with Bill Baker, SQL Server BI General Manager This article is the first in a new, regular series of articles and interviews with top Microsoft program managers. Our goal is to give you a close-up, helpful and informative look at things '), (3, 'Pharma Groups Work on EPC Issues Sept. 30, 2004Reacting to calls from pharmaceutical retailers, distributors and manufacturers, EPCglobal has added a new action group to specifically study the pharmaceutical industry '), (3, 'Net firms: Don\\'t tax VoIP The Spanish-American War is over and a \"temporary\" tax created to pay for it should not be extended to Internet phone calls, industry groups tell the IRS'), (3, 'Tesco steps up RFID efforts Tesco is rolling out radio barcode technology across its 98 Tesco Extra stores to track high-value items between its internal distribution centres and its outlets.'), (3, 'August Chip Sales Growth Slows on High Inventory  SAN FRANCISCO (Reuters) - Global semiconductor sales growth  slowed to 1 percent in August as electronics makers reacted to  growing inventories in Asia by limiting orders of chips, an  industry trade group said on Thursday.'), (3, 'EBay Expands PayPal Buyer Protection Up to \\\\$1,000 PayPal, eBay Inc. #39;s (EBAY.O: Quote, Profile, Research) online payment service, will expand its US buyer protection program to cover up to \\\\$1,000 for qualified transactions, the company said on Thursday.'), (3, 'Opportunity Rings (Forbes.com) Forbes.com - This past summer 25,000 consumers, aged 18 to 24, received short text messages on their cell phones alerting them to numbers on 225 million bottle caps of Snapple iced tea, pink lemonade and the like. People holding a winning number, announced by text message and traditional media, landed overseas trips and walk-on parts on TV shows.'), (2, 'SpaceShipOne,take two The SpaceShipOne team will attempt to win the \\\\$10 million Ansari X Prize on Monday, the 47th anniversary of the start of the first space race when the Soviet Union launched its Sputnik satellite.'), (3, 'EU Accuses Microsoft of Paternal View Microsoft Corp. said Friday that small companies and their customers would suffer most if it is forced to remove its digital media software from Windows, while the European Union accused it of being \"paternalistic\" in trying to decide what\\'s best for everyone.'), (3, \"The C.E.O. Vanishes, and Other Mysteries Why did PeopleSoft, in the midst of a takeover fight with Oracle, fire its chief executive and president? Who knows? And that's a problem.\"), (2, 'Fable; Nascar 2005: Chase For The Cup Fable comes with a big reputation behind it -- it was developed by Peter Molyneux, creator of such involved, engrossing games as Populous and Black and White.'), (3, 'EU Pursues Oracle-PeopleSoft Case (AP) AP - European Union regulators suggested Monday they are not bound by a U.S. decision to allow Oracle Corp. to pursue its  #36;7.7 billion bid for rival business software maker PeopleSoft Inc. and are continuing to collect data on the deal.'), (3, 'OPM Delving Deeper Into Employees #39; Backgrounds which sets hiring and employment standards for the government -- is reviewing its employees to ensure that they are suitable for jobs involving the  quot;public trust.'), (2, 'SpaceShipOne Wins X Prize Scaled Composites #39; SpaceShipOne broke the 100-km barrier for the second time, satisfying the conditions to win the \\\\$10 million X Prize.'), (1, 'Navy streamlines NMCI contract Officials at the Navy and contractor EDS said they have reached an agreement to revise performance measurements on the Navy Marine Corps Intranet contract, which EDS called a critical step toward billing NMCI seats on a 100 percent basis.'), (3, \"Peoplesoft Revenues To Beat Expectations (NewsFactor) NewsFactor - PeopleSoft (Nasdaq: PSFT) said on Monday that quarterly revenues would beat Wall Street's expectations, due to an increase in the number of customers making large orders for its enterprise-application software.\"), (2, 'South Seas Islands Pin Future on Geotourism The Cook Islands receive more tourists per capita than any other South Pacific destination. Now authorities are revamping their tourism strategy to focus on preservation.'), (3, \"Judge Challenges EU Position on Microsoft (Reuters) Reuters - A top European Union judge\\\\challenged the EU executive's reasoning in its antitrust court\\\\battle with Microsoft Corp. Friday, questioning why it opposed\\\\the U.S. software giant's setting industry standards.\"), (3, 'PeopleSoft down on testimony, forecast Investors react to a disappointing earnings projection and to testimony that dampens hopes of negotiations with Oracle.'), (1, 'Russia May Ratify Kyoto Protocol in Oct. -- Minister (Reuters) Reuters - The Russian government expects\\\\parliament to ratify the Kyoto Protocol this month in a move\\\\allowing the long-delayed climate change treaty to come into\\\\force worldwide, a senior minister said Monday.'), (3, 'Is PeopleSoft waiting for the right price? A company board member testifies in trial that a sale would be possible if Oracle ups its offer.'), (3, \"National Geographic Photo Camps Give Kids New Views In New York, San Francisco, and Washington, D.C., National Geographic's Photo Camps this summer paired underprivileged students with seasoned photogropaphers. &lt;i&gt;With photo gallery.&lt;/i&gt;\"), (1, 'Qatar Defense Show Focuses on Videogame Technology  DOHA (Reuters) - Rick Bracewell is driving through Baghdad  when gunmen open fire. Then a nearby dead dog strapped with  explosives blows up and his vehicle goes up in flames.'), (3, \"Unisys to lay off 1,400 workers Unisys Corp. plans to cut 1,400 jobs, primarily in general and administrative areas, and consolidate its office space worldwide, it announced Wednesday. The cuts represent 3.8 percent of the company's staff of 37,000.\"), (3, 'Fujitsu Siemens profit grows 60 percent Fujitsu Siemens Computers (Holding) BV, Europe #39;s largest remaining computer manufacturer, posted a 60 percent leap in profit for the first half of its fiscal year on higher sales of laptops and servers to business customers, the company said Wednesday.'), (1, \"Plugging in a Musical Visionary's Next Ideas Musician Brian Eno, who has been turning ideas into visionary music for decades, is looking to create software that will write song lyrics.\"), (2, 'New Star-Type Resembles Stillborn Star When a binary star system starts to transfer mass, one of the twins may well win out, leaving its companion to occupy a strange region half way between a star and a planet. A new star-type of this sort has been found, which resembles the infrared ash of a stillborn star.'), (3, 'Shock Jock Group Boosts Satellite Radio Profile When radio shock jocks Opie and Anthony considered their next career move after two firings in four years, the twisted twosome was ready to feign rehabilitation. Or at least that was the plan when they sat down with satellite radio executives.'), (1, \"Kenyan Laureate Urges Rich Nations to Ratify Kyoto (Reuters) Reuters - Kenya's Nobel Peace Prize winner,\\\\Wangari Maathai, on Monday urged wealthy nations to ratify the\\\\Kyoto protocol on climate change to ease the burden of\\\\pollution on poor countries.\"), (1, \"U.S. Spies on Chat Rooms Could terrorists be plotting their next move online, obscured by the 'noise' of chat-room chatter? The U.S. government thinks that may be the case and is funding a yearlong study on chat-room surveillance.\"), (3, 'Prosecutors Say Ebbers Lied to Obtain Loans Court documents show federal prosecutors have told lawyers for former WorldCom Inc. chief executive Bernard J. Ebbers that they plan to argue he lied about the telecommunications giant\\'s financial condition in order to get personal loans. &lt;FONT face=\"verdana,MS Sans Serif,arial,helvetica\" size=\"-2\"\\\\ color=\"#666666\"&gt;&lt;B&gt;-The Washington Post&lt;/B&gt;&lt;/FONT&gt;'), (3, 'DreamWorks Animation IPO Set at 29M Shares Underwriters for DreamWorks Animation SKG Inc., producer of the blockbuster \"Shrek\" movies, Tuesday set the terms of the company\\'s pending initial public offering at 29 million common shares, with an estimated price range of \\\\$23 to \\\\$25 a share.'), (3, 'Intel Posts Higher Profit, Sales Computer-chip maker Intel Corp. said yesterday that earnings for its third quarter were \\\\$1.9 billion -- up 15 percent from the same quarter a year ago -- but the company cautioned that computer-processor demand in the United States is likely to remain low.'), (1, \"Thailand Shows No Easy War Against Wildlife Crime (Reuters) Reuters - With an AK-47 assault rifle slung over\\\\his shoulder, Sompong Prajobjan roamed one of Thailand's lush\\\\national parks for more than a decade.\"), (3, 'Patent case challenges Microsoft #39;s  #39;AutoPlay #39; A federal judge has set a December date for a patent suit challenging  quot;AutoPlay quot; technology included in recent versions of Microsoft Windows.'), (3, 'Bourses set for losses after Wall St falls (FT.com) FT.com - European equity markets were poised for opening losses on Thursday following a weak session on Wall Street overnight, while caution was likely ahead of results from Nokia, the leading mobile handset maker.'), (3, 'Dual Internal Clocks Control Fruit Flies -Study (Reuters) Reuters - Humans are not the only creatures with\\\\an internal biological clock. Fruit flies have two, which\\\\separately control morning and evening activity, scientists\\\\said Wednesday.'), (1, 'Thai minister says zoo #39;s illegal orangutans to be moved JAKARTA/BANGKOK (DPA): Thailand, under growing pressure to repatriate some 100 orangutans allegedly smuggled into the country from Indonesia, plans to shift the apes from a private zoo to a safe centre, probably in Chiang Mai, a minister said on Thursday.'), (2, 'Australia  amp; New Zealand Amphibians such as leopard frogs and salamanders are threatened with extinction as their homes dry up and a new disease spreads, possibly as a result of global warming, according to a new study in Science magazine.'), (3, \"Blockbuster Cuts Online Price, Challenges Netflix (Reuters) Reuters - Video chain Blockbuster Inc on\\\\Friday said it would lower the price of its online DVD rentals\\\\to undercut a similar move by Netflix Inc. that sparked a stock\\\\a sell-off of both companies' shares.\"), (2, \"Toughest athlete is female and unknown You probably haven't heard about one of the toughest endurance sports around: the deca-ironman. That's 38 km swimming, immediately followed by an 1800 km bicycle ride and a 420 km run. Currently, the world record stands at about 187 hours, held by a German housewife. Nobody else has ever finished the course below 192 hours.  \"), (3, 'iPod, DVD Players Lead Aug. Electronics Prices Lower  NEW YORK (Reuters) - Price declines for U.S. consumer  electronics accelerated in August, fueled by discounted price  cuts for the popular iPod digital music player and traditional  DVD players, according to an industry study prepared for  Reuters.'), (1, \"UN 'must ignore cloning ban call' The UK's Royal Society urges the UN to ignore a call by President Bush to ban all forms of human cloning.\"), (3, 'IBM posts broad Q3 revenue growth NEW YORK - IBM Corp. posted quarterly results on Monday showing 9 percent revenue growth from last year and slight earnings growth, despite a \\\\$320 million charge it took during the quarter to settle some claims in a lawsuit over its pension plan.'), (1, 'Former Dire Straits Front Man Uses AMD Opteron for New Album Mark Knopfler, the former lead guitarist and singer for Dire Straits, has recorded his new  quot;Shangri-La quot; album on a dual AMD Opteron processor-based digital audio workstation.'), (3, 'Regulators Approve Artificial Heart The Food and Drug Administration approved the use of an artificial heart made by SynCardia Systems as a temporary device for people awaiting transplants.'), (3, 'Trust Digital Gets CEO, Cash Influx Trust Digital Inc., a McLean software company, is getting a new chief executive and \\\\$3.1 million in new investments as it tries to expand its business making security software for wireless devices. &lt;FONT face=\"verdana,MS Sans Serif,arial,helvetica\" size=\"-2\"\\\\ color=\"#666666\"&gt;&lt;B&gt;-The Washington Post&lt;/B&gt;&lt;/FONT&gt;'), (3, 'Greenspan: Debt, home prices not dangerous The record level of debt carried by American households and soaring home prices do not appear to represent serious threats to the US economy, Federal Reserve Chairman Alan Greenspan said Tuesday.'), (3, \"Motorola Quarterly Earnings Rise Motorola Inc., the world's No. 2 maker of cell phones, on Tuesday said its quarterly profit\\\\more than tripled, as sales rose 26 percent, driven in part by a host of new handset models and cost controls.\"), (3, 'NJ residents file lawsuit to block e-voting WASHINGTON - A coalition of New Jersey residents filed a lawsuit Tuesday asking a judge to stop the state from using electronic voting machines in the Nov. 2 election.'), (3, 'Sales of industrial robots surging: UN report Geneva - Worldwide sales of industrial robots surged to record levels in the first half of 2004 after equipment prices fell while labour costs grew, the United Nations Economic Commission for Europe said in a report to be released today.'), (3, 'Giga counters They #39;re bold, brash and break most rules of business -- so why are the Google guys multi-billionaires? GOOGLE Inc had plenty to celebrate at its recent annual summer picnic -- its debut as a public company '), (3, 'General Assembly committee opens two-day debate on anti-cloning &lt;b&gt;...&lt;/b&gt; The UN General Assembly #39;s legal committee begins a two-day debate today that will focus on the contentious issue. There is support among member states for a treaty banning human cloning, but divisions remain '), (3, \"Strong Server, PC Sales Boost Microsoft Revenue The company's earnings beat Wall Street expectations.\"), (2, 'World #39;s  #39;worst plunderers #39; named HUMAN beings are plundering the earth #39;s resources at an alarming and unsustainable rate, and Australians are among the worst offenders.'), (3, 'Regulators Let Cingular Buy AT T Wireless The \\\\$41 billion merger between Cingular Wireless LLC and AT T Wireless Services Inc. won approval from the Federal Communications Commission Friday, according to federal sources close to the agency. &lt;BR&gt;\\\\&lt;FONT face=\"verdana,MS Sans Serif,arial,helvetica\" size=\"-2\"\\\\ color=\"#666666\"&gt;&lt;B&gt;-The Washington Post&lt;/B&gt;&lt;/FONT&gt;'), (3, 'Approval Expected for Big Cellphone Deal Federal regulators will formally approve Cingular Wireless #39;s \\\\$41 billion purchase of AT amp;T Wireless today, company officials briefed on the matter said over the weekend.'), (3, 'Regulators Let Cingular Buy AT amp;T Wireless The \\\\$41 billion merger between Cingular Wireless LLC and AT amp;T Wireless Services Inc. won approval from the Federal Communications Commission yesterday, according to federal sources close to '), (3, 'Lockheed Profit Jumps on IT, Jet Demand &lt;p&gt;\\\\&lt;/p&gt;&lt;p&gt; NEW YORK (Reuters) - No. 1 U.S. defense contractor Lockheed\\\\Martin Corp. &lt;LMT.N&gt; reported a 41 percent rise in quarterly\\\\profit on Tuesday, beating Wall Street forecasts, as demand\\\\soared for its combat aircraft and information technology\\\\services.&lt;/p&gt;'), (3, \"E.U. Regulators Approve Oracle's PeopleSoft Bid European Union antitrust regulators on Tuesday cleared Oracle Corp.'s hostile \\\\$7.7 billion bid for rival business software maker PeopleSoft Inc., removing one of the last major hurdles to the contested takeover proposal.\"), (2, 'FTC wins a temporary injunction against alleged spammer U.S. District Judge Joseph A. DiClerico Jr. ordered Sanford Wallace and his companies to remove any software scripts from their Web sites that exploit security vulnerabilities in some versions of Internet Explorer.'), (1, \"Singapore Telecom ties up with Malaysia's TIME dotcom (AFP) AFP - Singapore Telecommunications (SingTel) said it has entered into an agreement with Malaysia's TIME dotCom to link their corporate customers through private leased line circuits.\"), (3, 'Washington Contractors\\' Sales Increase Companies that provide federal agencies with network integration and payroll accounting technologies are benefiting from a government trying to bolster its defenses against terrorism, experts say. &lt;br&gt;&lt;FONT face=\"verdana,MS Sans Serif,arial,helvetica\" size=\"-2\"\\\\ color=\"#666666\"&gt;&lt;B&gt;-The Washington Post&lt;/B&gt;&lt;/FONT&gt;'), (1, 'Attack prompts Bush website block The re-election website of President Bush is blocking overseas visitors because of \"security reasons\".'), (3, 'Link Between Migraine, Endometriosis Found There #39;s evidence of a possible link between endometriosis and migraine, says an Italian study in the latest issue of Human Reproduction.'), (3, 'Gateway Reports Smaller Quarterly Loss Gateway Inc. reported a narrowed net loss in the first quarter as it continues to restructure its operations and integrate its acquisition of eMachines. Still, the personal computer and electronics company posted a tiny operating profit -- its first in nearly three years.'), (2, 'Blame player, not game It was like nothing youd ever exercised your thumbs to before. You could do whatever you wanted, whenever you wanted. The game seemed endless.'), (2, \"Dems, GOP: Who's Got the Brains? Well, both do, actually. But there are some discernible differences in brain activity which may just explain why a Democrat sees the world one way, and a Republican sees it another.\"), (3, \"Optimism Drives Google Shares to New Highs (Reuters) Reuters - Stock of Google Inc.  powered\\\\to new highs on Friday, buoyed by the web search leader's new\\\\products and growth prospects, which complement its recent\\\\strong financial results, analysts said.\"), (3, 'Kyocera Battery Recall Kyocera Battery Recall By guest contributor Josh Pereira. Kyocera, a leading manufacturer of CDMA phones, has announced a voluntary and precautionary recall of the batteries found in their KE/KX 400 Series, 3200 Series, and Slider Series phones.'), (3, 'Dark Echoes from Titan Microwave brightness of Titan reveals surface properties such as temperature composition and roughness. Image Credit: NASA/JPL. Looking at radar reflections of Titan, scientists are puzzled by what they see '), (1, 'Gateway Can Party Like It #39;s 1999 Those were heady days, they were, back in 1999. The bull market was still roaring. We hadn #39;t yet heard of hanging or dimpled chads.'), (1, 'Locusts Devastate Mauritania Crops, Others Escape (Reuters) Reuters - Crop-devouring locusts have caused major\\\\damage to cereals in Mauritania but other West and Central\\\\African states have suffered much less than feared from the\\\\worst infestation in over a decade, the U.N. said on Thursday.'), (3, 'Wells Fargo computers stolen Identity thieves may have obtained information on thousands of Wells Fargo mortgage and student loan customers.'), (2, 'Serial HIV Assault Verdict Expected Mon. (AP) AP - A verdict will be announced Monday in the trial of a man charged with intentionally exposing 17 women to HIV, a county judge said.'), (1, \"Contradiction in Terms : How to make beer It's been around for thousands of years. It has been worshiped, reviled, banned, and made the cornerstone of economies. It has helped us celebrate, weep, relax, and get laid. And now we're going to make some. A pint, a glass, an ale, a lager, a beer.\"), (2, 'Hope Fades for Saving 2 Boys Stuck in Mexico Cave (Reuters) Reuters - Hopes of rescuing two small boys\\\\trapped for five days in a jungle cave faded fast on Friday\\\\after contact was lost with the brothers and as the cavern\\\\flooded in overnight rains.'), (2, 'Microsoft  amp; Novell Rumble Over Linux While its always interesting to watch two equally opinionated groups go at it, particularly over something as fundamental as whether Linux is worth it; the current fight is comical at best.'), (2, 'VARs: Stone #39;s Exit Won #39;t Slow Novell #39;s Linux Drive Solution providers last week said they do not expect the sudden departure of Novell vice chairman Chris Stone, who engineered the company #39;s aggressive Linux push, to slow its Linux initiative.'), (3, 'Travelocity Says Speed Is the Ticket For Growth Sam Gilliand, the chief executive of Travelocity, talks about the online travel industry, the Cendant-Orbitz merger and the woes of the airline industry.'), (1, 'Cellphones outstrip landlines in India (AFP) AFP - Mobile phone users have outstripped traditional landline connections in India, the government announced.'), (3, 'Conversion Rates Between PPC (Paid) and Organic (Free) Results Conversion Rates Between PPC (Paid) and Organic (Free) Results\\\\\\\\In a thread over at Cre8asite Forums named Organic vs Paid traffic ROI?, there is a discussion going on about the different conversion rates and ROI seen between the pay per click traffic (paid traffic) and organic traffic (free traffic). I have ...'), (2, \"FCC expected to keep states off VoIP's back Sources expect that on Tuesday, the FCC will exempt more Net phone calls from state telephone rules and taxes, even as the cable industry tries to grab VoIP's coattails.\"), (1, \"Fusion reactor decision must wait Six nations planning to build the world's biggest nuclear fusion reactor fail to agree where to site the facility.\"), (3, \"PeopleSoft revises third-quarter profit Oracle target adds \\\\$2.6 million to bottom line after tax adjustment related to ex-CEO's severance package.\"), (3, 'Stand Aside, Rudolph: The Mouse Will Lead A list of some of the best holiday gifts, based on taste, appearance or utility, available on the Web.'), (2, \"Patron Saint of the Nerds St. Expedite might not even be a true saint, but that doesn't stop programmers and job seekers from asking for his help. Michelle Delio reports from New Orleans.\"), (3, 'Cable and Wireless to cut 600 jobs, shut London headquarters (AFP) AFP - Cable and Wireless, the struggling British telecoms group, said it would cut 600 jobs across Europe, part company with a top executive and shut its London headquarters.'), (3, 'Prosecutor Explains Why Spammer Sent to Slammer During my opening statement, I explained to the jury that sending spam by itself is not a crime, but when you masquerade your identity, you violate Virginia #39;s law that took effect in July 2003.'), (3, 'Gap, Wild Planet Get Together on Radio Sweatshirt  NEW YORK (Reuters) - Wild Planet, a toy maker known for its  spy gear and adventure gadgets, said on Wednesday it was  teaming up with clothing retailer Gap Inc &lt;A HREF=\"http://www.reuters.co.uk/financeQuoteLookup.jhtml?ticker=GPS.N qtype=sym infotype=info qcat=news\"&gt;GPS.N&lt;/A&gt; to sell  sweatshirts with FM radios built in at GapKids stores.'), (3, \"Business Objects touts dashboards, standardization Business Objects executives this week touted dashboard technology features and rallied support for standardization on their new business intelligence software -- two hot-button issues for users here at the company's International Users Conference.\"), (3, \"Photo: Gap's gadget garment Clothing retailer's new high-tech kids' fleece comes with a built-in radio.\"), (1, 'Hit TV series 24 goes from small screen to smaller screen (AFP) AFP - The hit US television show  quot;24 quot; is going from the small screen to the smaller after 20th Century Fox and Vodaphone struck a groundbreaking deal to distribute the drama on mobile telephones.'), (3, \"An Unknown Giant Flexes Its Muscles Although virtually unknown in the U.S., Lenovo - in talks to buy I.B.M.'s personal computer business - is China's largest PC maker and the world's fastest growing one.\"), (1, 'GoldenEye: Rogue Agent golden EA #39;s James Bond-baddie shooter has left its secret headquarters and taken over the factory. Like an evil genius announcing his demands, Electronic Arts has let the world know that GoldenEye: Rogue Agent has gone gold.'), (1, 'Coalition asks US Congress to kill copyright bill WASHINGTON - A coalition of technology and advocacy groups on Friday asked the U.S. Senate to kill copyright legislation that might result in jail time for people who trade copyrighted files online.'), (1, 'Final Round in Cable-ISP Fight The U.S. Supreme Court has agreed to hear whether cable operators must give access to their lines to third-party ISPs. Michael Grebb reports from Washington.'), (2, 'Adobe Gets High Marks for Photo Fixes Among three digital photography repair programs, Adobe Elements is cited as providing the right amount of features and commands while maintaining user simplicity.'), (2, 'GAME UNDER FIRE Attacking police officers, racial slurs, bloody beatings of innocent bystanders ... is it really just a game? In four and a half minutes, 14-year-old Ryan Mason ran over a police officer, stole his gun and shot and killed three innocent bystanders.'), (2, 'At Tuesday #39;s midnight hour, you #39;ll find a meteor shower While walking the pooch in the crisp early morning air Wednesday, you might hear a few snaps, perhaps a buzz, and maybe even some whistles overhead.'), (2, 'Games just don #39;t get much better than  #39;San Andreas #39; This country has seen a massive upsurge in morality since Election Day, and nowhere is this more evident than in the commercial failure of the  quot;Grand Theft Auto quot; games.'), (3, 'Dell touts new blades #39; bang for the buck Organizations are replacing aging servers with newer more-powerful boxes, often Linux--based, and theyre also investing in storage.'), (2, 'Take control of your desktop chaos Dragging and dropping files into well-organized desktop folders can be a chore for everyone but the most fastidious. A new technology, however, aims to do most of the work for you.'), (3, \"Conservationists Meet to Plan Global Green Agenda (Reuters) Reuters - More than 5,000 scientists,\\\\conservationists and politicians meet in Thailand over the next\\\\week to hammer out a blueprint for saving some of the world's\\\\most endangered species and fragile ecosystems.\"), (1, 'South Korea #39;s LG claims development of media broadcasts-receiving &lt;b&gt;...&lt;/b&gt; SEOUL: South Korea #39;s LG Electronics Inc announced that it has developed the world #39;s first mobile handset capable of receiving terrestrial digital multimedia broadcasts (DMB).'), (3, \"Oil Company on Trial in Madagascar Over Pollution (Reuters) Reuters - The operator of Madagascar's\\\\privatized oil refinery went on trial on Tuesday, accused of\\\\polluting the environment around the Indian Ocean island's main\\\\international port, officials said.\"), (3, '14 Nations to Participate in Plan to Reduce Methane Thirteen countries agreed yesterday to join a global plan proposed by the Bush administration to curb methane emissions by capturing the greenhouse gas and using it as an energy source before it is released into the atmosphere.'), (3, 'Google Stock Slips as New Shares Hit Market Google Inc. stock dropped more than 6 percent Tuesday as tens of millions of new shares held by early investors and employees of the search engine giant became available for sale for the first time..&lt;br&gt;&lt;FONT face=\"verdana,MS Sans Serif,arial,helvetica\" size=\"-2\" color=\"#666666\"&gt;&lt;B&gt;-The Washington Post&lt;/B&gt;&lt;/FONT&gt;'), (3, 'Press review 0850CET--The seizure of fake Nike sportswear by the Customs Department was one of the main stories on Wednesday #39;s newspapers. L-Orizzont published '), (3, 'Vampire: The Masquerade - Bloodlines Review November 17, 2004 - Most of us who #39;ve been gamers for a while are familiar with the history behind Troika, which was formed from key members of the Black Isle group that made the Fallout, among other talented individuals.'), (2, \"Odd couple: Schwartz and McNealy It hasn't even been eight months since Sun Microsystems promoted Jonathan Schwartz to be Chief Executive Scott McNealy's right-hand man, but the two are already acting like an old couple. Missing Links\"), (1, 'McCain again opposes the president Global warming needs more attention, according to John McCain, and President Bush needs to lead the way. I listened to some of the hearings on this subject this week, and I must say the people testifying are '), (3, 'A Fair Tax Some say a \"fair tax\" that removes the need to file tax returns from the vast majority of the citizenry is a national sales tax.  This doesn\\'t seem to be very fair to people trying to feed, house and clothe themselves and seems to subsidize large land holders (Bush\\'s favorite constituency).  There is a tax that lives up to the promises broken by Bush\\'s proposal for a national sales tax.'), (2, 'Lab used by LAPD falsified DNA data and possibly dozens -- of pending criminal cases to determine whether critical evidence was tainted or falsified during '), (3, \"PeopleSoft Chief Threatens to Sue Over Oracle Statements PeopleSoft's chief executive accused Oracle of spreading misleading information about his stock sales and threatened to sue for defamation.\"), (3, 'BearingPoint CFO Out; Error Found McLean technology consulting company BearingPoint Inc. said yesterday that its chief financial officer, Robert S. Falcone, would retire on Nov. 30.'), (3, \"Congress Sends 'Net Access Ban to White House The U.S. Congress on Friday reinstated a ban on Internet access taxes after the House of Representatives agreed to extend it for another three years rather than make it permanent.\"), (1, 'Titantic is a treasure to be protected, explorer says Legendary explorer Robert Ballard was nervous this summer as he prepared to return to the Titanic for the first time since he discovered the famous shipwreck nearly two decades ago.'), (3, 'Before-the-Bell: GenCorp Falls 5.6 Pct. (Reuters) Reuters - Shares of GenCorp Inc.  fell 5.6\\\\percent before the opening bell on Monday after investment fund\\\\Steel Partners withdrew its proposal to acquire the aerospace\\\\and real estate company.'), (3, 'Google Founders Selling Off Stock Google Founders Selling Off Stock\\\\\\\\Is this a sign that Google stack is overpriced? Or does it just mean that since there is so much interest in Google and its shares right now that the founders decided to sell off a big part of their holdings with the search engine. Dow ...'), (3, \"Update: PeopleSoft board won't negotiate Oracle takeover PeopleSoft executives said over the weekend that they won't discuss a sale to Oracle at a price of \\\\$24 per share but would consider an offer at a higher price.\"), (3, 'Alamosa Offers to Buy AirGate (Reuters) Reuters - Alamosa Holdings Inc.  said\\\\on Monday it made an unsolicited bid for AirGate PCS Inc.\\\\ worth about  #36;380 million, which would create one of\\\\the largest sellers of wireless telephone service under the\\\\Sprint  brand.'), (1, 'Measures Aim to Stem Middle East Bird Slaughter (Reuters) Reuters - Conservationists launched a\\\\three-year project on Tuesday to protect millions of migrating\\\\birds which are indiscriminately targeted by hunters in North\\\\Africa and the Middle East.'), (3, 'Cingular to Cut About 7,000 Jobs (Reuters) Reuters - Cingular Wireless will cut about 7,000\\\\jobs, or 10 percent of its work force, to cut costs as it\\\\integrates recently purchased AT T Wireless, the company said\\\\on Tuesday.'), (3, 'Bride of Kazaa Arnold Schwarzenegger married a Kennedy. Michael Jackson married a Presley. And Kazaa married an Internet phone company. Beginning Monday, the latest version of the embattled file sharing companys software '), (2, 'No Sign of El Nino in Pacific for Now - Scientists (Reuters) Reuters - Sea temperatures in the southeastern\\\\Pacific show no sign of bringing extreme \"El Nino\" weather\\\\conditions in the next two months, Peru\\'s Maritime Institute\\\\(IMARPE) said on Tuesday.'), (2, 'Catalina Foxes Back After Near Extinction (AP) AP - A unique subspecies of fox that is about the size of a house cat is back from the brink of extinction on Santa Catalina Island and can survive on its own thanks to a captive breeding program, the head of a nonprofit group that manages most of the island said Tuesday.'), (3, 'Citrix buying VPN company Net6 for \\\\$50 million BOSTON - Citrix Systems is buying Net6, a privately-held maker of SSL (Secure Socket Layer) VPN (Virtual Private Network) technology, for \\\\$50 million cash, Citrix said Tuesday.'), (1, 'JFK killing fades in intensity WASHINGTON: The 41st anniversary of President John F Kennedy #39;s assassination passed on November 22 - a lot more quietly than earlier ones.'), (1, 'Exeter uni cans chemistry department In a move that has been dubbed as  #39;disastrous #39; by the Royal Society of Chemistry, Exeter University is to drop the teaching of chemistry as a subject.'), (3, \"Chicago to Hold EBay Auction to Raise Money for Cultural Programs City officials hope there are people willing to pay plenty of money to own a vintage Playboy Bunny costume, toss green dye into the Chicago River or throw a dinner party prepared by Oprah Winfrey's chef.\"), (3, 'SEO #39;s Multiplying Effect on Paid Inclusion Paid inclusion (PI) has always been a hot potato. It #39;s not quite SEO (define) and not quite search advertising. No one wants to touch it.'), (3, 'A U.S. brain drain? A drop in engineering degrees combined with a fall-off in foreign students matriculating at U.S. colleges spells big trouble ahead.'), (1, 'Poison Toads Leap Across Australia Small, warty, and poisonous enough to kill crocodiles, the cane toad has wreaked havoc in parts of Australia. Experts say climate change is benefiting the invasive species.'), (3, 'U.S. Rules Out Dam Removal for Salmon Recovery (Reuters) Reuters - A Bush administration decision to\\\\eliminate the possibility of removing dams to save endangered\\\\U.S. Pacific Northwest salmon species is a huge blow to\\\\protection efforts, an environmental group said on Wednesday.'), (3, 'Fellowship of the Customized  Ring Tone In a short time, in a public way -- while on Metro, or in line at Starbucks, or inside a movie theater -- ring tones signal who you are. Or who you want people to think you are.&lt;FONT face=\"verdana,MS Sans Serif,arial,helvetica\" size=\"-2\" color=\"#666666\"&gt;&lt;B&gt;-The Washington Post&lt;/B&gt;&lt;/FONT&gt;'), (3, 'Christmas clash over gift choices Children would like expensive hi-tech gifts for Christmas, but few parents are happy to buy these, research suggests.'), (1, \"Iraq's Neighbors to Get Little for Environment Loss (Reuters) Reuters - Iraq's neighbors want tens of billions\\\\of dollars for environmental damage done in the 1990-1 Gulf\\\\conflict, but are set to get only paltry funds from the United\"), (1, 'Big Television Remember Neo #39;s dilemma in The Matrix? Morpheus offers him two views of reality, extending a blue pill in his left hand and a red one in his right.'), (3, \"Supreme Court Hears Wine Sales Case Winemakers who want to ship directly to consumers across state lines got a sympathetic hearing at the Supreme Court today, as the justices heard oral arguments in a case that could have a dramatic effect on Internet commerce and states' power to regulate the alcohol trade.\"), (3, \"China's Lenovo to buy IBM's PC business TOKYO - China's Lenovo Group Ltd. signed a definitive agreement on Wednesday to acquire IBM Corp.'s personal computing division. Lenovo will pay US\\\\$1.25 billion in cash for the business, which is expected to transform it into the world's number three PC maker, the companies announced.\"), (1, 'Hawks Evicted From New York City Perch (AP) AP - Pale Male the city hawk was evicted from his nest, and the flap has already begun.'), (3, \"Nortel to file restated results next year Nortel Networks said today that after months of trying to untangle faulty financial results, it won't file its 2003 and first-half 2004 results until early next year.\"), (3, \"Disney takes sides in battle for next generation DVD (AFP) AFP - Hollywood movie powerhouse Walt Disney has taken sides with Japan's Sony Corp. in a bitter battle between studios to define a technical standard for next generation DVDs, it said.\"), (2, 'Large Gambian Rats Worry Fla. Officials (AP) AP - The Florida Keys, already dealing with invasive exotics from melaleuca to iguanas, have added another to the list of unwanted newcomers: the African Gambian pouch rat.'), (3, \"Google Founders Interviewed by Barbara Walters Google Founders Interviewed by Barbara Walters\\\\\\\\Google's founders, Larry Page and Sergey Brin, were interviewed last night by Barbara Walters on ABC's 20/20 10 Most Fascinating People. Andy Beal who doesn't seem to be too fond of Barbara Wawa pointed this out on his SearchEngineLowdown blog. I was too busy eating ...\"), (2, \"Video Games Used to Relax Kids in Hospital (AP) AP - Letting children play video games on a Game Boy in the operating room before undergoing surgery can help relax them better than tranquilizers or holding Mommy's hand, researchers say.\"), (3, 'Nextel, Sprint Talk Merger Nextel Communications Inc. and Sprint Corp. are negotiating a possible merger, according to a source familiar with the discussions.'), (2, 'Playstation 3 to arrive spring 2006 In Japan NVIDIA HAS MADE A big noise about Playstation 3 deal but unfortunately you won #39;t see this console any time soon. Nvidia stock holders definitely know about Sony and its Playstation 3 killer business and therefore Nvidia is recovering on the stock market.'), (3, 'Sources: Sprint, Nextel closing in on \\\\$36B deal Sprint Corp. is in advanced talks to buy Nextel Communications Inc. for more than \\\\$36 billion in a mostly stock deal, sources familiar with the situation said today.'), (3, 'Disney takes sides in battle for next generation DVD Hollywood movie powerhouse Walt Disney has taken sides with Japans Sony Corp in a bitter battle between studios to define a technical standard for next generation DVDs, it said.'), (2, \"The Kid Stays in His Home, Dressed in PJ's, With a Live Mike Robert Evans, the fabled Hollywood producer and man about town, will be enjoying his latest gig, as a satellite radio talk-show host, from the comfort of his home.\"), (3, 'Oracle to Acquire PeopleSoft Oracle Corp. announced today it has signed a definitive merger agreement to acquire PeopleSoft Inc. for approximately \\\\$10.3 billion. &lt;FONT face=\"verdana,MS Sans Serif,arial,helvetica\" size=\"-2\" color=\"#666666\"&gt;&lt;B&gt;-AP&lt;/b&gt;&lt;/font&gt;'), (2, \"Travel Column: Australia Through Aboriginal Eyes This week's TravelWatch column profiles Anangu Tours, an Aborigine-owned tour company in Australia's Red Center.\"), (3, 'US Supreme Court To Hear File-Sharing Case WASHINGTON -- The US Supreme Court will take up one of the key arguments about the use of file-sharing services. The justices will consider whether peer-to-peer Internet file-sharing services can be held responsible '), (3, 'Toys Will Be Toys Trust me, you don #39;t want to see desperate parents shopping over the holidays. I was at Circuit City (NYSE: CC) last week and saw a mother pleading with a sales clerk for a Nintendo DS portable video game system.'), (3, \"Orbitz's Michael Sands Is Named President (AP) AP - Travel-reservations Web site Orbitz Inc. Tuesday said it named its former chief marketing officer, Michael Sands, as president.\"), (3, \"Bond game fails to shake or stir GoldenEye: Rogue Action fails to deliver on the promise of its name and struggles to generate the original's massive sense of fun.\"), (2, \"King Pong Draws Fans Spike TV's Video Game Awards Show attracts big-name celebrities and bands but gives the fans the votes.\"), (1, 'Report: Amount of fine-particle pollution drops significantly LOS ANGELES - Concentrations of one of the most dangerous air pollutants have declined in most of the country in the last five years, especially in Southern California and the Southeast, according to a report released by the US Environmental Protection '), (2, 'Last minute name change for Nvidia #39;s new GeForce 6200 with &lt;b&gt;...&lt;/b&gt; PCI Express allows Nvidia to tap into system memory to save expensive on-board graphics memory and achieve high performance at the same time.'), (3, \"MicroStrategy Turnover Draws Analyst Scrutiny MicroStrategy Inc. said yesterday that president and chief financial officer Eric F. Brown had resigned and that founder Michael J. Saylor would again hold the company's top three jobs, prompting some analysts to raise concerns about the company's stock.\"), (3, 'R.I.P. Gary Webb -- Unembedded Reporter The finest journalist ever to get fired for telling the truth is dead at age 49. The official cause of death on the death certificate will be suicide. But, as we shall see, he had much help getting to that point. The story of the life and death of Gary Webb says much about the state of American politics and what passes as \"journalism\" in today\\'s America. '), (3, 'A Distraction as a Deadline Approaches As the holidays approach, Christmas spirit is a bargain-hunting essential.'), (3, 'Apple #39;s iPod in short supply Apple Computer Inc. #39;s iPod digital music players are in short supply at US retailers including Amazon.com Inc. and Best Buy Co.'), (3, 'Cisco invests \\\\$12 million in Japan R amp;D center On Thursday, the company announced it will invest \\\\$12 million over the next five years in a new research and development center in Tokyo.'), (3, 'This week in merger news This week saw three merger deals worth about \\\\$60 billion--including one that ranks as the largest software merger in history.'), (3, \"U.S. Army aims to halt paperwork with IBM system The U.S. Army has struck a deal with IBM and other companies to create an automated record-keeping system that ends the need for electronic forms to be printed out, signed and delivered up the military service's chain of command.\")], 1: [(4, 'Man Sought  #36;50M From McGreevey, Aides Say (AP) AP - The man who claims Gov. James E. McGreevey sexually harassed him was pushing for a cash settlement of up to  #36;50 million before the governor decided to announce that he was gay and had an extramarital affair, sources told The Associated Press.'), (4, \"Politics an Afterthought Amid Hurricane (AP) AP - If Hurricane Charley had struck three years ago, President Bush's tour through the wreckage of this coastal city would have been just the sort of post-disaster visit that other presidents have made to the scenes of storms, earthquakes, floods and fires.\"), (3, \"India's Tata expands regional footprint via NatSteel buyout (AFP) AFP - India's Tata Iron and Steel Company Ltd. took a strategic step to expand its Asian footprint with the announcement it will buy the Asia-Pacific steel operations of Singapore's NatSteel Ltd.\"), (2, 'Jackson Squares Off With Prosecutor SANTA MARIA, Calif. - Fans of Michael Jackson erupted in cheers Monday as the pop star emerged from a double-decker tour bus and went into court for a showdown with the prosecutor who has pursued him for years on child molestation charges...'), (2, 'Live: Olympics day four Richard Faulds and Stephen Parry are going for gold for Great Britain on day four in Athens.'), (4, \"Fischer's Fiancee: Marriage Plans Genuine (AP) AP - Former chess champion Bobby Fischer's announcement thathe is engaged to a Japanese woman could win him sympathy among Japanese officials and help him avoid deportation to the United States, his fiancee and one of his supporters said Tuesday.\"), (2, 'U.S. Misses Cut in Olympic 100 Free ATHENS, Greece - Top American sprinters Jason Lezak and Ian Crocker missed the cut in the Olympic 100-meter freestyle preliminaries Tuesday, a stunning blow for a country that had always done well in the event.    Pieter van den Hoogenband of the Netherlands and Australian Ian Thorpe advanced to the evening semifinal a day after dueling teenager Michael Phelps in the 200 freestyle, won by Thorpe...'), (2, 'Mr Downer shoots his mouth off Just what Alexander Downer was thinking when he declared on radio last Friday that  quot;they could fire a missile from North Korea to Sydney quot; is unclear. The provocative remark, just days before his arrival yesterday on his second visit to the North Korean ...'), (3, 'Stocks Climb on Drop in Consumer Prices NEW YORK - Stocks rose for a second straight session Tuesday as a drop in consumer prices allowed investors to put aside worries about inflation, at least for the short term.    With gasoline prices falling to eight-month lows, the Consumer Price Index registered a small drop in July, giving consumers a respite from soaring energy prices...'), (3, 'Oil prices bubble to record high The price of oil has continued its sharp rise overnight, closing at a record high. The main contract in New York, light sweet crude for delivery next month, has closed at a record \\\\$US46.75 a barrel - up 70 cents on yesterday #39;s close. '), (3, \"Google Lowers Its IPO Price Range SAN JOSE, Calif. - In a sign that Google Inc.'s initial public offering isn't as popular as expected, the company lowered its estimated price range to between \\\\$85 and \\\\$95 per share, down from the earlier prediction of \\\\$108 and \\\\$135 per share...\"), (3, 'Future Doctors, Crossing Borders Students at the Mount Sinai School of Medicine learn that diet and culture shape health in East Harlem.'), (3, \"Stock Prices Climb Ahead of Google IPO NEW YORK - Investors shrugged off rising crude futures Wednesday to capture well-priced shares, sending the Nasdaq composite index up 1.6 percent ahead of Google Inc.'s much-anticipated initial public offering of stock.    In afternoon trading, the Dow Jones industrial average gained 67.10, or 0.7 percent, to 10,039.93...\"), (2, 'Putin faults Georgia on  #39;90s tactics in 2 regions TBILISI, Georgia The separatist conflicts in Georgia resulted from the  quot;foolish quot; move by Georgia to strip South Ossetia and Abkhazia of their autonomous status during the Soviet collapse, President Vladimir Putin of Russia was quoted as saying on ...'), (3, 'Iraq Oil Exports Still Halved After Basra HQ Attack  BAGHDAD (Reuters) - Iraq continued to export oil at one  million barrels per day on Friday after an attack on the South  Oil Company headquarters took sabotage operations to a new  level, an official at the state-owned entity said.'), (3, 'Producer sues for Rings profits Hollywood producer Saul Zaentz sues the producers of The Lord of the Rings for \\\\$20m in royalties.'), (3, \"Crude Price Spike May Send Gas Higher (AP) AP - Amid soaring crude oil prices, gasoline costs have been dropping. But don't expect that to last, economists say.\"), (4, \"Republican Convention Light on Stars (AP) AP - The Republicans will have one sure Hollywood star for their convention  #151; California Gov. Arnold Schwarzenegger  #151; along with performers to keep the country music fans happy. But they'll be hard-pressed to match the Democratic convention's appeal to young voters led by Ben Affleck.\"), (2, \"Unknown Nesterenko Makes World Headlines (Reuters) Reuters - Belarus' Yuliya Nesterenko won the top\\\\women's athletics gold medal at the Olympics on Saturday,\\\\triumphing over a field stripped of many big names because of\\\\doping woes to win the 100 meters.\"), (2, 'Greek weightlifter awaits verdict Greek weightlifter Leonidas Sampanis will find out on Sunday if he is to be stripped of his medal.'), (3, 'A Founding Father? Give the guy some credit. Tung Chee-hwa, Hong Kong #39;s embattled Chief Executive, gets precious little of it from his people these daysand heaps of '), (2, \"U.S. Softball Team Wins, Closes in on Gold ATHENS, Greece - Right now, the Americans aren't just a Dream Team - they're more like the Perfect Team. Lisa Fernandez pitched a three-hitter Sunday and Crystl Bustos drove in two runs as the Americans rolled to their eighth shutout in eight days, 5-0 over Australia, putting them into the gold medal game...\"), (2, \"Men Set for Sizzling Duel in 100 Meters ATHENS, Greece - The preliminaries in the 100 meters were perhaps just a sample of what's to come Sunday, when a talented group of qualifiers - including Americans Shawn Crawford, Justin Gatlin and defending champion Maurice Greene - will try to turn their competition into the fastest show at the Athens Games.    Five men broke 10 seconds in qualifying Saturday, led by Crawford's time of 9.89...\"), (3, 'Senate Republican Unveils Plan for Intelligence The plan would give the proposed national director responsibility for intelligence-gathering of the C.I.A. and the Pentagon.'), (2, \"U.S. Men's Hoops Team Finally Gets a Rout ATHENS, Greece - The Americans got a taste of what it was like in the good ol' days. They finally played an opponent they were able to beat easily, routing Angola 89-53 Monday in their final preliminary game of the Olympic men's basketball tournament...\"), (2, 'Mich. Elephant Gets Therapy for Arthritis ROYAL OAK, Mich. - Like any patient, Wanda needs positive reinforcement to wrestle through her physical therapy...'), (2, ' #39;Somebody please save my dad #39; Nick du Toit #39;s wife and stepdaughter are distraught that there is nothing they can do to help him. On Monday his stepdaughter, Marilise Bezuidenhout, was forced to convey the news of his possible death sentence '), (3, 'Update 1: Passengers Stranded by Canceled Flights Thousands of disgruntled vacationers were stranded at Heathrow Airport Tuesday after British Airways canceled scores of flights because of staff shortages and technical hitches.'), (3, \"India's Tata makes powerful debut Shares  in Indian software services giant Tata Consultancy close 16 higher on their market debut, raising \\\\$1.2bn for the company.\"), (2, 'Bryant Prosecutors Say Some Data Tainted DENVER - Crucial DNA evidence tested by defense experts in the Kobe Bryant sexual assault case might have been contaminated, prosecutors said in a court filing released Wednesday, just two days before jury selection is to begin.    Prosecutors said they had found contamination in DNA \"control\" samples intended to ensure testing was accurate...'), (2, 'Jones Advances in Long Jump; Johnson Out ATHENS, Greece - Marion Jones made her Athens debut in virtual anonymity, quietly advancing to the long jump final. Allen Johnson had the attention of everyone in the stadium, for all the wrong reasons...'), (2, 'Bush Makes Fourth Trip of Year to N.M. (AP) AP - The ranks of independent voters in New Mexico have grown by nearly 20,000 in the last 10 months, a prize pulling President Bush and rival John Kerry to the state again and again.'), (2, \"Dream Team Leads Spain 44-42 at Halftime ATHENS, Greece - As expected, the U.S. men's basketball team had its hands full in a quarterfinal game against Spain on Thursday...\"), (4, 'Spears\\' Fiance to Star in Her New Video NEW YORK - Britney Spears\\' former backup dancer and current fiance Kevin Federline can add another title to his resume: co-star.    On Wednesday, a Jive Records publicist confirmed Federline is featured in Spears\\' upcoming \"My Prerogative\" video, set to debut in mid-September...'), (2, \"US edge out Brazil for gold The United States beat Brazil 2-1 in extra time to win the women's Olympic football tournament.\"), (2, \"Breast scans 'fail' in some women Some women with breast cancer are less likely to have their tumours picked up by scans, say experts.\"), (3, 'Vote 2004 - a guide to the primary Get ready for the primary with the Herald-Tribunes special news section profiling all the federal, state and local candidates in races in Tuesdays election.'), (3, 'US economic growth slips to 2.8 Annual US economic growth fell to 2.8 in the second quarter of 2004, marking a slowdown from the 3 estimated a month ago.'), (4, \"Japanese Utility Plans IPO in October (AP) AP - Electric Power Development Co., a former state-run utility, said Friday it is planning an initial public offering on the Tokyo Stock Exchange in October, a deal that could be the country's biggest new stock listing in six years.\"), (2, \"Argentina Beats U.S. Men's Basketball Team Argentina defeated the United States team of National Basketball Association stars 89-81 here Friday in the Olympic semi-finals, dethroning the three-time defending champions.\"), (4, 'Hurricane Watch Issued for Gaston Off S.C. COLUMBIA, S.C. - A hurricane watch was issued for the South Carolina coast Saturday as forecasters predicted Tropical Storm Gaston would make landfall near Charleston on Sunday night...'), (2, 'Carnival crowds likely to top 1m As the Notting Hill Carnival enters its final day, police say they are pleased with how it has gone so far. About 250,000 people took to the streets on Sunday - more than double the first day last year - to celebrate 40 years of the west London event.'), (3, 'Vietnam Marks Independence with Pardons for Prisoners  HANOI (Reuters) - Vietnam has released nearly 9,000  prisoners, including 10 inmates whose cases it says had drawn  international attention, as part of traditional pardons granted  ahead of independence celebrations on September 2.'), (3, 'Japan should outsource more The Japanese information services industry clocked up sales of 13,703.9 billion yen in fiscal 2001, according to a report on selected service industries for 2001 released by the Ministry of Economy, Trade and Industry (METI).'), (2, 'Maddux Wins No. 302, Baker Wins No. 1,000 Greg Maddux pitched the Chicago Cubs into the lead in the NL wild-card race and gave Dusty Baker a win to remember. Maddux threw seven shutout innings for his 302nd career win, Baker got his 1,000th victory as a manager and Chicago beat the Montreal Expos 5-2 on Monday night...'), (4, 'Paris Tourists Search for Key to \\'Da Vinci Code\\' (Reuters) Reuters - A funny thing happened on the way to the\\\\Mona Lisa. Visitors to the Louvre museum in Paris, home of the\\\\world\\'s most famous painting, started quizzing tour guides\\\\about Dan Brown\\'s best-selling novel \"The Da Vinci Code.\"'), (3, \"Republican Convention Dogged by Relentless Protests (Reuters) Reuters - Five thousand people protesting high\\\\job losses formed a 3 mile unemployment line in Manhattan on\\\\Wednesday and AIDS activists disrupted a Republican meeting on\\\\the third day of the party's convention to nominate the\\\\president to a second term in office.\"), (2, \"Davenport Advances at U.S. Open NEW YORK - Lindsay Davenport's summer of success stayed on course Thursday when the fifth-seeded former U.S. Open champion defeated Arantxa Parra Santonja 6-4, 6-2 and advanced to the third round of the season's final Grand Slam event...\"), (3, 'Medicare Premiums to Rise Record 17 Pct. WASHINGTON - Medicare premiums for doctor visits are going up a record \\\\$11.60 a month next year. The Bush administration says the increase reflects a strengthened Medicare, while Democrats complain that seniors are being unfairly socked...'), (3, 'ASEAN moves closer to single market with  #39;road map #39;, global trade &lt;b&gt;...&lt;/b&gt; JAKARTA : ASEAN finance ministers ended a meeting which saw Southeast Asia edge closer to a Europe-style single market, laying out a  quot;road map quot; for integration and opening doors to wider global trade.'), (4, 'Clinton Has Successful Quadruple Bypass NEW YORK - Bill Clinton underwent a successful quadruple heart bypass operation Monday to relieve severely clogged arteries that doctors said put the former president at grave risk of suffering a heart attack.    Clinton is expected to make a full recovery, but doctors said he was fortunate to have checked himself into the hospital when he did...'), (3, 'Stocks Drop After Greenspan Testimony NEW YORK - Investors were unmoved by Federal Reserve Chairman Alan Greenspan\\'s improved assessment of the economy, with stocks falling narrowly Wednesday in light trading.    While Greenspan said the economy has \"regained some traction\" after the summer\\'s slowdown, he echoed Wall Street\\'s concerns over energy prices, which have fallen from record highs in recent weeks but stubbornly remain above \\\\$40 per barrel...'), (3, 'Charting East Asias milestones IT is a special honour for me to be speaking before such a distinguished gathering, including my illustrious predecessor and his colleagues from Korea and Japan who are all well-known for their visionary ideas and as proponents of East Asian cooperation.'), (2, 'Colts Lead Pats Early in Third Quarter FOXBORO, Mass. - Peyton Manning reached the 25,000-yard passing mark faster than anyone but Dan Marino, and the Indianapolis Colts shredded the New England Patriots for a 17-13 halftime lead Thursday night...'), (4, \"Telescope snaps distant 'planet' The first direct image of a planet circling another star may have been obtained by a US-European team of astronomers.\"), (2, \"Collingwood anchors England (AFP) AFP - Paul Collingwood's unbeaten 80 took England to 299 for seven against Zimbabwe in their opening Champions Trophy Pool D match at Edgbaston here.\"), (4, 'Early Voters Transform Campaign Landscape (AP) AP - In an election year when just a few thousand votes in a few states could decide the winner, the growing number of voters who cast ballots weeks before Election Day is transforming the landscape for political campaigns.'), (2, 'Conditions in Ohio Point to Kerry, but Bush Runs Strong Everything seemed to be in place for a powerful run by John Kerry in Ohio after Labor Day. Yet polls suggest that Mr. Kerry has actually lost ground.'), (2, 'At Last, Success on the Road for Lions The Detroit Lions went three full seasons without winning an away game, setting an NFL record for road futility. They ended that ignominious streak Sunday in their first opportunity of the season, beating the Chicago Bears 20-16 at Soldier Field...'), (2, 'Two Manny dads DAVE Norman, the Sydney police constable who rushed to Jakarta to be with his critically injured daughter Manny Musu, underwent a DNA test to prove he is her biological father.'), (4, \"FDA Approves Lens Implant to Sharpen Sight WASHINGTON - There's a new option for people who suffer from extreme nearsightedness, whose world loses its crisp edge just a few inches from their noses. The first implantable lens for nearsightedness was approved Monday by the Food and Drug Administration...\"), (3, 'German investor confidence slumped in September BERLIN - German investor confidence dropped sharply in September, a key economic indicator released Tuesday showed amid concerns about the impact of high oil prices on consumer demand and the outlook for the global economy.'), (3, 'LETTER FROM EUROPE The All-Too-Human Hitler, on Your Big Screen The release of a major movie about Hitler is, by definition, a remarkable event in Germany, especially if it portrays one of history #39;s great monsters as a human being, given '), (4, 'Labor Allies Want Senate to Block OT Rules (AP) AP - Fresh from their triumph in the House, labor allies want the Senate to derail new Bush administration overtime rules that critics say would prevent 6 million American workers from getting the bonus pay.'), (3, \"Stocks Sink on Coke's Gloomy Forecast NEW YORK - Stocks headed lower Wednesday after beverage giant Coca-Cola Co. issued a gloomy forecast, and a lower-than-expected reading on industrial production for August threw the nation's broader economic outlook into question...\"), (4, 'World Population to Rise to 8.9 Billion Although world families are getting smaller in many regions, the 50 poorest countries are expected to triple in size to 1.7 billion people by 2050, posing many challenges for world countries.'), (4, \"Schooling 'mix up' hits Portugal Schools across Portugal turn away pupils because of a teachers' assignment mix up on the first day of classes.\"), (3, 'What they said about ... ... Cherie Blair Cherie Blair cast aside her treasured privacy this week, touring newspapers offices and television studios to promote The Goldfish Bowl, her new book, which focuses on Downing Street spouses.'), (2, \"Ryder Cup: Europe close on victory Another good day at Oakland Hills sees Europe move 11-5 clear of the USA going into Sunday's Ryder Cup singles.\"), (3, 'Hu top dog, but more of same for now China #39;s new leader is forging ahead with policies set by Jiang, but trouble with Taiwan looms. BEIJING--Having taken over Sunday as chairman of the ruling Communist Party #39;s '), (2, 'India seeks new TV bids The Indian Board re-opens the bidding for TV rights after Australian threaten to cancel their tour.'), (3, \"Stocks Close Higher on Brokerage Earnings NEW YORK - Stocks dashed higher Tuesday as investors welcomed strong earnings from financial services companies, upbeat economic data and some reassuring news from the Federal Reserve.    The Fed's decision to raise short-term interest rates by another quarter-percentage point to 1.75 percent did not come as a surprise to the market...\"), (2, 'No negotiation and no retreat, vows Bush When it came, the statement broadcast by the al-Jazeera Arabic news channel from Qatar was as chilling as it was ghoulish: A second American captive, Jack Hensley, 48, had '), (4, \"Senate Panel Gives NASA Extra Money (AP) AP - NASA would get  #36;16.4 billion next year under a bill a Senate committee approved Tuesday, reversing a decision by House lawmakers to cut the space agency's budget below this year's levels.\"), (3, 'Walking link to low dementia risk Walking may protect the elderly from developing dementia, research suggests.'), (3, 'Asia to outperform this year, lower growth seen in 2005: ADB (AFP) AFP - Developing Asia is set to outperform this year with higher-than-expected growth of 7.0 percent despite high oil prices but it will slow in 2005 in tandem with the developed world, the Asian Development Bank (ADB) said.'), (3, 'Deal in Congress to Keep Tax Cuts, Widening Deficit Republican and Democratic leaders agreed to extend \\\\$150 billion worth of tax cuts sought by President Bush without trying to pay for them.'), (2, 'Terror scares hit Australia Australia #39;s frayed nerves were given another jolt yesterday by the discovery of a home-made firebomb on a Virgin Blue airliner and the unrelated arrest of a man accused of threatening terror attacks in Southeast Asia.'), (3, 'Feed-Tube Law Is Struck Down in Florida Case The court said that Gov. Jeb Bush violated separation of powers when he signed a law to keep Theresa Schiavo alive.'), (4, \"Dogs said to smell cancer signs  LONDON -- It has long been suspected that man's best friend has a special ability to sense when something is wrong with us. Now, the first experiment to verify that scientifically has demonstrated that dogs are able to smell cancer.\"), (3, 'Bush, Kerry Economic Budgets Exceed \\\\$1T WASHINGTON - President Bush and Democratic Sen. John Kerry have starkly different economic priorities with a common thread: price tags exceeding \\\\$1 trillion that could pump already huge deficits skyward over the next decade...'), (3, \"Calif. OKs World's Toughest Smog Rules LOS ANGELES - California air regulators Friday unanimously approved the world's most stringent rules to reduce auto emissions that contribute to global warming - a move that could affect car and truck buyers from coast to coast.    Under the regulations, the auto industry must cut exhaust from cars and light trucks by 25 percent and from larger trucks and sport utility vehicles by 18 percent...\"), (2, \"Dodgers Nip Giants 3-2 in Crucial Series SAN FRANCISCO - Shawn Green can sit out Saturday knowing he was a huge help to the Dodgers during their crucial series against San Francisco. Green hit a two-run homer in Los Angeles' 3-2 victory over the Giants on Friday night, a day before the first baseman will miss a game to observe the Jewish holiday Yom Kippur...\"), (2, 'UN Refugee Chief Tours Sudanese Refugee Camp in Chad The top United Nation refugee official is in Chad, where Saturday, he toured a camp for Sudanese refugees who have fled violence in the western Darfur region.'), (4, 'Men, Women More Different Than Thought CHICAGO - Beyond the tired cliches and sperm-and-egg basics taught in grade school science class, researchers are discovering that men and women are even more different than anyone realized.    It turns out that major illnesses like heart disease and lung cancer are influenced by gender and that perhaps treatments for women ought to be slightly different from the approach used for men...'), (3, 'Jet lands in UK after bomb alert An Olympic Airlines flight on its way from Athens to New York is diverted to Stansted Airport after a security alert.'), (2, 'DEBKAfile Special Analysis Before deporting him to Lebanon in 1991, the late Yitzhak Rabin called Ezz-Eldin Sheikh al-Khalil the snakes head, singling him out as the terror master who raised and handled Hamas most accomplished terror operatives, Adnan al Hool and '), (2, \"Sports Court Hears Hamm Gold Medal Appeal LAUSANNE, Switzerland - Paul Hamm appeared before the sports world's highest court Monday to argue why he should he keep his Olympic gymnastics gold medal.    The Court of Arbitration for Sport convened to hear the appeal from a South Korean gymnast who believes he was unfairly deprived of the gold in the men's all-around event in Athens last month because of a scoring error...\"), (4, 'Holiday Stamps to Be Issued in Oct. (AP) AP - Holiday postage stamps celebrating Christmas, Hanukkah and Kwanzaa will be issued next month, the U.S. Postal Service announced Monday.'), (3, 'Embattled Mortgage Giant Agrees to Meet New Standards Fannie Mae agreed to keep more cash on hand while it corrects accounting problems, a U.S. regulator said.'), (2, 'Cowboys Defeat Redskins 21-18 LANDOVER, Md. - Bill Parcells celebrated the touchdown with a big smile and his fist thrust high in the air...'), (3, 'Nigerian oil flows despite rebel threat-companies Oil should continue to flow from Nigeria, the world #39;s seventh largest exporter, despite a rebel threat to attack foreign oil workers in an  quot;all-out war quot; due to start on Friday, multinational energy companies said.'), (3, 'Oil Companies In Nigeria Say They Won #39;t Give In To Threats Major oil companies operating in Nigeria #39;s oil-rich southern region say they will not give in to threats of attacks on their facilities and employees by militias.'), (3, 'Consumer Confidence Dips in September NEW YORK - Job worries helped push consumer confidence down in September for the second consecutive month, a New York-based private research group said Tuesday.    The Consumer Confidence Index fell 1.9 points to 96.8 from a revised reading of 98.7 in August, according to The Conference Board...'), (4, \"Feds: Syrian Clampdown on Terror Positive (AP) AP - A Syrian crackdown on terror groups would be the best way to halt violence in Syria and promote peace in the Middle East, the State Department said Monday after the assassination in Damascus of a leader of Hamas' bombing unit.\"), (2, \"Official: MLB to Move Expos to Washington WASHINGTON - Major League Baseball will announce Wednesday that Washington will be the new home of the Montreal Expos, bringing the national pastime back to the nation's capital for the first time in 33 years, The Associated Press has learned.    A city official, speaking on condition of anonymity, said Washington has been notified by Major League Baseball of the impending announcement...\"), (4, 'Cricket: Dubai global academy The International Cricket Council are to open a global cricket academy designed to improve standards of lesser nations.'), (3, 'Poor? Who #39;s poor? Poverty is down The proportion of people living on less than \\\\$1 a day decreased from 40 to 21 per cent of the global population between 1981 and 2001, says the World Bank #39;s latest annual report.'), (3, \"Tough Talks Ahead After EU Is Criticized Efforts to forge the world's largest free trade zone between the European Union and South America's Mercosur economic bloc are unlikely to be concluded by an Oct. 31 deadline, the EU said Thursday, with both sides declaring each other's trade offers insufficient.\"), (2, 'POLITICAL POINTS  1:27 PM Sorry Is the Hardest Word It did not go unnoticed among the press corps traveling with President Bush that British Prime Minister Tony Blair apologized this week to fellow Labor Party officials for the fact that, as it '), (3, 'BA flight makes emergency landing in Amsterdam, escorted by F-16 &lt;b&gt;...&lt;/b&gt; A British Airways passenger plane flying from Berlin to London reported an unspecified security threat and made an emergency landing in Amsterdam on Thursday, escorted by two Dutch F-16 jet fighters, the airline said.'), (3, \"EU set to launch 'transit camps' EU ministers agree to set up five pilot reception centres in Africa to process asylum applications.\"), (3, \"Stocks Climb on Strong Economic Data NEW YORK - Newly optimistic investors sent stocks sharply higher Friday, propelling the Dow Jones industrials up more than 100 points, after economic data showed strength in manufacturing and construction. Wall Street greeted the departure of PeopleSoft Inc.'s chief executive by buying up technology shares...\"), (3, 'Russias strange bedfellows Ministers from the Commonwealth of Independent States (CIS) gathered in the Ukrainian capital Kiev on September 29 to formulate a common anti-terrorism strategy.'), (4, 'Bangkok animal trade talks open The rules controlling the trade in many at-risk wildlife species may change at a Bangkok meeting starting on Saturday. The 166 member states of the Convention on International Trade in Endangered Species of '), (3, 'New appointments hint Musharraf to remain COAS after Dec 31 ISLAMABAD: Military analysts have said that after the appointment of new Chairman Joint Chiefs of Staff Committee and Vice Chief of Army Staff it is clear that President General Pervez Musharraf will retain his cap of Chief of Army Staff beyond December 31 '), (2, \"King's Widow Turns Focus on Voting Rights (AP) AP - The widow of Martin Luther King Jr. said the right to vote should be open to everyone in a democracy, including those who have been convicted of crimes.\"), (2, 'Brown calls for Labour unity Chancellor Gordon Brown has sought to quell speculation over who should run the Labour Party and turned the attack on the opposition Conservatives.'), (3, 'Nikkei Opens Higher (Reuters) Reuters - The Nikkei average rose 1.37 percent at\\\\the opening on Monday as a recovery in U.S. stocks encouraged\\\\investors to seek bargains among lagging issues, including\\\\Canon Inc. and other high-tech issues.'), (3, \"Tokyo Stocks Finish 2.6 Percent Higher (AP) AP - Tokyo stocks finished sharply higher Monday, fueled by Wall Street's gains last week. The U.S. dollar was higher against the Japanese yen.\"), (3, \"Halliburton Set for Spotlight in VP Debates (Reuters) Reuters - A name likely to come up in\\\\Tuesday's vice presidential debate is Halliburton, the Texas\\\\company once run by Dick Cheney that Democrats say is an\\\\example of cronyism because of its lucrative Iraq deals.\"), (3, \"Voters Flock to Register by Deadline In a glimpse of what the nation might see a month from now, people lined up at election offices and caused parking lot traffic jams as voter registration deadlines fell Monday in more than a dozen states.    Many officials reported record numbers of new voters, some said they were overwhelmed, and allegations were already flying about fraud and the disqualification of some voters' applications...\"), (4, 'Court Weighs Legal Rights of Mich. Poor (AP) AP - With backing from two-fifths of all states, Michigan asked the Supreme Court on Monday to whether a state can refuse to pay for appeals by indigent defendants who plead guilty to crimes.'), (4, 'Gordon Cooper, NASA Mercury Pioneer, Dies LOS ANGELES - Gordon Cooper, who was the youngest and perhaps cockiest member of the original Mercury astronauts and set the space endurance record that helped clear the way for the first moon landing, has died. He was 77...'), (3, 'Sex Toy Shuts Down Australian Airport A scare triggered by a vibrating sex toy shut down a major Australian regional airport for almost an hour on Monday. The vibrating object was discovered on Monday morning inside a garbage can at the terminal '), (2, 'Tennis: Night final for Aus Open The centenary Australian Open will be the first Grand Slam event to stage its final at night.'), (3, 'Stern to Join Sirius Satellite Radio NEW YORK - Howard Stern has long had two words for the Federal Communications Commission - and in 15 months, he can finally utter them on the air.    The self-proclaimed \"King of All Media,\" perhaps the most influential radio voice of the last 20 years, is shifting his salacious act to satellite radio and freeing himself from the increasingly harsh glare of federal regulators...'), (4, \"Ex-Bush Official on Cybersecurity Returns (AP) AP - Howard Schmidt, a highly regarded technology executive who was former special adviser to President Bush for cybersecurity, is returning to work with the Homeland Security Department on efforts to protect the nation's computer networks.\"), (3, 'Howard Stern Says He Plans to Jump to Satellite Radio After heavy F.C.C. fines, Howard Stern expects to deliver \"my show my way\" in the mostly unregulated medium.'), (3, 'US Cautious On Progress Toward Enriching Uranium The United States is responding carefully to Iran #39;s announcement that it has taken a major step toward enriching uranium, a key ingredient in nuclear weapons.'), (3, 'Kenyan tree planter wins Nobel Peace Prize: report LONDON (CBS.MW) -- Kenyan tree planter and government minister Wangari Maathai has won the Nobel Peace Prize, Agence France-Presse said.'), (3, \"Lackluster Jobs Report Pushes Stocks Down NEW YORK - Investors pushed stocks lower Friday as a surprisingly lackluster job creation report deepened Wall Street's pessimism over the health of the economy. A solid earnings report from General Electric Co...\"), (4, 'On an old road to Damascus: An ancient city finds new life DAMASCUS -- The crowd begins filling the courtyard of Opaline, a trendy restaurant, as late evening teeters toward early morning. Many arrive by golf cart, whisked through alleys to the wooden doors of a centuries-old Arab home within Old City walls.'), (3, \"Study: Few Americans Buy Drugs Online NEW YORK - Only 4 percent of Americans have ever used the Internet to buy prescription drugs - and even fewer do so through foreign pharmacies - despite Web sites maintained by a handful of states to help citizens import medicines more cheaply from Canada, a new study finds.    A majority - 62 percent - believe drugs bought online are less safe than those purchased from a local pharmacy, accepting the federal government's stated concerns in opposing drug imports, the Pew Internet and American Life Project said in a report Sunday...\"), (3, 'Senate Resolves Corporate Tax Bill Delay WASHINGTON - The Senate late Sunday resolved a dispute delaying passage of a sweeping corporate tax bill and two spending bills for disaster relief and homeland security, clearing the way for senators to adjourn Monday to hit the campaign trail.    The agreement removed parliamentary roadblocks thrown up by Sen...'), (3, 'Cellphone Industry Hits Snag as It Woos Untapped Market The mobile phone industry is turning its attention to the last untapped demographic - people over 65.'), (2, 'Ken Caminiti, 1996 NL MVP, Dies at Age 41 NEW YORK - Ken Caminiti, the 1996 National League MVP who later admitted using steroids during his major league career, died Sunday. He was 41...'), (2, \"Legendary all-rounder Miller dies Keith Miller, arguably Australia's greatest  all-rounder in Test cricket, has died in Melbourne aged 84.\"), (2, 'Chicoutimi  #39;was seaworthy #39; A submarine left stranded in the Atlantic after a fire was seaworthy when it left the UK, the Canadian navy has said. The second-hand vessel was sold to Canada by the Royal Navy who earlier denied a refit was botched.'), (3, \"Oil Surges to New Intraday High in Europe (AP) AP - The price of crude oil surged to a new intraday high of US #36;53.42 in European trade Monday, despite assurances from Middle East oil producers that they were committed to bringing the price down as a strike began in Africa's largest exporter.\"), (4, \"Finnish Watchdog Raps TV Game Operators (Reuters) Reuters - Finland's consumer watchdog said on\\\\Monday it had reprimanded broadcasters for causing children to\\\\run up huge mobile phone bills with interactive television game\\\\and chat programs.\"), (2, 'King abdicates after 6 decades King Norodom Sihanouk, known as much for his colorful personality as his controversial statesmanship, has been synonymous with Cambodia #39;s modern history for six decades.'), (3, 'Japan loses whale trade bid A UN meeting has harpooned a Japanese bid to ease curbs on trade in whale products, but a defiant Tokyo accused the West of  quot;cultural imperialism quot; and vowed to press efforts to expand whaling.'), (2, \"Cricket: Tendulkar to miss test Sachin Tendulkar is almost certain to miss Thursday's second Test against Australia in Madras.\"), (3, 'Oil Prices, Earnings Send Stocks Lower NEW YORK - Investors sent stocks lower Tuesday as oil prices crossed another milestone, \\\\$54 per barrel. Earnings reports from heavyweights Johnson   Johnson and Merrill Lynch   Co...'), (3, 'Australia: Wallets trump war A majority of Australians oppose the Iraq war, but they turned out to be more concerned about the economy.'), (3, 'FCC Proposes \\\\$1.2M Indecency Fine for Fox WASHINGTON - Federal regulators proposed a record indecency fine of nearly \\\\$1.2 million Tuesday against Fox Broadcasting Co. for an episode of its reality series \"Married by America\" that included graphic scenes from bachelor and bachelorette parties...'), (2, 'Ljubicic Downs Hanescu at Open De Moselle Top-seeded Ivan Ljubicic of Croatia beat Victor Hanescu of Romania 6-4, 6-4 Tuesday in the first round of the Open de Moselle.'), (2, \"'Sherlock' Is Bicycling Across Australia PERTH, Australia - A former British soccer player raising money for a leukemia charity set off Wednesday on a coast-to-coast ride across Australia on a Victorian-era bicycle that is older than the country.    Leukemia survivor Lloyd Scott dressed up as fictional British supersleuth Sherlock Holmes, complete with tweed coat, deerstalker hat and a fake mustache for the 2,700-mile trip from Perth to Sydney...\"), (3, \"Ban for former Ahold executives Dutch  retailer Ahold's former chairman and its ex-finance officer are barred from executive posts as part of a US fraud case settlement.\"), (3, 'Russian rocket carrying Russian-U.S. crew blasts off for space station (Canadian Press) Canadian Press - BAIKONUR, Kazakhstan (AP) - A Russian rocket carrying a new Russian-U.S. crew to the international space station lifted off from the Baikonur cosmodrome Thursday.'), (3, 'Oil exports flow as strike woes ease A general strike in Nigeria, which has raised fears over oil supply from the world #39;s seventh-largest exporter, will likely end its first phase on Thursday  quot;all going well quot;, union leaders said.'), (4, 'Flight From Hong Kong Diverted in UK LONDON Oct. 14, 2004 - A Virgin Atlantic plane heading from Hong Kong to London was diverted to an airport north of London on Thursday after receiving a bomb threat, police said.'), (2, 'Munro, Morris Face Off in NLCS Game 2 ST. LOUIS - The Houston Astros put their hopes in a pitcher untested in the postseason when they give Pete Munro the ball to start Game 2 of the NL Championship series on Thursday, one night after dropping the opener to the St...'), (3, 'Jewish state fears world isolation An internal report prepared by Israel #39;s foreign ministry paints a gloomy picture for the future of the country #39;s global standing, giving warning that in the coming decade it could '), (3, \"September Retail Sales Up by 1.5 Percent WASHINGTON - Shoppers got their buying groove back last month, propelling sales at the nation's retailers by a strong 1.5 percent. It was the best showing since March...\"), (3, 'For Many Airline Pilots, the Thrill Is Gone While pilots still feel in command in the air, they increasingly are feeling slighted on the ground, as airlines extract salary and benefits concessions from them.'), (2, 'Warne takes six but India establish handy lead (Reuters) Reuters - World test wicket record holder Shane Warne grabbed six wickets as India established a handy 141-run first innings lead in the second test on Saturday.'), (4, \"Calif. Mental Health Services May Expand (AP) AP - As pressures increase on California's mental health system, its workers and advocates say they are forced to do more with a supply of money that seems to shrink each year.\"), (3, 'Stocks Edge Higher As Oil Prices Retreat NEW YORK - A sharp drop in oil prices gave Wall Street a modest relief rally Monday, with stocks edging higher on news that oil production had soared during the month of September.    Investors who have sold stocks for months as oil prices climbed reversed course Monday and started buying as the price of crude declined...'), (2, \"USC, Miami Top BCS Standings, Not Okla. Southern California took the top spot Monday in the season's first Bowl Championship Series standings, and surprisingly Miami is ahead of Oklahoma in a close race for the second spot.    Oklahoma is No...\"), (2, 'Glazer stake in Man Utd nears 30 US tycoon Malcolm Glazer lifts his stake in Manchester Utd to 28.11, one day after spending 17m on  further share buys.'), (4, \"Ancient fungus 'revived' in lab Fungus from a deep-sea sediment core that is hundreds of thousands of years old will grow when placed in culture, scientists discover.\"), (4, \"Feds Mum on Pre-Election Terror Threat (AP) AP - FBI, Justice Department and Homeland Security Department officials aren't talking much about the threat of a terrorist attack to disrupt the election in two weeks.\"), (3, 'Russia wants new business partnership with old ally India (AFP) AFP - Russia is seeking a new economic partnership to boost a decades-old friendship with India, envisaging sophisticated arms sales, high-end technology swaps and political support on the world stage.'), (3, \"Kids Opt for Kerry in Bellwether Online Poll (Reuters) Reuters - The kids have spoken, and it's Sen.\\\\John Kerry with a convincing victory over President Bush on\"), (2, 'Cricket: Pakistan edge ahead Pakistan take a slim lead over Sri Lanka by the end of the day two in the first Test.'), (3, \"'Wrong kind of fall' for Castro The US declines to wish Fidel Castro a speedy recovery after he fractures bones in a fall at a public ceremony.\"), (4, \"EU launches graphic tobacco ads The European Commission launches graphic images showing the damage smoking can do to people's health.\"), (3, 'Revolving Door  &lt;em&gt; IN&lt;/em&gt;&lt;br&gt;   Aylwin B. Lewis,  president of Yum Brands, as chief executive of Kmart.'), (3, \"Hynix's 3Q Profit More Than Triples (AP) AP - South Korea's Hynix Semiconductor Inc. said Monday its third-quarter net profit more than tripled from same period last year thanks to steady global prices for memory chips.\"), (3, 'Castro Appears on TV Wearing an Arm Sling Five days after falling and fracturing a knee and an arm, Cuban President Fidel Castro appeared on television on Monday with his arm in a sling to announce Cuba will end circulation of the US dollar.'), (4, '\\\\$70 Billion Increase in War Funding Sought The Bush administration intends to seek the emergency funding for the wars in Iraq and Afghanistan early next year, officials said on Monday.'), (2, 'Australia 362-7 v India, third test - close (Reuters) Reuters - Australia were 362 for seven wickets at the close of play on the first day of their third cricket test against India on Tuesday.'), (3, 'EU Head Office Trims 2005 Growth Forecast (AP) AP - The European Union\\'s head office issued a bleak economic report Tuesday, warning that the sharp rise in oil prices will \"take its toll\" on economic growth next year while the euro\\'s renewed climb could threaten crucial exports.'), (3, \"BHP Billiton, Alcoa sell Integris Metals for 359 million pounds (AFP) AFP - Anglo-Australian mining giant BHP Billiton and Alcoa, the world's largest aluminium producer, have agreed to sell their metal services joint venture Integris Metals for 660 million dollars (359 million pounds) including debt, a joint statement said.\"), (4, \"Black Market in British Treasure Sold on EBay (Reuters) Reuters - Pieces of Britain's past, including a\\\\second-century silver ring and a 500-year-old Tudor trade\\\\weight, are among artifacts being peddled daily on the Internet\\\\to the alarm of experts at the British Museum.\"), (4, 'Japanese rescuers grapple with rocks to retrieve girl from quake &lt;b&gt;...&lt;/b&gt; TOKYO - Rescuers grappled through mud and rocks for a second day Thursday in the hope of finding a three-year-old girl trapped in a crushed car since Japans killer earthquake last weekend.'), (2, 'At least five dead in Russia mine blast  quot;At 9:45 am (2:45 am British time) we received the signal for a methane blast. At the time, a 45-strong repair team was working in that.'), (4, 'Stability Control Systems Can Save Lives (AP) AP - Stability control systems could save up to 7,000 lives each year if they were standard equipment on all vehicles, according to a study by the insurance industry.'), (3, 'Remark on Homosexuality Delays Seating of European Panel The European Union #39;s normally yawn-inducing institutions raised eyebrows on Wednesday when a spat over comments about homosexuality made by an Italian bureaucrat led to the '), (2, 'As Drama Plays Out, Mixed Feelings for Arafat #39;s Neighbors No crowds of well-wishers massed Thursday outside the Mukata, the mostly ruined compound where Yasser Arafat has been confined for the past two years.'), (3, \"EU Clears Flextronics Purchase of Units (AP) AP - European Union regulators Friday cleared Singapore's Flextronics International Ltd., the world's largest contract electronics manufacturer, to acquire factories from Canada's Nortel Networks Corp.\"), (2, 'THE UNFOLDING UNIFORM Pakistan is inherently unstable. Dealing with them is like playing with matches in a forest. - Larry Pressler. That statement from Larry Pressler, made during his recent visit to India, coincided with '), (3, 'Volkswagen May Be Close to Settling Its Wage Talks Volkswagen and its workers entered a critical week in their wage negotiations on Monday, with signs that a compromise was taking shape even as protests flared at factories across Germany.'), (3, 'UAE Founding Father Buried, Elder Son Likely Successor ABU DHABI, November 3 (IslamOnline.net  amp; News Agencies) - Arab and Muslim leaders converged on Abu Dhabi Wednesday, November 3, and joined the people of the United Arab Emirates in burying Sheikh Zayed bin Sultan Al-Nahayan, president and founding father '), (3, 'New EU Executive Chief Announces Revamped Team The incoming head of the European Union #39;s executive body has announced changes to his group of commissioners and says he is ready to go to the European Parliament to seek its approval of his team.'), (2, 'Argentina Basketball Coach Magnano Quits Ruben Magnano, who coached Argentina to the Olympic basketball gold medal in Athens, resigned Thursday to accept a coaching job in Italy.'), (3, \"Japan Airlines Sees Profit on Int'l Travel (AP) AP - Japan Airlines Corp. said Friday that it returned to profitability in first half of the fiscal year as international travel picked up from a decline a year ago caused by the war in Iraq and the SARS outbreak in Asia.\"), (2, 'Silence the loose cannons The US presidential election is finally over! Now the hard part begins. I #39;m not talking about getting North Korea back to the negotiating table; that will come soon enough.'), (3, 'Colombia Accuses Cos. of Illegal Imports The Colombian government has filed a lawsuit accusing Pernod Ricard SA, Diageo PLC and Seagram Export Sales Co. of illegally importing spirits via Colombian companies that launder drug money.'), (3, 'Cocoa prices down but Ivorian exports still blocked World cocoa prices were down on Tuesday but off the day #39;s lows as exports remained on hold after mob violence and military clashes in Ivory Coast, the key global supplier, traders said.'), (4, 'The Bag of Aeolus  quot;Aeolus was keeper of the winds. He gave a bag of evil winds to Odysseus, instructing him to keep it closed while a good breeze wafted him home.'), (4, 'Scotland awaits smoking decision The Scottish Cabinet is to meet amid signs  it will opt to introduce a ban on smoking in public places.'), (3, 'US welcomes speech by Taiwan president WASHINGTON -- The State Department is welcoming what it describes as  quot;the positive and constructive points quot; in a speech on China policy by Taiwanese President Chen Shui-bian.'), (3, \"China's inflation rate slows sharply but problems remain (AFP) AFP - China's inflation rate eased sharply in October as government efforts to cool the economy began to really bite, with food prices, one of the main culprits, showing some signs of slowing, official data showed.\"), (3, 'BSkyB sees profits rise after strong subscriber growth (AFP) AFP - British satellite broadcaster BSkyB said profit rose by 16 percent in the first quarter as the group enjoyed strong subscriber growth in the run-up to the key Christmas trading period.'), (2, \"Vilsack, Dean Jockey for Top DNC Post (AP) AP - Iowa Gov. Tom Vilsack told Democratic leaders on Friday he may seek the party's top job as the jockeying to replace chairman Terry McAuliffe intensified.\"), (2, \"Panama Assures Rumsfeld on Canal Security  PANAMA CITY, Panama (Reuters) - Panama's security chief  told Defense Secretary Donald Rumsfeld on Saturday the Central  American nation was working to prevent any terror attack that  might close the Panama Canal.\"), (3, \"Safety Group Closely Echoes Rail Industry Documents show that the nation's most influential rail-safety group is tightly bound to the railroad industry.\"), (4, 'India launches rural aid project India launches a \\\\$445m food-for-work programme aimed at tackling hunger in poor rural areas.'), (3, 'Dow Jones Agrees to Buy MarketWatch in \\\\$519 Million Deal Dow Jones   Company, the publisher of The Wall Street Journal, has agreed to buy MarketWatch, the parent company of the financial news Web site CBS MarketWatch, for approximately \\\\$519 million, the companies said today.'), (4, 'Man Sets Himself on Fire Near White House (AP) AP - A man set himself afire Monday just outside a White House gate and repeatedly yelled \"Allah Allah\" as a Secret Service officer held him facedown on the sidewalk.'), (4, \"Microsoft open new software development unit in India (AFP) AFP - Microsoft said it will join with India's second-largest software firm, Infosys Technologies, to provide software and consulting to manufacturing, banking and automobile companies.\"), (3, 'Swimmer, 77, believed killed in shark attack CAPE TOWN -- A great white shark estimated to be at least 18 feet long attacked and presumably killed an elderly South African woman yesterday off a beach near Cape Town, officials said. Tyna Webb, 77, who lived in the area, was swimming off Sunny Cove in Fish Hoek when the massive shark circled her and then attacked, witnesses and ...'), (4, 'Quietly, tide of opinion turns on Chechen war Although discussion of the war has been marginalized, many experts say Russians may not prefer it that way.'), (3, 'Argentina gets China investment China is to invest nearly \\\\$20bn (11bn) in Argentina over the next 10 years, Argentine officials say.'), (3, 'Producer Price Surge Fuels Inflation Fears Producer prices surged 1.7 percent in October, their sharpest monthly increase in nearly 15 years.'), (2, 'We have to learn to be patient on Indian pitches: Smith (AFP) AFP - South African skipper Graeme Smith said his team had to learn to be patient on slow pitches if they hoped to do well in an upcoming two-Test series against India.'), (3, \"ConocoPhillips boosts LUKoil stake to 10 percent (AFP) AFP - US oil major ConocoPhillips has boosted its stake in Russia's second-largest oil producer LUKoil to 10 percent, giving Conoco at least one representative on LUkoil's board.\"), (3, \"Is More Aid Needed to Solve Africa's Woes? (Reuters) Reuters - American economist Jeffrey Sachs\\\\has a novel way to tackle African poverty: Shower more aid on\\\\the world's poorest continent.\"), (4, 'Swedes beam poetry into outer space (Reuters) Reuters - Swedish poets have broadcast their work into outer space by radio to give alien life forms -- if they exist -- a taste\\\\of earthling literature.'), (3, 'APEC Ministers Urge New Effort on Trade Talks Pacific Rim trading nations said on Wednesday they should pool their influence to energize talks to free up world trade. As trade and foreign ministers from the 21-member Asia-Pacific '), (4, 'Nursery rhymes more violent than TV (Reuters) Reuters - Children\\'s nursery rhymes contain 10 times more violence than television shows broadcast before the\\\\9 p.m. \"watershed\" after which more adult content can be shown, research has said.'), (4, \"India desperate for jobs, infrastructure despite economic boom (AFP) AFP - Despite India's economic boom in software and outsourcing services, economists have warned the government needs more reforms to create jobs in manufacturing to cut poverty.\"), (4, 'Police Chief Backs Using Force Against Intruders Britains top police officer today called for an urgent updating of the law to protect householders who use force to defend their homes against criminals - even if it involves killing the intruder.'), (3, 'A Bit of Wall St. on the Tigris The 150 brokers and traders on the Iraq Stock Exchange are not waiting for the war to end, buying and selling orders a few hundred yards away from the fighting.'), (2, \"Football: Brazil legend's UK debut Brazil football great Socrates is set to make his debut for non-league Garforth Town on Saturday.\"), (2, 'World\\'s oldest man dies aged 113 The world\\'s oldest man, who gave up  driving at 108 because \"slow drivers annoyed him\", dies at 113.'), (3, 'Halliburton leading contender in construction of British aircraft carriers: report (AFP) AFP - Halliburton, the oil services giant once run by US Vice President Dick Cheney, has emerged as a leading contender to manage the construction of two British aircraft carriers, The Sunday Telegraph said.'), (2, 'Blunkett gets tougher on drugs New police powers to prosecute offenders for possession if they test positive for drugs when they are arrested, even if the only drugs they have are in their bloodstream, are to be announced this week.'), (3, 'Ivory Coast violence deals economic blow Burned, looted shops dot the commercial capital. European airlines have suspended flights. And only a few ships remain in what was one of West Africa #39;s busiest ports.'), (4, 'Forgoing stiff upper lip, Charles jousts with critics LONDON: In an unusual departure from the tradition of regal silence and the stiff upper lip, Prince Charles fought back Monday against accusations by a government minister who called his views on education  quot;old fashioned quot; and  quot;out of time.'), (3, 'EasyGroup close to launching low-cost mobile phone service (AFP) AFP - EasyGroup, the holding company of no-frills British airline easyJet, is close to striking a deal to launch a low-cost mobile telephone service in Britain, the Financial Times reported.'), (4, 'British Media: Security Stopped Several Major Terrorist Attacks A British television station and a newspaper are reporting that British security services believe they have thwarted several major attacks planned by terrorists linked to Osama bin Laden #39;s al-Qaida organization.'), (4, 'US-Israel ties hang on Palestinian Vote In a pace-setting adventure next January that could herald a new beginning in the Middle East or spell disaster for all is the election of a Palestinian successor to the charismatic Yasser Arafat and a new Baghdad regime that could bring to an end the '), (4, \"Forecast Frosty for U.S.-Canadian Ties   TORONTO -- The weather won't be the only thing that's cool when President Bush visits neighboring Canada next week.\"), (2, 'India test-fires missile NEW DELHI, Nov 26: India on Friday test fired Akash, the indigenously developed surface-to-air missile from the Integrated Test Range at Chandipur-on-sea, about 14km from Balasore (Orissa).'), (4, 'SAY NEIGHBORS #39; WEAPONS LEAVE THEM VULNERABLE Electrical engineering student Roozbeh Rahimi reflects a common sentiment among Iranians when he expresses hope that this famous tourist city will gain fame soon for its nuclear technology.'), (4, \"FDA OKs Scientist Publishing Vioxx Data (AP) AP - The Food and Drug Administration has given a whistle-blower scientist permission to publish data indicating that as many as 139,000 people had heart attacks that may be linked to Vioxx, the scientist's lawyer said Monday.\"), (3, 'Rwandan  #39;motivated by riches #39; Ouagadougou - Rwanda #39;s threat to launch military strikes in Democratic Republic of Congo would be motivated by the abundant mineral wealth in its giant western neighbour not by the desire to attack Hutu fighters based there, a Congolese diplomat said here '), (3, 'Colombia reveals plot to assassinate Bush Colombian rebels plotted to assassinate George Bush during his brief stopover in the port of Cartagena last week, according to the country #39;s defence minister.'), (4, 'Toshiba claims Hollywood backing in war for next DVD standard (AFP) AFP - Toshiba said four major Hollywood studios had thrown their crucial weight behind High Definition DVD (HD-DVD), one of two disc formats contending to be the standard in next-generation DVDs.'), (3, 'Anxious wait for whale rescuers RESCUE workers will know this morning if their attempts to save whales beached yesterday on Maria Island, off Tasmania #39;s east coast, were successful.'), (2, 'Pentagon Disputes Red Cross Criticism (AP) AP - A Pentagon spokesman said Monday that Red Cross officials have \"made their view known\" that the indefinite detention of terror suspects at Guantanamo Bay, Cuba, amounts to torture.'), (2, \"Swedes Blast Gov't Response to Tsunami (AP) AP - Hours after a tsunami flattened south Asia beaches  #151; a magnet for thousands of vacationing Swedes  #151; the Swedish foreign minister went to the theater.\"), (3, 'Renault unveils investment plan for Asian hub in South Korea (AFP) AFP - French auto giant Renault SA said it will invest some 570 million dollars in South Korea over the next three years as part of its global strategy to become a key player in Asia, notably China.'), (3, 'Chercher dans toute l #39;actualit Italy ground to a halt as millions of workers observed a general strike in protest against the economic policies of Prime Minister Silvio Berlusconi #39;s centre-right government.'), (3, 'Panel Urges N.Y. to Pay \\\\$14 Billion More for City Schools Court-appointed referees recommended the state pay an additional \\\\$14 billion over four years to improve New York City schools.'), (4, 'EPA May Conduct Human Tests for Chemicals (AP) AP - In setting limits on chemicals in food and water, the Environmental Protection Agency may rely on industry tests that expose people to poisons and raise ethical questions.'), (4, \"Murdoch novel reveals Alzheimer's The last novel by the author Iris Murdoch reveals the first signs of Alzheimer's disease, experts say.\"), (4, 'Why 2004 was the year of the blog A US dictionary publisher declares \"blog\" as one of the words of the year.'), (3, 'Turkey eyes \\\\$15 billion investment years ANKARA: Turkey is hoping to attract \\\\$15 billion of foreign investment between 2005 and 2007 through reforms designed to overhaul its economy and ease the country #39;s entry into '), (3, \"India's low-cost airline eyes business travel (AFP) AFP - India's pioneer low-cost carrier Air Deccan plans to raise 50 million dollars in private equity by shedding a 26 percent stake and also aims to enter the corporate business jet segment, its chairman said.\"), (2, \"England's Lawyers Try to Get Photos Thrown Out Lawyers for Pfc. Lynndie R. England sought Wednesday to throw out evidence at the heart of the Abu Ghraib prison scandal -- the now-infamous photos showing her smiling and pointing at naked Iraqi detainees.\"), (2, 'Bad weather blamed for Indon crash BAD weather was the main cause of an accident which killed 26 people aboard an airplane whose spoiler did not work well, Indonesian investigators said today.'), (2, 'HAYLEY MICK: Hayley Mick is a journalist currently based in Vancouver. She has broadcast experience with CBC Radio #39;s Quirks and Quarks and has reported for the Vancouver Sun, CBC Online, and the Canadian Press #39;s Ontario and Vancouver bureaus.'), (4, \"Eureka! Has Australia found its 'defining moment'? Friday is the 150th anniversary of Eureka Day. For some Australians, it's their Boston Tea Party.\"), (2, 'Activist\\'s Daughter Speaks Against Castro (AP) AP - Her political activist father is her hero and Sayli Navarro wants to follow in his footsteps  #151; at any cost. The soft-spoken, articulate teenager was just 6 when her father went to prison the first time, for posting signs reading \"Down with Fidel.\"'), (3, 'Court Hears Interstate Wine Sales Case (AP) AP - The Supreme Court considered Tuesday whether state alcoholic beverage regulations put in place 70 years ago, after Prohibition was lifted, should remain the law of the land in the Internet age.'), (4, 'Justices hear cases on shipping wine (USATODAY.com) USATODAY.com - States that block direct shipments of wine to consumers from out-of-state wineries faced skeptical comments from Supreme Court justices on Tuesday.'), (3, \"Schwarzenegger Vows to Defend Emissions Law Toyota, General Motors and seven other automakers filed suit to block California's new greenhouse gas regulation, which was approved by the state in September.\"), (4, \"Amazon Burning Makes Brazil a Leading Polluter &lt;p&gt;&lt;/p&gt;&lt;p&gt; By Axel Bugge&lt;/p&gt;&lt;p&gt; BRASILIA, Brazil (Reuters) - Burning of the Amazon andother forests accounts for three quarters of Brazil'sgreenhouse gas emissions and has made the country one of theworld's leading polluters, a long-delayed government reportshowed on Wednesday.&lt;/p&gt;\"), (3, \"Snow to Stay on With Bush, Principi Exits (AP) AP - Treasury Secretary John Snow, an aggressive champion of the administration's economic policies, accepted President Bush's offer Wednesday to remain in the Cabinet.\"), (4, 'Plant a tree at Easter urges Nobel laureate world to plant trees at Easter as a symbol of renewal and to protect the planet. planted, quot; Maathai told Reuters Television in Oslo, where she received the 2004 Nobel Peace Prize.'), (3, \"German court rules out Barbie monopoly (AFP) AFP - Germany's federal court of justice ruled against giving Barbie a monopoly in the themed doll market, saying that a German rival called Steffi Love had every right to compete with her.\"), (2, 'Powell for Arab democracy but Middle East no ready convert IT WAS first unveiled to the world as the American dream for spreading democracy right across the Middle East. But by the time US secretary of state Colin Powell came to launch the administrations  quot;big '), (4, 'Poes condition worsens--doctors (2nd UPDATE) MOVIE actor Fernando Poe Jr. #39;s condition has deteriorated, according to a bulletin his doctors issued on Monday. He is still in a coma and has multiple organ system involvement.'), (3, 'Homeless families total 100,000 The figure for homeless families in England has topped 100,000 for the first time.'), (2, \"Bangladesh boss slams detractors Bangladesh's coach says they still deserve Test status after their 30th defeat, to India.\"), (4, \"Week's delay for Delta launcher Boeing's new heavy-lift Delta 4 rocket must wait a further week before making its maiden flight.\"), (3, \"Bush Selects E.P.A. Head to Be Secretary of Health With the selection of Michael O. Leavitt, a former governor of Utah, the shape of the cabinet in President Bush's second term has become clear.\"), (4, 'Daily Mail hits back at Blunkett The Daily Mail today dismissed David Blunkett #39;s claim that the media played a role in his downfall, saying he only had himself to blame.'), (4, \"Britons still prefer fish n'chips (AFP) AFP - Traditional fish-and-chips along with cherished pub grub remain the dishes of choice for Britons outstripping Chinese or Indian take-aways.\"), (3, 'FEC Elects Chairman, Vice Chairman (AP) AP - The Federal Election Commission on Thursday elected a new chairman and vice chairman, choosing as its leaders two members who pushed unsuccessfully for tougher limits on partisan political groups.'), (4, \"Boys 'cured' with gene therapy  Gene therapy can cure children born with a condition that knocks out their natural defences against infection, mounting evidence shows.\"), (4, 'Mars water tops science honours The discovery that salty, acidic water once flowed across the surface of Mars has topped a list of the 10 key scientific advances of 2004.'), (2, \"Democrat Seeks to End Iowa, N.H. Power (AP) AP - If Simon Rosenberg decides to run for Democratic Party chairman, he won't be able to count on much support from Iowa and New Hampshire.\"), (3, 'Pricey Drug Trials Turn Up Few New Blockbusters The \\\\$500 billion drug industry is stumbling badly in its core business of finding new medicines, while aggressively marketing existing drugs.')], 2: [(4, 'Bobcats Trade Drobnjak to Hawks for Pick (AP) AP - The Charlotte Bobcats traded center Predrag Drobnjak to the Atlanta Hawks on Monday for a second round pick in the 2005 NBA draft.'), (4, 'Buckeyes have lots to replace but are brimming with optimism There are remarkable similarities between the 2004 Ohio State Buckeyes and those that won the national championship just two years ago. '), (1, 'China Sighs in Relief as Yao Scores High BEIJING (Reuters) - China breathed a measured sigh of relief after the skills of its basketball giant Yao Ming dwarfed New Zealand to sweep his team nearer to their goal of reaching the Athens Olympics semi-finals. '), (4, 'Sprint is chock full of potential heros It would be nice to see this week #39;s 100-meter sprint as simply the best footrace of all time. We could witness four sub-10-second sprints for the first time ever. It would be nice to watch with raised eyebrows instead of furrowed ones. It ...'), (1, 'Cricket-Lara mulls over future after England whitewash LONDON (AFP) - Brian Lara said he will take stock before deciding on his future as West Indies captain following his side #39;s 10-wicket defeat to England in the fourth and final Test.'), (1, 'Glory Comes Amid Empty Seats and Closed Shutters HERE in Old Europe, people install shutters outside their windows to keep out the heat, the pollution, the daylight, the noise. They also lock the shutters tight when they go away on holiday.'), (1, \"11th-hour highlights too late NBC's prime-time Olympic coverage is taped and shaped, the television version of a Reader's Digest condensed book. We get all the US highlights, the big news stories, and a well-edited drama building to the 11 p.m. hour. It's a formula that's been proven to hold an audience and pull ratings. The big downside: You have to stay up until midnight ...\"), (3, 'Gregg: I will help to close deal EVERTON chairman Bill Kenwright #39;s plans for a Russian revolution at Goodison Park may have thawed the cold war with director Paul Gregg.'), (4, \"Anticipation nation LINCOLN, Neb. -- Carly Simon got it right a generation ago.AN-TI-CI-PA-TION. She wasn't singing about college football, but out here in the heartland of America, as Husker Nation prepares for a new season, the sense of anticipation is enormous.\"), (4, \"A great catch? Lobsters How does he like lobster? Boiled, steamed, broiled, baked, grilled? Newburg? Bahar Uttam prefers his with a capital L -- Lobsters -- and sees them frolicking on a tennis court rather than laid out on a plate. In Uttam's mind lurks a tasty dish for the town's sporting crowd, one that could satisfy the five-year hunger of tennis junkies, a ...\"), (1, 'United States 66, Russia 62 Frustrated by fouls, turnovers and a feisty opponent, the United States desperately looked for help. Then along came Sheryl Swoopes to set things right.'), (1, 'Khan urged to stay amateur British boxing sensation Amir Khan is being urged to shun a big-money move to the professional ranks, whether he wins or loses his shot at Olympic gold on Sunday.'), (1, 'Britain Edges U.S. for 400M Relay Gold (AP) AP - Stymied by a sloppy handoff in the middle of the race, the United States lost to Great Britain by a hundredth of a second Saturday night in the 400-meter relay  #151; a race the American men usually dominate.'), (1, 'Mr. Chang, Strike a Pose Halfway around the world, standing virtually in the middle of the Pacific Ocean, the incomparable Timmy Chang is just days away from throwing his first pass of the season. From my tattered sofa, I will be watching him. I want you to watch him, too.'), (4, \"Francis Nixes Hurricanes' Front Office Job (AP) AP - Ron Francis turned down a front-office job with the Carolina Hurricanes and is still deciding whether he wants to continue his playing career.\"), (4, 'Compete against your friends, SI experts and celebrities in this &lt;b&gt;...&lt;/b&gt; OWINGS MILLS, Maryland (Ticker) --  quot;Prime Time quot; has decided this is the right time to return to the NFL. Deion Sanders, regarded as perhaps the most electrifying cornerback in league history, arrived here '), (1, \"Couch, Gildon, Levens Among NFL Cuts (AP) AP - Tim Couch's stay in Green Bay was short and unproductive.\"), (1, 'CRICKET: Kaspa has selectors in a bind MICHAEL Kasprowicz has put national selectors into a difficult situation with a five-wicket burst that has enhanced Australia #39;s hopes of snatching a maiden Champions Trophy in London this month.'), (1, '2 charged after Chicago area pals are slain in NC tragedy Ever since they met in fourth grade, Brett Johnson Harman and Kevin McCann were as close as brothers.  quot;They had the same mannerisms, the same kind of humor, and they even looked alike, quot; said McCann #39;s father, Dennis McCann.'), (4, 'Super powers make move on September BUOYED by ever-increasing crowd figures and television ratings, rugby union yesterday announced a significant expansion of the southern hemisphere season which includes an assault on the traditional September AFL and NRL finals series.'), (1, 'Florida deaths blamed on Hurricane Frances State and local officials Tuesday said nine people have died in Florida because of Hurricane Frances. The following describes those deaths: - A 15-year-old grandson and a former son '), (1, 'The Week: No. 1 at Last water running over a rock, wind ripping across a sand dune, the ocean washing up against the shore. Whatever the image, for the last three years Vijay Singh has been the '), (4, 'Bonds\\'s Excuse Has the Scent of Snake Oil, Not Arthritis Balm Barry Bonds\\'s ignorance of the substances obtained by his trainer from Balco is more childish than a youngster\\'s excuse that \"the dog ate my homework.\"'), (4, 'Wind-Aided Delay May Be Plus for Pitt (AP) AP - The rainy remnants of Hurricane Frances forced Pittsburgh to practice inside in advance of its delayed season opener.'), (1, \"Shanghai Readies for Rockets-Kings Game (AP) AP - Built in the days of Mao Zedong's 1966-76 Cultural Revolution, Shanghai's rundown city gymnasium is getting the full NBA treatment for next month's exhibition game between the Sacramento Kings and the Houston Rockets.\"), (1, 'ESPN Soccernet.com news services CARSON, Calif. -- The Los Angeles Galaxy signed forward Alan Gordon on loan from the Portland Timbers of the A-League on Friday. A Galaxy selection in the 2004 MLS SuperDraft, the club will have the option '), (1, 'Cal Extends Tedford California Bears head coach Jeff Tedford agrees to a five-year contract extension through 2009 on Monday.'), (3, 'Tyncastle sale gets official go ahead Of the votes received by proxy and from shareholders in the room at a stormy extraordinary general meeting last night, 62.5 were in favour of the resolution.'), (4, \"GM Plans to Use Woods More Creatively (AP) AP - General Motors Corp. is thrilled that Tiger Woods will promote Buick for the next five years, but GM chairman Rick Wagoner says the automaker could make better use of the world's best-known golfer.\"), (1, 'More Troubles For Howard Tim Howard was  quot;horribly at fault quot; and  quot;had another bad night, his dreadful error leading to Lyon #39;s first goal quot; in Champions League action.'), (4, 'Icing call Out of money, out of patience, out of time, and for the foreseeable future, out of business.'), (4, '** For the latest news, please refresh this page regularly ** What #39;s up? I see the whole world has their eyes on the Oscar vs. Bernard fight. My thought is Oscar is coming off with an upset.'), (1, 'Europe Puts U.S. in Big Hole at Ryder Cup (AP) AP - Backed by the clutch performance from its English rookies and reliable play from Sergio Garcia and Lee Westwood, Europe put the United States in another huge hole Saturday by taking an 11-5 lead at the Ryder Cup and making victory Sunday seem like a mere formality.'), (4, 'Pitchers finally getting job done? At least it #39;s a start This is a mirage or a sight to behold. This is something you can #39;t trust with your own eyes, or maybe what you #39;re watching is real.'), (4, 'Bonds Takes Stock The distraction of another milestone is gone, and Bonds is preparing himself to play every game for the rest of the season.'), (1, 'Han wins Safeway in playoff Hee-Won Han stumbled her way into a playoff last month, then stumbled in the playoff and lost. On Sunday at Columbia Edgewater Country Club, she did the opposite, making a clutch birdie on the final hole of '), (1, 'Washington chooses a stadium site for Expos The DC Sports and Entertainment Commission outlined its plans Tuesday night in a meeting with city government officials. An official involved in the process, speaking on condition of anonymity, told The Associated '), (4, 'Clash of the unpredictables: WI-Pak tie What would happen when two of the worlds most talented and unpredictable sides rub shoulders and that too in an ICC Champions Trophy semi-final?'), (4, \"CBS Fined  #36;550,000 for Jackson Stunt (AP) AP - CBS got the bill Wednesday for Janet Jackson's eye-catching flash dance during the Super Bowl halftime show: a record  #36;550,000.\"), (4, 'Hodge called up as Ponting returns home Victorian batsman Brad Hodge has been called in to the Australian Test squad in India, as a replacement for injured captain Ricky Ponting.'), (1, 'Mass. court denies new trial for convict BOSTON -- The state appeals court on Thursday declined to allow a new trial for a father convicted of beating a man to death at their sons #39; hockey practice.'), (3, 'World awaits Chinese Grand Prix A quarter of a billion dollars to build the track. Tens of millions in racing fees. More than 150,000 live spectators and a television audience of hundreds of millions.'), (1, \"Mountain climbers The Big East is under siege again. Oh, it's not as overt as the move by the Atlantic Coast Conference two years ago, which went on a membership drive, targeting Miami, Syracuse, Boston College, and eventually Virginia Tech.\"), (1, 'Boro left feeling Blue Accepting mediocrity has been part and parcel of following Middlesbrough over the years, yet this campaign was supposed to bring something new.'), (3, 'Robby Gordon Planning to Proceed With Caution Robby Gordon plans to join the oil spills, the tire chunks, the sharp pieces of debris and the other typical racetrack hazards on Sunday.'), (3, 'Court to hear case in gymnastics flap One way or another, Paul Hamm #39;s gold-medal odyssey is about to end. Whether he gets to keep the medal and the title he won a month ago in the Olympic men #39;s gymnastics all-around will be up to the sporting world #39;s highest authority.'), (4, '49ers #39; home to be renamed Monster Park after stereo cable company Some fans think 44-year-old Candlestick Park is already a dinosaur. Now the San Francisco 49ers #39; home stadium has the name to match.'), (1, 'Judge Clears Release of Kobe Evidence (AP) AP - A judge cleared the way for the release of documents and other evidence in the Kobe Bryant sexual assault case on Wednesday.'), (1, 'Glory days long gone for Roy Jones What a shocker! The great Roy Jones lying unconscious on the canvas for five minutes. And who was the man who put him there? Unlikely light-heavyweight journeyman Glen Johnson - who, by his own admission, isn #39;t that flash.'), (1, 'Singer: Minaya returns home NEW YORK -- Omar Minaya stood behind a small lectern in a danky room in the bowels of Shea Stadium, and allowed his life to flash before his eyes.'), (4, 'THIERRY HEELS THE WOUNDS THE MARK of brilliance is to produce the unexpected. The proof of genius is to do it time and again. Thierry Henry is a brilliant genius.'), (4, 'Loeb looks for home comforts SEBASTIEN LOEB is dreaming of a title- winning homecoming after moving a step closer to the world championship in the Italian Rally.'), (1, 'Rijkaard - has suffered Edmilson blow Barcelona have been stunned by the news that Brazilian centre-half Edmilson will be out of action for at least six months with a knee injury.'), (4, 'ESPN.com news services Six months ago, Scottie Pippen issued a  quot;This is probably it for me quot; declaration, that last season was looking more and more like his last in an NBA uniform.'), (1, \"Els Looks Ahead with Promise After Major Woes  LONDON (Reuters) - After being a frustrated 'nearly man' at  this year's majors, Ernie Els plans to make the most of a  near-perfect finish to the 2004 season.\"), (1, \"Emotional rescue for Jones Jacque Jones sprinted all the way around the bases, as if he couldn't wait to share the moment.\"), (1, 'UPDATE 3-Clarke cracks debut 151 as India collapse Michael Clarke hit a sparkling 151 on his debut and a revitalised Glenn McGrath then ripped the heart out of India #39;s batting as Australia took command of the first test on Thursday.'), (1, ' #39;Hawks primed to finally surpass Rams Editor #39;s note: ESPN senior NFL writer John Clayton #39;s weekly  quot;First And 10 quot; column takes you around the league with a look at the best game of the week followed by primers for 10 other games.'), (4, 'MUTV: We #39;re giving balanced picture MUTV bosses have hit back strongly at allegations of bias levelled against them by a group of Manchester United supporters. United #39;s official television station was targeted by fans who disrupted live coverage of the reserve-team match at Altrincham.'), (4, 'American Crocker Sets Short Course World Record  INDIANAPOLIS (Reuters) - Ian Crocker of the United States  set a short course world record of 22.71 seconds in the 50  meters butterfly at the world championships on Sunday.'), (4, \"Signing of Teenage Racer Raises Questions (AP) AP - Next October, Chase Austin will finally be old enough to drive to the grocery store by himself. By then, though, he'll also have a full season of stock car racing under his belt.\"), (1, 'Yao Rested and Ready for Kings Again (AP) AP - Yao Ming is refreshed. After a demanding few days in his hometown for the first NBA game in China, the Houston Rockets center has had some time to unwind since arriving in Beijing.'), (4, \"Ramirez should be taking it to heart When it comes down to this, when it's worse than you could have possibly imagined, if you are any kind of ballplayer at all, you look within and ask yourself what you can do to make it better.\"), (4, 'Glazer buys more Man United shares American business tycoon Malcolm Glazer has increased his stake in Manchester United by buying another 17million worth of shares in the club.'), (1, 'Leggy models wont distract Corretja MADRID: Leggy models as ballgirls won #39;t be a distraction to family man Alex Corretja after the veteran moved into the second round of the Madrid Masters yesterday.'), (1, 'Shakhtar to beat Celtic twice, bets Marica Donetsk, Ukraine, Oct. 20 -- Shakhtar Donetsks Romanian teenage forward Ciprian Marica believes his sides strong team spirit will see them beat Celtic twice in the UEFA Champions League.'), (1, 'Freddie #39;s goal rage FED-UP Freddie Ljungberg says Arsenal must stop letting in stupid goals or face another season of Euro heartache. The disappointed Swede reckons the Gunners have already wasted a golden opportunity '), (1, 'City Series-ly wounded With the Yanks out of the World Series, the city #39;s economy loses out on at least \\\\$40 million, according to studies by the controller #39;s office and other city agencies.'), (1, 'Wolfpack, Canes Clash at Carter-Finley Since becoming NC State #39;s head football coach in January of 2000, Chuck Amato has endeavored to change the culture of a program that had rarely flirted with greatness.'), (1, 'Starting for Cardinals Has Privileges St. Louis is a collection of superstar position players and anonymous pitchers.'), (4, 'Cards all hearts Ten outs away from winter, knowing a 105-win magic-carpet ride was about to hit the runway way too soon. Ten outs away from winter, and the St.'), (1, 'UM defense a big hit from start to finish Markus Curry made the hit low, Ernest Shazor made the hit high and Leon Hall leapt for the football as it wobbled freely toward the University of Michigan sideline.'), (4, 'Long and short of a rivalry that was Five years may not seem a whole lot, but consider what has happened since the last time the Green Bay Packers played the Dallas Cowboys prior to today #39;s meeting.'), (4, 'Another controversial Man Utd-Arsenal game Mount St. Helen #39;s in Oregon has been active these last few months but that is nothing compared to the eruption at Old Trafford on Sunday.'), (1, \"NASCAR mourns plane crash victims Crews on all-terrain vehicles yesterday recovered the bodies of all 10 people killed in the crash of a Hendrick Motorsports plane that was carrying family and friends of one of NASCAR's top syndicates.\"), (1, 'Miss Peru takes Miss World crown Twenty-year-old Miss Peru has been crowned Miss World in a southern Chinese resort town, as China looks to become the regular host of an event that would have once been deemed heretical by its Communist leaders.'), (1, 'Sainsbury Ultimatum to Leeds Sebastian Sainsbury warned Leeds United chiefs today they face the stark choice of accepting his 25million bid or selling Elland Road.'), (4, 'New Englanders greet the day with wings on their heels In a Framingham coffee shop yesterday morning, an elderly man softly asked a customer if he could see her newspaper. When the woman held up the front page, emblazoned with news of the Red Sox victory, the man stared in silence, touched his eyes, and began to cry.'), (4, 'Times to Scrap Broadsheet Edition The Times is to scrap its broadsheet edition and go tabloid from Monday, it was confirmed today. The decision was made after a trial run of the compact edition proved a success, said editor Robert Thomson.'), (4, \"Ghostzapper Has Speed to Burn GRAND PRAIRIE, Tex.&lt;br&gt;The most brilliant American racehorse in years has labored in relative obscurity until now. But when he runs Saturday in the Breeders' Cup Classic at Lone Star Park, Ghostzapper can demonstrate his talent to the world and, quite possibly, win the horse-of-the-year...\"), (1, 'Gators may be hungover before Cocktail Party ike the bourbon and beer, emotions tend to spill over in this traditional grudge match along the St. Johns River they call  quot;The World #39;s Largest Outdoor Cocktail Party.'), (4, 'New memories warm heart of this Bosox fan Is it really true? Did it really happen? Or was that just the figment of some Boston Red Sox fanatic #39;s wild imagination? Did the Red Sox really win the World Series for the first time since 1918 by sweeping the St.'), (1, 'Cast-aside candidates grab onto Sox coattails By Raphael Lewis and Benjamin Gedan, Globe Staff and Globe Correspondent  October 31, 2004. Republican state Senate candidate Rod Jane of Westborough woke up yesterday with a plan to grab some attention from '), (1, 'Australian Bookies Gutted After Betting Splurge AUSTRALIA - As reported by the Sydney Morning Herald:  quot;The biggest betting plunge in recent memory ensured bookmakers at Randwick were  #39;stripped out #39; of more than \\\\$3 million by Makybe Diva #39;s Melbourne Cup romp yesterday.'), (1, 'Army To Meet Navy In Sprint Football WEST POINT, NY - Army #39;s sprint football team will conclude its 2004 campaign Friday evening when the Black Knights take on Navy with the Collegiate Sprint Football League title hanging in the balance.'), (1, 'Lehigh Downs Hoyas Mark Borda throws four touchdown passes and Lehigh wins its seventh straight game, 49-18, over Georgetown.'), (1, 'Cricket-Sri Lanka #39;s wicketkeeper calls it quits COLOMBO (AFP) - Sri Lanka #39;s wicketkeeper Romesh Kaluwitharana has announced his retirement from international cricket after being left out of the squad for next month #39;s tour to New Zealand.'), (1, \"Jet-Lagged Clarke Tied for Lead in Japan  GOTEMBA, Japan (Reuters) - Britain's Darren Clarke shook  off the effects of jet-lag and a hectic schedule to fire a  six-under-par 66 for a share of the first-round lead at the  Taiheiyo Masters Thursday.\"), (1, 'Italy: Sicilian derby ends in draw PALERMO, Nov 11 (SW) - After a 39-year wait for a Serie A Sicilian derby, the match between Palermo and Messina on Thursday managed only a 0-0 draw.'), (3, 'Boston archbishop reveals anguish of closings BOSTON Boston #39;s Archbishop is telling catholics that the church #39;s financial footing is  quot;much worse than people realize.'), (1, 'No. 6 Duke Tops South Fla. in Women #39;s NIT Duke #39;s Wanisha Smith (23) celebrates a Duke basket along side assistant coach LaVonda Wagner during the second half of the second round of the Pre-Season Women #39;s National Invitational Tournament on Sunday, Nov. 14, 2004 in Durham, NC No.'), (4, 'Instant Analysis: Va Tech at Miami For so many years, so many big games, and so many white-knuckle moments, the Miami Hurricanes have made the last minute of a football game their close friend.'), (1, 'Norman looking to post a low score Greg Norman will be looking to post a low score to give the leaders a target in the final round of the Australian PGA Championship at Coolum #39;s Hyatt Resort, north of Brisbane.'), (1, 'Wardian, Feldman Right at Home in Parks Marathon Michael Wardian rounded the corner onto Woodmont Avenue in Bethesda, smiling broadly and waving to the cheering crowd. Making his way to the finish line, Wardian ran comfortably, looking more like someone finishing a training run rather than a race.'), (4, 'Ford underlines committed to motorsport. Despite confirming the successful sale of both Jaguar Racing and its Cosworth engine company to new owners, Ford Motor Company has stressed that it remains committed to supporting motorsport at all levels.'), (1, \"SEC's Gaston Admits Official Missed Call (AP) AP - The Southeastern Conference's supervisor of officials said an LSU player should have been called for pass interference on a pivotal interception against Alabama.\"), (3, 'INSIDE INFO: Man Utd shares drop MAN UNITED #39;S share price has fallen by just over 2.5, less than expected after the resignation of Malcolm Glazer #39;s bankers JP Morgan.'), (4, 'Honda aiming for BAR buyout? Motorsport.com. Reports this week suggest that Honda is aiming to either buy BAR or become co-owner of the team by purchasing a shareholding.'), (1, 'Spain hunts for fans who racially abused England players The Spanish government responded to diplomatic pressure from Britain yesterday by starting a search for fans who racially abused England players during a  quot;friendly quot; football match with Spain.'), (1, 'Westwood Closes in on First Title of 2004  SUN CITY, South Africa (Reuters) - Briton Lee Westwood  closed in on his first title of 2004 when he claimed the  third-round lead in the Sun City Golf Challenge Saturday.'), (4, 'Sugar Shane Not so Sweet (November 21, 2004). Ronald Winky Wright successfully defended his 154 lb. title for the sixth time in the highly anticipated rematch with the formerly sweet Sugar Shane Mosley '), (3, 'Mosley Unable to Escape Winkys Jab Las Vegas, NV: You have to give credit to Sugar Shane Mosley. For the second time in his career, the former world champion valiantly tried to reverse a thorough beating by jumping headfirst into an immediate rematch.'), (1, 'Arrowhead: It still is pointing the way In comparison to its contemporaries it could be termed a modern marvel, an example of how to do things right when everyone else was doing things wrong.'), (1, 'Madrid miffed! The organisers of Madrid #39;s bid complained that Paris had broken the rules by using France #39;s embassies in Oslo and Kuwait to hold events to promote its candidacy, the newspaper said.'), (3, 'Sixers-Wizards matinee doesn #39;t disappoint Still home in Philly for the Thanksgiving holiday, we decided to hit the Sixers/Wizards matinee yesterday. One of the best decisions we #39;ve made in a long time.'), (4, 'Knicks: Crawford hits the one that counts The old axiom is that it doesn #39;t matter how many shots you miss; if you #39;re a shooter, you have to keep shooting. Jamal Crawford missed 21 shots against the Atlanta Hawks last '), (1, 'Co-stars nearly steal show IT was a match that didn #39;t run to the script but this is the land where life often imitates the silver screen. And for 64 minutes yesterday the USA Tomahawks were pure Hollywood '), (4, \"Judge Declines to Dismiss Steroid Case (AP) AP - A judge declined to dismiss charges against four men accused of distributing steroids to top athletes amid accusations that prosecutors illegally searched a nutritional supplement lab and the house and car of Barry Bonds' trainer.\"), (4, 'Judge declines to dismiss BALCO case A federal judge said Wednesday that she would not immediately dismiss charges against four men accused of distributing steroids to top athletes.'), (4, \"Lewis University Put on Probation (AP) AP - Lewis University of Division II was put on four years' probation for an array of infractions that included its men's volleyball team, which won a national title last year the school has since forfeited.\"), (1, 'Hawks soar over Blue Stars The Division 4 Super Bowl last night featured two teams coming off 180-degree turnarounds.'), (4, 'UPDATE 1-Australia survive NZ flurry to square series Australia withstood a late flurry of exciting strokeplay from pace bowler Kyle Mills to beat New Zealand by 17 runs in Wednesday #39;s second limited-overs international to square their best-of-three series at 1-1.'), (1, 'Anti-Doping Agency Is Boosted By Ban of Sprinter in Balco Case The United States Anti-Doping Agency received an important validation yesterday in its attempt to punish athletes who were suspected of doping in the Balco steroids scandal but who had not failed a drug test.'), (3, 'Report Says N.H.L. Will Reject Proposal The N.H.L. appears poised to reject a proposal made by the players union, which included a 24 percent reduction in pay and other concessions but not a hard salary cap.'), (4, 'Connors rallying cry for British tennis  quot;Do you have it in your heart? How much guts do you have? How much do you hate to lose? quot;. These are the questions Jimmy Connors will be asking of Britain #39;s brightest tennis hopes in the months, and possibly years, to come.'), (4, 'The Newest Hope ; Marriage of Necessity Just Might Work Out NEW YORK - The TV lights were on, the cameras rolled and the symphony of cameras flashing in his face blinded Pedro Martinez - but not for long.')], 3: [(4, 'Intel to delay product aimed for high-definition TVs SAN FRANCISCO -- In the latest of a series of product delays, Intel Corp. has postponed the launch of a video display chip it had previously planned to introduce by year end, putting off a showdown with Texas Instruments Inc. in the fast-growing market for high-definition television displays.'), (4, \"Surviving Biotech's Downturns Charly Travers offers advice on withstanding the volatility of the biotech sector.\"), (4, 'Yahoo! Ups Ante for Small Businesses Web giant Yahoo! is gambling that price cuts on its domain name registration and Web hosting products will make it more competitive with discounters in the space -- which means that small businesses looking to move online get a sweeter deal through ...'), (1, 'SUVs: Live And Let Die NEW YORK - The newly released traffic crash fatality data have something for everyone in the debate about the safety of sport utility vehicles. '), (4, 'Selling Houston Warts and All, Especially Warts Descriptions of urban afflictions and images of giant mosquitoes and cockroaches to convey a sense of how Houston is nevertheless beloved by many residents.'), (1, 'Holiday-Shopping Season Remains Sluggish (Reuters) Reuters - U.S. shoppers have kept a tight grip\\\\on their wallets this holiday season with indices on Tuesday\\\\showing sluggish sales in the second week of the  season.'), (4, 'Ohio Sues Best Buy, Alleging Used Sales (AP) AP - Ohio authorities sued Best Buy Co. Inc. on Thursday, alleging the electronics retailer engaged in unfair and deceptive business practices.'), (1, 'Briefly: China interest in key Yukos unit China is interested in participating in the bidding for Yuganskneftegaz, the top oil-producing subsidiary of the Russian oil giant Yukos, a Chinese economic official was quoted as saying in a report Thursday by the Russian news agency Interfax. The ...'), (1, \"Vt. sues over importing drugs Vermont's Republican governor challenged the Bush administration's prescription drug policy in federal court yesterday, marking the first time a state has chosen a legal avenue in the expanding battle over Canadian imports.\"), (4, 'Services make big gains in Japan Tertiary index comes in at almost double expectations, drives up yen and helps Nikkei overcome oil. LONDON (Reuters) - The yen hit a four-week high against the dollar Friday as stronger-than-expected Japanese service sector data raised optimism about the ...'), (4, 'Clicking on Profits The latest data from the US Department of Commerce further bolsters what we have all suspected: E-commerce sales are increasing. Not only might one suspect that consumer confidence has been bolstered since last year, there ...'), (4, \"Amazon Snaps Up China's Largest Web Retailer (NewsFactor) NewsFactor - Amazon.com (Nasdaq: AMZN) has said it will buy Joyo.com Limited -- a British Virgin Islands company that operates the largest Internet retail Web site in China -- for US #36;75 million.\"), (1, \"Court Won't Halt Arch Coal's Triton Bid (Reuters) Reuters - A U.S. appeals court ruled on Friday\\\\that Arch Coal Inc. (ACI.N) may proceed with its bid to buy the\\\\assets of rival Triton Coal Co. LLC, denying an emergency\\\\request by the Federal Trade Commission to block the deal, a\\\\spokesman for the agency said.\"), (4, 'Samsung plans to invest Won25,000bn in chips Samsung Electronics, the world #39;s second largest computer chip manufacturer, yesterday said that it would invest Won25,000bn (\\\\$24bn) in its semiconductor business by 2010 to generate '), (1, 'Chavez victory confirmed Caracas, Venezuela - The results of an audit support the official vote count showing that President Hugo Chavez won this month #39;s recall referendum in Venezuela, the head of the Organization of American States said Saturday.'), (1, 'China confronts lack of pipelines China will spend about \\\\$3.4 billion over two to three years laying thousands of miles of oil pipelines to help secure its energy supply in the face of soaring prices and demand.'), (4, 'Nortel Downsizes Again Aug. 23, 2004 (TheDeal.com) Problem-plagued Nortel Networks Corp. announced plans Thursday, Aug. 19, to eliminate an additional 3,500 jobs and fire seven more senior executives as the company labors to reinvent '), (1, 'HK walks out of 68-month deflation cycle, official Hong Kong Financial Secretary Henry Tang said he believed Hong Kong has walked out of the consumer price deflation cycle that lingered for 68 months, according to the consumer price index trend in the past few years.'), (1, 'Chavez rejects CD as opposition Venezuela #39;s President Hugo Chavez has announced that he will no longer recognize the Democratic Coordination or CD as the opposition coalition.'), (2, 'Seattle Times business columnist admits plagiarism, resigns A business columnist has resigned from the Seattle Times after admitting he plagiarized the work of other journalists, said the newspaper.'), (4, 'Leeds students figure high on working curve Undergraduates in the city earn more than 90 a week on average, just behind Glasgow, Cambridge and Cardiff. Their hard-earned cash is likely to be spent on looking good and socialising, the '), (1, 'Observers insist: no proof of fraud in Venezuelan referendum. Independent observers confirmed that the random auditing of results from the recall referendum (Sunday August 15) against Venezuelan president Hugo Chavez show there are no indications of fraud as claimed by the opposition.'), (4, 'Branson: Virgin Billionaire Eyes China Telecom Deal Can you hear him now: Virgin Group Chairman Richard Branson said in Hong Kong that his company has earmarked \\\\$300 million for a cell phone joint venture in China.'), (1, 'GM pulls Guy Ritchie car ad after protest Protests from seven safety groups have prompted General Motors to pull a television ad that shows a young boy driving a Corvette sports car so recklessly that it goes airborne, officials of the automaker say.'), (4, 'MOM 2005 Released to Manufacturing Microsoft on Wednesday announced the release to manufacturing of Microsoft Operations Manager (MOM) 2005 and MOM 2005 Workgroup Edition, a new edition that the company previously called MOM 2005 Express.'), (1, 'Belarus Bank Denies Money Laundering Charge A bank in Belarus has denied US charges that it laundered money for former Iraqi leader Saddam Hussein. Infobank, in a statement, said it has strictly followed international agreements related to the fight against illegal transactions.'), (1, \"Nepal blockade 'blow to tourism' Nepal tour operators say tourists cancelled millions of  dollars of bookings due to the rebel blockade of Kathmandu.\"), (1, 'Nigerian Senate approves \\\\$1.5 bln claim on Shell LAGOS - Nigeria #39;s Senate has passed a resolution asking Shell #39;s Nigerian unit to pay \\\\$1.5 billion in compensation to oilfield communities for pollution, a Senate spokesman said.'), (1, 'Union leaders held under ESMA on Day 6 of strike New Delhi, August 26: The sixth day of the truckers strike on Thursday saw 12 more truckers being arrested under the Essential Services Maintenance Act (ESMA)in the Capital.'), (1, 'Exec, wife give Stanford \\\\$43.5 million SAN FRANCISCO (CBS.MW) -- Berkshire Hathaway vice-chairman Charles Munger and his wife Nancy Munger on Thursday donated \\\\$43.5 million to Stanford University and its law school.'), (1, \"Dominicans' Swift Step Into Crisis SANTO DOMINGO, Dominican Republic -- When Sandro Batista smashed his banana truck into a tree in April, leaving him with two hideously shattered legs and a broken arm, his orthopedic surgeon sent his sister shopping.\"), (4, \"Socially Responsible Funds on a Tear Don't be too impressed -- great returns don't always mean much.\"), (4, \"Bon-Ton's Succession Success The transition atop the department store company looks like a pleasant non-story.\"), (4, 'HP to tempt holiday shoppers with sights and sounds The computer-hardware giant, best known for products such as PCs and printers, on Friday laid out its plan to become a brand-name in consumer electronics products such as flat-screen TVs, music players and the devices that move content between them.'), (4, 'Siemens Says Cellphone Flaw May Hurt Users and Its Profit Siemens, the world #39;s fourth-largest maker of mobile phones, said Friday that a software flaw that can create a piercing ring in its newest phone models might hurt earnings in its handset division.'), (2, 'The Hunt for a Hybrid The Aug. 23 front-page article on the Toyota Prius vs. the Honda Civic implied that the main reason people prefer the Prius was its  quot;geek-chic look quot; and the image buyers want.'), (2, ' #39;We walk a fine line, #39; says the boss whose airline tripped up After one of the most embarrassing weeks in British Airways #39; history, the recriminations begin tomorrow. Rod Eddington, the airline #39;s gregarious Australian chief executive, says he will mount a full investigation '), (4, 'Health Highlights: Aug. 28, 2004 A new drug that fights a form of age-related macular degeneration (AMD), a leading cause of blindness in the elderly, won applause if not approval from a panel of advisors to the US Food and Drug Administration.'), (4, 'Apology, refund from cruise line In a move almost unheard of in its industry, Norwegian Cruise Line has apologized for service problems during the Pride of Aloha #39;s first two months of sailing around Hawaii, and is refunding a portion of the service charge to everyone who has cruised on '), (4, 'US Bells Do Video on Path Blazed by Small Telcos The three largest US local telephone corporations made a splash this summer with plans to sell video services on their voice and data lines in a few years.'), (1, 'Still no beef resolution after latest talks NEW YORK, (Aug. 30, 2004) - Cattle farmers and haulers finally looking for a quick end to a 15-month ban on live cattle exports to the US are out of luck after Canadian Agriculture Minister Andy Mitchell '), (4, 'For Now, Unwired Means Unlisted. That May Change. In October, most major cellphone carriers plan to start compiling a publicly accessible listing of wireless phone numbers.'), (1, 'Scaffold collapse survivors improving One of the men who survived Friday #39;s fatal scaffold collapse is in guarded condition at Detroit Receiving Hospital and the two other survivors were released on Sunday, a hospital spokeswoman said.'), (4, 'On TV -- from the Internet  SAN MATEO, Calif. -- The promise of Internet-based video has long been hamstrung by copyright and piracy worries, slow dial-up connections, technical challenges, and consumer disdain for watching blotchy videos on their home computers.'), (4, \"Intel in new chip breakthrough Intel creates a more powerful memory chip without increasing its size, confounding the firm's critics.\"), (1, 'Minister Lee Says Uncertainty Deepens Economic Lethargy Deputy Prime Minister and Finance-Economy Minister Lee Hun-jai said Monday the nation #39;s current economic lethargy is due to unsubstantiated uncertainty #39; #39; about the future, which in turn weakens the confidence of market players.'), (4, \"Stocks Dip on Consumer Income Report News (AP) AP - An unsettling report on consumer incomes set off a spate of profit-taking on Wall Street Monday as investors worried that a tepid economy would erode companies' third-quarter earnings. Another drop in oil prices failed to shake the gloom from the market.\"), (4, 'Problem device bypassed trials The catheter that triggered three safety recalls by Boston Scientific Corp. of its best-selling Taxus coronary stent after being linked to three deaths and 47 injuries had not been subjected to the rigors of a human clinical trial, FDA records show.'), (4, 'Samsung Says It Will Expand Chip Factories The Samsung Electronics Company, the Korean electronics giant, said Monday that it would invest \\\\$23.7 billion in new chip production lines over the next six years.'), (1, 'Not a big hit everywhere Bill Ryan is spending the last days of the summer traveling across Canada and the United States to pitch big shareholders on the complicated plan to sell 51 percent of his Banknorth Group Inc. to Toronto-Dominion Bank .'), (4, 'Software Service Aims to Outfox Caller ID A new computerized service enables customers to create phony outbound phone numbers in order to mask their telephone identities.'), (4, 'Red Hat replaces CFO Red Hat on Thursday named Charles Peters Jr. as executive vice president and chief financial officer. Peters replaces Kevin Thompson, who unexpectedly announced his resignation in June, a few days before the '), (1, 'Megawati kicks off 36th ASEAN economic meeting JAKARTA (Agencies): President Megawati Soekarnoputri opened high-level economic talks between members of the Association of Southeast Asian Nations (ASEAN) on Friday with a warning to ASEAN leaders that they must stay the course on their agreed '), (1, 'EU foreign ministers hope to break deadlock over ASEM summit The European Union said Friday it  quot;hoped to reach a conclusion quot; at a meeting of foreign ministers on the participation of military-ruled Myanmar in an upcoming summit of Asian and European nations.'), (4, 'Judge: Geico can sue Google, Overture over ads A federal judge in Virginia has ruled that a trademark infringement suit filed by the Government Employees Insurance Co. (GEICO) against Internet search giants Google Inc. and Overture Services Inc. can proceed.'), (4, 'USA : Textile industry to renew request to place embargo on &lt;b&gt;...&lt;/b&gt; The US textile industry officials would plead for blocking Chinese imports to the Bush administration this month. Earlier this year, the White House had rejected a similar request made by 130 Republican and Democratic members of Congress.'), (4, 'AT amp;T Wireless Moves to Sell Canada Asset T amp;T Wireless Services Inc., the third-largest United States mobile phone company, reached an agreement yesterday with Rogers Communications Inc.'), (2, \"Motorists Submitting to High Gas Prices (AP) AP - Americans appear to be getting used to paying more to drive  #151; even if it means they have less money to buy other things. For example, Wal-Mart Stores Inc., the world's largest retailer, blamed disappointing sales in August on the fact that shoppers spent more just getting to and from its stores.\"), (4, 'Checking changes Toward the end of the month if resources are a little tight, there are times when Krista Bergstrom admits she writes a check or two for more than is left in her account.'), (1, 'World briefs LONDON - A man wielding a machete and a knife attacked two security guards at the building housing the headquarters of the British domestic intelligence service MI5 on Friday, police said.'), (1, 'Labor situation deserves honest talk For a moment last week, President Bush escaped the White House spin chamber and was the plainspoken man much of the nation came to like four years ago.'), (4, \"Retailers Looking to Move Plasma TV's (AP) AP - Hanging stockings by the chimney with care? Retailers hope that St. Nicholas soon will be there  #151; to hang a 42-inch plasma-screen TV.\"), (1, 'Slovaks and Czechs reject French minister #39;s suggestion over EU &lt;b&gt;...&lt;/b&gt; The Slovak and Czech governments Monday rejected a proposal by French Finance Minister Nicolas Sarkozy to axe structural funds for new EU members whose taxes were lower than the European average.'), (4, \"Summer Box Office Hits a High, Despite Lows In a summer when many of the studios' biggest bets failed to pay off, it was familiarity in the form of sequels and low-budget comedies that resonated with movie audiences.\"), (4, \"Drug makers target counterfeits Big pharmaceutical companies are testing new tracking technology they hope will help them spot counterfeit drugs before they reach consumers' medicine cabinets.\"), (4, 'Beer and drugs hit manufacturing output Factory output fell unexpectedly in July for the second month in a row -- the first back-to-back decline in nearly two years -- as the production of beer and pharmaceuticals plummeted.'), (1, 'Israel to close Erez industrial zone before March Israel would start liquidating the Erez industrial zone in the northern Gaza Strip before launching the first stage of the disengagement plan in March 2005,local newspaper Ha #39;aretz reported on Tuesday.'), (1, 'Florida weather may help Israeli citrus industry As sunshine state licks its wounds from Hurricane Frances, Gan Shmuel could reap the benefits. The most important news for Florida #39;s 2.8 million residents this week has not been from the Republican '), (4, 'CBS #39;s Moonves Gives Loyalists a Piece of the Eye #39;s Pie Viacom co-president and CBS Chairman Leslie Moonves officially whacked the head of the media conglom #39;s television studio yesterday, and divvied up the job among loyal CBS staffers.'), (4, 'Movies in a snap: Netflix and TiVo discuss downloads Bee Staff Writer. The high-tech ground is shifting underfoot again, amid rumblings of a new Silicon Valley alliance that would let owners of TiVo Inc.'), (4, 'WordsWorth Books files Chapter 11 WordsWorth Books, a Harvard Square institution for 29 years, yesterday filed for bankruptcy protection, as its owners seek a buyer or investor to help the independent bookseller compete with giant rivals like Amazon.com.'), (2, 'Storms Seem to Cure Floridians of Hurricane Amnesia The state #39;s East Coast hadn #39;t been hit by a hurricane since 1999. That, and the fact that Florida hasn #39;t had its historic share of such storms in recent decades, has led to some complacency about their effects.'), (4, 'Let a Thousand Ideas Flower: China Is a New Hotbed of Research In recent years, hundreds of multinational companies have set up research laboratories in China.'), (4, 'Microsoft vs Sendo: It #39;s over The legal battle between UK phone manufacturer Sendo and Microsoft has been settled, the companies announced on Monday morning. Sendo had been suing Microsoft for the alleged theft of trade secrets, fraud '), (4, 'For Craigslist, city was just the ticket Hadley Weinzierl used Craigslist to furnish her Jamaica Plain apartment, and when she bought a Maltese puppy, she sought advice from fellow Craigslisters on a good vet, a cheap dog-walker, and a park where she could let the dog run without a leash.'), (1, 'EU increases pressure for rights in Myanmar EU foreign ministers agreed Monday to tighten sanctions against Myanmar if it does not improve its human rights record by Oct. 8, when an EU meeting with Asian countries starts in Vietnam.'), (2, 'Dropping Hyphen, Some Great Old Stores Become Just Macy #39;s n the not-so-distant past, the names Burdines, Rich #39;s, Goldsmith #39;s, Bon March and Lazarus had a local glory as the emporiums where customers bought their back-to-school clothes and discovered their Mother #39;s Day presents.'), (4, 'Sony Leads MGM Acquisition Entertainment companies had been vying for MGM to get their hands on its library of more than 4,000 titles. Time Warner initially was seen as the front-runner in the race.'), (4, 'IBM, LG Electronics to End Joint Venture International Business Machines Corp. and LG Electronics Inc. will end an eight-year alliance that helped expand the US computer maker #39;s presence in the booming South Korean PC market.'), (1, 'Coast Guard Shuts Gulf of Mexico Ports  HOUSTON (Reuters) - The U.S. Coast Guard shut five ports on  Wednesday in the Gulf of Mexico coast states of Alabama,  Florida and Mississippi as Hurricane Ivan churned nearer.'), (4, 'HP Wins Defense Contract HP (Quote, Chart) was awarded a \\\\$290 million, 10-year outsourcing contract with the Defense Logistics Agency #39;s (DLA) Enterprise Data Center (EDC) program, officials announced Wednesday.'), (4, \"Boxer Begs Bush to Back Bum Bill Members of California's congressional team make one last effort to look good for the tech industry back home.\"), (4, 'Pen can pick some bike U-locks That U-shaped bike lock that you thought was so secure may be easy pickings for thieves who have nothing more sophisticated than a Bic pen.'), (1, 'After Being Bounced Around Florida Is Bouncing Back Although the three hurricanes that have hit Florida led to a broad economic slowdown, the glimmerings of a miniboom are already apparent.'), (4, \"Thanks for the Pageviews, Ivan Bad weather has been very good for business at Weather.com and other popular forecasting sites. They are posting record traffic in the wake of Hurricane Ivan's arrival on the mainland. By Joanna Glasner.\"), (1, 'Florida, Alabama pick up the pieces after Ivan People in Florida and Alabama have started to clean up after hurricane Ivan - the third such pummelling for Florida alone in just five weeks.'), (4, 'SAN FRANCISCO Mission District cyclist blew whistle on flawed lock The triumph last week of the Bic pen over expensive, state-of-the-art steel locks has panicked the bicycling community, and churned Internet rumor mills about how much the lock manufacturer knew and when the company knew it.'), (4, \"Malls setting curfews for unchaperoned teens COLUMBUS, Ohio -- It's 10 on a Friday night, and all 15-year-old Sylvia Fallon wants is to hang out with her friends at the mall.\"), (4, 'VoIP becomes new option Jackson is one of the first to take advantage of Time Warner Cable #39;s new venture into Voice over Internet Provider (VoIP) telephone service here and she says it works great.'), (4, 'Oracle v. Peoplesoft: the joke is on... Opinion I thought it was a joke when Oracle first announced that it was going to try to buy PeopleSoft; or, at best, a spoiling tactic over PeopleSoft #39;s acquisition of JD Edwards.'), (4, 'Rogers Wireless Whistles and Fido Responds Its official. Microcell Telecommunications Fido wireless service will be the new dog in Rogers Wireless Communications Canadian kennel, and that puppy wasnt cheap.'), (4, 'AOL pushes into Internet shopping Looking for new ways to boost its revenue, America Online is launching an online shopping service that won #39;t require an AOL account to access.'), (4, \"Clouds darken PeopleSoft conference SAN FRANCISCO -- PeopleSoft Inc. is trying to create a party-like atmosphere at its annual customer conference, but this week's gathering may feel more like a wake with rival Oracle Corp.'s \\\\$7.7 billion takeover bid looming larger than ever.\"), (4, \"Ask Jeeves retools search engine in bid to catch Google, Yahoo SAN FRANCISCO -- Hoping to emerge from the shadow of its more popular rivals, Ask Jeeves Inc. is adding new tools for visitors to save and organize links to Web pages they find through the company's online search engine.\"), (4, 'PeopleSoft CEO Conway maintains defiant tone SEPTEMBER 21, 2004 (IDG NEWS SERVICE) - With 15,000 attendees at PeopleSoft Inc. #39;s Connect 2004 user show waiting to hear how the company would handle Oracle Corp.'), (4, 'Online advertising up 43pc in US NEW YORK - US internet ad revenue jumped to a record US\\\\$2.37 billion (\\\\$3.5 billion) in the second quarter, surpassing the highest levels of the dotcom era.'), (4, 'Legal Loophole Inflates Profits in Student Loans The White House could have closed a loophole through which student loan companies are billing the federal government nearly a billion dollars, but chose not to.'), (4, 'Spread of GM grass raises fears of crossbreeding Pollen from a genetically modified grass was found 21 kilometres from where it was planted, scientists reported in a study published Tuesday, raising fears of transgenic crossbreeding.'), (4, 'PeopleSoft gets closer to IBM As the threat of a hostile takeover by Oracle rumbles on, PeopleSoft has announced a \\\\$1bn partnership with IBM. Speaking at PeopleSoft #39;s user conference in San Francisco yesterday, the company #39;s chief executive '), (2, 'PeopleSofts big bash See you next year in Las Vegas , proclaimed a marquee at the PeopleSoft user conference in San Francisco in late September. It was one of many not-so-subtle attempts by the company to reassure its customers '), (1, 'Commission backs 5bn British Energy deal British Energy, the nuclear generator, yesterday welcomed a decision by the European commission to approve a government-backed 5bn rescue plan.'), (1, 'American Eagle Reaches Deal With Pilots Union leaders representing pilots at American Eagle, the commuter division of American Airlines, have accepted a tentative contract agreement that includes pay raises.'), (4, 'Rumours surround Google browser The search giant Google is rumoured to be working on its own web browser.'), (4, \"PeopleSoft Plays Defense The business software maker inks a deal with IBM, but it isn't likely to dissuade Oracle.\"), (4, 'Computer Associates exec pleads not guilty Sanjay Kumar, the former chief executive of Computer Associates of Islandia, NY, pleaded innocent Thursday to charges he helped inflate financial results.'), (4, 'UPDATE 2-Ottawa sets Petro-Canada price at C\\\\$64.50 Ottawa has set a price per share of C\\\\$64.50 (\\\\$50.42) in the sale of its 19 percent stake in Petro-Canada (PCA.TO: Quote, Profile, Research) , as analysts '), (4, 'IBM as PeopleSoft #39;s Hero? Hardly Big Blue --a white knight? It #39;s easy to see how industry watchers got carried away with speculation that IBM (IBM ) might be riding to rescue of beleaguered PeopleSoft (PSFT ). On Sept.'), (1, 'Heathrow refuellers to push ahead with strike plans Aircraft refuellers at Heathrow Airport have vowed to push ahead with strike plans this weekend, potentially disrupting flights, after last-ditch pay talks collapsed, their union says.'), (1, 'Strikes at London airports London - A 48-hour strike by aircraft refuellers at London Heathrow airport got under way on Friday, with baggage handlers at Gatwick airport also preparing to walk out, threatening a weekend of travel disruptions.'), (1, 'Rivals Ocean Spray, Northland make peace Cranberry juice rivals Ocean Spray and Northland have ended their legal battle and agreed to join forces. The companies said Friday that Ocean Spray will take over its smaller rival #39;s '), (4, 'CA, Partners Move On As Kumar Faces Charges Concern over the fate of former Computer Associates International chairman and CEO Sanjay Kumar accompanied the collective sigh of relief felt by CA partners last week when federal prosecutors settled a two-year-old accounting fraud investigation with the '), (1, 'Airport Staff Walk-Out Fails to Disrupt Flights A strike by hundreds of baggage handlers and maintenance workers at Gatwick Airport failed to disrupt flights today. The workers mounted picket lines outside '), (4, 'Boeing gets downpayments Boeing has received downpayments for up to 200 of its new 7E7 planes in addition to the known 52 orders it has gained, Chief Executive Harry Stonecipher said in an interview published on Thursday.'), (4, \"UK writing off poor nations' debt Gordon Brown says the UK will write off its share of debts owed by the world's poorest countries to the World Bank.\"), (2, 'No ticket matched all four numbers and the MegaBall in Friday #39;s &lt;b&gt;...&lt;/b&gt; No ticket matched all four numbers and the MegaBall in Friday #39;s Mega Money drawing of the Florida Lottery. The numbers drawn were 10-18-19-22; the Megaball was 6. Twelve tickets matched four of the numbers '), (1, 'A wandering Congress trips over the US Constitution That is the one-word message of advice that citizens wanted to send to members of Congress at the end of last week. Both the House of Representatives and the Senate looked as if they are having trouble seizing '), (4, 'Adobe updates RAW plug-in with digital negative format Adobe has updated Photoshop #39;s support for digital cameras #39; RAW image formats. The new plug-in adds to the number of camera models supported and includes a utility for converting images into the DNG, digital negative format.'), (1, 'Hurricane Ivan blows Courts #39; profits away MILLIONS of pounds are likely to be wiped off profits at the Caribbean arm of furniture retailer Courts following the devastating impact of Hurricane Ivan.'), (1, 'FM, Reddy to attend IMF-WB meet Finance Minister P Chidambaram will lead a high-level delegation for the annual IMF-World Bank meeting in Washington from October 1, where New Delhi would press for higher aid flows for infrastructure and social development.'), (4, 'Dell, AOL team up in schools initiative ROUND ROCK, Texas -- Dell Inc. and America Online Inc. announced a partnership Monday to provide 5,000 low-income students with free refurbished personal computers and a year #39;s worth of Internet access.'), (4, 'PC Sales Hot For 2004, But Will Soon Cool Off PC shipments in the second quarter grew faster than any three-month period since 1999, IDC said Monday, citing the continued pent-up demand for replacement systems as the driving force behind the sales surge.'), (4, 'Amazon sues spammers for misleading consumers SEATTLE -- Amazon.com has filed three lawsuits in King County Superior Court against unidentified defendants who allegedly forged e-mails and Web sites to fool consumers into thinking they are doing business with the Internet retailer.'), (4, 'Google Shares, Once Devalued, Just May Be Winners After All Wall Street, which forced Google, the Internet search engine, to sharply lower the price of its shares in its initial public offering in August, has decided that the company is worth a lot more today than it was then.'), (2, 'New \\\\$50 bill designed to counter counterfeits WASHINGTON - The green is still there, but with touches of blue, red and yellow. A stylized image of the Stars and Stripes now waves in the background.'), (4, 'BlueGene sneaks past Earth Simulator The Earth Simulator, an NEC supercomputer, is surpassed, at last. IBM announced yesterday that its Blue Gene/L supercomputer had achieved a sustained performance of 36.'), (4, 'Telecom equipment maker Agere to cut 500 employees, 7.6 of &lt;b&gt;...&lt;/b&gt; Telecommunications equipment maker Agere Systems Inc. said Wednesday it will lay off 500 employees, or 7.6 per cent of its workforce, as part of a corporate restructuring.'), (1, 'Air Canada confirms order for 45 Embraer jets MONTREAL : Air Canada said it sealed a deal with Brazil #39;s Embraer SA for 45 Embraer-190 aircraft, worth 1.35 billion US dollars at list price.'), (4, 'IBM Claims Its BlueGene Supercomputer Is the Fastest IBM Corp. on Wednesday said it has developed the world #39;s fastest computer - a 16,000-processor version of its BlueGene/L supercomputer.'), (2, 'Hasbro\\'s No Conehead Its Saturday Night Live version of \"Trivial Pursuit\" is good strategy for staying ahead of age compression.'), (1, 'Bay Bridge span faces re-bid, possible redesign The eastern span of the Oakland-San Francisco Bay Bridge, currently under construction and over budget, will be re-bid, according to Sunne Wright McPeak, secretary of California #39;s Business, Transportation and Housing Agency, which oversees Caltrans, the '), (4, 'Netflix, TiVo sign VoD alliance Netflix, the online DVD rental company, and TiVo yesterday said they will work together to deliver movies digitally down the wires, presumably specifically to the latter #39;s PVR equipment.'), (4, 'Saudi setback hurts BAE Systems BAE Systems shares slid more than 4 per dcent in early trade after the company, while announcing  quot;good progress quot; on its Eurofighter contracts, admitted further troubles in the controversial al-Yamamah programme.'), (4, 'Siemens in 2.69bn deal with BBC German industrial giant Siemens has signed a 2.69bn contract to deliver technology services around the world to the BBC, a deal that will see it acquire the broadcasters technology subsidiary.'), (4, 'Hewlett-Packard buys Synstar Palo Alto-based Hewlett-Packard Co. has bought IT services company Synstar plc, of Bracknell, England for about \\\\$293.3 million. Synstar has some 1,500 customers across Europe, selling IT support for various computer platforms.'), (4, 'Research Is Definitely in Motion The Blackberry wireless device maker is straining to exceed expectations.'), (4, 'Level 3 Acquires Sprint #39;s Wholesale Dial-Up Internet Business Level 3 today announced that it has purchased Sprint #39;s wholesale dial-up Internet access business for \\\\$34 million in cash. Sprint is one of the largest providers of wholesale dial-up service to ISPs in North America.'), (4, \"Fortune's 100 Most Doomed? Your company made it to Fortune's 100 Fastest Growing Companies list. Is that a good thing?\"), (2, 'Saks announces store closings BIRMINGHAM, Ala. They #39;re closing eight Saks Fifth Avenue stores and three Off Fifth outlet stores. Saks Incorporated says shutting down weaker stores will allow the company to focus on its more  quot;productive quot; locations and further strengthen its brand.'), (1, \"China at G-7 Meeting for First Time China made its debut last night in the club of the world's leading economic powers, asinternational pressure mounts to change a decade-old currency peg that critics accuse of giving Chinese products an unfair competitive edge.\"), (4, 'Perry OKs money for APS as more accusations arise The state #39;s Adult Protective Services agency will get an emergency infusion of \\\\$10 million to correct the kinds of problems that have arisen in El Paso.'), (4, \"Lucent's history a case study in wild rides If you've ever wondered what ignited America's late-1990s obsession with telecom and tech stocks, you could well argue it all started with Lucent Technologies .\"), (4, 'A Painful Mistake In a world in which the fortune OF a pharmaceutical company can rise and fall on the strength of a handful of blockbuster drugs, Vioxx was a giant.'), (2, 'Brewers buyer expected to step out of the shadows Monday MILWAUKEE - Paul Attanasio says the story of his brother buying a baseball team is like a script straight out of Hollywood. He should know.'), (4, 'SBC links e-mail, voice messages, fax SBC on Monday announced a new service that integrates voice messages, faxes and e-mails into a single mailbox that can be accessed from anywhere by phone or the Internet.'), (4, 'New Siebel Chief Outlines Chapter 2 For CRM Vendor After 10 years of focusing on product development and delivery, CEO Michael Lawrie says Siebel had to recognize that technology is only one part of the CRM equation.'), (4, 'Feds kick off digital TV consumer campaign WASHINGTON - It #39;s one of the biggest technical changes in television since color TV: the digital transition. And because many Americans remain in the dark about it, federal regulators began an education campaign Monday to enlighten them.'), (4, 'webcrawler: A9.com is cool NOW heres something else thats off the mind. Theres no more need to make mental or computer notes while searching the Internet.'), (1, \"Lazard Meets in Paris to Discuss IPO  PARIS (Reuters) - Lazard's board was meeting in Paris on  Tuesday to consider a share sale that could end more than 150  years of private ownership at the largest remaining independent  investment bank and buy out its founding families.\"), (1, 'Minot officials give preliminary approval to Wal-Mart Supercenter MINOT, ND - City Council members have given Wal-Mart preliminary approval to build a Supercenter, though not without some soul-searching.'), (4, 'Chip and PC Stocks Mixed on Warnings Semiconductor stocks were mixed Tuesday after Advanced Micro Devices Inc. warned quarterly revenue would be lower than expected due to sluggish sales of flash memory chips used in mobile phones and other devices.'), (4, 'On average, quarter was a loser (USATODAY.com) USATODAY.com - In the great race between stock mutual funds and the mattress, the mattress won.'), (4, 'CA aquires computer security firm Computer Associates International Inc., as promised, is back in the acquisition game, scooping up its second computer security company in as many months with an agreement to buy Netegrity Inc.'), (4, 'CA to buy Netegrity for \\\\$430 million com October 6, 2004, 7:36 AM PT. This fourth priority #39;s main focus has been improving or obtaining CRM and ERP software for the past year and a half.'), (4, '34 tech firms sued for alleged LCD patent theft Honeywell has issued lawsuits against 34 companies, including Dell, Apple, Sony and Toshiba alleging LCD panels used in their products infringe a 1992 patent the company holds.'), (4, 'Analysts See Post-Stern Ripple Effect Howard Stern will leave a very different company than the Infinity Broadcasting he first joined in 1985. The Viacom-owned radio giant started out a '), (4, 'Nintendo to Unveil Handheld Upgrade Facing its biggest threat ever from the arrival of Sony Corp. in the portable video-game machine market, Japanese game-maker Nintendo Co.'), (4, \"Clubbing Wet Seal A same-stores sales drop that's less crummy than expected can't fix this sick pup.\"), (4, \"Skyboxes May Reach A Limit Verizon Communications Inc. would seem to be a prime candidate to snap up a luxury suite at the \\\\$440 million ballpark being planned for Washington's Major League Baseball team.\"), (4, 'Aisin finishes deal for Michigan land HANDY TOWNSHIP -- A Japanese auto supplier said Thursday it completed the purchase of about 750 acres of Michigan land for a proving ground.'), (1, \"Woman's death probed Public health officials are investigating why a 38-year-old woman died two weeks after undergoing gastric bypass surgery at Saint Anne's Hospital in Fall River. The hospital has stopped offering the surgery during the state probe and an internal review.\"), (4, 'Sun settles Kodak patent suit Sun Microsystems says it will pay Kodak \\\\$92 million to settle a high-profile patent suit involving Sun #39;s Java programming technology.'), (4, 'Lego, Carrefour in French Price-Fix Probe (AP) AP - French competition authorities are investigating Danish toy maker Lego Systems AS and supermarket retailer Carrefour SA as part of a probe into alleged price fixing in the French toy market in 2002 and early 2003.'), (4, 'Trading blows When a can of worms is opened, all manner of slimy things crawl out. So it was when the US government fired the first shots in a fusillade against the European Union - by complaining to the World Trade Organisation '), (1, 'American Economist Expected to Win Nobel (AP) AP - Americans have dominated the annual Nobel Memorial Prize in Economic Sciences five years running, and it may not surprise Nobel watchers if the trend continues.'), (4, \"New pension 'would help millions' Britain's pension system could easily be replaced by a new payment that would make millions better off, a report says.\"), (4, 'Complex Brings Work, Shops Close to Home Tucked on a side street, just a block from the cars and trucks that whiz along Rockville Pike, sits a new complex of 404 luxury apartments, renovated restaurants and stores that some planners and developers are calling the optimum in compact urban redevelopment.'), (4, 'Intel defeats AMD in court AMD #39;s attempt to persuade the US court to sanction the release of over 60,000 pages of Intel documentation to a European Commission anti-trust enquiry has failed.'), (4, 'Nobel Economics Prize Awarded Norwegian-born Finn Kydland and Edward Prescott of the United States won the 2004 Nobel\\\\economics prize, the Royal Swedish Academy of Sciences said on Monday.'), (4, 'Another Oracle exec says company might lower offer price for &lt;b&gt;...&lt;/b&gt; WILMINGTON, Del. Another Oracle executive says the company could lower its offering price for rival PeopleSoft. During testimony this morning in Delaware, Oracle co-president Safra Catz said PeopleSoft #39;s declining '), (4, 'Linux: Paris weighs a shift to open-source camp PARIS The open-source computer system known as Linux won a tough battle over Microsoft earlier this year when the city of Munich decided to change the operating software of 14,000 government computers, despite the personal intervention of Steve Ballmer '), (4, 'Study: 39 Million Americans In Working Poor Families WASHINGTON -- A new report indicates that one in every five US jobs pays less than a poverty-level wage for a family of four. As a result, nearly 39 million Americans, including 20 million children, are members '), (4, 'Microsoft Launches New Media Center PC Microsoft Corp. MSFT.O on Tuesday unveiled a new version of its Windows XP Media Center, adding features such as instant messaging and high-definition television to a personal computer designed for the living room.'), (4, 'Rumors Suggest Photo Ability To Be Added to iPod  quot;Apple has invested heavily in technology to edit pictures. Not having a portable device to show them seemed an obvious oversight that would be corrected once the price of the displays '), (4, 'Amazon Leaves Jungle Business The company has no further expansion plans after buying a Chinese website. Also: Virgin joins quest for a better iPod   hellip;. PeopleSoft makes promise that Oracle will live up to   hellip;. and more.'), (4, 'Nevadans to benefit from sales tax deduction #39;s return WASHINGTON -- Gaylyn Spriggs can remember two decades back when she would keep every grocery and department store receipt in a shoebox on a closet shelf.'), (4, 'Large number of station owners can now be paid The US Supreme Court agreed Tuesday to decide which gas station owners can claim refunds from Exxon Mobil Corp. in a \\\\$1.1 billion class-action lawsuit involving alleged fuel overcharges.'), (4, 'Excess chips a drag on 3rd-quarter Intel results Intel on Tuesday released third-quarter financial results showing that it continues to struggle to sell a substantial stockpile of computer chips as demand for personal computers remains slow.'), (1, 'McTeer: Lonesome Dove to be an Aggie NEW YORK (CNN/Money) - A New Economy champion, a lover of the Texas picker poets who write lovesick country songs...and, oh, by the way, a member of the Federal Reserve system for 36 years.'), (4, 'Diesels, Hybrids Fated to Wed Two leading technologies used in fuel-efficient vehicles seem destined to unite. Industry experts say joining hybrid motors with diesel engines would result in the greenest mainstream vehicles ever, and the initial tests are promising.'), (4, \"Transport strike hits Netherlands Public transport grinds to a halt in the Netherlands as workers strike against the government's planned welfare cuts.\"), (4, 'Sun Micro Posts Narrower Quarterly Loss  SAN FRANCISCO (Reuters) - Network computer maker Sun  Microsystems Inc. on Thursday posted a narrower quarterly loss  as revenue rose for the second consecutive quarter on higher  sales of servers after three years of declines.'), (4, 'US consumers unaware of spyware The findings come in a report from the newly formed Consumer Spyware Initiative, a joint effort by Dell and the non-profit Internet Education Foundation that aims to increase awareness of spyware.'), (4, 'Wi-Fi successor is called high-speed hype -- for now SAN FRANCISCO -- At virtually every turn, Intel Corp. executives are heaping praise on an emerging long-range wireless technology known as WiMAX, which can blanket entire cities with high-speed Internet access.'), (4, 'Google puts desktop search privacy up front Google has announced a new desktop search application that enables users to search their e-mail, files, web history, and chats. Perhaps learning from previous mistakes, Google says it has designed the product  quot;from the ground up to respect user privacy.'), (4, 'Opel management, workers talk in job issues The management and labor representatives of the car producer Opel began talks Monday on thecontroversial massive layoffs faced by its workers.'), (4, 'Industry Report: Dec. 6, 2004 With a raft of new products ready to roll out over the next few years, Ford Motor Co. is setting big growth goals for its long-troubled Lincoln Mercury division.'), (4, 'EA Reports Higher Quarterly Profits  LOS ANGELES (Reuters) - No. 1 video game maker Electronic  Arts Inc on Tuesday reported higher quarterly profits on strong  demand for titles like Madden NFL 2005, but its stock price  fell after a holiday forecast fell short of Wall Street  expectations.'), (2, 'Web-based kidney match raises ethics questions A Colorado man who placed a  quot;transplant wanted quot; ad on a Massachusetts-based Internet site is expected today to receive a kidney donated by a total stranger who simply wanted to do  quot;something big. quot; The transaction marks the first time an organ transplant has been brokered by a commercial web company.'), (4, '230m claim against FT struck out The High Court in London has struck out the bulk of a record 240m libel damages claim brought against the Financial Times by investment bank Collins Stewart Tullet.'), (2, 'Alaska #39;s summer tourism pegged at 1.4 million visitors The number of summer visitors to Alaska rose from the year before, prompting the president of the Alaska Travel Industry Association to say tourism appeared to be back on track since leveling off after the 2001 terrorist attacks.'), (1, 'Erdogan Believes European Council #39;s Decision Will Be A Milestone PARIS - Turkish PM Recep Tayyip Erdogan expressed belief on Thursday that the decision that the European Council would make on December 17th (on whether and when to open negotiations with Turkey) would be a milestone for not only Turkey-(EU) relations '), (4, 'Google #39;s New PC Search Tool Poses Risks NEW YORK Oct. 18, 2004 - People who use public or workplace computers for e-mail, instant messaging and Web searching have a new privacy risk to worry about: Google #39;s free new tool that indexes a PC #39;s contents for quickly locating data.'), (4, 'Miller slams transit funding Public transit in Toronto will not improve next year despite \\\\$81-million in provincial gas tax funding announced yesterday, according to Mayor David Miller.'), (4, 'Is fair trade coffee a beachhead for bananas? GUILDERLAND, NY Socially conscious consumers have made fair trade brews a rapidly growing niche of the coffee market. The beans can now be found on supermarket shelves next to the Folgers and in the espresso at Dunkin #39; Donuts.'), (4, 'A Card to Your Future 401(k) credit card would give millions of American workers the chance to borrow their own money from their retirement savings plans.'), (1, 'Ontario won #39;t help other provinces squeeze Ottawa for more &lt;b&gt;...&lt;/b&gt; Premier Dalton McGuinty sent a shot across the bow of have-not provinces Sunday, warning that Ontario will not support efforts to wring billions more in equalization payments out '), (4, 'Classmates agrees to \\\\$100M buyout United Online Inc., a California-based provider of low-cost Internet subscription services, has agreed to buy Internet networking company Classmates Online Inc.'), (4, 'Spyware opponents win another battle The Federal Trade Commission won an important victory last week in its fight to protect consumers from spyware, the software that tracks unsuspecting Web surfers, bombards them with advertisements and sometimes even steal login information and passwords.'), (4, 'Electronic Data Delays Earnings for Navy Asset Audit (Update1) Electronic Data Systems Corp., the world #39;s second-largest seller of computer services, delayed the release of third-quarter earnings while it reviews the value of a contract with the US Navy.'), (4, 'Microsoft Readies Next Business IM Server A little over a year after introducing the first version of Office Live Communications Server, Microsoft says it plans to release the next version of its enterprise instant messaging software, in December.'), (4, 'FaceTime, IMlogic Back Live Communications Server 2005 Hard on the heels of Microsoft announcing that it #39;s taken Live Communications Server 2005 gold, instant messaging management software vendors IMlogic and FaceTime on Tuesday both touted their support for the communication product.'), (2, 'ATA: Customers Won #39;t Be Affected By Bankruptcy INDIANAPOLIS -- ATA says it will honor all tickets and maintain its full schedule, after filing for Chapter 11 bankruptcy Tuesday.'), (4, 'Report finds handheld device market in continued decline The worldwide market for handheld devices saw its third successive quarter of year-over-year decline in the third quarter of 2004, according to a new report released by IDC.'), (1, 'Faces From The 1929 Crash NEW YORK - The people who will forever be associated with the Great Crash of 1929 were all white, male and wealthy, but their occupations and ethics varied considerably.'), (4, 'Yahoo Debuts Mobile Search SAN FRANCISCO -- Yahoo (Quote, Chart) expanded its search empire to the mobile arena with the launch of some additional services. The company was one of the original content providers for mobile devices running '), (4, \"Lexmark Loss Good for Consumers Lexmark's loss in court on Tuesday may mean that consumer electronics companies won't try to use the Digital Millenium Copyright Act as an all-purpose competition shield anymore, consumer advocates say. By Katie Dean.\"), (4, \"Despite Scandals, Boeing Still Charms Wall Street Boeing's bottom line continues to fatten, even as its image tarnishes, thanks in part to the consolidation of the defense industry, which has left the Pentagon with few choices for buying weapons, industry analysts said.\"), (1, 'Final edition for a respected Asian newsweekly HONG KONG The Far Eastern Economic Review, an often incisive newsweekly for more than half a century, will become a monthly opinion magazine in December, and virtually all of its employees will lose their jobs, Dow Jones announced on Thursday.'), (2, \"Racing in an Evening Gown (Forbes.com) Forbes.com - Not every driver was dressed formally for the start of this year's Bullrun, a road rally that begins in London, at the Marble Arch, and ends three days later in Ibiza, Spain. Yet as drivers thrummed their engines nervously on the afternoon of Sept. 23, waiting for the checkered flag, a quick inspection of the field revealed one entrant clad in an Oxford shirt and gray pinstripe blazer, another sporting a tuxedo, and a third--me--wearing a red couture Matthew Earnest gown.\"), (4, 'AOL, E-Mail Companies Sue Spammers The nation #39;s largest e-mail providers today filed a new round of lawsuits against Internet spammers allegedly responsible for shoveling millions of junk e-mail messages into computer users #39; in-boxes and their instant messaging screens.'), (2, 'Sign off, then sign in  G. Michael Caggiano Jr. lies awake at night thinking about bank signs. He ponders them during breakfast, while brushing his teeth, and  quot;constantly quot; during the day, he says.'), (1, 'National Foods to look for protector 29/10/2004 National Foods will hunt for a  quot;white knight quot; to protect it from Fonterras \\\\$A1.62 billion (\\\\$NZ1.76 billion) bid, raising the risk New Zealand dairy farmers will get dragged into an expensive bidding war.'), (4, \"AOL's Viral Marketing America Online will now provide gratis antivirus protection to its subscribers.\"), (4, 'FasTrak Toll Bridge Discounts End Monday About 70,000 motorists signed up for FasTrak, the electronic toll collection system, since July 1, when tolls went up from \\\\$2 to \\\\$3.'), (1, 'Key Australia-US FTA deadline passes A key deadline to bring Australia #39;s Free Trade Agreement with the United States into force has expired. But the Australian Government is still confident the deal will come into effect next year, as Louise Willis reports.'), (1, 'Saturday Essay When in his mid-50s, immigrant Andrew Carnegie sold his steel holdings into a trust headed by JP Morgan in 1901, the Scottish immigrant and former cotton factory bobbin boy left a life of astounding, ground-up capitalism for retirement into philanthropy.'), (2, 'Med school move delayed to 2007 The MSU College of Human Medicine won #39;t be relocated to Grand Rapids until at least 2007, and could cost only half as much as university officials originally estimated.'), (2, 'Some think this metal is golden So many disasters to avoid, so many uncertainties to resolve, no wonder so many investors have been cautious about buying stocks and bonds.'), (1, 'La. Seeks New Bridge, Elevated Highway If you think oil is expensive now, just imagine if Hurricane Ivan had swung west and come ashore at this bustling oil and gas port at the southernmost point of Louisiana.'), (1, 'Volkswagen #39;s talks with union move forward LONDON, November 2 (newratings.com) - The German automotive giant, Volkswagen AG (VOW.ETR), continued its negotiations with the labour union today on its planned labour cost reductions.'), (4, 'AOL Is Said to Plan 700 Layoffs America Online, the country #39;s leading Internet service, is preparing to lay off as many as 700 of its 13,000 employees in the United States, according to an executive knowledgeable about its plans.'), (4, 'IP Proposal Ameren is offering some union workers at Illinois Power the chance to walk away from new management. The Saint Louis based utility company announced a voluntary separation opportunity for certain Ameren IP employees.'), (1, 'Delta #39;s Aborted Crash Landing If you #39;ve ever been in an airplane that has to abort a landing, you know that it is a completely hair-raising, disorienting experience.'), (1, 'Quick end to US election crucial US President George W. Bush is on the verge of a re-election victory, but Democratic challenger John Kerry is not conceding defeat, at least not now.'), (4, 'Sole Survivor Making sneakers in America is so yesterday. How can New Balance do it -- and still thrive?'), (4, 'Product Previews palmOneUpgrades Treo With Faster Chip, Better Display\\\\With more than 600,000 units shipped, the Treo 600 is one of the big smartphone success stories. Last week, palmOne introduced the follow-on Treo 650 with a higher resolution 320-by-320-pixel TFT screen, which the company claims increases the visible area of the display and makes pictures and documents much clearer. The 650 also carries a removable battery; 32MB of flash memory, and a faster 312MHz, Intel XScale processor. Improved multimedia features include a built-in MP3 player, a digital camera with improved low-light capabilities, as well as video capture and playback functionality. Products are expected to ship by years end from some carriers who will add their own services, and will be priced at about \\\\$499.\\\\ Treo 650, palmOne'), (1, 'Ontario gets harsh with school dropouts HUNTSVILLE, ONT. - The Ontario government plans to introduce legislation that will require students to stay in school until they reach the age of 18, said the province?'), (1, 'union halts vote on grocers #39; offer Members of the grocery workers union will continue to meet to discuss the final contract proposal from King Soopers, Safeway and Albertsons following a surprise decision by the international union to halt voting on the offers.'), (1, \"South Korea planning huge spending to revive economy: report (AFP) AFP - The South Korean government is preparing a huge  quot;New Deal quot; spending package in the next few years to revive the country's sagging economy, Yonhap news agency said.\"), (4, 'Fed Expected to Stay the Course for Now If there is a good rule of thumb about the Federal Reserve, it is this: A startling economic report is not enough to sway policy. When the Labor Department reported '), (4, \"Start-ups are discovering they might have to wait until the timing is right Is the market for initial public offerings open or closed? Few questions loom larger for venture capital firms, which risk money on entrepreneurial companies and look for ''liquidity events quot; that will help them recoup their investments. But more than at any other time in the recent past, the answer may depend on your vantage point.\"), (2, \"Nothing ventured, nothing at all gained There are two topics most venture capitalists hate to discuss: companies they invested in that tanked, and companies they didn't invest in that soared.\"), (4, 'Study raises stent doubts Heart patients aren #39;t more likely to live long term after getting the artery-opening tubes called stents, according to a study released yesterday by researchers at Duke University.'), (1, 'PM welcomes EU partnership Prime Minister Manmohan Singh arrived in the Hague last night to participate in the India-European summit.  quot;In recognition of Indias growing stature and influence, the EU has proposed a strategic partnership with India.'), (4, 'Alternative Energy: Ready or not? Even with a boost from higher oil prices and growing concern about global warming, the payoff on most alternative energy technologies seems a ways off.'), (4, 'Microsoft Settles Novell Antitrust Suit (Reuters) Reuters - Microsoft Corp.  said\\\\on Monday it agreed to settle antitrust lawsuits with Novell\\\\Inc.  and an industry trade group, marking the end of a\\\\decade-long antitrust battle.'), (2, \"Karp team won't buy Fan Pier For the second time in less than two months, a prospective buyer of the prime Fan Pier land in South Boston has pulled out of a deal.\"), (4, 'Cisco Systems 1st-Quarter Earnings Rise (Reuters) Reuters - Cisco Systems Inc., the biggest maker\\\\of equipment that directs data over the Internet, on Tuesday\\\\said quarterly earnings rose 29 percent on rising demand for\\\\its networking gear.'), (4, 'Chips are down in tech world EUROPE #39;s biggest chipmaker, Infineon, rocked the technology world today as profits fell e100m (70m) short of analysts #39; expectations.'), (4, 'Vodafone begins 3G service Vodafone launches its third-generation services for mobile phones, offering video calls, music downloads and games.'), (4, 'Microsoft plays up growth, dividend They were preaching to the choir, but Bill Gates and Steve Ballmer still did their best to sell the virtues of Microsoft stock at the company #39;s annual shareholder meeting yesterday in Bellevue.'), (1, 'Toile Gets A Makeover The traditional pattern shakes its fussy image as designers give it a new look'), (1, 'Residents Protest Nation #39;s First Hydrogen Refueling Station Two dozen protesters greeted Mayor Tony Williams and top executives of Shell, who came to open North America #39;s first hydrogen refueling station.'), (4, 'Forget Bextra NEW ORLEANS - This morning, Pfizer was blindsided as The New York Times reported information about a reanalysis of old data that say the drug giant #39;s Bextra, which is similar to Merck #39;s Vioxx, increased the risk of heart attacks and strokes.'), (4, 'Halo 2 scores record sales of \\\\$125 million in first 24 hours Halo 2 broke entertainment retail records in its first 24 hours. Microsoft Game Studios said that the video game sold through 2.4 million stores in the US and Canada raking in \\\\$125 million in sales.'), (4, 'Prized Fossil Just a Rock? With positive and negative results, it remains to be seen what type of Fossil this company really is.'), (4, 'Intel dauphin Otellini becomes king Intel #39;s board has given the go ahead for the long anticipated shift in power from current CEO Craig Barrett to current President Paul Otellini Come May 18, Otellini will take over the chipmaker and become its fifth ever CEO.'), (1, \"France joins Germany, Japan in economic slide (AFP) AFP - The French economy hit a rough patch in the third quarter, throwing the government's full-year growth target into question amid signs of an economic slowdown in the 12-nation eurozone.\"), (4, \"Telephone Tag (Forbes.com) Forbes.com - ARRIS GROUP (5, ARRS) saw its market cap unjustifiably halved recently when Comcast, a huge customer (24 of Arris' sales), hinted it might buy next-generation technology from Cisco Systems. Arris supplies the technical guts that cable companies use to provide phone service. (For the reverse phenomenon, see story on p. 162.)\"), (1, 'Indian PM pledges to protect poor from oil-driven inflation NEW DELHI : Indian Prime Minister Manmohan Singh pledged to try to shield the poor by keeping down prices of essential goods amid rising inflation.'), (2, 'Will Hutton There were two stories last week that will have world-shaping implications. The first was in a Paris hospital and a compound in Ramallah.'), (4, 'Where have all the people gone? While media and political attention is on the threat of outsourcing, the reality is that outsourcing is a sideshow in a much larger event.'), (4, 'Except for less export business, most find little to complain &lt;b&gt;...&lt;/b&gt; Longtime Gonzales County rancher Jim Selman, who raises calves in the biggest cattle county in the nation #39;s biggest cattle state, sees 2004 as a year to remember.'), (4, 'Reports: China Will See More Shortages Shortages of coal and electricity are expected to fail to keep up with demand this winter, state media reported Monday. The National Power Regulatory Commission reported high demand for virtually every region '), (4, 'Microsoft signs two Indian deals The announcement came as Microsoft chief executive Steve Ballmer opened the group #39;s new Indian headquarters in the city of Hyderabad.'), (4, 'Microsoft Storms India Microsoft is making big news in India this week by expanding its Hyderabad campus and signing two lucrative deals in Asias fourth largest economy.'), (4, 'Microsoft Opens Software Development Center in India (Update3) Microsoft Corp., the world #39;s largest software maker, will hire several hundred #39; #39; people in the next year at its development center in India, expanding its workforce of 800, Chief Executive Steve Ballmer said.'), (4, 'Boeing to build cargo version of 777 NEW YORK: Boeing Co said today it will manufacture a cargo version of the twin-engine Boeing 777 commercial airliner. Due to enter service late in the fourth quarter of 2008, the Boeing 777 Freighter will '), (4, 'ScanSoft to acquire 3 software firms ScanSoft Inc. said it plans three acquisitions. The company will acquire Phonetic Systems Ltd., a provider of automated directory assistance and voice-based programs, for \\\\$35 million in cash, and an additional consideration of up to \\\\$35 million, based on the achievement of performance targets and the potential vesting of a warrant to buy 750,000 common shares. ART Advanced Recognition Technologies ...'), (1, 'Mass. franchisees hit Shell in lawsuit Four years after filing suit against the Royal Dutch/Shell Group of Cos., Shell service station owners in Massachusetts went before a US District Court judge in Boston yesterday, charging that Shell took several measures in the late 1990s to drive them out of business.'), (4, 'Microsoft to hire hundreds in India Microsoft on Tuesday announced its decision to localise Windows and Office software in 14 Indian languages over the next 12 months and that the company would hire  #39;hundreds #39; in India this year.'), (4, 'Wrigley bites into Kraft WRIGLEY is buying the Life Savers and Altoids sweet and mint businesses from Kraft Foods for 800 million. The deal allows Wrigley to expand in the sweet section, while leaving Kraft to focus on the rest of its food business.'), (1, 'Casino owners team up in Macao MACAO Publishing  amp; Broadcasting said Tuesday that it had bought a stake in Stanley Ho #39;s latest gambling project in Macao as Asia #39;s two leading casino operators team up to expand in the region.'), (4, 'Motorola buys wireless network developer, eyes defense contracts CHICAGO - Motorola Inc. is acquiring MeshNetworks Inc., developer of a Wi-Fi based technology that is expected to help land more contracts for its growing government contracting business.'), (1, 'China, Argentina sign 5 cooperation documents China and Argentina signed five agreements in Buenos Aires Tuesday that will allow them to expand cooperation in the areas of trade, space, education, tourism and railways.'), (4, 'Judge asked to penalize Microsoft over e-mails Burst.com asked a US judge to penalize Microsoft for destroying e-mails it says the world #39;s largest software company should have preserved as evidence in antitrust suits.'), (4, \"TV's Passport Stamp of Approval The sixth season of a popular reality television show is ready to rock the world.\"), (4, \"BAE included in SFO investigation BAE Systems says it has found out that it is being investigated by the UK's Serious Fraud Office.\"), (4, 'SBC calling on cable SBC is teaming up with Microsoft to provide consumers with a new way to view television -- a move that puts it in direct competition with the cable TV industry.'), (1, 'Russia #39;s Putin Defends Reforms, Worries About Clans Russian President Vladimir Putin said on Thursday he had no plans to grab more power or change the constitution when reforming Russia #39;s government structure.'), (4, 'SBC and Yahoo! extend pact to offer Internet service SAN ANTONIO SBC Communications and Yahoo are expanding their high-speed Internet service partnership to link video, wireless phone, Internet and other services.'), (1, 'Aussies battle EU over cheese, champagne AP - The United States and Australia have prevailed in an interim ruling by World Trade Organisation (WTO) in a dispute over the protection given by the European Union to its regional goods such as Champagne wine and Feta cheese, trade officials said.'), (4, 'Auto suppliers feel squeeze DETROIT -- New car and truck sales rose more than two per cent during the first 10 months of 2004, but many of the companies that supply parts to the big automakers have little to celebrate -- their profits are shrinking as raw materials costs rise and '), (4, 'Yahoo and SBC extend partnership and plan new services Yahoo and SBC Communications have agreed to collaborate to extend some of the online services and content they currently provide to PC users to mobile phones and home entertainment devices.'), (4, 'Lazarus-like virus hits computers A new computer virus is catching people out by coming back from the dead.'), (4, 'No tax on Internet access until at least 2007 Consumers won #39;t have to pay a tax to log on to the Internet until at least 2007, after Congress voted Friday to renew a recently lapsed ban on Internet taxation.'), (4, 'Lawyers In the Limelight By all appearances, Steven Woghin was a lawyer at the top of his game. After years in government service, the former Justice Department attorney had worked his way up to a comfortable six-figure salary and the chief legal job at software maker Computer Associates International Inc.'), (1, 'Senators Want Boeing Deal Investigated Leaders of the Senate Armed Services Committee asked the Defense Department on Friday to have its inspector general #39;s office investigate the Air Force #39;s effort to '), (2, 'ViewPoints: Just say  #39;No #39; You can #39;t get much clearer than No. That was the strongly implied response of the US Treasury secretary, John Snow, to Europe #39;s growing cries that he help it deal with a weakening dollar by intervening to stop the slide.'), (4, \"Dreams of perfect market are fine, as long as they don't come true In these times of financial wrongdoing and subsequent systemic changes, it's only natural to wonder what a perfect investment world would look like.\"), (4, 'Special to ESPN.com It #39;s the age old question:  quot;What do you give to the man who #39;s been everything? quot;. Only time will tell whether Phil Knight #39;s retirement will be as long-lived as so many players he paid to endorse Nike.'), (1, 'Rats in Mouse #39;s house? Remember John Edwards Two Americas campaign theme? It occurred to me how well that theme fits the corporate world. For proof, look no further than the stockholder lawsuit against Walt Disney Co.'), (4, 'Google creators in share sell-off Google founders Larry Page and Sergey Brin have announced plans to sell millions of shares in the web search company they launched in 1998.'), (4, \"HGS Picks Watkins as New Chief Executive  Human Genome Sciences Inc. plans to announce today that it has hired a 20-year product development veteran from Abbott Laboratories Inc. as chief executive. H. Thomas Watkins, 51, will face the challenge of completing the Rockville company's makeover from gene hunter to drug marketer.\"), (4, \"Google targets software giant  SEATTLE -- Not too long ago, Google Inc. seemed little more than a pesky insect to Microsoft Corp.'s 800-pound gorilla.\"), (4, 'Amtrak Infrastructure On Brink, DOT Warns The national passenger rail service risks a \"major point of failure\" if infrastructure needs remain unaddressed, the U.S. Department of Transportation warned in a scathing report made public.'), (4, 'CAT and AstraZeneca enter \\\\$175m collaboration AstraZeneca intends to invest over 120m in Cambridge Antibody Technology (CAT) through an innovative five-year research collaboration and a 75m equity '), (2, 'HK Disneyland Theme Park to Open in September Hong Kong #39;s Disneyland theme park will open on Sept. 12, 2005 and become the driving force for growth in the city #39;s tourism industry, Hong Kong #39;s government and Walt Disney Co.'), (4, 'Study Ranks St. Louis as Fourth Most Dangerous City A new study ranks St. Louis as the fourth most dangerous city. Camden, New Jersey came in first, followed by Detroit and Atlanta. The rankings are in Morgan Quitno #39;s  quot;City Crime Rankings, quot; an annual reference '), (4, 'Banks seek court ruling over F1 Three banks go to the High Court in London seeking a ruling which could lead to Bernie Ecclestone losing control of Formula One racing.'), (4, 'Federal CISOs Rank Patch Management As Biggest Obstacle Survey by Intelligent Decisions indicates that patch management leaves less time for chief information security officers to work on improving overall security.'), (4, 'The Handbag? Total Knockoff. The Price Tag? All Too Real. It is as much a rite of the New York holiday season as sidewalk Santas or crowded Fifth Avenue sidewalks: the proliferation of hawkers selling counterfeit products like the fake Fendi handbag, the replica Rolex watch and the pirated DVD.'), (4, 'Travelers Stuff Roads, Terminals Traditionally, the Wednesday before Thanksgiving is the busiest travel day of the year, and the American Automobile Association expected travel this year to hit pre-Sept.'), (4, 'Microsoft, EU Officials in Procedure Meeting Microsoft (Quote, Chart) and representatives of the European Union #39;s Competition Commission will sit down at the table together on Thursday, but it won #39;t be to eat.'), (4, 'Hearing Set After Microsoft Rivals Quit The judge considering Microsoft Corp. #39;s appeal against European Union sanctions has called a closed meeting for Thursday to decide what action to take after two more major '), (4, \"Ruling delayed in Peoplesoft case A crucial legal ruling in Oracle's takeover bid for Peoplesoft is delayed after a judge says he needs to hear more evidence.\"), (1, 'Spaniards to run Luton airport after 551m deal Luton, Cardiff and Belfast International airports are to fall into the hands of a Spanish toll motorways operator through a 551m takeover of the aviation group TBI by a Barcelona-based Abertis Infrastructure.'), (4, 'TSA  #39;pat-downs #39; cross the line for some fliers Millions of holiday travelers nationwide are experiencing an all-too-intimate form of security screening that some say amounts to sexual groping - a  quot;pat-down quot; by government officials.'), (4, 'New drug extends multiple sclerosis options 25/11/2004 - The first in a completely new class of drug for multiple sclerosis has been approved in the US, opening up a new avenue of treatment for sufferers of the debilitating diseases and potential blockbuster revenues for developers Elan and Biogen '), (1, 'Douglas, Fraser, and blue await you Jim McLeod has a great day job, but a seasonal sideline is his  #39; #39;tree #39; #39; calling. Throughout the year, he #39;s president and owner of a software company called InfoCode Corp.'), (2, \"Four Hurricanes Hurting Florida Economy (AP) AP - Normally at this time of the year, labor contractor Jose Luis Avalos would be assembling a crew of workers who could each earn  #36;1,500 to  #36;2,000 a week in the area's abundant citrus groves.\"), (2, 'Land Rover aims new model at US Land Rover will launch a sports tourer next year in a what is likely to be a test of British carmakers #39; ability to compete in the US.'), (4, 'It may be end of line for narrow track Hurricane forecasters debate the usefulness of the  quot;skinny line quot; in tracking maps, and look at more accurate alternatives.'), (2, 'Tax-Free Bonuses Tagged Out Some taxpayers have been dusting off an old Internal Revenue Service ruling about signing bonuses in baseball contracts and using it to justify skipping payroll taxes and income-tax withholding on signing bonuses generally.'), (4, 'Discovery Channel Tests Power of Licensing By rushing more than 700 products under the American Chopper brand as part of a new in-house licensing program, the cable channel is relying more heavily on licensing to market shows.'), (4, 'More buyers choose artificial Renee McDonald remembers the Christmas trees of her youth: spindly, fake and out of a box. They were hard to put up, and they just didn #39;t smell right.'), (4, 'MetroPCS obtains Cingular air com November 29, 2004, 8:33 AM PT. Wired  amp; Wireless continues its reign as the top IT priority among IT managers due to widespread IP telephony deployment and other network infrastructure upgrades.'), (4, 'Is this the end of IT as we know it? Halsey Minor, CEO of hosted integration provider grand central Communications, has a powerful message for IT: In four years, ... basically the whole notion of enterprise application software is going to be dead. He believes application functionality will instead be available as hosted, pay-per-use services delivered by companies such as Salesforce.com. Putting his money where his mouth is, Minor has recently launched a \\\\$50 million venture capital fund with his own money to fuel on-demand startups. For its part, Grand Central will handle data and process integration between enterprises and multiple on-demand services.'), (4, 'Sony, IBM, Toshiba Give Details of \\'Cell\\' Chip (Reuters) Reuters - IBM , Sony Corp. (6758.T) and\\\\Toshiba Corp. (6502.T) on Monday revealed their plans for the\\\\powerful new \"Cell\" processor the three are jointly producing\\\\to run next-generation computers, game consoles and\\\\televisions.'), (1, 'South Korea, Singapore seal free-trade pact Korea and Singapore sealed a free-trade agreement yesterday that covers nine broad areas, including electronics, finance and intellectual property rights.'), (1, \"With work, Dana-Farber learns from '94 mistakes Nurse Teresa Mazeika has known the woman knitting in the blue reclining chair for months. But she asks Carolyn Harlow her name and birthday anyway, as she approaches with chemotherapy for Harlow's blood cancer. Mazeika, a 17-year nursing veteran at Dana-Farber Cancer Institute, isn't taking any chances that she is about to give the drug to the wrong patient.\"), (4, 'Impact of euro played down The damage to exports caused by a stronger euro has been played down by a member of the European Central Bank #39;s governing council in remarks highlighting the bank #39;s limited concern about the currency #39;s rise.'), (4, 'Click Here for a Free Credit Report Really. We mean it. Finally, a legit way to peek into your personal financial file.'), (1, 'Pinault-Printemps Redoute to sell holding in Rexel LONDON, November 30 (newratings.com) - Pinault-Printemps Redoute SA (PPX.FSE) plans to sell its controlling stake in the electrical parts distributor, Rexel (RXL), to a group of private firms for 1.92 billion (\\\\$2.55 billion).'), (1, 'Local group joins suit to de-list endangered species Bob Briggs wifes family has owned about 1,000 acres of redwood forest off Waddell Creek since 1913. He doesnt clearcut, and logs about once a decade.'), (4, 'Cingular to upgrade wireless data network DECEMBER 01, 2004 (REUTERS) - Cingular Wireless LLC, the largest US wireless telephone company, said yesterday that it would upgrade its network next year to handle high-speed data transmissions.'), (4, \"Intel planning Centrino-like brand for desktops Intel is preparing a marketing strategy that will brand desktop PCs with a similar label that made its Centrino notebook technology a household name, according to sources familiar with the company's plans.\"), (4, 'Reed on track despite science outlook Reed Elsevier on Thursday reiterated that it remained on track to deliver mid to high single-digit earnings-per-share growth this year despite concerns over its science publishing unit.'), (4, 'IBM Quitting Computer Business An era will come to an end when IBM sells off its computer manufacturing business, according to The New York Times. A Chinese company seems the likely buyer and the deal should fetch upward of \\\\$2 billion.'), (4, 'Two top Nokia executives resign HELSINKI: Nokia said the respected head of its networks unit had resigned and another top networks official left in the second major departure of top management in two weeks at the world #39;s largest mobile phone maker.'), (2, 'Bedding Blip? Go Back to Sleep This is getting old. Every time Hidden Gems selection Select Comfort (Nasdaq: SCSS) gets settled in and ready for a long night #39;s rest full of dreams of two-times-in-three-years capital gains, along '), (4, 'IBM reported to be exiting PC business IBM #39;s possible exit from the personal-computer business would be the latest move in what amounts to a long goodbye from a field it pioneered and revolutionized.'), (1, 'Germans plan mass welfare rallies Nationwide protests are set to take place in Germany as cuts in unemployment benefit take effect.'), (1, 'Allianz to fight US court ruling on WTC attacks MUNICH - German insurance concern Allianz said on Tuesday it would fight a US jury decision in New York which doubled the amount of insurance which the leaseholder of the destroyed World Trade Center towers could collect from nine insurance firms.'), (4, 'Automakers sue California over emissions FRESNO, Calif. -- Automobile manufacturers sued on Tuesday to block the world #39;s toughest vehicle emissions standards, adopted by California regulators in September to cut greenhouse gases.'), (1, 'Wineries look to high court for change in shipping rules A customer asked vintner Leon Santoro this week if he could ship a case of wine to the customer #39;s home in New York. Not legally, replied Santoro, general manager of Orfila Vineyards  amp; Winery in Escondido.'), (2, 'Virgin dips its toe into the Pacific SIR Richard Branson did not disappoint with his stunts yesterday, flying into Sydney to promote his international airline Virgin Atlantic.'), (1, 'Virgin wishing for Melbourne Sir Richard said yesterday Melbourne was on his wish list, with flights to London possibly through Hong Kong or Bangkok. The British billionaire landed in Sydney yesterday aboard Virgin Atlantic #39;s inaugural Australian flight.'), (2, 'Get Real? This time last week, first lady Laura Bush was having what she might call her Christmas Tree Day. First, she showed off the decorated executive mansion to reporters and then joined her husband '), (2, 'Without Batting An Eyelash : A very French welcome for a new &lt;b&gt;...&lt;/b&gt; THAT night, it seemed as if three or four parties were going on at once in Cosmo Manille. Wrong, palanggas. Actually, there were five in Makati alone, and one of them had a stream of traffic '), (4, 'Amazon #39;s UK DVD Rentals Might Presage War with Netflix Analysts said Amazon #39;s launch of the DVD rental service in the UK might be to test its approach and streamline the logistically difficult process of handling DVDs through the mail.'), (4, 'Opel to cut payroll by 9,500 Opel gets by without layoffs. Readers taking in these and similar headlines earlier this week were well advised to read the fine print.'), (1, 'Premier swallows Bird #39;s custard Bird #39;s custard and Angel Delight are back in British hands after a 70m deal announced yesterday. The famous brands have been bought by Premier Foods, owner of Ambrosia custard and Rowntrees jelly, from the US food group Kraft.'), (1, \"Japan's comics retool the art Animation in America once meant Mickey Mouse and Winnie the Pooh. These days, it's just as likely to mean Japanese fighting cyborgs, doe-eyed schoolgirls, and sinister monsters -- thanks in large part to people like John Ledford.\"), (4, \"Cardinal Picks a Lilly Cardinal Health's deal with Lilly suggests the new fee-for-service model is gaining traction.\"), (4, 'Crunch Time for Biotech Companies Washington area biotech companies will face pivotal moments this year, finding out whether key products work before money dries up, fending off competition from bigger companies,  and, perhaps filing to go public.'), (4, 'Report: Construction boom ahead A report released on Monday by the Washington-based Brookings Institution says that half of the residential, commercial and industrial buildings that will be up in 2030 in the largest metropolitan areas don #39;t yet exist.'), (1, 'Indonesian diplomats asked to help improve RI #39;s bad image JAKARTA (Antara): President Susilo Yudhoyono asked Indonesian diplomats on Monday to help the government improve Indonesia #39;s bad image.'), (4, 'Do-not-call bill could be introduced today The federal government hopes to introduce legislation today to establish a do-not-call registry for consumers who want to stop endless telemarketing pitches.'), (4, \"GM, Daimler Go Green Team-up will help the companies compete and fill gaps in both firms' portfolios.\"), (4, 'Family takes helm at Bombardier Canada #39;s Bombardier family has taken back management control of the troubled transport equipment maker that bears its name following the sudden departure of Paul Tellier, chief executive.'), (2, \"Fashionably late What do women want? Luciano Manganella, the owner of the trendy Boston women's boutique JasmineSola, has a pretty good idea. And now after 34 years in business, he's plotting a major expansion.\"), (4, \"Five Times for the Fed Plus, Intel's still straining, revenge of the nerds, and a \\\\$13 billion Christmas present?\"), (4, 'China succeeds in cooling economy, but 2005 likely to prove just as tough (AFP) AFP - China can claim some success in the battle to cool its roaring economy in 2004 with a series of macro policies helping prevent another boom-bust cycle, but much remains to be done if Beijing is to avoid increasing wrangles with trade partners.'), (4, 'Time warner in \\\\$600m setttlement Time Warner is to announce today that it will pay between \\\\$500 and \\\\$600 million to settle federal investigations into irregularities at America Online, according to reports in the American press.'), (4, '\\\\$210M Fine In AOL Probe WASHINGTON (CBS) America Online has agreed to pay a \\\\$210 million fine to settle a Justice Department investigation of securities fraud, a department official tells CBS News.'), (1, 'Bush Pledges Strong-Dollar Policy President Bush meets with Italian Prime Minister Silvio Berlusconi in the Oval Office of the White House, Wednesday, Dec. 15, 2004, in Washington.'), (4, 'Google Wins Trademark Victory Over GEICO  ALEXANDRIA, Va. (Reuters) - A federal judge on Wednesday  handed online search engine Google Inc. &lt;A HREF=\"http://www.investor.reuters.com/FullQuote.aspx?ticker=GOOG.O target=/stocks/quickinfo/fullquote\"&gt;GOOG.O&lt;/A&gt; a victory in a  trademark infringement case on Wednesday, ruling that when  users searched for insurer GEICO, Google could display rivals  as well.'), (1, 'Japan govt body to call for 5.7 billion dollar aid to Daiei (AFP) AFP - A Japanese government-backed organization will ask financial institutions to provide troubled retailer Daiei with 600 billion yen (5.7 billion dollars) in financial assistance.'), (4, 'Time Warner settles AOL investigations for \\\\$510 million Time Warner will pay \\\\$210 million to defer a Justice Department investigation into accounting irregularities at its Dulles-based America Online unit.'), (4, 'Broadband charges set to tumble The cost of broadband internet access is likely to fall after Ofcom ordered British Telecom to cut the amount it charges internet providers.'), (4, 'FCC Mulls Airborne Mobile Phone Use Although there may have been technical limitations at the time the cell phone ban was established, according to IDC #39;s Shiv Bakhshi, it is unclear why the ban has remained in place, given that '), (1, 'Guidant merges with Johnson and Johnson Indianapolis, Dec. 16 - An announcement Thursday morning ends weeks of speculation and means that if Guidant shareholders sign off, Indiana will lose one of its few Fortune 500 companies.'), (4, 'EBay gets into rentals EBay plans to buy the apartment and home rental service Rent.com for \\\\$415 million, adding to its already exhaustive breadth of offerings.')]})\n"
          ]
        }
      ]
    },
    {
      "cell_type": "code",
      "source": [
        "# Access and print all keys\n",
        "keys = misclf_data1.keys()\n",
        "print(keys)\n",
        "keys = misclf_data2.keys()\n",
        "print(keys)\n",
        "keys = misclf_data3.keys()\n",
        "print(keys)\n",
        "keys = misclf_data4.keys()\n",
        "print(keys)\n",
        "keys = misclf_data5.keys()\n",
        "print(keys)\n",
        "keys = misclf_data6.keys()\n",
        "print(keys)"
      ],
      "metadata": {
        "colab": {
          "base_uri": "https://localhost:8080/"
        },
        "id": "Rg10L8p_wJ9E",
        "outputId": "475abe0d-503a-42d4-e80b-55aa7f277805"
      },
      "execution_count": 19,
      "outputs": [
        {
          "output_type": "stream",
          "name": "stdout",
          "text": [
            "dict_keys([4, 1, 2, 3])\n",
            "dict_keys([4, 1, 3, 2])\n",
            "dict_keys([3, 4, 2, 1])\n",
            "dict_keys([4, 1, 3, 2])\n",
            "dict_keys([3, 4, 1, 2])\n",
            "dict_keys([3, 4, 1, 2])\n"
          ]
        }
      ]
    },
    {
      "cell_type": "code",
      "source": [
        "def find_common_texts_across_models(common_classes, *models):\n",
        "    common_texts_per_class = {}\n",
        "    for class_label in common_classes:\n",
        "        # Initialize list of sets containing texts for each model\n",
        "        model_texts = [set((text for _, text in model[class_label])) for model in models if class_label in model]\n",
        "\n",
        "        # Find intersection of all sets (common texts across all models)\n",
        "        common_texts = set.intersection(*model_texts) if model_texts else set()\n",
        "\n",
        "        # Store the common texts for this class\n",
        "        common_texts_per_class[class_label] = list(common_texts)\n",
        "\n",
        "    return common_texts_per_class\n",
        "\n",
        "a=common_texts_per_class = find_common_texts_across_models(\n",
        "    [1,2,3,4],\n",
        "    misclf_data1,\n",
        "    misclf_data2,\n",
        "    misclf_data3,\n",
        "    misclf_data4,\n",
        "    misclf_data5,\n",
        "    misclf_data6\n",
        ")\n",
        "\n",
        "print(\"Texts that were missclassified by all of the models, displayed for each class:\")\n",
        "print(\"World\",len(a[1]))\n",
        "print(\"Sports\",len(a[2]))\n",
        "print(\"Business\",len(a[3]))\n",
        "print(\"Sci/Tech\",len(a[4]))"
      ],
      "metadata": {
        "colab": {
          "base_uri": "https://localhost:8080/"
        },
        "id": "uurt9WtUY6Fw",
        "outputId": "bdedb062-07c9-44e7-b9b6-0ad56dbc6bcc"
      },
      "execution_count": 20,
      "outputs": [
        {
          "output_type": "stream",
          "name": "stdout",
          "text": [
            "Texts that were missclassified by all of the models, displayed for each class:\n",
            "World 113\n",
            "Sports 16\n",
            "Business 118\n",
            "Sci/Tech 73\n"
          ]
        }
      ]
    },
    {
      "cell_type": "code",
      "source": [
        "import random\n",
        "\n",
        "def display_random_common_text_and_predictions(common_texts_per_class, *models):\n",
        "    # Filter classes with at least one common text\n",
        "    classes_with_texts = {class_label: texts for class_label, texts in common_texts_per_class.items() if texts}\n",
        "\n",
        "    if not classes_with_texts:\n",
        "        print(\"No common misclassified texts found across all models.\")\n",
        "        return\n",
        "\n",
        "    # Randomly select a class that has misclassified texts\n",
        "    chosen_class = random.choice(list(classes_with_texts.keys()))\n",
        "    # Randomly select a text from this class\n",
        "    chosen_text = random.choice(classes_with_texts[chosen_class])\n",
        "\n",
        "    print(f\"Randomly selected misclassified text from Class {chosen_class}: '{chosen_text}'\")\n",
        "\n",
        "    # Display predictions for the selected text from each model\n",
        "    for idx, model in enumerate(models, 1):\n",
        "        # Find the prediction for the chosen text in the current model's data for the chosen class\n",
        "        prediction = [pred for pred, text in model.get(chosen_class, []) if text == chosen_text]\n",
        "        if prediction:\n",
        "            print(f\"Model {idx} predicted as: {prediction[0]}\")\n",
        "        else:\n",
        "            print(f\"Model {idx} did not misclassify this text.\")\n",
        "\n",
        "    return chosen_class, chosen_text\n",
        "\n",
        "\n",
        "\n",
        "# Call the function to display a random text and its predictions\n",
        "misclass, txt = display_random_common_text_and_predictions(a, misclf_data1, misclf_data2, misclf_data3, misclf_data4, misclf_data5, misclf_data6)\n"
      ],
      "metadata": {
        "colab": {
          "base_uri": "https://localhost:8080/"
        },
        "id": "wjjE1sX8d7p_",
        "outputId": "d7f96d8f-6329-4da7-9f58-31bc8d63070e"
      },
      "execution_count": 21,
      "outputs": [
        {
          "output_type": "stream",
          "name": "stdout",
          "text": [
            "Randomly selected misclassified text from Class 3: 'Judge asked to penalize Microsoft over e-mails Burst.com asked a US judge to penalize Microsoft for destroying e-mails it says the world #39;s largest software company should have preserved as evidence in antitrust suits.'\n",
            "Model 1 predicted as: 4\n",
            "Model 2 predicted as: 4\n",
            "Model 3 predicted as: 4\n",
            "Model 4 predicted as: 4\n",
            "Model 5 predicted as: 4\n",
            "Model 6 predicted as: 4\n"
          ]
        }
      ]
    },
    {
      "cell_type": "code",
      "source": [
        "# Finding an exact match\n",
        "for idx, text in misclf_data1[misclass]:\n",
        "    if text == txt:\n",
        "        print(f\"Model 1 found exact match that was predicted as {idx}: {text} \")\n",
        "        break\n",
        "else:\n",
        "    print(\"No exact match found.\")\n",
        "\n",
        "# Finding an exact match\n",
        "for idx, text in misclf_data2[misclass]:\n",
        "    if text == txt:\n",
        "        print(f\"Model 2 found exact match that was predicted as {idx}: {text} \")\n",
        "        break\n",
        "else:\n",
        "    print(\"No exact match found.\")\n",
        "\n",
        "# Finding an exact match\n",
        "for idx, text in misclf_data3[misclass]:\n",
        "    if text == txt:\n",
        "        print(f\"Model 3 found exact match that was predicted as {idx}: {text} \")\n",
        "        break\n",
        "else:\n",
        "    print(\"No exact match found.\")\n",
        "\n",
        "\n",
        "# Finding an exact match\n",
        "for idx, text in misclf_data4[misclass]:\n",
        "    if text == txt:\n",
        "        print(f\"Model 4 found exact match that was predicted as {idx}: {text} \")\n",
        "        break\n",
        "else:\n",
        "    print(\"No exact match found.\")\n",
        "\n",
        "# Finding an exact match\n",
        "for idx, text in misclf_data5[misclass]:\n",
        "    if text == txt:\n",
        "        print(f\"Model 5 found exact match that was predicted as {idx}: {text} \")\n",
        "        break\n",
        "else:\n",
        "    print(\"No exact match found.\")\n",
        "\n",
        "# Finding an exact match\n",
        "for idx, text in misclf_data6[misclass]:\n",
        "    if text == txt:\n",
        "        print(f\"Model 6 found exact match that was predicted as {idx}: {text} \")\n",
        "        break\n",
        "else:\n",
        "    print(\"No exact match found.\")"
      ],
      "metadata": {
        "colab": {
          "base_uri": "https://localhost:8080/"
        },
        "id": "iTWef1cYehep",
        "outputId": "be70bfc4-8810-45b2-ce2d-f441e2ee60af"
      },
      "execution_count": 22,
      "outputs": [
        {
          "output_type": "stream",
          "name": "stdout",
          "text": [
            "Model 1 found exact match that was predicted as 4: Judge asked to penalize Microsoft over e-mails Burst.com asked a US judge to penalize Microsoft for destroying e-mails it says the world #39;s largest software company should have preserved as evidence in antitrust suits. \n",
            "Model 2 found exact match that was predicted as 4: Judge asked to penalize Microsoft over e-mails Burst.com asked a US judge to penalize Microsoft for destroying e-mails it says the world #39;s largest software company should have preserved as evidence in antitrust suits. \n",
            "Model 3 found exact match that was predicted as 4: Judge asked to penalize Microsoft over e-mails Burst.com asked a US judge to penalize Microsoft for destroying e-mails it says the world #39;s largest software company should have preserved as evidence in antitrust suits. \n",
            "Model 4 found exact match that was predicted as 4: Judge asked to penalize Microsoft over e-mails Burst.com asked a US judge to penalize Microsoft for destroying e-mails it says the world #39;s largest software company should have preserved as evidence in antitrust suits. \n",
            "Model 5 found exact match that was predicted as 4: Judge asked to penalize Microsoft over e-mails Burst.com asked a US judge to penalize Microsoft for destroying e-mails it says the world #39;s largest software company should have preserved as evidence in antitrust suits. \n",
            "Model 6 found exact match that was predicted as 4: Judge asked to penalize Microsoft over e-mails Burst.com asked a US judge to penalize Microsoft for destroying e-mails it says the world #39;s largest software company should have preserved as evidence in antitrust suits. \n"
          ]
        }
      ]
    },
    {
      "cell_type": "code",
      "source": [
        "from collections import Counter\n",
        "\n",
        "def find_common_texts_across_models(common_classes, *models):\n",
        "    common_texts_per_class = {}\n",
        "    for class_label in common_classes:\n",
        "        # Initialize list of sets containing texts for each model\n",
        "        model_texts = [set((text for _, text in model[class_label])) for model in models if class_label in model]\n",
        "\n",
        "        # Find intersection of all sets (common texts across all models)\n",
        "        common_texts = set.intersection(*model_texts) if model_texts else set()\n",
        "\n",
        "        # Store the common texts for this class\n",
        "        common_texts_per_class[class_label] = list(common_texts)\n",
        "\n",
        "    return common_texts_per_class\n",
        "\n",
        "def count_common_misclass_pairs(common_texts, models):\n",
        "    misclass_freqs = Counter()\n",
        "\n",
        "    # Iterate through each class and their common misclassified texts\n",
        "    for cls, texts in common_texts.items():\n",
        "        if not texts:\n",
        "            continue  # There are no common misclassified texts for this class\n",
        "\n",
        "        # Count how many times each text is predicted as each label in each model\n",
        "        for text in texts:\n",
        "            for model in models:\n",
        "                for pred_label, model_text in model.get(cls, []):\n",
        "                    if model_text == text:\n",
        "                        # Increment the frequency of this (true_label, predicted_label) pair\n",
        "                        misclass_freqs[(cls, pred_label)] += 1\n",
        "\n",
        "    # Sort the pairs by frequency in descending order before returning\n",
        "    sorted_pairs = sorted(misclass_freqs.items(), key=lambda item: item[1], reverse=True)\n",
        "    return sorted_pairs\n",
        "\n",
        "# Assuming class labels are 1, 2, 3, 4 representing World, Sports, Business, Sci/Tech respectively\n",
        "\n",
        "# Example of using these functions together\n",
        "common_classes = [1, 2, 3, 4]\n",
        "\n",
        "models = [misclf_data1, misclf_data2, misclf_data3, misclf_data4, misclf_data5, misclf_data6]  # These should be already defined dictionaries as described\n",
        "\n",
        "# common_texts = find_common_misclassified_texts(models, common_classes)\n",
        "# sorted_misclass_pairs = count_common_misclass_pairs(common_texts, models)\n",
        "\n",
        "class_names = {\n",
        "    1: \"World\",\n",
        "    2: \"Sports\",\n",
        "    3: \"Business\",\n",
        "    4: \"Sci/Tech\"\n",
        "}\n",
        "\n",
        "# Find common misclassified texts\n",
        "common_texts = find_common_texts_across_models(common_classes, *models)\n",
        "\n",
        "# Count and sort misclassification pairs\n",
        "sorted_misclass_pairs = count_common_misclass_pairs(common_texts, models)\n",
        "\n",
        "\n",
        "# Print the results, now sorted by frequency\n",
        "print(\"Most common Misclassification Pairs:\")\n",
        "for (real_class, predicted_class), frequency in sorted_misclass_pairs:\n",
        "    real_class_name = class_names[real_class]\n",
        "    predicted_class_name = class_names[predicted_class]\n",
        "    print(f\"Real Class: {real_class_name}, Predicted Class: {predicted_class_name}, Frequency: {frequency}\")\n"
      ],
      "metadata": {
        "colab": {
          "base_uri": "https://localhost:8080/"
        },
        "id": "M5afBfm_exeY",
        "outputId": "97034192-1e68-4e15-9ff6-ecf9cfb241e0"
      },
      "execution_count": 23,
      "outputs": [
        {
          "output_type": "stream",
          "name": "stdout",
          "text": [
            "Most common Misclassification Pairs:\n",
            "Real Class: Business, Predicted Class: Sci/Tech, Frequency: 505\n",
            "Real Class: World, Predicted Class: Business, Frequency: 326\n",
            "Real Class: Sci/Tech, Predicted Class: Business, Frequency: 302\n",
            "Real Class: World, Predicted Class: Sports, Frequency: 196\n",
            "Real Class: World, Predicted Class: Sci/Tech, Frequency: 156\n",
            "Real Class: Business, Predicted Class: World, Frequency: 139\n",
            "Real Class: Sci/Tech, Predicted Class: World, Frequency: 96\n",
            "Real Class: Business, Predicted Class: Sports, Frequency: 64\n",
            "Real Class: Sports, Predicted Class: Business, Frequency: 46\n",
            "Real Class: Sci/Tech, Predicted Class: Sports, Frequency: 40\n",
            "Real Class: Sports, Predicted Class: Sci/Tech, Frequency: 26\n",
            "Real Class: Sports, Predicted Class: World, Frequency: 24\n"
          ]
        }
      ]
    },
    {
      "cell_type": "markdown",
      "source": [
        "# MAX WORDS = 50 experiment on dataset loaders\n",
        "\n"
      ],
      "metadata": {
        "id": "laHJ1D5q5pTX"
      }
    },
    {
      "cell_type": "code",
      "source": [
        "MAX_WORDS = 50\n",
        "# All texts are truncated and padded to MAX_WORDS tokens\n",
        "def collate_batch2(batch):\n",
        "    Y, X = list(zip(*batch))\n",
        "    Y = torch.tensor(Y) - 1 # Target names in range [0,1,2,3] instead of [1,2,3,4]\n",
        "    X = [vocab(tokenizer(text)) for text in X]\n",
        "    # Bringing all samples to MAX_WORDS length. Shorter texts are padded with <PAD> sequences, longer texts are truncated.\n",
        "    X = [tokens+([vocab['<PAD>']]* (MAX_WORDS-len(tokens))) if len(tokens)<MAX_WORDS else tokens[:MAX_WORDS] for tokens in X]\n",
        "    return torch.tensor(X, dtype=torch.int32).to(device), Y.to(device)\n",
        "\n",
        "train_loader2 = DataLoader(train_dataset, batch_size=BATCH_SIZE,\n",
        "                              shuffle=True, collate_fn=collate_batch2)\n",
        "test_loader2 = DataLoader(test_dataset, batch_size=BATCH_SIZE,\n",
        "                              shuffle=False, collate_fn=collate_batch2)\n"
      ],
      "metadata": {
        "id": "X9ahISed01js"
      },
      "execution_count": 24,
      "outputs": []
    },
    {
      "cell_type": "code",
      "source": [
        "# Usage example assuming vocab, EMBEDDING_DIM, HIDDEN_DIM, target_classes, device, and LEARNING_RATE are defined\n",
        "classifier7 = model(len(vocab), EMBEDDING_DIM, HIDDEN_DIM, len(target_classes)).to(device)\n",
        "loss_fn7 = nn.CrossEntropyLoss().to(device)\n",
        "optimizer7 = torch.optim.Adam(classifier7.parameters(), lr=LEARNING_RATE)\n",
        "\n",
        "\n",
        "print('\\nModel:')\n",
        "print(classifier7)\n",
        "print('Total parameters: ', count_parameters(classifier7))\n",
        "print('\\n\\n')\n",
        "\n",
        "epoch_durations7 = TrainModel(classifier7, loss_fn7, optimizer7, train_loader2, EPOCHS)\n",
        "# Calculate and print the average duration per epoch\n",
        "average_duration7 = sum(epoch_durations7) / len(epoch_durations7)\n",
        "print(f\"Average training time per epoch: {average_duration7:.2f} seconds\")\n",
        "\n",
        "######################################################################\n",
        "# Evaluate the model with test dataset\n",
        "# ------------------------------------\n",
        "\n",
        "_, Y_actual, Y_preds, misclf_data7 = EvaluateModel(classifier7, loss_fn7, test_loader2, test_data[\"text\"])\n",
        "\n",
        "print(\"\\nTest Accuracy : {:.3f}\".format(accuracy_score(Y_actual, Y_preds)))\n",
        "print(\"\\nClassification Report : \")\n",
        "print(classification_report(Y_actual, Y_preds, target_names=target_classes))\n",
        "print(\"\\nConfusion Matrix : \")\n",
        "print(confusion_matrix(Y_actual, Y_preds))"
      ],
      "metadata": {
        "colab": {
          "base_uri": "https://localhost:8080/"
        },
        "id": "AARERu6pycUT",
        "outputId": "7d099c5d-5652-4566-fcaf-01844c056d50"
      },
      "execution_count": 25,
      "outputs": [
        {
          "output_type": "stream",
          "name": "stdout",
          "text": [
            "\n",
            "Model:\n",
            "model(\n",
            "  (embedding_layer): Embedding(21254, 100)\n",
            "  (rnn): RNN(100, 64, batch_first=True)\n",
            "  (linear): Linear(in_features=64, out_features=4, bias=True)\n",
            ")\n",
            "Total parameters:  2136284\n",
            "\n",
            "\n",
            "\n",
            "Epoch: 1\n"
          ]
        },
        {
          "output_type": "stream",
          "name": "stderr",
          "text": [
            "100%|██████████| 118/118 [00:04<00:00, 26.55it/s]\n"
          ]
        },
        {
          "output_type": "stream",
          "name": "stdout",
          "text": [
            "Train Loss : 1.373\n",
            "Epoch 1/15 - Duration: 4.45 seconds \n",
            "Epoch: 2\n"
          ]
        },
        {
          "output_type": "stream",
          "name": "stderr",
          "text": [
            "100%|██████████| 118/118 [00:04<00:00, 25.39it/s]\n"
          ]
        },
        {
          "output_type": "stream",
          "name": "stdout",
          "text": [
            "Train Loss : 1.337\n",
            "Epoch 2/15 - Duration: 4.65 seconds \n",
            "Epoch: 3\n"
          ]
        },
        {
          "output_type": "stream",
          "name": "stderr",
          "text": [
            "100%|██████████| 118/118 [00:04<00:00, 26.68it/s]\n"
          ]
        },
        {
          "output_type": "stream",
          "name": "stdout",
          "text": [
            "Train Loss : 1.305\n",
            "Epoch 3/15 - Duration: 4.43 seconds \n",
            "Epoch: 4\n"
          ]
        },
        {
          "output_type": "stream",
          "name": "stderr",
          "text": [
            "100%|██████████| 118/118 [00:04<00:00, 25.61it/s]\n"
          ]
        },
        {
          "output_type": "stream",
          "name": "stdout",
          "text": [
            "Train Loss : 1.319\n",
            "Epoch 4/15 - Duration: 4.62 seconds \n",
            "Epoch: 5\n"
          ]
        },
        {
          "output_type": "stream",
          "name": "stderr",
          "text": [
            "100%|██████████| 118/118 [00:04<00:00, 26.47it/s]\n"
          ]
        },
        {
          "output_type": "stream",
          "name": "stdout",
          "text": [
            "Train Loss : 1.287\n",
            "Epoch 5/15 - Duration: 4.46 seconds \n",
            "Epoch: 6\n"
          ]
        },
        {
          "output_type": "stream",
          "name": "stderr",
          "text": [
            "100%|██████████| 118/118 [00:04<00:00, 25.36it/s]\n"
          ]
        },
        {
          "output_type": "stream",
          "name": "stdout",
          "text": [
            "Train Loss : 1.238\n",
            "Epoch 6/15 - Duration: 4.66 seconds \n",
            "Epoch: 7\n"
          ]
        },
        {
          "output_type": "stream",
          "name": "stderr",
          "text": [
            "100%|██████████| 118/118 [00:04<00:00, 26.01it/s]\n"
          ]
        },
        {
          "output_type": "stream",
          "name": "stdout",
          "text": [
            "Train Loss : 1.207\n",
            "Epoch 7/15 - Duration: 4.54 seconds \n",
            "Epoch: 8\n"
          ]
        },
        {
          "output_type": "stream",
          "name": "stderr",
          "text": [
            "100%|██████████| 118/118 [00:04<00:00, 25.66it/s]\n"
          ]
        },
        {
          "output_type": "stream",
          "name": "stdout",
          "text": [
            "Train Loss : 1.194\n",
            "Epoch 8/15 - Duration: 4.60 seconds \n",
            "Epoch: 9\n"
          ]
        },
        {
          "output_type": "stream",
          "name": "stderr",
          "text": [
            "100%|██████████| 118/118 [00:04<00:00, 25.87it/s]\n"
          ]
        },
        {
          "output_type": "stream",
          "name": "stdout",
          "text": [
            "Train Loss : 1.182\n",
            "Epoch 9/15 - Duration: 4.57 seconds \n",
            "Epoch: 10\n"
          ]
        },
        {
          "output_type": "stream",
          "name": "stderr",
          "text": [
            "100%|██████████| 118/118 [00:04<00:00, 26.81it/s]\n"
          ]
        },
        {
          "output_type": "stream",
          "name": "stdout",
          "text": [
            "Train Loss : 1.162\n",
            "Epoch 10/15 - Duration: 4.41 seconds \n",
            "Epoch: 11\n"
          ]
        },
        {
          "output_type": "stream",
          "name": "stderr",
          "text": [
            "100%|██████████| 118/118 [00:04<00:00, 26.41it/s]\n"
          ]
        },
        {
          "output_type": "stream",
          "name": "stdout",
          "text": [
            "Train Loss : 1.189\n",
            "Epoch 11/15 - Duration: 4.47 seconds \n",
            "Epoch: 12\n"
          ]
        },
        {
          "output_type": "stream",
          "name": "stderr",
          "text": [
            "100%|██████████| 118/118 [00:04<00:00, 26.09it/s]\n"
          ]
        },
        {
          "output_type": "stream",
          "name": "stdout",
          "text": [
            "Train Loss : 1.216\n",
            "Epoch 12/15 - Duration: 4.53 seconds \n",
            "Epoch: 13\n"
          ]
        },
        {
          "output_type": "stream",
          "name": "stderr",
          "text": [
            "100%|██████████| 118/118 [00:04<00:00, 25.98it/s]\n"
          ]
        },
        {
          "output_type": "stream",
          "name": "stdout",
          "text": [
            "Train Loss : 1.169\n",
            "Epoch 13/15 - Duration: 4.55 seconds \n",
            "Epoch: 14\n"
          ]
        },
        {
          "output_type": "stream",
          "name": "stderr",
          "text": [
            "100%|██████████| 118/118 [00:04<00:00, 26.60it/s]\n"
          ]
        },
        {
          "output_type": "stream",
          "name": "stdout",
          "text": [
            "Train Loss : 1.243\n",
            "Epoch 14/15 - Duration: 4.44 seconds \n",
            "Epoch: 15\n"
          ]
        },
        {
          "output_type": "stream",
          "name": "stderr",
          "text": [
            "100%|██████████| 118/118 [00:04<00:00, 26.22it/s]\n"
          ]
        },
        {
          "output_type": "stream",
          "name": "stdout",
          "text": [
            "Train Loss : 1.276\n",
            "Epoch 15/15 - Duration: 4.51 seconds \n",
            "Average training time per epoch: 4.53 seconds\n",
            "\n",
            "Test Accuracy : 0.439\n",
            "\n",
            "Classification Report : \n",
            "              precision    recall  f1-score   support\n",
            "\n",
            "       World       0.48      0.82      0.60      1900\n",
            "      Sports       0.64      0.10      0.17      1900\n",
            "    Business       0.49      0.24      0.32      1900\n",
            "    Sci/Tech       0.36      0.59      0.45      1900\n",
            "\n",
            "    accuracy                           0.44      7600\n",
            "   macro avg       0.49      0.44      0.39      7600\n",
            "weighted avg       0.49      0.44      0.39      7600\n",
            "\n",
            "\n",
            "Confusion Matrix : \n",
            "[[1558   26  101  215]\n",
            " [ 941  190   83  686]\n",
            " [ 315   33  460 1092]\n",
            " [ 437   49  288 1126]]\n"
          ]
        }
      ]
    },
    {
      "cell_type": "code",
      "source": [
        "# Usage example assuming vocab2, EMBEDDING_DIM, HIDDEN_DIM, target_classes, device, and LEARNING_RATE are defined\n",
        "classifier8 = BiRNN1(len(vocab), EMBEDDING_DIM, HIDDEN_DIM, len(target_classes)).to(device)\n",
        "loss_fn8 = nn.CrossEntropyLoss().to(device)\n",
        "optimizer8 = torch.optim.Adam(classifier8.parameters(), lr=LEARNING_RATE)\n",
        "\n",
        "\n",
        "print('\\nModel:')\n",
        "print(classifier8)\n",
        "print('Total parameters: ', count_parameters(classifier8))\n",
        "print('\\n\\n')\n",
        "\n",
        "epoch_durations8 = TrainModel(classifier8, loss_fn8, optimizer8, train_loader2, EPOCHS)\n",
        "# Calculate and print the average duration per epoch\n",
        "average_duration8 = sum(epoch_durations8) / len(epoch_durations8)\n",
        "print(f\"Average training time per epoch: {average_duration8:.2f} seconds\")\n",
        "\n",
        "######################################################################\n",
        "# Evaluate the model with test dataset\n",
        "# ------------------------------------\n",
        "\n",
        "_, Y_actual, Y_preds, misclf_data8 = EvaluateModel(classifier8, loss_fn8, test_loader2, test_data[\"text\"])\n",
        "\n",
        "print(\"\\nTest Accuracy : {:.3f}\".format(accuracy_score(Y_actual, Y_preds)))\n",
        "print(\"\\nClassification Report : \")\n",
        "print(classification_report(Y_actual, Y_preds, target_names=target_classes))\n",
        "print(\"\\nConfusion Matrix : \")\n",
        "print(confusion_matrix(Y_actual, Y_preds))"
      ],
      "metadata": {
        "colab": {
          "base_uri": "https://localhost:8080/"
        },
        "id": "iVsxifzR21WJ",
        "outputId": "fc57c145-8412-4b7b-9f41-dce6d6a44fa0"
      },
      "execution_count": 26,
      "outputs": [
        {
          "output_type": "stream",
          "name": "stdout",
          "text": [
            "\n",
            "Model:\n",
            "BiRNN1(\n",
            "  (embedding_layer): Embedding(21254, 100)\n",
            "  (rnn): RNN(100, 64, batch_first=True, bidirectional=True)\n",
            "  (linear): Linear(in_features=128, out_features=4, bias=True)\n",
            ")\n",
            "Total parameters:  2147164\n",
            "\n",
            "\n",
            "\n",
            "Epoch: 1\n"
          ]
        },
        {
          "output_type": "stream",
          "name": "stderr",
          "text": [
            "100%|██████████| 118/118 [00:04<00:00, 25.55it/s]\n"
          ]
        },
        {
          "output_type": "stream",
          "name": "stdout",
          "text": [
            "Train Loss : 1.262\n",
            "Epoch 1/15 - Duration: 4.62 seconds \n",
            "Epoch: 2\n"
          ]
        },
        {
          "output_type": "stream",
          "name": "stderr",
          "text": [
            "100%|██████████| 118/118 [00:04<00:00, 24.08it/s]\n"
          ]
        },
        {
          "output_type": "stream",
          "name": "stdout",
          "text": [
            "Train Loss : 1.033\n",
            "Epoch 2/15 - Duration: 4.91 seconds \n",
            "Epoch: 3\n"
          ]
        },
        {
          "output_type": "stream",
          "name": "stderr",
          "text": [
            "100%|██████████| 118/118 [00:04<00:00, 25.30it/s]\n"
          ]
        },
        {
          "output_type": "stream",
          "name": "stdout",
          "text": [
            "Train Loss : 0.952\n",
            "Epoch 3/15 - Duration: 4.67 seconds \n",
            "Epoch: 4\n"
          ]
        },
        {
          "output_type": "stream",
          "name": "stderr",
          "text": [
            "100%|██████████| 118/118 [00:04<00:00, 24.53it/s]\n"
          ]
        },
        {
          "output_type": "stream",
          "name": "stdout",
          "text": [
            "Train Loss : 0.909\n",
            "Epoch 4/15 - Duration: 4.82 seconds \n",
            "Epoch: 5\n"
          ]
        },
        {
          "output_type": "stream",
          "name": "stderr",
          "text": [
            "100%|██████████| 118/118 [00:04<00:00, 24.81it/s]\n"
          ]
        },
        {
          "output_type": "stream",
          "name": "stdout",
          "text": [
            "Train Loss : 0.887\n",
            "Epoch 5/15 - Duration: 4.76 seconds \n",
            "Epoch: 6\n"
          ]
        },
        {
          "output_type": "stream",
          "name": "stderr",
          "text": [
            "100%|██████████| 118/118 [00:04<00:00, 25.59it/s]\n"
          ]
        },
        {
          "output_type": "stream",
          "name": "stdout",
          "text": [
            "Train Loss : 0.872\n",
            "Epoch 6/15 - Duration: 4.62 seconds \n",
            "Epoch: 7\n"
          ]
        },
        {
          "output_type": "stream",
          "name": "stderr",
          "text": [
            "100%|██████████| 118/118 [00:04<00:00, 25.13it/s]\n"
          ]
        },
        {
          "output_type": "stream",
          "name": "stdout",
          "text": [
            "Train Loss : 0.861\n",
            "Epoch 7/15 - Duration: 4.70 seconds \n",
            "Epoch: 8\n"
          ]
        },
        {
          "output_type": "stream",
          "name": "stderr",
          "text": [
            "100%|██████████| 118/118 [00:04<00:00, 25.36it/s]\n"
          ]
        },
        {
          "output_type": "stream",
          "name": "stdout",
          "text": [
            "Train Loss : 0.852\n",
            "Epoch 8/15 - Duration: 4.66 seconds \n",
            "Epoch: 9\n"
          ]
        },
        {
          "output_type": "stream",
          "name": "stderr",
          "text": [
            "100%|██████████| 118/118 [00:04<00:00, 24.23it/s]\n"
          ]
        },
        {
          "output_type": "stream",
          "name": "stdout",
          "text": [
            "Train Loss : 0.846\n",
            "Epoch 9/15 - Duration: 4.87 seconds \n",
            "Epoch: 10\n"
          ]
        },
        {
          "output_type": "stream",
          "name": "stderr",
          "text": [
            "100%|██████████| 118/118 [00:04<00:00, 24.88it/s]\n"
          ]
        },
        {
          "output_type": "stream",
          "name": "stdout",
          "text": [
            "Train Loss : 0.839\n",
            "Epoch 10/15 - Duration: 4.75 seconds \n",
            "Epoch: 11\n"
          ]
        },
        {
          "output_type": "stream",
          "name": "stderr",
          "text": [
            "100%|██████████| 118/118 [00:04<00:00, 25.66it/s]\n"
          ]
        },
        {
          "output_type": "stream",
          "name": "stdout",
          "text": [
            "Train Loss : 0.836\n",
            "Epoch 11/15 - Duration: 4.60 seconds \n",
            "Epoch: 12\n"
          ]
        },
        {
          "output_type": "stream",
          "name": "stderr",
          "text": [
            "100%|██████████| 118/118 [00:04<00:00, 24.93it/s]\n"
          ]
        },
        {
          "output_type": "stream",
          "name": "stdout",
          "text": [
            "Train Loss : 0.832\n",
            "Epoch 12/15 - Duration: 4.74 seconds \n",
            "Epoch: 13\n"
          ]
        },
        {
          "output_type": "stream",
          "name": "stderr",
          "text": [
            "100%|██████████| 118/118 [00:04<00:00, 24.44it/s]\n"
          ]
        },
        {
          "output_type": "stream",
          "name": "stdout",
          "text": [
            "Train Loss : 0.828\n",
            "Epoch 13/15 - Duration: 4.84 seconds \n",
            "Epoch: 14\n"
          ]
        },
        {
          "output_type": "stream",
          "name": "stderr",
          "text": [
            "100%|██████████| 118/118 [00:04<00:00, 25.58it/s]\n"
          ]
        },
        {
          "output_type": "stream",
          "name": "stdout",
          "text": [
            "Train Loss : 0.828\n",
            "Epoch 14/15 - Duration: 4.62 seconds \n",
            "Epoch: 15\n"
          ]
        },
        {
          "output_type": "stream",
          "name": "stderr",
          "text": [
            "100%|██████████| 118/118 [00:04<00:00, 24.92it/s]\n"
          ]
        },
        {
          "output_type": "stream",
          "name": "stdout",
          "text": [
            "Train Loss : 0.824\n",
            "Epoch 15/15 - Duration: 4.74 seconds \n",
            "Average training time per epoch: 4.73 seconds\n",
            "\n",
            "Test Accuracy : 0.877\n",
            "\n",
            "Classification Report : \n",
            "              precision    recall  f1-score   support\n",
            "\n",
            "       World       0.89      0.88      0.88      1900\n",
            "      Sports       0.94      0.94      0.94      1900\n",
            "    Business       0.84      0.84      0.84      1900\n",
            "    Sci/Tech       0.85      0.85      0.85      1900\n",
            "\n",
            "    accuracy                           0.88      7600\n",
            "   macro avg       0.88      0.88      0.88      7600\n",
            "weighted avg       0.88      0.88      0.88      7600\n",
            "\n",
            "\n",
            "Confusion Matrix : \n",
            "[[1665   72  108   55]\n",
            " [  50 1793   11   46]\n",
            " [ 101   19 1589  191]\n",
            " [  60   28  194 1618]]\n"
          ]
        }
      ]
    },
    {
      "cell_type": "code",
      "source": [
        "# Usage example assuming vocab, EMBEDDING_DIM, HIDDEN_DIM, target_classes, device, and LEARNING_RATE are defined\n",
        "classifier9 = BiRNN2(len(vocab), EMBEDDING_DIM, HIDDEN_DIM, len(target_classes)).to(device)\n",
        "loss_fn9 = nn.CrossEntropyLoss().to(device)\n",
        "optimizer9 = torch.optim.Adam(classifier9.parameters(), lr=LEARNING_RATE)\n",
        "\n",
        "\n",
        "print('\\nModel:')\n",
        "print(classifier9)\n",
        "print('Total parameters: ', count_parameters(classifier9))\n",
        "print('\\n\\n')\n",
        "\n",
        "epoch_durations9= TrainModel(classifier9, loss_fn9, optimizer9, train_loader2, EPOCHS)\n",
        "# Calculate and print the average duration per epoch\n",
        "average_duration9 = sum(epoch_durations9) / len(epoch_durations9)\n",
        "print(f\"Average training time per epoch: {average_duration9:.2f} seconds\")\n",
        "\n",
        "######################################################################\n",
        "# Evaluate the model with test dataset\n",
        "# ------------------------------------\n",
        "\n",
        "_, Y_actual, Y_preds, misclf_data9 = EvaluateModel(classifier9, loss_fn9, test_loader2, test_data[\"text\"])\n",
        "\n",
        "print(\"\\nTest Accuracy : {:.3f}\".format(accuracy_score(Y_actual, Y_preds)))\n",
        "print(\"\\nClassification Report : \")\n",
        "print(classification_report(Y_actual, Y_preds, target_names=target_classes))\n",
        "print(\"\\nConfusion Matrix : \")\n",
        "print(confusion_matrix(Y_actual, Y_preds))"
      ],
      "metadata": {
        "colab": {
          "base_uri": "https://localhost:8080/"
        },
        "id": "i3EEv1wuycur",
        "outputId": "afad961f-303e-45b7-f29e-281fd059ccd4"
      },
      "execution_count": 27,
      "outputs": [
        {
          "output_type": "stream",
          "name": "stdout",
          "text": [
            "\n",
            "Model:\n",
            "BiRNN2(\n",
            "  (embedding_layer): Embedding(21254, 100)\n",
            "  (rnn): RNN(100, 64, num_layers=2, batch_first=True, bidirectional=True)\n",
            "  (linear): Linear(in_features=128, out_features=4, bias=True)\n",
            ")\n",
            "Total parameters:  2171996\n",
            "\n",
            "\n",
            "\n",
            "Epoch: 1\n"
          ]
        },
        {
          "output_type": "stream",
          "name": "stderr",
          "text": [
            "100%|██████████| 118/118 [00:04<00:00, 24.13it/s]\n"
          ]
        },
        {
          "output_type": "stream",
          "name": "stdout",
          "text": [
            "Train Loss : 1.229\n",
            "Epoch 1/15 - Duration: 4.90 seconds \n",
            "Epoch: 2\n"
          ]
        },
        {
          "output_type": "stream",
          "name": "stderr",
          "text": [
            "100%|██████████| 118/118 [00:05<00:00, 23.46it/s]\n"
          ]
        },
        {
          "output_type": "stream",
          "name": "stdout",
          "text": [
            "Train Loss : 1.020\n",
            "Epoch 2/15 - Duration: 5.03 seconds \n",
            "Epoch: 3\n"
          ]
        },
        {
          "output_type": "stream",
          "name": "stderr",
          "text": [
            "100%|██████████| 118/118 [00:05<00:00, 23.43it/s]\n"
          ]
        },
        {
          "output_type": "stream",
          "name": "stdout",
          "text": [
            "Train Loss : 0.955\n",
            "Epoch 3/15 - Duration: 5.04 seconds \n",
            "Epoch: 4\n"
          ]
        },
        {
          "output_type": "stream",
          "name": "stderr",
          "text": [
            "100%|██████████| 118/118 [00:04<00:00, 23.85it/s]\n"
          ]
        },
        {
          "output_type": "stream",
          "name": "stdout",
          "text": [
            "Train Loss : 0.923\n",
            "Epoch 4/15 - Duration: 4.95 seconds \n",
            "Epoch: 5\n"
          ]
        },
        {
          "output_type": "stream",
          "name": "stderr",
          "text": [
            "100%|██████████| 118/118 [00:05<00:00, 23.58it/s]\n"
          ]
        },
        {
          "output_type": "stream",
          "name": "stdout",
          "text": [
            "Train Loss : 0.906\n",
            "Epoch 5/15 - Duration: 5.01 seconds \n",
            "Epoch: 6\n"
          ]
        },
        {
          "output_type": "stream",
          "name": "stderr",
          "text": [
            "100%|██████████| 118/118 [00:04<00:00, 23.81it/s]\n"
          ]
        },
        {
          "output_type": "stream",
          "name": "stdout",
          "text": [
            "Train Loss : 0.893\n",
            "Epoch 6/15 - Duration: 4.96 seconds \n",
            "Epoch: 7\n"
          ]
        },
        {
          "output_type": "stream",
          "name": "stderr",
          "text": [
            "100%|██████████| 118/118 [00:05<00:00, 23.41it/s]\n"
          ]
        },
        {
          "output_type": "stream",
          "name": "stdout",
          "text": [
            "Train Loss : 0.881\n",
            "Epoch 7/15 - Duration: 5.05 seconds \n",
            "Epoch: 8\n"
          ]
        },
        {
          "output_type": "stream",
          "name": "stderr",
          "text": [
            "100%|██████████| 118/118 [00:05<00:00, 23.39it/s]\n"
          ]
        },
        {
          "output_type": "stream",
          "name": "stdout",
          "text": [
            "Train Loss : 0.868\n",
            "Epoch 8/15 - Duration: 5.05 seconds \n",
            "Epoch: 9\n"
          ]
        },
        {
          "output_type": "stream",
          "name": "stderr",
          "text": [
            "100%|██████████| 118/118 [00:05<00:00, 23.60it/s]\n"
          ]
        },
        {
          "output_type": "stream",
          "name": "stdout",
          "text": [
            "Train Loss : 0.863\n",
            "Epoch 9/15 - Duration: 5.01 seconds \n",
            "Epoch: 10\n"
          ]
        },
        {
          "output_type": "stream",
          "name": "stderr",
          "text": [
            "100%|██████████| 118/118 [00:04<00:00, 24.02it/s]\n"
          ]
        },
        {
          "output_type": "stream",
          "name": "stdout",
          "text": [
            "Train Loss : 0.867\n",
            "Epoch 10/15 - Duration: 4.92 seconds \n",
            "Epoch: 11\n"
          ]
        },
        {
          "output_type": "stream",
          "name": "stderr",
          "text": [
            "100%|██████████| 118/118 [00:04<00:00, 24.04it/s]\n"
          ]
        },
        {
          "output_type": "stream",
          "name": "stdout",
          "text": [
            "Train Loss : 0.867\n",
            "Epoch 11/15 - Duration: 4.91 seconds \n",
            "Epoch: 12\n"
          ]
        },
        {
          "output_type": "stream",
          "name": "stderr",
          "text": [
            "100%|██████████| 118/118 [00:05<00:00, 23.08it/s]\n"
          ]
        },
        {
          "output_type": "stream",
          "name": "stdout",
          "text": [
            "Train Loss : 0.857\n",
            "Epoch 12/15 - Duration: 5.12 seconds \n",
            "Epoch: 13\n"
          ]
        },
        {
          "output_type": "stream",
          "name": "stderr",
          "text": [
            "100%|██████████| 118/118 [00:04<00:00, 23.93it/s]\n"
          ]
        },
        {
          "output_type": "stream",
          "name": "stdout",
          "text": [
            "Train Loss : 0.857\n",
            "Epoch 13/15 - Duration: 4.93 seconds \n",
            "Epoch: 14\n"
          ]
        },
        {
          "output_type": "stream",
          "name": "stderr",
          "text": [
            "100%|██████████| 118/118 [00:05<00:00, 22.91it/s]\n"
          ]
        },
        {
          "output_type": "stream",
          "name": "stdout",
          "text": [
            "Train Loss : 0.852\n",
            "Epoch 14/15 - Duration: 5.15 seconds \n",
            "Epoch: 15\n"
          ]
        },
        {
          "output_type": "stream",
          "name": "stderr",
          "text": [
            "100%|██████████| 118/118 [00:04<00:00, 24.30it/s]\n"
          ]
        },
        {
          "output_type": "stream",
          "name": "stdout",
          "text": [
            "Train Loss : 0.857\n",
            "Epoch 15/15 - Duration: 4.86 seconds \n",
            "Average training time per epoch: 4.99 seconds\n",
            "\n",
            "Test Accuracy : 0.871\n",
            "\n",
            "Classification Report : \n",
            "              precision    recall  f1-score   support\n",
            "\n",
            "       World       0.88      0.87      0.88      1900\n",
            "      Sports       0.91      0.94      0.92      1900\n",
            "    Business       0.85      0.83      0.84      1900\n",
            "    Sci/Tech       0.84      0.84      0.84      1900\n",
            "\n",
            "    accuracy                           0.87      7600\n",
            "   macro avg       0.87      0.87      0.87      7600\n",
            "weighted avg       0.87      0.87      0.87      7600\n",
            "\n",
            "\n",
            "Confusion Matrix : \n",
            "[[1652  110   76   62]\n",
            " [  39 1791   33   37]\n",
            " [  86   33 1580  201]\n",
            " [  91   43  166 1600]]\n"
          ]
        }
      ]
    },
    {
      "cell_type": "code",
      "source": [
        "# Usage example assuming vocab, EMBEDDING_DIM, HIDDEN_DIM, target_classes, device, and LEARNING_RATE are defined\n",
        "classifier10 = LSTM1(len(vocab), EMBEDDING_DIM, HIDDEN_DIM, len(target_classes)).to(device)\n",
        "loss_fn10 = nn.CrossEntropyLoss().to(device)\n",
        "optimizer10 = torch.optim.Adam(classifier10.parameters(), lr=LEARNING_RATE)\n",
        "\n",
        "\n",
        "print('\\nModel:')\n",
        "print(classifier10)\n",
        "print('Total parameters: ', count_parameters(classifier10))\n",
        "print('\\n\\n')\n",
        "\n",
        "epoch_durations10 = TrainModel(classifier10, loss_fn10, optimizer10, train_loader2, EPOCHS)\n",
        "# Calculate and print the average duration per epoch\n",
        "average_duration10 = sum(epoch_durations10) / len(epoch_durations10)\n",
        "print(f\"Average training time per epoch: {average_duration10:.2f} seconds\")\n",
        "\n",
        "######################################################################\n",
        "# Evaluate the model with test dataset\n",
        "# ------------------------------------\n",
        "\n",
        "_, Y_actual, Y_preds, misclf_data10 = EvaluateModel(classifier10, loss_fn10, test_loader2, test_data[\"text\"])\n",
        "\n",
        "print(\"\\nTest Accuracy : {:.3f}\".format(accuracy_score(Y_actual, Y_preds)))\n",
        "print(\"\\nClassification Report : \")\n",
        "print(classification_report(Y_actual, Y_preds, target_names=target_classes))\n",
        "print(\"\\nConfusion Matrix : \")\n",
        "print(confusion_matrix(Y_actual, Y_preds))"
      ],
      "metadata": {
        "colab": {
          "base_uri": "https://localhost:8080/"
        },
        "id": "m-T3yBNx3FtO",
        "outputId": "fd1a9e3b-7594-4a34-9428-9076e89450da"
      },
      "execution_count": 28,
      "outputs": [
        {
          "output_type": "stream",
          "name": "stdout",
          "text": [
            "\n",
            "Model:\n",
            "LSTM1(\n",
            "  (embedding_layer): Embedding(21254, 100)\n",
            "  (lstm): LSTM(100, 64, batch_first=True)\n",
            "  (linear): Linear(in_features=64, out_features=4, bias=True)\n",
            ")\n",
            "Total parameters:  2168156\n",
            "\n",
            "\n",
            "\n",
            "Epoch: 1\n"
          ]
        },
        {
          "output_type": "stream",
          "name": "stderr",
          "text": [
            "100%|██████████| 118/118 [00:04<00:00, 23.92it/s]\n"
          ]
        },
        {
          "output_type": "stream",
          "name": "stdout",
          "text": [
            "Train Loss : 1.345\n",
            "Epoch 1/15 - Duration: 4.94 seconds \n",
            "Epoch: 2\n"
          ]
        },
        {
          "output_type": "stream",
          "name": "stderr",
          "text": [
            "100%|██████████| 118/118 [00:04<00:00, 24.43it/s]\n"
          ]
        },
        {
          "output_type": "stream",
          "name": "stdout",
          "text": [
            "Train Loss : 1.133\n",
            "Epoch 2/15 - Duration: 4.84 seconds \n",
            "Epoch: 3\n"
          ]
        },
        {
          "output_type": "stream",
          "name": "stderr",
          "text": [
            "100%|██████████| 118/118 [00:04<00:00, 24.61it/s]\n"
          ]
        },
        {
          "output_type": "stream",
          "name": "stdout",
          "text": [
            "Train Loss : 1.004\n",
            "Epoch 3/15 - Duration: 4.80 seconds \n",
            "Epoch: 4\n"
          ]
        },
        {
          "output_type": "stream",
          "name": "stderr",
          "text": [
            "100%|██████████| 118/118 [00:05<00:00, 23.32it/s]\n"
          ]
        },
        {
          "output_type": "stream",
          "name": "stdout",
          "text": [
            "Train Loss : 0.938\n",
            "Epoch 4/15 - Duration: 5.06 seconds \n",
            "Epoch: 5\n"
          ]
        },
        {
          "output_type": "stream",
          "name": "stderr",
          "text": [
            "100%|██████████| 118/118 [00:04<00:00, 24.41it/s]\n"
          ]
        },
        {
          "output_type": "stream",
          "name": "stdout",
          "text": [
            "Train Loss : 0.913\n",
            "Epoch 5/15 - Duration: 4.84 seconds \n",
            "Epoch: 6\n"
          ]
        },
        {
          "output_type": "stream",
          "name": "stderr",
          "text": [
            "100%|██████████| 118/118 [00:04<00:00, 23.90it/s]\n"
          ]
        },
        {
          "output_type": "stream",
          "name": "stdout",
          "text": [
            "Train Loss : 0.890\n",
            "Epoch 6/15 - Duration: 4.94 seconds \n",
            "Epoch: 7\n"
          ]
        },
        {
          "output_type": "stream",
          "name": "stderr",
          "text": [
            "100%|██████████| 118/118 [00:04<00:00, 24.40it/s]\n"
          ]
        },
        {
          "output_type": "stream",
          "name": "stdout",
          "text": [
            "Train Loss : 0.876\n",
            "Epoch 7/15 - Duration: 4.84 seconds \n",
            "Epoch: 8\n"
          ]
        },
        {
          "output_type": "stream",
          "name": "stderr",
          "text": [
            "100%|██████████| 118/118 [00:04<00:00, 23.70it/s]\n"
          ]
        },
        {
          "output_type": "stream",
          "name": "stdout",
          "text": [
            "Train Loss : 0.868\n",
            "Epoch 8/15 - Duration: 4.99 seconds \n",
            "Epoch: 9\n"
          ]
        },
        {
          "output_type": "stream",
          "name": "stderr",
          "text": [
            "100%|██████████| 118/118 [00:04<00:00, 23.82it/s]\n"
          ]
        },
        {
          "output_type": "stream",
          "name": "stdout",
          "text": [
            "Train Loss : 0.863\n",
            "Epoch 9/15 - Duration: 4.96 seconds \n",
            "Epoch: 10\n"
          ]
        },
        {
          "output_type": "stream",
          "name": "stderr",
          "text": [
            "100%|██████████| 118/118 [00:04<00:00, 24.40it/s]\n"
          ]
        },
        {
          "output_type": "stream",
          "name": "stdout",
          "text": [
            "Train Loss : 0.857\n",
            "Epoch 10/15 - Duration: 4.84 seconds \n",
            "Epoch: 11\n"
          ]
        },
        {
          "output_type": "stream",
          "name": "stderr",
          "text": [
            "100%|██████████| 118/118 [00:05<00:00, 23.29it/s]\n"
          ]
        },
        {
          "output_type": "stream",
          "name": "stdout",
          "text": [
            "Train Loss : 0.852\n",
            "Epoch 11/15 - Duration: 5.07 seconds \n",
            "Epoch: 12\n"
          ]
        },
        {
          "output_type": "stream",
          "name": "stderr",
          "text": [
            "100%|██████████| 118/118 [00:04<00:00, 24.23it/s]\n"
          ]
        },
        {
          "output_type": "stream",
          "name": "stdout",
          "text": [
            "Train Loss : 0.852\n",
            "Epoch 12/15 - Duration: 4.87 seconds \n",
            "Epoch: 13\n"
          ]
        },
        {
          "output_type": "stream",
          "name": "stderr",
          "text": [
            "100%|██████████| 118/118 [00:04<00:00, 24.23it/s]\n"
          ]
        },
        {
          "output_type": "stream",
          "name": "stdout",
          "text": [
            "Train Loss : 0.843\n",
            "Epoch 13/15 - Duration: 4.87 seconds \n",
            "Epoch: 14\n"
          ]
        },
        {
          "output_type": "stream",
          "name": "stderr",
          "text": [
            "100%|██████████| 118/118 [00:04<00:00, 24.13it/s]\n"
          ]
        },
        {
          "output_type": "stream",
          "name": "stdout",
          "text": [
            "Train Loss : 0.839\n",
            "Epoch 14/15 - Duration: 4.90 seconds \n",
            "Epoch: 15\n"
          ]
        },
        {
          "output_type": "stream",
          "name": "stderr",
          "text": [
            "100%|██████████| 118/118 [00:04<00:00, 24.64it/s]\n"
          ]
        },
        {
          "output_type": "stream",
          "name": "stdout",
          "text": [
            "Train Loss : 0.834\n",
            "Epoch 15/15 - Duration: 4.79 seconds \n",
            "Average training time per epoch: 4.90 seconds\n",
            "\n",
            "Test Accuracy : 0.883\n",
            "\n",
            "Classification Report : \n",
            "              precision    recall  f1-score   support\n",
            "\n",
            "       World       0.88      0.89      0.88      1900\n",
            "      Sports       0.92      0.96      0.94      1900\n",
            "    Business       0.87      0.82      0.85      1900\n",
            "    Sci/Tech       0.86      0.86      0.86      1900\n",
            "\n",
            "    accuracy                           0.88      7600\n",
            "   macro avg       0.88      0.88      0.88      7600\n",
            "weighted avg       0.88      0.88      0.88      7600\n",
            "\n",
            "\n",
            "Confusion Matrix : \n",
            "[[1682   81   79   58]\n",
            " [  44 1818   14   24]\n",
            " [ 104   36 1566  194]\n",
            " [  83   34  140 1643]]\n"
          ]
        }
      ]
    },
    {
      "cell_type": "code",
      "source": [
        "# Usage example assuming vocab, EMBEDDING_DIM, HIDDEN_DIM, target_classes, device, and LEARNING_RATE are defined\n",
        "classifier11 = BiLSTM1(len(vocab), EMBEDDING_DIM, HIDDEN_DIM, len(target_classes)).to(device)\n",
        "loss_fn11 = nn.CrossEntropyLoss().to(device)\n",
        "optimizer11 = torch.optim.Adam(classifier11.parameters(), lr=LEARNING_RATE)\n",
        "\n",
        "\n",
        "print('\\nModel:')\n",
        "print(classifier11)\n",
        "print('Total parameters: ', count_parameters(classifier11))\n",
        "print('\\n\\n')\n",
        "\n",
        "epoch_durations11 = TrainModel(classifier11, loss_fn11, optimizer11, train_loader2, EPOCHS)\n",
        "# Calculate and print the average duration per epoch\n",
        "average_duration11 = sum(epoch_durations11) / len(epoch_durations11)\n",
        "print(f\"Average training time per epoch: {average_duration11:.2f} seconds\")\n",
        "\n",
        "######################################################################\n",
        "# Evaluate the model with test dataset\n",
        "# ------------------------------------\n",
        "\n",
        "_, Y_actual, Y_preds, misclf_data11 = EvaluateModel(classifier11, loss_fn11, test_loader2, test_data[\"text\"])\n",
        "\n",
        "print(\"\\nTest Accuracy : {:.3f}\".format(accuracy_score(Y_actual, Y_preds)))\n",
        "print(\"\\nClassification Report : \")\n",
        "print(classification_report(Y_actual, Y_preds, target_names=target_classes))\n",
        "print(\"\\nConfusion Matrix : \")\n",
        "print(confusion_matrix(Y_actual, Y_preds))"
      ],
      "metadata": {
        "colab": {
          "base_uri": "https://localhost:8080/"
        },
        "id": "z-_PrGWj3kU6",
        "outputId": "6db39bf3-1c57-4253-bf6e-b995336ae00a"
      },
      "execution_count": 29,
      "outputs": [
        {
          "output_type": "stream",
          "name": "stdout",
          "text": [
            "\n",
            "Model:\n",
            "BiLSTM1(\n",
            "  (embedding_layer): Embedding(21254, 100)\n",
            "  (lstm): LSTM(100, 64, batch_first=True, bidirectional=True)\n",
            "  (linear): Linear(in_features=128, out_features=4, bias=True)\n",
            ")\n",
            "Total parameters:  2210908\n",
            "\n",
            "\n",
            "\n",
            "Epoch: 1\n"
          ]
        },
        {
          "output_type": "stream",
          "name": "stderr",
          "text": [
            "100%|██████████| 118/118 [00:05<00:00, 21.80it/s]\n"
          ]
        },
        {
          "output_type": "stream",
          "name": "stdout",
          "text": [
            "Train Loss : 1.215\n",
            "Epoch 1/15 - Duration: 5.42 seconds \n",
            "Epoch: 2\n"
          ]
        },
        {
          "output_type": "stream",
          "name": "stderr",
          "text": [
            "100%|██████████| 118/118 [00:04<00:00, 23.82it/s]\n"
          ]
        },
        {
          "output_type": "stream",
          "name": "stdout",
          "text": [
            "Train Loss : 0.933\n",
            "Epoch 2/15 - Duration: 4.96 seconds \n",
            "Epoch: 3\n"
          ]
        },
        {
          "output_type": "stream",
          "name": "stderr",
          "text": [
            "100%|██████████| 118/118 [00:05<00:00, 22.98it/s]\n"
          ]
        },
        {
          "output_type": "stream",
          "name": "stdout",
          "text": [
            "Train Loss : 0.876\n",
            "Epoch 3/15 - Duration: 5.14 seconds \n",
            "Epoch: 4\n"
          ]
        },
        {
          "output_type": "stream",
          "name": "stderr",
          "text": [
            "100%|██████████| 118/118 [00:04<00:00, 23.79it/s]\n"
          ]
        },
        {
          "output_type": "stream",
          "name": "stdout",
          "text": [
            "Train Loss : 0.853\n",
            "Epoch 4/15 - Duration: 4.97 seconds \n",
            "Epoch: 5\n"
          ]
        },
        {
          "output_type": "stream",
          "name": "stderr",
          "text": [
            "100%|██████████| 118/118 [00:05<00:00, 22.73it/s]\n"
          ]
        },
        {
          "output_type": "stream",
          "name": "stdout",
          "text": [
            "Train Loss : 0.840\n",
            "Epoch 5/15 - Duration: 5.20 seconds \n",
            "Epoch: 6\n"
          ]
        },
        {
          "output_type": "stream",
          "name": "stderr",
          "text": [
            "100%|██████████| 118/118 [00:05<00:00, 22.54it/s]\n"
          ]
        },
        {
          "output_type": "stream",
          "name": "stdout",
          "text": [
            "Train Loss : 0.830\n",
            "Epoch 6/15 - Duration: 5.24 seconds \n",
            "Epoch: 7\n"
          ]
        },
        {
          "output_type": "stream",
          "name": "stderr",
          "text": [
            "100%|██████████| 118/118 [00:05<00:00, 22.32it/s]\n"
          ]
        },
        {
          "output_type": "stream",
          "name": "stdout",
          "text": [
            "Train Loss : 0.823\n",
            "Epoch 7/15 - Duration: 5.29 seconds \n",
            "Epoch: 8\n"
          ]
        },
        {
          "output_type": "stream",
          "name": "stderr",
          "text": [
            "100%|██████████| 118/118 [00:05<00:00, 23.01it/s]\n"
          ]
        },
        {
          "output_type": "stream",
          "name": "stdout",
          "text": [
            "Train Loss : 0.818\n",
            "Epoch 8/15 - Duration: 5.13 seconds \n",
            "Epoch: 9\n"
          ]
        },
        {
          "output_type": "stream",
          "name": "stderr",
          "text": [
            "100%|██████████| 118/118 [00:05<00:00, 23.45it/s]\n"
          ]
        },
        {
          "output_type": "stream",
          "name": "stdout",
          "text": [
            "Train Loss : 0.812\n",
            "Epoch 9/15 - Duration: 5.04 seconds \n",
            "Epoch: 10\n"
          ]
        },
        {
          "output_type": "stream",
          "name": "stderr",
          "text": [
            "100%|██████████| 118/118 [00:05<00:00, 23.10it/s]\n"
          ]
        },
        {
          "output_type": "stream",
          "name": "stdout",
          "text": [
            "Train Loss : 0.809\n",
            "Epoch 10/15 - Duration: 5.11 seconds \n",
            "Epoch: 11\n"
          ]
        },
        {
          "output_type": "stream",
          "name": "stderr",
          "text": [
            "100%|██████████| 118/118 [00:05<00:00, 23.52it/s]\n"
          ]
        },
        {
          "output_type": "stream",
          "name": "stdout",
          "text": [
            "Train Loss : 0.805\n",
            "Epoch 11/15 - Duration: 5.02 seconds \n",
            "Epoch: 12\n"
          ]
        },
        {
          "output_type": "stream",
          "name": "stderr",
          "text": [
            "100%|██████████| 118/118 [00:05<00:00, 21.94it/s]\n"
          ]
        },
        {
          "output_type": "stream",
          "name": "stdout",
          "text": [
            "Train Loss : 0.803\n",
            "Epoch 12/15 - Duration: 5.38 seconds \n",
            "Epoch: 13\n"
          ]
        },
        {
          "output_type": "stream",
          "name": "stderr",
          "text": [
            "100%|██████████| 118/118 [00:05<00:00, 23.20it/s]\n"
          ]
        },
        {
          "output_type": "stream",
          "name": "stdout",
          "text": [
            "Train Loss : 0.801\n",
            "Epoch 13/15 - Duration: 5.09 seconds \n",
            "Epoch: 14\n"
          ]
        },
        {
          "output_type": "stream",
          "name": "stderr",
          "text": [
            "100%|██████████| 118/118 [00:05<00:00, 23.15it/s]\n"
          ]
        },
        {
          "output_type": "stream",
          "name": "stdout",
          "text": [
            "Train Loss : 0.799\n",
            "Epoch 14/15 - Duration: 5.10 seconds \n",
            "Epoch: 15\n"
          ]
        },
        {
          "output_type": "stream",
          "name": "stderr",
          "text": [
            "100%|██████████| 118/118 [00:05<00:00, 21.62it/s]\n"
          ]
        },
        {
          "output_type": "stream",
          "name": "stdout",
          "text": [
            "Train Loss : 0.798\n",
            "Epoch 15/15 - Duration: 5.46 seconds \n",
            "Average training time per epoch: 5.17 seconds\n",
            "\n",
            "Test Accuracy : 0.898\n",
            "\n",
            "Classification Report : \n",
            "              precision    recall  f1-score   support\n",
            "\n",
            "       World       0.91      0.89      0.90      1900\n",
            "      Sports       0.94      0.96      0.95      1900\n",
            "    Business       0.86      0.87      0.87      1900\n",
            "    Sci/Tech       0.87      0.87      0.87      1900\n",
            "\n",
            "    accuracy                           0.90      7600\n",
            "   macro avg       0.90      0.90      0.90      7600\n",
            "weighted avg       0.90      0.90      0.90      7600\n",
            "\n",
            "\n",
            "Confusion Matrix : \n",
            "[[1684   66   88   62]\n",
            " [  31 1826   27   16]\n",
            " [  60   24 1656  160]\n",
            " [  68   18  154 1660]]\n"
          ]
        }
      ]
    },
    {
      "cell_type": "code",
      "source": [
        "# Usage example assuming vocab, EMBEDDING_DIM, HIDDEN_DIM, target_classes, device, and LEARNING_RATE are defined\n",
        "classifier12 = BiLSTM2(len(vocab), EMBEDDING_DIM, HIDDEN_DIM, len(target_classes)).to(device)\n",
        "loss_fr12 = nn.CrossEntropyLoss().to(device)\n",
        "optimizer12 = torch.optim.Adam(classifier12.parameters(), lr=LEARNING_RATE)\n",
        "\n",
        "\n",
        "print('\\nModel:')\n",
        "print(classifier12)\n",
        "print('Total parameters: ', count_parameters(classifier12))\n",
        "print('\\n\\n')\n",
        "\n",
        "epoch_durations12 = TrainModel(classifier12, loss_fr12, optimizer12, train_loader2, EPOCHS)\n",
        "# Calculate and print the average duration per epoch\n",
        "average_duration12 = sum(epoch_durations12) / len(epoch_durations12)\n",
        "print(f\"Average training time per epoch: {average_duration12:.2f} seconds\")\n",
        "\n",
        "######################################################################\n",
        "# Evaluate the model with test dataset\n",
        "# ------------------------------------\n",
        "\n",
        "_, Y_actual, Y_preds, misclf_datr12 = EvaluateModel(classifier12, loss_fr12, test_loader2, test_data[\"text\"])\n",
        "\n",
        "print(\"\\nTest Accuracy : {:.3f}\".format(accuracy_score(Y_actual, Y_preds)))\n",
        "print(\"\\nClassification Report : \")\n",
        "print(classification_report(Y_actual, Y_preds, target_names=target_classes))\n",
        "print(\"\\nConfusion Matrix : \")\n",
        "print(confusion_matrix(Y_actual, Y_preds))"
      ],
      "metadata": {
        "colab": {
          "base_uri": "https://localhost:8080/"
        },
        "id": "zijA7kCq3V_1",
        "outputId": "a5fb46de-3e8e-4f83-f2f0-c196c7ca81d2"
      },
      "execution_count": 30,
      "outputs": [
        {
          "output_type": "stream",
          "name": "stdout",
          "text": [
            "\n",
            "Model:\n",
            "BiLSTM2(\n",
            "  (embedding_layer): Embedding(21254, 100)\n",
            "  (lstm): LSTM(100, 64, num_layers=2, batch_first=True, bidirectional=True)\n",
            "  (linear): Linear(in_features=128, out_features=4, bias=True)\n",
            ")\n",
            "Total parameters:  2310236\n",
            "\n",
            "\n",
            "\n",
            "Epoch: 1\n"
          ]
        },
        {
          "output_type": "stream",
          "name": "stderr",
          "text": [
            "100%|██████████| 118/118 [00:05<00:00, 19.79it/s]\n"
          ]
        },
        {
          "output_type": "stream",
          "name": "stdout",
          "text": [
            "Train Loss : 1.154\n",
            "Epoch 1/15 - Duration: 5.97 seconds \n",
            "Epoch: 2\n"
          ]
        },
        {
          "output_type": "stream",
          "name": "stderr",
          "text": [
            "100%|██████████| 118/118 [00:05<00:00, 21.17it/s]\n"
          ]
        },
        {
          "output_type": "stream",
          "name": "stdout",
          "text": [
            "Train Loss : 0.916\n",
            "Epoch 2/15 - Duration: 5.58 seconds \n",
            "Epoch: 3\n"
          ]
        },
        {
          "output_type": "stream",
          "name": "stderr",
          "text": [
            "100%|██████████| 118/118 [00:05<00:00, 20.81it/s]\n"
          ]
        },
        {
          "output_type": "stream",
          "name": "stdout",
          "text": [
            "Train Loss : 0.872\n",
            "Epoch 3/15 - Duration: 5.68 seconds \n",
            "Epoch: 4\n"
          ]
        },
        {
          "output_type": "stream",
          "name": "stderr",
          "text": [
            "100%|██████████| 118/118 [00:05<00:00, 19.98it/s]\n"
          ]
        },
        {
          "output_type": "stream",
          "name": "stdout",
          "text": [
            "Train Loss : 0.854\n",
            "Epoch 4/15 - Duration: 5.91 seconds \n",
            "Epoch: 5\n"
          ]
        },
        {
          "output_type": "stream",
          "name": "stderr",
          "text": [
            "100%|██████████| 118/118 [00:05<00:00, 21.15it/s]\n"
          ]
        },
        {
          "output_type": "stream",
          "name": "stdout",
          "text": [
            "Train Loss : 0.840\n",
            "Epoch 5/15 - Duration: 5.59 seconds \n",
            "Epoch: 6\n"
          ]
        },
        {
          "output_type": "stream",
          "name": "stderr",
          "text": [
            "100%|██████████| 118/118 [00:05<00:00, 20.91it/s]\n"
          ]
        },
        {
          "output_type": "stream",
          "name": "stdout",
          "text": [
            "Train Loss : 0.832\n",
            "Epoch 6/15 - Duration: 5.65 seconds \n",
            "Epoch: 7\n"
          ]
        },
        {
          "output_type": "stream",
          "name": "stderr",
          "text": [
            "100%|██████████| 118/118 [00:05<00:00, 21.00it/s]\n"
          ]
        },
        {
          "output_type": "stream",
          "name": "stdout",
          "text": [
            "Train Loss : 0.827\n",
            "Epoch 7/15 - Duration: 5.63 seconds \n",
            "Epoch: 8\n"
          ]
        },
        {
          "output_type": "stream",
          "name": "stderr",
          "text": [
            "100%|██████████| 118/118 [00:05<00:00, 21.94it/s]\n"
          ]
        },
        {
          "output_type": "stream",
          "name": "stdout",
          "text": [
            "Train Loss : 0.822\n",
            "Epoch 8/15 - Duration: 5.38 seconds \n",
            "Epoch: 9\n"
          ]
        },
        {
          "output_type": "stream",
          "name": "stderr",
          "text": [
            "100%|██████████| 118/118 [00:05<00:00, 21.45it/s]\n"
          ]
        },
        {
          "output_type": "stream",
          "name": "stdout",
          "text": [
            "Train Loss : 0.820\n",
            "Epoch 9/15 - Duration: 5.51 seconds \n",
            "Epoch: 10\n"
          ]
        },
        {
          "output_type": "stream",
          "name": "stderr",
          "text": [
            "100%|██████████| 118/118 [00:05<00:00, 21.95it/s]\n"
          ]
        },
        {
          "output_type": "stream",
          "name": "stdout",
          "text": [
            "Train Loss : 0.813\n",
            "Epoch 10/15 - Duration: 5.38 seconds \n",
            "Epoch: 11\n"
          ]
        },
        {
          "output_type": "stream",
          "name": "stderr",
          "text": [
            "100%|██████████| 118/118 [00:05<00:00, 22.15it/s]\n"
          ]
        },
        {
          "output_type": "stream",
          "name": "stdout",
          "text": [
            "Train Loss : 0.810\n",
            "Epoch 11/15 - Duration: 5.33 seconds \n",
            "Epoch: 12\n"
          ]
        },
        {
          "output_type": "stream",
          "name": "stderr",
          "text": [
            "100%|██████████| 118/118 [00:05<00:00, 21.70it/s]\n"
          ]
        },
        {
          "output_type": "stream",
          "name": "stdout",
          "text": [
            "Train Loss : 0.807\n",
            "Epoch 12/15 - Duration: 5.44 seconds \n",
            "Epoch: 13\n"
          ]
        },
        {
          "output_type": "stream",
          "name": "stderr",
          "text": [
            "100%|██████████| 118/118 [00:05<00:00, 21.06it/s]\n"
          ]
        },
        {
          "output_type": "stream",
          "name": "stdout",
          "text": [
            "Train Loss : 0.806\n",
            "Epoch 13/15 - Duration: 5.61 seconds \n",
            "Epoch: 14\n"
          ]
        },
        {
          "output_type": "stream",
          "name": "stderr",
          "text": [
            "100%|██████████| 118/118 [00:05<00:00, 21.92it/s]\n"
          ]
        },
        {
          "output_type": "stream",
          "name": "stdout",
          "text": [
            "Train Loss : 0.802\n",
            "Epoch 14/15 - Duration: 5.39 seconds \n",
            "Epoch: 15\n"
          ]
        },
        {
          "output_type": "stream",
          "name": "stderr",
          "text": [
            "100%|██████████| 118/118 [00:05<00:00, 21.20it/s]\n"
          ]
        },
        {
          "output_type": "stream",
          "name": "stdout",
          "text": [
            "Train Loss : 0.800\n",
            "Epoch 15/15 - Duration: 5.57 seconds \n",
            "Average training time per epoch: 5.57 seconds\n",
            "\n",
            "Test Accuracy : 0.899\n",
            "\n",
            "Classification Report : \n",
            "              precision    recall  f1-score   support\n",
            "\n",
            "       World       0.91      0.89      0.90      1900\n",
            "      Sports       0.95      0.96      0.95      1900\n",
            "    Business       0.88      0.85      0.87      1900\n",
            "    Sci/Tech       0.85      0.90      0.87      1900\n",
            "\n",
            "    accuracy                           0.90      7600\n",
            "   macro avg       0.90      0.90      0.90      7600\n",
            "weighted avg       0.90      0.90      0.90      7600\n",
            "\n",
            "\n",
            "Confusion Matrix : \n",
            "[[1694   61   77   68]\n",
            " [  28 1817   24   31]\n",
            " [  72   11 1622  195]\n",
            " [  61   20  117 1702]]\n"
          ]
        }
      ]
    },
    {
      "cell_type": "markdown",
      "source": [
        "# Results MAX_WORDS=50\n",
        "\n",
        "|  | 1RNN | 1-BiRNN | 2-BiRNN | 1LSTM | 1-BiLSTM |2-BiLSTM  |\n",
        "|:---------|:--------:|---------:|---------:|---------:|---------:|---------:|\n",
        "|  Accuracy   | 0.439     | 0.877  |  0.871  | 0.883  | 0.898   |   0.899|\n",
        "|  Parameters   | 2136284      | 2147164 |   2171996  | 2168156  | 2210908   |    2310236|\n",
        "|  Time Cost(per epoch)   |  4.53 seconds|   4.73 seconds|    4.99 seconds|    4.90 seconds|   5.17 seconds|  5.57 seconds|"
      ],
      "metadata": {
        "id": "TGxc3Sy0547U"
      }
    },
    {
      "cell_type": "markdown",
      "source": [
        "By setting max_words=50 RNN models perform worse. More specifically, 1RNN's accuracy is reduced dramatically( from 8.867 to 0.439). The other bidirectional versions of RNN have slightly worse accuracy(some tenths only). 1-RNN and 1-BiRNN versions are running several tenths of a second slower (3-6) compared to max_words=25 version. Complexity remains exactly the same( same number of parameters)\n",
        "\n",
        "On the other hand, increasing the max_words result to higher accuracy of LSTM's versions. Approximately (0.5-2 %). The number of parameters remains steady on this occasion. Finally, they run approximately half a second slower than when max_words were 25.  "
      ],
      "metadata": {
        "id": "8sv-npi97i06"
      }
    },
    {
      "cell_type": "code",
      "source": [
        "print(vocab[\"lost\"])"
      ],
      "metadata": {
        "colab": {
          "base_uri": "https://localhost:8080/"
        },
        "id": "RWO3z4Hbvu5D",
        "outputId": "93e09ad9-eb97-4e01-ac98-e892e78f1123"
      },
      "execution_count": 31,
      "outputs": [
        {
          "output_type": "stream",
          "name": "stdout",
          "text": [
            "614\n"
          ]
        }
      ]
    },
    {
      "cell_type": "markdown",
      "source": [
        "# Initialize embeddings of NNs with GloVe pretrained embeddings glove6B100d"
      ],
      "metadata": {
        "id": "6flHzeAe9jEp"
      }
    },
    {
      "cell_type": "code",
      "source": [
        "import numpy as np\n",
        "def load_targeted_glove_embeddings(path, vocabulary):\n",
        "    embeddings_index = {}\n",
        "    with open(path, 'r', encoding='utf8') as f:\n",
        "        for line in f:\n",
        "            values = line.split()\n",
        "            word = values[0]\n",
        "            if word in vocabulary:\n",
        "                vector = np.asarray(values[1:], dtype='float32')\n",
        "                embeddings_index[word] = vector\n",
        "    return embeddings_index\n",
        "\n",
        "# Specify the path of the train file in your Google Drive\n",
        "glove_file_path = '/content/drive/My Drive/nlp/nlp2/glove.6B.100d.txt'\n",
        "embeddings_index = load_targeted_glove_embeddings(glove_file_path, vocab)\n",
        "\n",
        "# Define dimensions for the embedding\n",
        "vocab_size = len(vocab)  # Vocab object provides the number of entries directly\n",
        "EMBEDDING_DIM = 100  # Assuming you're using 100-dimensional GloVe embeddings\n",
        "\n",
        "# Initialize the embedding matrix with zeros\n",
        "embedding_matrix = np.zeros((vocab_size, EMBEDDING_DIM))\n",
        "\n",
        "# Populate the embedding matrix using the .stoi property of the vocab object\n",
        "for word, idx in vocab.get_stoi().items():\n",
        "    embedding_vector = embeddings_index.get(word)\n",
        "    if embedding_vector is not None:\n",
        "        embedding_matrix[idx] = embedding_vector\n",
        "\n",
        "# Convert the numpy array to a torch tensor\n",
        "embedding_matrix = torch.tensor(embedding_matrix).float()"
      ],
      "metadata": {
        "id": "kg5Xj6mjzikg"
      },
      "execution_count": 32,
      "outputs": []
    },
    {
      "cell_type": "code",
      "source": [
        "import torch\n",
        "import torch.nn as nn\n",
        "import torch.nn.functional as F\n",
        "\n",
        "class Model2(nn.Module):\n",
        "    def __init__(self, input_dim, embedding_dim, hidden_dim, output_dim, embedding_matrix=None, freeze=False):\n",
        "        super(Model2, self).__init__()\n",
        "        self.embedding_layer = nn.Embedding(num_embeddings=input_dim, embedding_dim=embedding_dim)\n",
        "\n",
        "        # If an embedding matrix is provided, initialize the embeddings with it\n",
        "        if embedding_matrix is not None:\n",
        "            if not isinstance(embedding_matrix, torch.Tensor):\n",
        "                # Convert the NumPy array to a tensor if it's not already a tensor\n",
        "                embedding_matrix = torch.tensor(embedding_matrix, dtype=torch.float)\n",
        "            self.embedding_layer.weight.data.copy_(embedding_matrix)\n",
        "            self.embedding_layer.weight.requires_grad = freeze  # Optionally make embeddings non-trainable\n",
        "\n",
        "        self.rnn = nn.RNN(input_size=embedding_dim, hidden_size=hidden_dim, batch_first=True)\n",
        "        self.linear = nn.Linear(hidden_dim, output_dim)\n",
        "\n",
        "    def forward(self, X_batch):\n",
        "        embeddings = self.embedding_layer(X_batch)\n",
        "        output, hidden = self.rnn(embeddings)\n",
        "        logits = self.linear(output[:, -1])  # Using the last output of RNN for sequence classification\n",
        "        probs = F.softmax(logits, dim=1)\n",
        "        return probs\n",
        "\n"
      ],
      "metadata": {
        "id": "49S6VCEz1YZk"
      },
      "execution_count": 33,
      "outputs": []
    },
    {
      "cell_type": "code",
      "source": [
        "# Usage example assuming vocab, EMBEDDING_DIM, HIDDEN_DIM, target_classes, device, and LEARNING_RATE are defined\n",
        "classifier13 = Model2(len(vocab), EMBEDDING_DIM, HIDDEN_DIM, len(target_classes), embedding_matrix, False ).to(device)\n",
        "loss_fn13 = nn.CrossEntropyLoss().to(device)\n",
        "optimizer13 = torch.optim.Adam(classifier13.parameters(), lr=LEARNING_RATE)\n",
        "\n",
        "\n",
        "print('\\nModel:')\n",
        "print(classifier13)\n",
        "print('Total parameters: ', count_parameters(classifier13))\n",
        "print('\\n\\n')\n",
        "\n",
        "\n",
        "epoch_durations13 = TrainModel(classifier13, loss_fn13, optimizer13, train_loader, EPOCHS)\n",
        "# Calculate and print the average duration per epoch\n",
        "average_duration13 = sum(epoch_durations13) / len(epoch_durations13)\n",
        "print(f\"Average training time per epoch: {average_duration13:.2f} seconds\")\n",
        "\n",
        "\n",
        "######################################################################\n",
        "# Evaluate the model with test dataset\n",
        "# ------------------------------------\n",
        "\n",
        "_, Y_actual, Y_preds, misclf_data13 = EvaluateModel(classifier13, loss_fn13, test_loader, test_data[\"text\"])\n",
        "\n",
        "print(\"\\nTest Accuracy : {:.3f}\".format(accuracy_score(Y_actual, Y_preds)))\n",
        "print(\"\\nClassification Report : \")\n",
        "print(classification_report(Y_actual, Y_preds, target_names=target_classes))\n",
        "print(\"\\nConfusion Matrix : \")\n",
        "print(confusion_matrix(Y_actual, Y_preds))"
      ],
      "metadata": {
        "colab": {
          "base_uri": "https://localhost:8080/"
        },
        "id": "fH6HZuR01ykw",
        "outputId": "73e6f6a3-c796-4e0d-938c-06842b68200b"
      },
      "execution_count": 34,
      "outputs": [
        {
          "output_type": "stream",
          "name": "stdout",
          "text": [
            "\n",
            "Model:\n",
            "Model2(\n",
            "  (embedding_layer): Embedding(21254, 100)\n",
            "  (rnn): RNN(100, 64, batch_first=True)\n",
            "  (linear): Linear(in_features=64, out_features=4, bias=True)\n",
            ")\n",
            "Total parameters:  10884\n",
            "\n",
            "\n",
            "\n",
            "Epoch: 1\n"
          ]
        },
        {
          "output_type": "stream",
          "name": "stderr",
          "text": [
            "100%|██████████| 118/118 [00:04<00:00, 26.03it/s]\n"
          ]
        },
        {
          "output_type": "stream",
          "name": "stdout",
          "text": [
            "Train Loss : 1.268\n",
            "Epoch 1/15 - Duration: 4.54 seconds \n",
            "Epoch: 2\n"
          ]
        },
        {
          "output_type": "stream",
          "name": "stderr",
          "text": [
            "100%|██████████| 118/118 [00:04<00:00, 26.29it/s]\n"
          ]
        },
        {
          "output_type": "stream",
          "name": "stdout",
          "text": [
            "Train Loss : 1.254\n",
            "Epoch 2/15 - Duration: 4.49 seconds \n",
            "Epoch: 3\n"
          ]
        },
        {
          "output_type": "stream",
          "name": "stderr",
          "text": [
            "100%|██████████| 118/118 [00:04<00:00, 25.26it/s]\n"
          ]
        },
        {
          "output_type": "stream",
          "name": "stdout",
          "text": [
            "Train Loss : 1.272\n",
            "Epoch 3/15 - Duration: 4.68 seconds \n",
            "Epoch: 4\n"
          ]
        },
        {
          "output_type": "stream",
          "name": "stderr",
          "text": [
            "100%|██████████| 118/118 [00:04<00:00, 25.20it/s]\n"
          ]
        },
        {
          "output_type": "stream",
          "name": "stdout",
          "text": [
            "Train Loss : 1.312\n",
            "Epoch 4/15 - Duration: 4.69 seconds \n",
            "Epoch: 5\n"
          ]
        },
        {
          "output_type": "stream",
          "name": "stderr",
          "text": [
            "100%|██████████| 118/118 [00:04<00:00, 25.57it/s]\n"
          ]
        },
        {
          "output_type": "stream",
          "name": "stdout",
          "text": [
            "Train Loss : 1.281\n",
            "Epoch 5/15 - Duration: 4.62 seconds \n",
            "Epoch: 6\n"
          ]
        },
        {
          "output_type": "stream",
          "name": "stderr",
          "text": [
            "100%|██████████| 118/118 [00:04<00:00, 25.36it/s]\n"
          ]
        },
        {
          "output_type": "stream",
          "name": "stdout",
          "text": [
            "Train Loss : 1.272\n",
            "Epoch 6/15 - Duration: 4.66 seconds \n",
            "Epoch: 7\n"
          ]
        },
        {
          "output_type": "stream",
          "name": "stderr",
          "text": [
            "100%|██████████| 118/118 [00:04<00:00, 25.96it/s]\n"
          ]
        },
        {
          "output_type": "stream",
          "name": "stdout",
          "text": [
            "Train Loss : 1.266\n",
            "Epoch 7/15 - Duration: 4.55 seconds \n",
            "Epoch: 8\n"
          ]
        },
        {
          "output_type": "stream",
          "name": "stderr",
          "text": [
            "100%|██████████| 118/118 [00:04<00:00, 25.25it/s]\n"
          ]
        },
        {
          "output_type": "stream",
          "name": "stdout",
          "text": [
            "Train Loss : 1.254\n",
            "Epoch 8/15 - Duration: 4.68 seconds \n",
            "Epoch: 9\n"
          ]
        },
        {
          "output_type": "stream",
          "name": "stderr",
          "text": [
            "100%|██████████| 118/118 [00:04<00:00, 25.97it/s]\n"
          ]
        },
        {
          "output_type": "stream",
          "name": "stdout",
          "text": [
            "Train Loss : 1.253\n",
            "Epoch 9/15 - Duration: 4.55 seconds \n",
            "Epoch: 10\n"
          ]
        },
        {
          "output_type": "stream",
          "name": "stderr",
          "text": [
            "100%|██████████| 118/118 [00:04<00:00, 25.46it/s]\n"
          ]
        },
        {
          "output_type": "stream",
          "name": "stdout",
          "text": [
            "Train Loss : 1.262\n",
            "Epoch 10/15 - Duration: 4.64 seconds \n",
            "Epoch: 11\n"
          ]
        },
        {
          "output_type": "stream",
          "name": "stderr",
          "text": [
            "100%|██████████| 118/118 [00:04<00:00, 25.22it/s]\n"
          ]
        },
        {
          "output_type": "stream",
          "name": "stdout",
          "text": [
            "Train Loss : 1.202\n",
            "Epoch 11/15 - Duration: 4.69 seconds \n",
            "Epoch: 12\n"
          ]
        },
        {
          "output_type": "stream",
          "name": "stderr",
          "text": [
            "100%|██████████| 118/118 [00:04<00:00, 25.09it/s]\n"
          ]
        },
        {
          "output_type": "stream",
          "name": "stdout",
          "text": [
            "Train Loss : 1.191\n",
            "Epoch 12/15 - Duration: 4.71 seconds \n",
            "Epoch: 13\n"
          ]
        },
        {
          "output_type": "stream",
          "name": "stderr",
          "text": [
            "100%|██████████| 118/118 [00:04<00:00, 25.04it/s]\n"
          ]
        },
        {
          "output_type": "stream",
          "name": "stdout",
          "text": [
            "Train Loss : 1.243\n",
            "Epoch 13/15 - Duration: 4.72 seconds \n",
            "Epoch: 14\n"
          ]
        },
        {
          "output_type": "stream",
          "name": "stderr",
          "text": [
            "100%|██████████| 118/118 [00:04<00:00, 25.84it/s]\n"
          ]
        },
        {
          "output_type": "stream",
          "name": "stdout",
          "text": [
            "Train Loss : 1.240\n",
            "Epoch 14/15 - Duration: 4.57 seconds \n",
            "Epoch: 15\n"
          ]
        },
        {
          "output_type": "stream",
          "name": "stderr",
          "text": [
            "100%|██████████| 118/118 [00:04<00:00, 26.72it/s]\n"
          ]
        },
        {
          "output_type": "stream",
          "name": "stdout",
          "text": [
            "Train Loss : 1.237\n",
            "Epoch 15/15 - Duration: 4.42 seconds \n",
            "Average training time per epoch: 4.61 seconds\n",
            "\n",
            "Test Accuracy : 0.473\n",
            "\n",
            "Classification Report : \n",
            "              precision    recall  f1-score   support\n",
            "\n",
            "       World       0.44      0.22      0.29      1900\n",
            "      Sports       0.36      0.86      0.51      1900\n",
            "    Business       0.72      0.44      0.54      1900\n",
            "    Sci/Tech       0.71      0.38      0.49      1900\n",
            "\n",
            "    accuracy                           0.47      7600\n",
            "   macro avg       0.56      0.47      0.46      7600\n",
            "weighted avg       0.56      0.47      0.46      7600\n",
            "\n",
            "\n",
            "Confusion Matrix : \n",
            "[[ 413 1378   89   20]\n",
            " [ 225 1636   15   24]\n",
            " [ 143  682  829  246]\n",
            " [ 163  797  226  714]]\n"
          ]
        }
      ]
    },
    {
      "cell_type": "code",
      "source": [
        "import torch\n",
        "import torch.nn as nn\n",
        "import torch.nn.functional as F\n",
        "\n",
        "class BiRNN1_2(nn.Module):\n",
        "    def __init__(self, input_dim, embedding_dim, hidden_dim, output_dim, embedding_matrix=None, freeze=False):\n",
        "        super(BiRNN1_2, self).__init__()\n",
        "        # Initialize the embedding layer\n",
        "        if embedding_matrix is not None:\n",
        "            # Check if the embedding matrix is already a tensor, if not, convert it\n",
        "            if not isinstance(embedding_matrix, torch.Tensor):\n",
        "                embedding_matrix = torch.tensor(embedding_matrix, dtype=torch.float)\n",
        "            self.embedding_layer = nn.Embedding.from_pretrained(embedding_matrix, freeze=freeze)  # Optionally make embeddings non-trainable\n",
        "        else:\n",
        "            self.embedding_layer = nn.Embedding(num_embeddings=input_dim, embedding_dim=embedding_dim)\n",
        "\n",
        "        # Initialize RNN with bidirectional set to True\n",
        "        self.rnn = nn.RNN(input_size=embedding_dim, hidden_size=hidden_dim, batch_first=True, bidirectional=True, num_layers=1)\n",
        "        # Initialize the linear layer to handle bidirectional outputs\n",
        "        self.linear = nn.Linear(2 * hidden_dim, output_dim)  # 2 * hidden_dim because it's bidirectional\n",
        "\n",
        "    def forward(self, X_batch):\n",
        "        embeddings = self.embedding_layer(X_batch)\n",
        "        output, hidden = self.rnn(embeddings)\n",
        "        # Concatenate the hidden states of the last layer of the bidirectional RNN\n",
        "        final_hidden = torch.cat((hidden[-2,:,:], hidden[-1,:,:]), dim=1)\n",
        "        logits = self.linear(final_hidden)\n",
        "        probs = F.softmax(logits, dim=1)\n",
        "        return probs\n"
      ],
      "metadata": {
        "id": "pDZIgKz8FMLs"
      },
      "execution_count": 35,
      "outputs": []
    },
    {
      "cell_type": "code",
      "source": [
        "# Usage example assuming vocab, EMBEDDING_DIM, HIDDEN_DIM, target_classes, device, and LEARNING_RATE are defined\n",
        "classifier14 = BiRNN1_2(len(vocab), EMBEDDING_DIM, HIDDEN_DIM, len(target_classes), embedding_matrix, False).to(device)\n",
        "loss_fn14 = nn.CrossEntropyLoss().to(device)\n",
        "optimizer14 = torch.optim.Adam(classifier14.parameters(), lr=LEARNING_RATE)\n",
        "\n",
        "\n",
        "print('\\nModel:')\n",
        "print(classifier14)\n",
        "print('Total parameters: ', count_parameters(classifier14))\n",
        "print('\\n\\n')\n",
        "\n",
        "\n",
        "epoch_durations14 = TrainModel(classifier14, loss_fn14, optimizer14, train_loader, EPOCHS)\n",
        "# Calculate and print the average duration per epoch\n",
        "average_duration14 = sum(epoch_durations14) / len(epoch_durations14)\n",
        "print(f\"Average training time per epoch: {average_duration14:.2f} seconds\")\n",
        "\n",
        "\n",
        "######################################################################\n",
        "# Evaluate the model with test dataset\n",
        "# ------------------------------------\n",
        "\n",
        "_, Y_actual, Y_preds, misclf_data14 = EvaluateModel(classifier14, loss_fn14, test_loader, test_data[\"text\"])\n",
        "\n",
        "print(\"\\nTest Accuracy : {:.3f}\".format(accuracy_score(Y_actual, Y_preds)))\n",
        "print(\"\\nClassification Report : \")\n",
        "print(classification_report(Y_actual, Y_preds, target_names=target_classes))\n",
        "print(\"\\nConfusion Matrix : \")\n",
        "print(confusion_matrix(Y_actual, Y_preds))"
      ],
      "metadata": {
        "colab": {
          "base_uri": "https://localhost:8080/"
        },
        "id": "qzYvMTIgF-Nc",
        "outputId": "62abe5af-ef8b-443b-9d25-0465a8126748"
      },
      "execution_count": 36,
      "outputs": [
        {
          "output_type": "stream",
          "name": "stdout",
          "text": [
            "\n",
            "Model:\n",
            "BiRNN1_2(\n",
            "  (embedding_layer): Embedding(21254, 100)\n",
            "  (rnn): RNN(100, 64, batch_first=True, bidirectional=True)\n",
            "  (linear): Linear(in_features=128, out_features=4, bias=True)\n",
            ")\n",
            "Total parameters:  2147164\n",
            "\n",
            "\n",
            "\n",
            "Epoch: 1\n"
          ]
        },
        {
          "output_type": "stream",
          "name": "stderr",
          "text": [
            "100%|██████████| 118/118 [00:04<00:00, 25.46it/s]\n"
          ]
        },
        {
          "output_type": "stream",
          "name": "stdout",
          "text": [
            "Train Loss : 1.045\n",
            "Epoch 1/15 - Duration: 4.64 seconds \n",
            "Epoch: 2\n"
          ]
        },
        {
          "output_type": "stream",
          "name": "stderr",
          "text": [
            "100%|██████████| 118/118 [00:04<00:00, 25.63it/s]\n"
          ]
        },
        {
          "output_type": "stream",
          "name": "stdout",
          "text": [
            "Train Loss : 0.874\n",
            "Epoch 2/15 - Duration: 4.61 seconds \n",
            "Epoch: 3\n"
          ]
        },
        {
          "output_type": "stream",
          "name": "stderr",
          "text": [
            "100%|██████████| 118/118 [00:04<00:00, 25.09it/s]\n"
          ]
        },
        {
          "output_type": "stream",
          "name": "stdout",
          "text": [
            "Train Loss : 0.856\n",
            "Epoch 3/15 - Duration: 4.71 seconds \n",
            "Epoch: 4\n"
          ]
        },
        {
          "output_type": "stream",
          "name": "stderr",
          "text": [
            "100%|██████████| 118/118 [00:04<00:00, 24.07it/s]\n"
          ]
        },
        {
          "output_type": "stream",
          "name": "stdout",
          "text": [
            "Train Loss : 0.843\n",
            "Epoch 4/15 - Duration: 4.91 seconds \n",
            "Epoch: 5\n"
          ]
        },
        {
          "output_type": "stream",
          "name": "stderr",
          "text": [
            "100%|██████████| 118/118 [00:04<00:00, 25.22it/s]\n"
          ]
        },
        {
          "output_type": "stream",
          "name": "stdout",
          "text": [
            "Train Loss : 0.835\n",
            "Epoch 5/15 - Duration: 4.68 seconds \n",
            "Epoch: 6\n"
          ]
        },
        {
          "output_type": "stream",
          "name": "stderr",
          "text": [
            "100%|██████████| 118/118 [00:04<00:00, 24.48it/s]\n"
          ]
        },
        {
          "output_type": "stream",
          "name": "stdout",
          "text": [
            "Train Loss : 0.829\n",
            "Epoch 6/15 - Duration: 4.83 seconds \n",
            "Epoch: 7\n"
          ]
        },
        {
          "output_type": "stream",
          "name": "stderr",
          "text": [
            "100%|██████████| 118/118 [00:04<00:00, 25.40it/s]\n"
          ]
        },
        {
          "output_type": "stream",
          "name": "stdout",
          "text": [
            "Train Loss : 0.822\n",
            "Epoch 7/15 - Duration: 4.65 seconds \n",
            "Epoch: 8\n"
          ]
        },
        {
          "output_type": "stream",
          "name": "stderr",
          "text": [
            "100%|██████████| 118/118 [00:04<00:00, 25.04it/s]\n"
          ]
        },
        {
          "output_type": "stream",
          "name": "stdout",
          "text": [
            "Train Loss : 0.819\n",
            "Epoch 8/15 - Duration: 4.72 seconds \n",
            "Epoch: 9\n"
          ]
        },
        {
          "output_type": "stream",
          "name": "stderr",
          "text": [
            "100%|██████████| 118/118 [00:04<00:00, 26.02it/s]\n"
          ]
        },
        {
          "output_type": "stream",
          "name": "stdout",
          "text": [
            "Train Loss : 0.817\n",
            "Epoch 9/15 - Duration: 4.54 seconds \n",
            "Epoch: 10\n"
          ]
        },
        {
          "output_type": "stream",
          "name": "stderr",
          "text": [
            "100%|██████████| 118/118 [00:04<00:00, 26.27it/s]\n"
          ]
        },
        {
          "output_type": "stream",
          "name": "stdout",
          "text": [
            "Train Loss : 0.813\n",
            "Epoch 10/15 - Duration: 4.50 seconds \n",
            "Epoch: 11\n"
          ]
        },
        {
          "output_type": "stream",
          "name": "stderr",
          "text": [
            "100%|██████████| 118/118 [00:04<00:00, 23.79it/s]\n"
          ]
        },
        {
          "output_type": "stream",
          "name": "stdout",
          "text": [
            "Train Loss : 0.823\n",
            "Epoch 11/15 - Duration: 4.97 seconds \n",
            "Epoch: 12\n"
          ]
        },
        {
          "output_type": "stream",
          "name": "stderr",
          "text": [
            "100%|██████████| 118/118 [00:04<00:00, 24.84it/s]\n"
          ]
        },
        {
          "output_type": "stream",
          "name": "stdout",
          "text": [
            "Train Loss : 0.811\n",
            "Epoch 12/15 - Duration: 4.75 seconds \n",
            "Epoch: 13\n"
          ]
        },
        {
          "output_type": "stream",
          "name": "stderr",
          "text": [
            "100%|██████████| 118/118 [00:04<00:00, 24.74it/s]\n"
          ]
        },
        {
          "output_type": "stream",
          "name": "stdout",
          "text": [
            "Train Loss : 0.808\n",
            "Epoch 13/15 - Duration: 4.78 seconds \n",
            "Epoch: 14\n"
          ]
        },
        {
          "output_type": "stream",
          "name": "stderr",
          "text": [
            "100%|██████████| 118/118 [00:04<00:00, 25.56it/s]\n"
          ]
        },
        {
          "output_type": "stream",
          "name": "stdout",
          "text": [
            "Train Loss : 0.810\n",
            "Epoch 14/15 - Duration: 4.62 seconds \n",
            "Epoch: 15\n"
          ]
        },
        {
          "output_type": "stream",
          "name": "stderr",
          "text": [
            "100%|██████████| 118/118 [00:04<00:00, 24.55it/s]\n"
          ]
        },
        {
          "output_type": "stream",
          "name": "stdout",
          "text": [
            "Train Loss : 0.809\n",
            "Epoch 15/15 - Duration: 4.81 seconds \n",
            "Average training time per epoch: 4.71 seconds\n",
            "\n",
            "Test Accuracy : 0.907\n",
            "\n",
            "Classification Report : \n",
            "              precision    recall  f1-score   support\n",
            "\n",
            "       World       0.92      0.90      0.91      1900\n",
            "      Sports       0.94      0.98      0.96      1900\n",
            "    Business       0.88      0.86      0.87      1900\n",
            "    Sci/Tech       0.88      0.89      0.89      1900\n",
            "\n",
            "    accuracy                           0.91      7600\n",
            "   macro avg       0.91      0.91      0.91      7600\n",
            "weighted avg       0.91      0.91      0.91      7600\n",
            "\n",
            "\n",
            "Confusion Matrix : \n",
            "[[1704   66   80   50]\n",
            " [   9 1867   16    8]\n",
            " [  80   25 1633  162]\n",
            " [  55   27  128 1690]]\n"
          ]
        }
      ]
    },
    {
      "cell_type": "code",
      "source": [
        "import torch\n",
        "import torch.nn as nn\n",
        "import torch.nn.functional as F\n",
        "\n",
        "class BiRNN2_2(nn.Module):\n",
        "    def __init__(self, input_dim, embedding_dim, hidden_dim, output_dim, embedding_matrix=None, freeze=False):\n",
        "        super(BiRNN2_2, self).__init__()\n",
        "        # Check if embedding_matrix is provided and is a tensor\n",
        "        if embedding_matrix is not None:\n",
        "            if not isinstance(embedding_matrix, torch.Tensor):\n",
        "                embedding_matrix = torch.tensor(embedding_matrix, dtype=torch.float)\n",
        "            self.embedding_layer = nn.Embedding.from_pretrained(embedding_matrix, freeze=freeze)\n",
        "        else:\n",
        "            self.embedding_layer = nn.Embedding(num_embeddings=input_dim, embedding_dim=embedding_dim)\n",
        "\n",
        "        self.rnn = nn.RNN(input_size=embedding_dim, hidden_size=hidden_dim, batch_first=True, bidirectional=True, num_layers=2)\n",
        "        self.linear = nn.Linear(2 * hidden_dim, output_dim)\n",
        "\n",
        "    def forward(self, X_batch):\n",
        "        embeddings = self.embedding_layer(X_batch)\n",
        "        output, hidden = self.rnn(embeddings)\n",
        "        final_hidden = torch.cat((hidden[-2,:,:], hidden[-1,:,:]), dim=1)\n",
        "        logits = self.linear(final_hidden)\n",
        "        probs = F.softmax(logits, dim=1)\n",
        "        return probs\n"
      ],
      "metadata": {
        "id": "a3p-XCmdH-mN"
      },
      "execution_count": 37,
      "outputs": []
    },
    {
      "cell_type": "code",
      "source": [
        "# Usage example assuming vocab, EMBEDDING_DIM, HIDDEN_DIM, target_classes, device, and LEARNING_RATE are defined\n",
        "classifier15 = BiRNN2_2(len(vocab), EMBEDDING_DIM, HIDDEN_DIM, len(target_classes), embedding_matrix , False).to(device)\n",
        "loss_fn15 = nn.CrossEntropyLoss().to(device)\n",
        "optimizer15 = torch.optim.Adam(classifier15.parameters(), lr=LEARNING_RATE)\n",
        "\n",
        "\n",
        "print('\\nModel:')\n",
        "print(classifier15)\n",
        "print('Total parameters: ', count_parameters(classifier15))\n",
        "print('\\n\\n')\n",
        "\n",
        "\n",
        "epoch_durations15 = TrainModel(classifier15, loss_fn15, optimizer15, train_loader, EPOCHS)\n",
        "# Calculate and print the average duration per epoch\n",
        "average_duration15 = sum(epoch_durations15) / len(epoch_durations15)\n",
        "print(f\"Average training time per epoch: {average_duration15:.2f} seconds\")\n",
        "\n",
        "\n",
        "######################################################################\n",
        "# Evaluate the model with test dataset\n",
        "# ------------------------------------\n",
        "\n",
        "_, Y_actual, Y_preds, misclf_data15 = EvaluateModel(classifier15, loss_fn15, test_loader, test_data[\"text\"])\n",
        "\n",
        "print(\"\\nTest Accuracy : {:.3f}\".format(accuracy_score(Y_actual, Y_preds)))\n",
        "print(\"\\nClassification Report : \")\n",
        "print(classification_report(Y_actual, Y_preds, target_names=target_classes))\n",
        "print(\"\\nConfusion Matrix : \")\n",
        "print(confusion_matrix(Y_actual, Y_preds))"
      ],
      "metadata": {
        "colab": {
          "base_uri": "https://localhost:8080/"
        },
        "id": "10ty5hGpIIbn",
        "outputId": "8eea63dd-65ef-467d-cbe4-ba9156358816"
      },
      "execution_count": 38,
      "outputs": [
        {
          "output_type": "stream",
          "name": "stdout",
          "text": [
            "\n",
            "Model:\n",
            "BiRNN2_2(\n",
            "  (embedding_layer): Embedding(21254, 100)\n",
            "  (rnn): RNN(100, 64, num_layers=2, batch_first=True, bidirectional=True)\n",
            "  (linear): Linear(in_features=128, out_features=4, bias=True)\n",
            ")\n",
            "Total parameters:  2171996\n",
            "\n",
            "\n",
            "\n",
            "Epoch: 1\n"
          ]
        },
        {
          "output_type": "stream",
          "name": "stderr",
          "text": [
            "100%|██████████| 118/118 [00:04<00:00, 23.63it/s]\n"
          ]
        },
        {
          "output_type": "stream",
          "name": "stdout",
          "text": [
            "Train Loss : 0.964\n",
            "Epoch 1/15 - Duration: 5.00 seconds \n",
            "Epoch: 2\n"
          ]
        },
        {
          "output_type": "stream",
          "name": "stderr",
          "text": [
            "100%|██████████| 118/118 [00:04<00:00, 24.08it/s]\n"
          ]
        },
        {
          "output_type": "stream",
          "name": "stdout",
          "text": [
            "Train Loss : 0.859\n",
            "Epoch 2/15 - Duration: 4.91 seconds \n",
            "Epoch: 3\n"
          ]
        },
        {
          "output_type": "stream",
          "name": "stderr",
          "text": [
            "100%|██████████| 118/118 [00:05<00:00, 23.51it/s]\n"
          ]
        },
        {
          "output_type": "stream",
          "name": "stdout",
          "text": [
            "Train Loss : 0.850\n",
            "Epoch 3/15 - Duration: 5.02 seconds \n",
            "Epoch: 4\n"
          ]
        },
        {
          "output_type": "stream",
          "name": "stderr",
          "text": [
            "100%|██████████| 118/118 [00:05<00:00, 23.41it/s]\n"
          ]
        },
        {
          "output_type": "stream",
          "name": "stdout",
          "text": [
            "Train Loss : 0.841\n",
            "Epoch 4/15 - Duration: 5.05 seconds \n",
            "Epoch: 5\n"
          ]
        },
        {
          "output_type": "stream",
          "name": "stderr",
          "text": [
            "100%|██████████| 118/118 [00:04<00:00, 23.78it/s]\n"
          ]
        },
        {
          "output_type": "stream",
          "name": "stdout",
          "text": [
            "Train Loss : 0.839\n",
            "Epoch 5/15 - Duration: 4.97 seconds \n",
            "Epoch: 6\n"
          ]
        },
        {
          "output_type": "stream",
          "name": "stderr",
          "text": [
            "100%|██████████| 118/118 [00:05<00:00, 22.91it/s]\n"
          ]
        },
        {
          "output_type": "stream",
          "name": "stdout",
          "text": [
            "Train Loss : 0.835\n",
            "Epoch 6/15 - Duration: 5.16 seconds \n",
            "Epoch: 7\n"
          ]
        },
        {
          "output_type": "stream",
          "name": "stderr",
          "text": [
            "100%|██████████| 118/118 [00:04<00:00, 24.01it/s]\n"
          ]
        },
        {
          "output_type": "stream",
          "name": "stdout",
          "text": [
            "Train Loss : 0.829\n",
            "Epoch 7/15 - Duration: 4.92 seconds \n",
            "Epoch: 8\n"
          ]
        },
        {
          "output_type": "stream",
          "name": "stderr",
          "text": [
            "100%|██████████| 118/118 [00:05<00:00, 23.59it/s]\n"
          ]
        },
        {
          "output_type": "stream",
          "name": "stdout",
          "text": [
            "Train Loss : 0.832\n",
            "Epoch 8/15 - Duration: 5.01 seconds \n",
            "Epoch: 9\n"
          ]
        },
        {
          "output_type": "stream",
          "name": "stderr",
          "text": [
            "100%|██████████| 118/118 [00:04<00:00, 24.03it/s]\n"
          ]
        },
        {
          "output_type": "stream",
          "name": "stdout",
          "text": [
            "Train Loss : 0.829\n",
            "Epoch 9/15 - Duration: 4.92 seconds \n",
            "Epoch: 10\n"
          ]
        },
        {
          "output_type": "stream",
          "name": "stderr",
          "text": [
            "100%|██████████| 118/118 [00:04<00:00, 23.82it/s]\n"
          ]
        },
        {
          "output_type": "stream",
          "name": "stdout",
          "text": [
            "Train Loss : 0.861\n",
            "Epoch 10/15 - Duration: 4.96 seconds \n",
            "Epoch: 11\n"
          ]
        },
        {
          "output_type": "stream",
          "name": "stderr",
          "text": [
            "100%|██████████| 118/118 [00:05<00:00, 23.18it/s]\n"
          ]
        },
        {
          "output_type": "stream",
          "name": "stdout",
          "text": [
            "Train Loss : 0.838\n",
            "Epoch 11/15 - Duration: 5.10 seconds \n",
            "Epoch: 12\n"
          ]
        },
        {
          "output_type": "stream",
          "name": "stderr",
          "text": [
            "100%|██████████| 118/118 [00:04<00:00, 23.77it/s]\n"
          ]
        },
        {
          "output_type": "stream",
          "name": "stdout",
          "text": [
            "Train Loss : 0.824\n",
            "Epoch 12/15 - Duration: 4.97 seconds \n",
            "Epoch: 13\n"
          ]
        },
        {
          "output_type": "stream",
          "name": "stderr",
          "text": [
            "100%|██████████| 118/118 [00:04<00:00, 23.73it/s]\n"
          ]
        },
        {
          "output_type": "stream",
          "name": "stdout",
          "text": [
            "Train Loss : 0.818\n",
            "Epoch 13/15 - Duration: 4.98 seconds \n",
            "Epoch: 14\n"
          ]
        },
        {
          "output_type": "stream",
          "name": "stderr",
          "text": [
            "100%|██████████| 118/118 [00:04<00:00, 24.32it/s]\n"
          ]
        },
        {
          "output_type": "stream",
          "name": "stdout",
          "text": [
            "Train Loss : 0.819\n",
            "Epoch 14/15 - Duration: 4.86 seconds \n",
            "Epoch: 15\n"
          ]
        },
        {
          "output_type": "stream",
          "name": "stderr",
          "text": [
            "100%|██████████| 118/118 [00:04<00:00, 23.66it/s]\n"
          ]
        },
        {
          "output_type": "stream",
          "name": "stdout",
          "text": [
            "Train Loss : 0.817\n",
            "Epoch 15/15 - Duration: 4.99 seconds \n",
            "Average training time per epoch: 4.99 seconds\n",
            "\n",
            "Test Accuracy : 0.907\n",
            "\n",
            "Classification Report : \n",
            "              precision    recall  f1-score   support\n",
            "\n",
            "       World       0.93      0.89      0.91      1900\n",
            "      Sports       0.95      0.98      0.96      1900\n",
            "    Business       0.85      0.90      0.87      1900\n",
            "    Sci/Tech       0.90      0.86      0.88      1900\n",
            "\n",
            "    accuracy                           0.91      7600\n",
            "   macro avg       0.91      0.91      0.91      7600\n",
            "weighted avg       0.91      0.91      0.91      7600\n",
            "\n",
            "\n",
            "Confusion Matrix : \n",
            "[[1691   61  106   42]\n",
            " [  12 1855   19   14]\n",
            " [  61   16 1705  118]\n",
            " [  60   17  182 1641]]\n"
          ]
        }
      ]
    },
    {
      "cell_type": "code",
      "source": [
        "class LSTM1_2(nn.Module):\n",
        "    def __init__(self, input_dim, embedding_dim, hidden_dim, output_dim, embedding_matrix=None, freeze=None):\n",
        "        super(LSTM1_2, self).__init__()\n",
        "        # Initialize the embedding layer\n",
        "        if embedding_matrix is not None:\n",
        "            if not isinstance(embedding_matrix, torch.Tensor):\n",
        "                # Convert the NumPy array to a tensor if it's not already a tensor\n",
        "                embedding_matrix = torch.tensor(embedding_matrix, dtype=torch.float)\n",
        "            # Use the from_pretrained method to utilize the pre-trained embeddings\n",
        "            self.embedding_layer = nn.Embedding.from_pretrained(embedding_matrix, freeze=freeze)\n",
        "        else:\n",
        "            self.embedding_layer = nn.Embedding(num_embeddings=input_dim, embedding_dim=embedding_dim)\n",
        "\n",
        "        # Using LSTM instead of RNN\n",
        "        self.lstm = nn.LSTM(input_size=embedding_dim, hidden_size=hidden_dim, batch_first=True)\n",
        "        self.linear = nn.Linear(hidden_dim, output_dim)\n",
        "\n",
        "    def forward(self, X_batch):\n",
        "        embeddings = self.embedding_layer(X_batch)\n",
        "        # Output from LSTM; lstm_out is the last output state\n",
        "        lstm_out, (hidden, cell) = self.lstm(embeddings)\n",
        "        # We use the last hidden state for the last time step; hidden[-1] refers to the last layer's last hidden state\n",
        "        logits = self.linear(hidden[-1])  # hidden[-1] has shape (batch, hidden_dim)\n",
        "        probs = F.softmax(logits, dim=1)\n",
        "        return probs\n",
        "\n",
        "\n"
      ],
      "metadata": {
        "id": "IjgjFoDuLFna"
      },
      "execution_count": 39,
      "outputs": []
    },
    {
      "cell_type": "code",
      "source": [
        "# Usage example assuming vocab, EMBEDDING_DIM, HIDDEN_DIM, target_classes, device, and LEARNING_RATE are defined\n",
        "classifier16 = LSTM1_2(len(vocab), EMBEDDING_DIM, HIDDEN_DIM, len(target_classes), embedding_matrix , False).to(device)\n",
        "loss_fn16 = nn.CrossEntropyLoss().to(device)\n",
        "optimizer16 = torch.optim.Adam(classifier16.parameters(), lr=LEARNING_RATE)\n",
        "\n",
        "\n",
        "print('\\nModel:')\n",
        "print(classifier16)\n",
        "print('Total parameters: ', count_parameters(classifier16))\n",
        "print('\\n\\n')\n",
        "\n",
        "\n",
        "epoch_durations16 = TrainModel(classifier16, loss_fn16, optimizer16, train_loader, EPOCHS)\n",
        "# Calculate and print the average duration per epoch\n",
        "average_duration16 = sum(epoch_durations16) / len(epoch_durations16)\n",
        "print(f\"Average training time per epoch: {average_duration16:.2f} seconds\")\n",
        "\n",
        "\n",
        "######################################################################\n",
        "# Evaluate the model with test dataset\n",
        "# ------------------------------------\n",
        "\n",
        "_, Y_actual, Y_preds, misclf_data16 = EvaluateModel(classifier16, loss_fn16, test_loader, test_data[\"text\"])\n",
        "\n",
        "print(\"\\nTest Accuracy : {:.3f}\".format(accuracy_score(Y_actual, Y_preds)))\n",
        "print(\"\\nClassification Report : \")\n",
        "print(classification_report(Y_actual, Y_preds, target_names=target_classes))\n",
        "print(\"\\nConfusion Matrix : \")\n",
        "print(confusion_matrix(Y_actual, Y_preds))"
      ],
      "metadata": {
        "colab": {
          "base_uri": "https://localhost:8080/"
        },
        "id": "zGEixZ2PLeU0",
        "outputId": "d4ba8200-e80b-4690-f876-3bbd2fbec87d"
      },
      "execution_count": 40,
      "outputs": [
        {
          "output_type": "stream",
          "name": "stdout",
          "text": [
            "\n",
            "Model:\n",
            "LSTM1_2(\n",
            "  (embedding_layer): Embedding(21254, 100)\n",
            "  (lstm): LSTM(100, 64, batch_first=True)\n",
            "  (linear): Linear(in_features=64, out_features=4, bias=True)\n",
            ")\n",
            "Total parameters:  2168156\n",
            "\n",
            "\n",
            "\n",
            "Epoch: 1\n"
          ]
        },
        {
          "output_type": "stream",
          "name": "stderr",
          "text": [
            "100%|██████████| 118/118 [00:04<00:00, 24.79it/s]\n"
          ]
        },
        {
          "output_type": "stream",
          "name": "stdout",
          "text": [
            "Train Loss : 1.120\n",
            "Epoch 1/15 - Duration: 4.76 seconds \n",
            "Epoch: 2\n"
          ]
        },
        {
          "output_type": "stream",
          "name": "stderr",
          "text": [
            "100%|██████████| 118/118 [00:04<00:00, 24.70it/s]\n"
          ]
        },
        {
          "output_type": "stream",
          "name": "stdout",
          "text": [
            "Train Loss : 0.941\n",
            "Epoch 2/15 - Duration: 4.78 seconds \n",
            "Epoch: 3\n"
          ]
        },
        {
          "output_type": "stream",
          "name": "stderr",
          "text": [
            "100%|██████████| 118/118 [00:04<00:00, 24.19it/s]\n"
          ]
        },
        {
          "output_type": "stream",
          "name": "stdout",
          "text": [
            "Train Loss : 0.890\n",
            "Epoch 3/15 - Duration: 4.88 seconds \n",
            "Epoch: 4\n"
          ]
        },
        {
          "output_type": "stream",
          "name": "stderr",
          "text": [
            "100%|██████████| 118/118 [00:04<00:00, 24.92it/s]\n"
          ]
        },
        {
          "output_type": "stream",
          "name": "stdout",
          "text": [
            "Train Loss : 0.865\n",
            "Epoch 4/15 - Duration: 4.74 seconds \n",
            "Epoch: 5\n"
          ]
        },
        {
          "output_type": "stream",
          "name": "stderr",
          "text": [
            "100%|██████████| 118/118 [00:05<00:00, 23.25it/s]\n"
          ]
        },
        {
          "output_type": "stream",
          "name": "stdout",
          "text": [
            "Train Loss : 0.854\n",
            "Epoch 5/15 - Duration: 5.08 seconds \n",
            "Epoch: 6\n"
          ]
        },
        {
          "output_type": "stream",
          "name": "stderr",
          "text": [
            "100%|██████████| 118/118 [00:04<00:00, 24.70it/s]\n"
          ]
        },
        {
          "output_type": "stream",
          "name": "stdout",
          "text": [
            "Train Loss : 0.847\n",
            "Epoch 6/15 - Duration: 4.78 seconds \n",
            "Epoch: 7\n"
          ]
        },
        {
          "output_type": "stream",
          "name": "stderr",
          "text": [
            "100%|██████████| 118/118 [00:05<00:00, 23.18it/s]\n"
          ]
        },
        {
          "output_type": "stream",
          "name": "stdout",
          "text": [
            "Train Loss : 0.845\n",
            "Epoch 7/15 - Duration: 5.10 seconds \n",
            "Epoch: 8\n"
          ]
        },
        {
          "output_type": "stream",
          "name": "stderr",
          "text": [
            "100%|██████████| 118/118 [00:04<00:00, 24.74it/s]\n"
          ]
        },
        {
          "output_type": "stream",
          "name": "stdout",
          "text": [
            "Train Loss : 0.834\n",
            "Epoch 8/15 - Duration: 4.78 seconds \n",
            "Epoch: 9\n"
          ]
        },
        {
          "output_type": "stream",
          "name": "stderr",
          "text": [
            "100%|██████████| 118/118 [00:04<00:00, 24.54it/s]\n"
          ]
        },
        {
          "output_type": "stream",
          "name": "stdout",
          "text": [
            "Train Loss : 0.829\n",
            "Epoch 9/15 - Duration: 4.81 seconds \n",
            "Epoch: 10\n"
          ]
        },
        {
          "output_type": "stream",
          "name": "stderr",
          "text": [
            "100%|██████████| 118/118 [00:04<00:00, 24.12it/s]\n"
          ]
        },
        {
          "output_type": "stream",
          "name": "stdout",
          "text": [
            "Train Loss : 0.829\n",
            "Epoch 10/15 - Duration: 4.90 seconds \n",
            "Epoch: 11\n"
          ]
        },
        {
          "output_type": "stream",
          "name": "stderr",
          "text": [
            "100%|██████████| 118/118 [00:04<00:00, 24.90it/s]\n"
          ]
        },
        {
          "output_type": "stream",
          "name": "stdout",
          "text": [
            "Train Loss : 0.826\n",
            "Epoch 11/15 - Duration: 4.74 seconds \n",
            "Epoch: 12\n"
          ]
        },
        {
          "output_type": "stream",
          "name": "stderr",
          "text": [
            "100%|██████████| 118/118 [00:04<00:00, 23.72it/s]\n"
          ]
        },
        {
          "output_type": "stream",
          "name": "stdout",
          "text": [
            "Train Loss : 0.845\n",
            "Epoch 12/15 - Duration: 4.98 seconds \n",
            "Epoch: 13\n"
          ]
        },
        {
          "output_type": "stream",
          "name": "stderr",
          "text": [
            "100%|██████████| 118/118 [00:04<00:00, 24.51it/s]\n"
          ]
        },
        {
          "output_type": "stream",
          "name": "stdout",
          "text": [
            "Train Loss : 0.825\n",
            "Epoch 13/15 - Duration: 4.82 seconds \n",
            "Epoch: 14\n"
          ]
        },
        {
          "output_type": "stream",
          "name": "stderr",
          "text": [
            "100%|██████████| 118/118 [00:04<00:00, 24.53it/s]\n"
          ]
        },
        {
          "output_type": "stream",
          "name": "stdout",
          "text": [
            "Train Loss : 0.823\n",
            "Epoch 14/15 - Duration: 4.82 seconds \n",
            "Epoch: 15\n"
          ]
        },
        {
          "output_type": "stream",
          "name": "stderr",
          "text": [
            "100%|██████████| 118/118 [00:04<00:00, 24.29it/s]\n"
          ]
        },
        {
          "output_type": "stream",
          "name": "stdout",
          "text": [
            "Train Loss : 0.820\n",
            "Epoch 15/15 - Duration: 4.86 seconds \n",
            "Average training time per epoch: 4.86 seconds\n",
            "\n",
            "Test Accuracy : 0.909\n",
            "\n",
            "Classification Report : \n",
            "              precision    recall  f1-score   support\n",
            "\n",
            "       World       0.94      0.88      0.91      1900\n",
            "      Sports       0.95      0.98      0.96      1900\n",
            "    Business       0.85      0.90      0.87      1900\n",
            "    Sci/Tech       0.90      0.88      0.89      1900\n",
            "\n",
            "    accuracy                           0.91      7600\n",
            "   macro avg       0.91      0.91      0.91      7600\n",
            "weighted avg       0.91      0.91      0.91      7600\n",
            "\n",
            "\n",
            "Confusion Matrix : \n",
            "[[1667   69  117   47]\n",
            " [   5 1861   26    8]\n",
            " [  44   17 1703  136]\n",
            " [  53   11  158 1678]]\n"
          ]
        }
      ]
    },
    {
      "cell_type": "code",
      "source": [
        "import torch\n",
        "import torch.nn as nn\n",
        "import torch.nn.functional as F\n",
        "\n",
        "class BiLSTM1_2(nn.Module):\n",
        "    def __init__(self, input_dim, embedding_dim, hidden_dim, output_dim, embedding_matrix=None, freeze=None):\n",
        "        super(BiLSTM1_2, self).__init__()\n",
        "        # Initialize the embedding layer\n",
        "        if embedding_matrix is not None:\n",
        "            if not isinstance(embedding_matrix, torch.Tensor):\n",
        "                # Convert the NumPy array to a tensor if it's not already a tensor\n",
        "                embedding_matrix = torch.tensor(embedding_matrix, dtype=torch.float)\n",
        "            # Use the from_pretrained method to utilize the pre-trained embeddings\n",
        "            self.embedding_layer = nn.Embedding.from_pretrained(embedding_matrix, freeze=freeze)\n",
        "        else:\n",
        "            self.embedding_layer = nn.Embedding(num_embeddings=input_dim, embedding_dim=embedding_dim)\n",
        "\n",
        "        # Using a bidirectional LSTM\n",
        "        self.lstm = nn.LSTM(input_size=embedding_dim, hidden_size=hidden_dim, batch_first=True, bidirectional=True)\n",
        "        # Adjust linear layer to handle bidirectional output\n",
        "        self.linear = nn.Linear(2 * hidden_dim, output_dim)\n",
        "\n",
        "    def forward(self, X_batch):\n",
        "        embeddings = self.embedding_layer(X_batch)\n",
        "        # output from LSTM; lstm_out is the last output state\n",
        "        lstm_out, (hidden, cell) = self.lstm(embeddings)\n",
        "        # Concatenate the hidden states for both directions\n",
        "        hidden_forward = hidden[-2,:,:]  # Forward direction of the last layer\n",
        "        hidden_backward = hidden[-1,:,:]  # Backward direction of the last layer\n",
        "        hidden_concat = torch.cat((hidden_forward, hidden_backward), dim=1)\n",
        "        logits = self.linear(hidden_concat)\n",
        "        probs = F.softmax(logits, dim=1)\n",
        "        return probs\n"
      ],
      "metadata": {
        "id": "DJgV2xBrQNfj"
      },
      "execution_count": 41,
      "outputs": []
    },
    {
      "cell_type": "code",
      "source": [
        "# Usage example assuming vocab, EMBEDDING_DIM, HIDDEN_DIM, target_classes, device, and LEARNING_RATE are defined\n",
        "classifier17 = BiLSTM1_2(len(vocab), EMBEDDING_DIM, HIDDEN_DIM, len(target_classes), embedding_matrix , False).to(device)\n",
        "loss_fn17 = nn.CrossEntropyLoss().to(device)\n",
        "optimizer17 = torch.optim.Adam(classifier17.parameters(), lr=LEARNING_RATE)\n",
        "\n",
        "\n",
        "print('\\nModel:')\n",
        "print(classifier17)\n",
        "print('Total parameters: ', count_parameters(classifier17))\n",
        "print('\\n\\n')\n",
        "\n",
        "\n",
        "epoch_durations17 = TrainModel(classifier17, loss_fn17, optimizer17, train_loader, EPOCHS)\n",
        "# Calculate and print the average duration per epoch\n",
        "average_duration17 = sum(epoch_durations17) / len(epoch_durations17)\n",
        "print(f\"Average training time per epoch: {average_duration17:.2f} seconds\")\n",
        "\n",
        "\n",
        "######################################################################\n",
        "# Evaluate the model with test dataset\n",
        "# ------------------------------------\n",
        "\n",
        "_, Y_actual, Y_preds, misclf_data17 = EvaluateModel(classifier17, loss_fn17, test_loader, test_data[\"text\"])\n",
        "\n",
        "print(\"\\nTest Accuracy : {:.3f}\".format(accuracy_score(Y_actual, Y_preds)))\n",
        "print(\"\\nClassification Report : \")\n",
        "print(classification_report(Y_actual, Y_preds, target_names=target_classes))\n",
        "print(\"\\nConfusion Matrix : \")\n",
        "print(confusion_matrix(Y_actual, Y_preds))"
      ],
      "metadata": {
        "colab": {
          "base_uri": "https://localhost:8080/"
        },
        "id": "F6-HYFRYQTl4",
        "outputId": "fecbc4e9-b9ca-43c6-f985-ed106749f2b8"
      },
      "execution_count": 42,
      "outputs": [
        {
          "output_type": "stream",
          "name": "stdout",
          "text": [
            "\n",
            "Model:\n",
            "BiLSTM1_2(\n",
            "  (embedding_layer): Embedding(21254, 100)\n",
            "  (lstm): LSTM(100, 64, batch_first=True, bidirectional=True)\n",
            "  (linear): Linear(in_features=128, out_features=4, bias=True)\n",
            ")\n",
            "Total parameters:  2210908\n",
            "\n",
            "\n",
            "\n",
            "Epoch: 1\n"
          ]
        },
        {
          "output_type": "stream",
          "name": "stderr",
          "text": [
            "100%|██████████| 118/118 [00:05<00:00, 22.78it/s]\n"
          ]
        },
        {
          "output_type": "stream",
          "name": "stdout",
          "text": [
            "Train Loss : 1.009\n",
            "Epoch 1/15 - Duration: 5.19 seconds \n",
            "Epoch: 2\n"
          ]
        },
        {
          "output_type": "stream",
          "name": "stderr",
          "text": [
            "100%|██████████| 118/118 [00:05<00:00, 23.23it/s]\n"
          ]
        },
        {
          "output_type": "stream",
          "name": "stdout",
          "text": [
            "Train Loss : 0.843\n",
            "Epoch 2/15 - Duration: 5.09 seconds \n",
            "Epoch: 3\n"
          ]
        },
        {
          "output_type": "stream",
          "name": "stderr",
          "text": [
            "100%|██████████| 118/118 [00:05<00:00, 23.54it/s]\n"
          ]
        },
        {
          "output_type": "stream",
          "name": "stdout",
          "text": [
            "Train Loss : 0.830\n",
            "Epoch 3/15 - Duration: 5.02 seconds \n",
            "Epoch: 4\n"
          ]
        },
        {
          "output_type": "stream",
          "name": "stderr",
          "text": [
            "100%|██████████| 118/118 [00:05<00:00, 23.15it/s]\n"
          ]
        },
        {
          "output_type": "stream",
          "name": "stdout",
          "text": [
            "Train Loss : 0.822\n",
            "Epoch 4/15 - Duration: 5.10 seconds \n",
            "Epoch: 5\n"
          ]
        },
        {
          "output_type": "stream",
          "name": "stderr",
          "text": [
            "100%|██████████| 118/118 [00:04<00:00, 23.86it/s]\n"
          ]
        },
        {
          "output_type": "stream",
          "name": "stdout",
          "text": [
            "Train Loss : 0.816\n",
            "Epoch 5/15 - Duration: 4.95 seconds \n",
            "Epoch: 6\n"
          ]
        },
        {
          "output_type": "stream",
          "name": "stderr",
          "text": [
            "100%|██████████| 118/118 [00:05<00:00, 22.66it/s]\n"
          ]
        },
        {
          "output_type": "stream",
          "name": "stdout",
          "text": [
            "Train Loss : 0.811\n",
            "Epoch 6/15 - Duration: 5.21 seconds \n",
            "Epoch: 7\n"
          ]
        },
        {
          "output_type": "stream",
          "name": "stderr",
          "text": [
            "100%|██████████| 118/118 [00:05<00:00, 23.42it/s]\n"
          ]
        },
        {
          "output_type": "stream",
          "name": "stdout",
          "text": [
            "Train Loss : 0.807\n",
            "Epoch 7/15 - Duration: 5.04 seconds \n",
            "Epoch: 8\n"
          ]
        },
        {
          "output_type": "stream",
          "name": "stderr",
          "text": [
            "100%|██████████| 118/118 [00:05<00:00, 22.82it/s]\n"
          ]
        },
        {
          "output_type": "stream",
          "name": "stdout",
          "text": [
            "Train Loss : 0.804\n",
            "Epoch 8/15 - Duration: 5.18 seconds \n",
            "Epoch: 9\n"
          ]
        },
        {
          "output_type": "stream",
          "name": "stderr",
          "text": [
            "100%|██████████| 118/118 [00:05<00:00, 23.35it/s]\n"
          ]
        },
        {
          "output_type": "stream",
          "name": "stdout",
          "text": [
            "Train Loss : 0.800\n",
            "Epoch 9/15 - Duration: 5.06 seconds \n",
            "Epoch: 10\n"
          ]
        },
        {
          "output_type": "stream",
          "name": "stderr",
          "text": [
            "100%|██████████| 118/118 [00:04<00:00, 23.87it/s]\n"
          ]
        },
        {
          "output_type": "stream",
          "name": "stdout",
          "text": [
            "Train Loss : 0.798\n",
            "Epoch 10/15 - Duration: 4.95 seconds \n",
            "Epoch: 11\n"
          ]
        },
        {
          "output_type": "stream",
          "name": "stderr",
          "text": [
            "100%|██████████| 118/118 [00:05<00:00, 23.52it/s]\n"
          ]
        },
        {
          "output_type": "stream",
          "name": "stdout",
          "text": [
            "Train Loss : 0.795\n",
            "Epoch 11/15 - Duration: 5.02 seconds \n",
            "Epoch: 12\n"
          ]
        },
        {
          "output_type": "stream",
          "name": "stderr",
          "text": [
            "100%|██████████| 118/118 [00:04<00:00, 23.64it/s]\n"
          ]
        },
        {
          "output_type": "stream",
          "name": "stdout",
          "text": [
            "Train Loss : 0.794\n",
            "Epoch 12/15 - Duration: 5.00 seconds \n",
            "Epoch: 13\n"
          ]
        },
        {
          "output_type": "stream",
          "name": "stderr",
          "text": [
            "100%|██████████| 118/118 [00:05<00:00, 23.03it/s]\n"
          ]
        },
        {
          "output_type": "stream",
          "name": "stdout",
          "text": [
            "Train Loss : 0.793\n",
            "Epoch 13/15 - Duration: 5.13 seconds \n",
            "Epoch: 14\n"
          ]
        },
        {
          "output_type": "stream",
          "name": "stderr",
          "text": [
            "100%|██████████| 118/118 [00:05<00:00, 23.37it/s]\n"
          ]
        },
        {
          "output_type": "stream",
          "name": "stdout",
          "text": [
            "Train Loss : 0.792\n",
            "Epoch 14/15 - Duration: 5.05 seconds \n",
            "Epoch: 15\n"
          ]
        },
        {
          "output_type": "stream",
          "name": "stderr",
          "text": [
            "100%|██████████| 118/118 [00:05<00:00, 23.52it/s]\n"
          ]
        },
        {
          "output_type": "stream",
          "name": "stdout",
          "text": [
            "Train Loss : 0.792\n",
            "Epoch 15/15 - Duration: 5.02 seconds \n",
            "Average training time per epoch: 5.07 seconds\n",
            "\n",
            "Test Accuracy : 0.918\n",
            "\n",
            "Classification Report : \n",
            "              precision    recall  f1-score   support\n",
            "\n",
            "       World       0.95      0.90      0.92      1900\n",
            "      Sports       0.96      0.99      0.97      1900\n",
            "    Business       0.86      0.91      0.88      1900\n",
            "    Sci/Tech       0.91      0.88      0.89      1900\n",
            "\n",
            "    accuracy                           0.92      7600\n",
            "   macro avg       0.92      0.92      0.92      7600\n",
            "weighted avg       0.92      0.92      0.92      7600\n",
            "\n",
            "\n",
            "Confusion Matrix : \n",
            "[[1707   58   87   48]\n",
            " [   8 1875   14    3]\n",
            " [  48    9 1721  122]\n",
            " [  43   10  170 1677]]\n"
          ]
        }
      ]
    },
    {
      "cell_type": "code",
      "source": [
        "import torch\n",
        "import torch.nn as nn\n",
        "import torch.nn.functional as F\n",
        "\n",
        "class BiLSTM2_2(nn.Module):\n",
        "    def __init__(self, input_dim, embedding_dim, hidden_dim, output_dim, embedding_matrix=None, freeze=False):\n",
        "        super(BiLSTM2_2, self).__init__()\n",
        "        # Initialize the embedding layer with pre-trained embeddings if provided\n",
        "        if embedding_matrix is not None:\n",
        "            if not isinstance(embedding_matrix, torch.Tensor):\n",
        "                embedding_matrix = torch.tensor(embedding_matrix, dtype=torch.float)\n",
        "            self.embedding_layer = nn.Embedding.from_pretrained(embedding_matrix, freeze=freeze)\n",
        "        else:\n",
        "            self.embedding_layer = nn.Embedding(num_embeddings=input_dim, embedding_dim=embedding_dim)\n",
        "\n",
        "        # Using a 2-layer bidirectional LSTM\n",
        "        self.lstm = nn.LSTM(input_size=embedding_dim, hidden_size=hidden_dim, batch_first=True, bidirectional=True, num_layers=2)\n",
        "        # Adjust the linear layer to handle bidirectional output from the top layer\n",
        "        self.linear = nn.Linear(2 * hidden_dim, output_dim)\n",
        "\n",
        "    def forward(self, X_batch):\n",
        "        embeddings = self.embedding_layer(X_batch)\n",
        "        # output from LSTM; lstm_out is the last output state\n",
        "        lstm_out, (hidden, cell) = self.lstm(embeddings)\n",
        "        # We use the hidden states from the last layer (both forward and backward)\n",
        "        hidden_forward = hidden[-2,:,:]  # Forward direction of the last layer\n",
        "        hidden_backward = hidden[-1,:,:]  # Backward direction of the last layer\n",
        "        hidden_concat = torch.cat((hidden_forward, hidden_backward), dim=1)\n",
        "        logits = self.linear(hidden_concat)\n",
        "        probs = F.softmax(logits, dim=1)\n",
        "        return probs\n"
      ],
      "metadata": {
        "id": "kir0F__4SIXm"
      },
      "execution_count": 43,
      "outputs": []
    },
    {
      "cell_type": "code",
      "source": [
        "# Usage example assuming vocab, EMBEDDING_DIM, HIDDEN_DIM, target_classes, device, and LEARNING_RATE are defined\n",
        "classifier18 = BiLSTM2_2(len(vocab), EMBEDDING_DIM, HIDDEN_DIM, len(target_classes), embedding_matrix , False).to(device)\n",
        "loss_fn18 = nn.CrossEntropyLoss().to(device)\n",
        "optimizer18 = torch.optim.Adam(classifier18.parameters(), lr=LEARNING_RATE)\n",
        "\n",
        "\n",
        "print('\\nModel:')\n",
        "print(classifier18)\n",
        "print('Total parameters: ', count_parameters(classifier18))\n",
        "print('\\n\\n')\n",
        "\n",
        "\n",
        "epoch_durations18 = TrainModel(classifier18, loss_fn18, optimizer18, train_loader, EPOCHS)\n",
        "# Calculate and print the average duration per epoch\n",
        "average_duration18 = sum(epoch_durations18) / len(epoch_durations18)\n",
        "print(f\"Average training time per epoch: {average_duration18:.2f} seconds\")\n",
        "\n",
        "\n",
        "######################################################################\n",
        "# Evaluate the model with test dataset\n",
        "# ------------------------------------\n",
        "\n",
        "_, Y_actual, Y_preds, misclf_data18 = EvaluateModel(classifier18, loss_fn18, test_loader, test_data[\"text\"])\n",
        "\n",
        "print(\"\\nTest Accuracy : {:.3f}\".format(accuracy_score(Y_actual, Y_preds)))\n",
        "print(\"\\nClassification Report : \")\n",
        "print(classification_report(Y_actual, Y_preds, target_names=target_classes))\n",
        "print(\"\\nConfusion Matrix : \")\n",
        "print(confusion_matrix(Y_actual, Y_preds))"
      ],
      "metadata": {
        "colab": {
          "base_uri": "https://localhost:8080/"
        },
        "id": "8E_3gc-CShGa",
        "outputId": "b54da742-9c56-4e27-8e16-83df21076c2c"
      },
      "execution_count": 44,
      "outputs": [
        {
          "output_type": "stream",
          "name": "stdout",
          "text": [
            "\n",
            "Model:\n",
            "BiLSTM2_2(\n",
            "  (embedding_layer): Embedding(21254, 100)\n",
            "  (lstm): LSTM(100, 64, num_layers=2, batch_first=True, bidirectional=True)\n",
            "  (linear): Linear(in_features=128, out_features=4, bias=True)\n",
            ")\n",
            "Total parameters:  2310236\n",
            "\n",
            "\n",
            "\n",
            "Epoch: 1\n"
          ]
        },
        {
          "output_type": "stream",
          "name": "stderr",
          "text": [
            "100%|██████████| 118/118 [00:05<00:00, 21.96it/s]\n"
          ]
        },
        {
          "output_type": "stream",
          "name": "stdout",
          "text": [
            "Train Loss : 0.980\n",
            "Epoch 1/15 - Duration: 5.38 seconds \n",
            "Epoch: 2\n"
          ]
        },
        {
          "output_type": "stream",
          "name": "stderr",
          "text": [
            "100%|██████████| 118/118 [00:05<00:00, 21.79it/s]\n"
          ]
        },
        {
          "output_type": "stream",
          "name": "stdout",
          "text": [
            "Train Loss : 0.852\n",
            "Epoch 2/15 - Duration: 5.42 seconds \n",
            "Epoch: 3\n"
          ]
        },
        {
          "output_type": "stream",
          "name": "stderr",
          "text": [
            "100%|██████████| 118/118 [00:05<00:00, 22.19it/s]\n"
          ]
        },
        {
          "output_type": "stream",
          "name": "stdout",
          "text": [
            "Train Loss : 0.838\n",
            "Epoch 3/15 - Duration: 5.32 seconds \n",
            "Epoch: 4\n"
          ]
        },
        {
          "output_type": "stream",
          "name": "stderr",
          "text": [
            "100%|██████████| 118/118 [00:05<00:00, 22.10it/s]\n"
          ]
        },
        {
          "output_type": "stream",
          "name": "stdout",
          "text": [
            "Train Loss : 0.831\n",
            "Epoch 4/15 - Duration: 5.35 seconds \n",
            "Epoch: 5\n"
          ]
        },
        {
          "output_type": "stream",
          "name": "stderr",
          "text": [
            "100%|██████████| 118/118 [00:05<00:00, 21.18it/s]\n"
          ]
        },
        {
          "output_type": "stream",
          "name": "stdout",
          "text": [
            "Train Loss : 0.824\n",
            "Epoch 5/15 - Duration: 5.58 seconds \n",
            "Epoch: 6\n"
          ]
        },
        {
          "output_type": "stream",
          "name": "stderr",
          "text": [
            "100%|██████████| 118/118 [00:05<00:00, 22.31it/s]\n"
          ]
        },
        {
          "output_type": "stream",
          "name": "stdout",
          "text": [
            "Train Loss : 0.821\n",
            "Epoch 6/15 - Duration: 5.29 seconds \n",
            "Epoch: 7\n"
          ]
        },
        {
          "output_type": "stream",
          "name": "stderr",
          "text": [
            "100%|██████████| 118/118 [00:05<00:00, 22.11it/s]\n"
          ]
        },
        {
          "output_type": "stream",
          "name": "stdout",
          "text": [
            "Train Loss : 0.817\n",
            "Epoch 7/15 - Duration: 5.34 seconds \n",
            "Epoch: 8\n"
          ]
        },
        {
          "output_type": "stream",
          "name": "stderr",
          "text": [
            "100%|██████████| 118/118 [00:05<00:00, 22.11it/s]\n"
          ]
        },
        {
          "output_type": "stream",
          "name": "stdout",
          "text": [
            "Train Loss : 0.818\n",
            "Epoch 8/15 - Duration: 5.34 seconds \n",
            "Epoch: 9\n"
          ]
        },
        {
          "output_type": "stream",
          "name": "stderr",
          "text": [
            "100%|██████████| 118/118 [00:05<00:00, 21.41it/s]\n"
          ]
        },
        {
          "output_type": "stream",
          "name": "stdout",
          "text": [
            "Train Loss : 0.813\n",
            "Epoch 9/15 - Duration: 5.52 seconds \n",
            "Epoch: 10\n"
          ]
        },
        {
          "output_type": "stream",
          "name": "stderr",
          "text": [
            "100%|██████████| 118/118 [00:05<00:00, 22.11it/s]\n"
          ]
        },
        {
          "output_type": "stream",
          "name": "stdout",
          "text": [
            "Train Loss : 0.810\n",
            "Epoch 10/15 - Duration: 5.34 seconds \n",
            "Epoch: 11\n"
          ]
        },
        {
          "output_type": "stream",
          "name": "stderr",
          "text": [
            "100%|██████████| 118/118 [00:05<00:00, 22.38it/s]\n"
          ]
        },
        {
          "output_type": "stream",
          "name": "stdout",
          "text": [
            "Train Loss : 0.808\n",
            "Epoch 11/15 - Duration: 5.28 seconds \n",
            "Epoch: 12\n"
          ]
        },
        {
          "output_type": "stream",
          "name": "stderr",
          "text": [
            "100%|██████████| 118/118 [00:05<00:00, 22.04it/s]\n"
          ]
        },
        {
          "output_type": "stream",
          "name": "stdout",
          "text": [
            "Train Loss : 0.805\n",
            "Epoch 12/15 - Duration: 5.36 seconds \n",
            "Epoch: 13\n"
          ]
        },
        {
          "output_type": "stream",
          "name": "stderr",
          "text": [
            "100%|██████████| 118/118 [00:05<00:00, 22.50it/s]\n"
          ]
        },
        {
          "output_type": "stream",
          "name": "stdout",
          "text": [
            "Train Loss : 0.803\n",
            "Epoch 13/15 - Duration: 5.25 seconds \n",
            "Epoch: 14\n"
          ]
        },
        {
          "output_type": "stream",
          "name": "stderr",
          "text": [
            "100%|██████████| 118/118 [00:05<00:00, 21.28it/s]\n"
          ]
        },
        {
          "output_type": "stream",
          "name": "stdout",
          "text": [
            "Train Loss : 0.810\n",
            "Epoch 14/15 - Duration: 5.55 seconds \n",
            "Epoch: 15\n"
          ]
        },
        {
          "output_type": "stream",
          "name": "stderr",
          "text": [
            "100%|██████████| 118/118 [00:05<00:00, 22.23it/s]\n"
          ]
        },
        {
          "output_type": "stream",
          "name": "stdout",
          "text": [
            "Train Loss : 0.801\n",
            "Epoch 15/15 - Duration: 5.31 seconds \n",
            "Average training time per epoch: 5.38 seconds\n",
            "\n",
            "Test Accuracy : 0.915\n",
            "\n",
            "Classification Report : \n",
            "              precision    recall  f1-score   support\n",
            "\n",
            "       World       0.94      0.90      0.92      1900\n",
            "      Sports       0.95      0.98      0.97      1900\n",
            "    Business       0.87      0.89      0.88      1900\n",
            "    Sci/Tech       0.90      0.88      0.89      1900\n",
            "\n",
            "    accuracy                           0.92      7600\n",
            "   macro avg       0.92      0.92      0.92      7600\n",
            "weighted avg       0.92      0.92      0.92      7600\n",
            "\n",
            "\n",
            "Confusion Matrix : \n",
            "[[1708   63   83   46]\n",
            " [   7 1870   18    5]\n",
            " [  60   17 1697  126]\n",
            " [  46   15  158 1681]]\n"
          ]
        }
      ]
    },
    {
      "cell_type": "markdown",
      "source": [
        "# Results GloVe pretrained embeddings initialization - No Freeze  (GloVe6B100d)\n",
        "\n",
        "|  | 1RNN | 1-BiRNN | 2-BiRNN | 1LSTM | 1-BiLSTM |2-BiLSTM  |\n",
        "|:---------|:--------:|---------:|---------:|---------:|---------:|---------:|\n",
        "|  Accuracy  |0.473       |     0.907       |      0.907   |    0.909        |       0.918     |       0.915          |\n",
        "|  Parameters   | 10884       |     2147164     |      2171996 |       2168156   |        2210908  |        2310236       |\n",
        "|  Time Cost(per epoch)   |4.61 seconds|    4.71 seconds |  4.99 seconds|    4.86 seconds |    5.07 seconds |    5.38 seconds      |\n",
        "\n",
        "\n",
        "\n"
      ],
      "metadata": {
        "id": "V5O8aHYs_xew"
      }
    },
    {
      "cell_type": "markdown",
      "source": [
        "1RNN's complexity is reduced significantly on this occasion but so does the accuracy. This model is deemed highly inefficient and more time consuming than the model without the GloVe embeddings. By increasing the number of layers and providing bidirectionality, the accuracy increases drastically, reaching 90.7%. The same number of parameters are used as before(without the embeddings, max_words=25). They are slightly more time consuming, since they are 0.2-0.3 seconds slower.\n",
        "LSTM architecture further increaces the efficiency of the model. All of LSTM's versions are 2-3% more accurate than their previous versions(without Glove). The peak accuracy was achieved by 1-layer bidirectional lstm, which 91.8%. Their number of parameters is exactly the same as before. Unfortunately, they are 0.2-0.5 seconds slower per epoch than their previous counterparts. In conslusion, GloVe embeddings  boost performance majorly."
      ],
      "metadata": {
        "id": "yyS2zx06A3Si"
      }
    },
    {
      "cell_type": "markdown",
      "source": [
        "# Initialize embeddings of NNs with GloVe pretrained embeddings glove6B100d - With Weights Freezed"
      ],
      "metadata": {
        "id": "e-SKXEoIDz9F"
      }
    },
    {
      "cell_type": "code",
      "source": [
        "# Usage example assuming vocab, EMBEDDING_DIM, HIDDEN_DIM, target_classes, device, and LEARNING_RATE are defined\n",
        "classifier19 = Model2(len(vocab), EMBEDDING_DIM, HIDDEN_DIM, len(target_classes), embedding_matrix , True).to(device)\n",
        "loss_fn19 = nn.CrossEntropyLoss().to(device)\n",
        "optimizer19 = torch.optim.Adam(classifier19.parameters(), lr=LEARNING_RATE)\n",
        "\n",
        "\n",
        "print('\\nModel:')\n",
        "print(classifier19)\n",
        "print('Total parameters: ', count_parameters(classifier19))\n",
        "print('\\n\\n')\n",
        "\n",
        "\n",
        "epoch_durations19 = TrainModel(classifier19, loss_fn19, optimizer19, train_loader, EPOCHS)\n",
        "# Calculate and print the average duration per epoch\n",
        "average_duration19 = sum(epoch_durations19) / len(epoch_durations19)\n",
        "print(f\"Average training time per epoch: {average_duration19:.2f} seconds\")\n",
        "\n",
        "\n",
        "######################################################################\n",
        "# Evaluate the model with test dataset\n",
        "# ------------------------------------\n",
        "\n",
        "_, Y_actual, Y_preds, misclf_data19 = EvaluateModel(classifier19, loss_fn19, test_loader, test_data[\"text\"])\n",
        "\n",
        "print(\"\\nTest Accuracy : {:.3f}\".format(accuracy_score(Y_actual, Y_preds)))\n",
        "print(\"\\nClassification Report : \")\n",
        "print(classification_report(Y_actual, Y_preds, target_names=target_classes))\n",
        "print(\"\\nConfusion Matrix : \")\n",
        "print(confusion_matrix(Y_actual, Y_preds))"
      ],
      "metadata": {
        "colab": {
          "base_uri": "https://localhost:8080/"
        },
        "id": "VforiKrUooAC",
        "outputId": "7436dbc6-972a-4e23-a304-3ccc735d58f0"
      },
      "execution_count": 45,
      "outputs": [
        {
          "output_type": "stream",
          "name": "stdout",
          "text": [
            "\n",
            "Model:\n",
            "Model2(\n",
            "  (embedding_layer): Embedding(21254, 100)\n",
            "  (rnn): RNN(100, 64, batch_first=True)\n",
            "  (linear): Linear(in_features=64, out_features=4, bias=True)\n",
            ")\n",
            "Total parameters:  2136284\n",
            "\n",
            "\n",
            "\n",
            "Epoch: 1\n"
          ]
        },
        {
          "output_type": "stream",
          "name": "stderr",
          "text": [
            "100%|██████████| 118/118 [00:04<00:00, 25.84it/s]\n"
          ]
        },
        {
          "output_type": "stream",
          "name": "stdout",
          "text": [
            "Train Loss : 1.302\n",
            "Epoch 1/15 - Duration: 4.57 seconds \n",
            "Epoch: 2\n"
          ]
        },
        {
          "output_type": "stream",
          "name": "stderr",
          "text": [
            "100%|██████████| 118/118 [00:04<00:00, 26.30it/s]\n"
          ]
        },
        {
          "output_type": "stream",
          "name": "stdout",
          "text": [
            "Train Loss : 1.202\n",
            "Epoch 2/15 - Duration: 4.49 seconds \n",
            "Epoch: 3\n"
          ]
        },
        {
          "output_type": "stream",
          "name": "stderr",
          "text": [
            "100%|██████████| 118/118 [00:04<00:00, 26.79it/s]\n"
          ]
        },
        {
          "output_type": "stream",
          "name": "stdout",
          "text": [
            "Train Loss : 1.273\n",
            "Epoch 3/15 - Duration: 4.41 seconds \n",
            "Epoch: 4\n"
          ]
        },
        {
          "output_type": "stream",
          "name": "stderr",
          "text": [
            "100%|██████████| 118/118 [00:04<00:00, 26.48it/s]\n"
          ]
        },
        {
          "output_type": "stream",
          "name": "stdout",
          "text": [
            "Train Loss : 1.294\n",
            "Epoch 4/15 - Duration: 4.46 seconds \n",
            "Epoch: 5\n"
          ]
        },
        {
          "output_type": "stream",
          "name": "stderr",
          "text": [
            "100%|██████████| 118/118 [00:04<00:00, 26.98it/s]\n"
          ]
        },
        {
          "output_type": "stream",
          "name": "stdout",
          "text": [
            "Train Loss : 1.286\n",
            "Epoch 5/15 - Duration: 4.38 seconds \n",
            "Epoch: 6\n"
          ]
        },
        {
          "output_type": "stream",
          "name": "stderr",
          "text": [
            "100%|██████████| 118/118 [00:04<00:00, 25.53it/s]\n"
          ]
        },
        {
          "output_type": "stream",
          "name": "stdout",
          "text": [
            "Train Loss : 1.252\n",
            "Epoch 6/15 - Duration: 4.63 seconds \n",
            "Epoch: 7\n"
          ]
        },
        {
          "output_type": "stream",
          "name": "stderr",
          "text": [
            "100%|██████████| 118/118 [00:04<00:00, 26.41it/s]\n"
          ]
        },
        {
          "output_type": "stream",
          "name": "stdout",
          "text": [
            "Train Loss : 1.140\n",
            "Epoch 7/15 - Duration: 4.47 seconds \n",
            "Epoch: 8\n"
          ]
        },
        {
          "output_type": "stream",
          "name": "stderr",
          "text": [
            "100%|██████████| 118/118 [00:04<00:00, 26.76it/s]\n"
          ]
        },
        {
          "output_type": "stream",
          "name": "stdout",
          "text": [
            "Train Loss : 1.132\n",
            "Epoch 8/15 - Duration: 4.42 seconds \n",
            "Epoch: 9\n"
          ]
        },
        {
          "output_type": "stream",
          "name": "stderr",
          "text": [
            "100%|██████████| 118/118 [00:04<00:00, 26.30it/s]\n"
          ]
        },
        {
          "output_type": "stream",
          "name": "stdout",
          "text": [
            "Train Loss : 1.286\n",
            "Epoch 9/15 - Duration: 4.49 seconds \n",
            "Epoch: 10\n"
          ]
        },
        {
          "output_type": "stream",
          "name": "stderr",
          "text": [
            "100%|██████████| 118/118 [00:04<00:00, 25.68it/s]\n"
          ]
        },
        {
          "output_type": "stream",
          "name": "stdout",
          "text": [
            "Train Loss : 1.302\n",
            "Epoch 10/15 - Duration: 4.60 seconds \n",
            "Epoch: 11\n"
          ]
        },
        {
          "output_type": "stream",
          "name": "stderr",
          "text": [
            "100%|██████████| 118/118 [00:04<00:00, 26.74it/s]\n"
          ]
        },
        {
          "output_type": "stream",
          "name": "stdout",
          "text": [
            "Train Loss : 1.331\n",
            "Epoch 11/15 - Duration: 4.42 seconds \n",
            "Epoch: 12\n"
          ]
        },
        {
          "output_type": "stream",
          "name": "stderr",
          "text": [
            "100%|██████████| 118/118 [00:04<00:00, 26.06it/s]\n"
          ]
        },
        {
          "output_type": "stream",
          "name": "stdout",
          "text": [
            "Train Loss : 1.301\n",
            "Epoch 12/15 - Duration: 4.53 seconds \n",
            "Epoch: 13\n"
          ]
        },
        {
          "output_type": "stream",
          "name": "stderr",
          "text": [
            "100%|██████████| 118/118 [00:04<00:00, 25.71it/s]\n"
          ]
        },
        {
          "output_type": "stream",
          "name": "stdout",
          "text": [
            "Train Loss : 1.289\n",
            "Epoch 13/15 - Duration: 4.60 seconds \n",
            "Epoch: 14\n"
          ]
        },
        {
          "output_type": "stream",
          "name": "stderr",
          "text": [
            "100%|██████████| 118/118 [00:04<00:00, 26.46it/s]\n"
          ]
        },
        {
          "output_type": "stream",
          "name": "stdout",
          "text": [
            "Train Loss : 1.286\n",
            "Epoch 14/15 - Duration: 4.46 seconds \n",
            "Epoch: 15\n"
          ]
        },
        {
          "output_type": "stream",
          "name": "stderr",
          "text": [
            "100%|██████████| 118/118 [00:04<00:00, 26.77it/s]\n"
          ]
        },
        {
          "output_type": "stream",
          "name": "stdout",
          "text": [
            "Train Loss : 1.284\n",
            "Epoch 15/15 - Duration: 4.41 seconds \n",
            "Average training time per epoch: 4.49 seconds\n",
            "\n",
            "Test Accuracy : 0.420\n",
            "\n",
            "Classification Report : \n",
            "              precision    recall  f1-score   support\n",
            "\n",
            "       World       0.59      0.70      0.64      1900\n",
            "      Sports       0.35      0.92      0.50      1900\n",
            "    Business       0.00      0.00      0.00      1900\n",
            "    Sci/Tech       0.36      0.06      0.10      1900\n",
            "\n",
            "    accuracy                           0.42      7600\n",
            "   macro avg       0.33      0.42      0.31      7600\n",
            "weighted avg       0.33      0.42      0.31      7600\n",
            "\n",
            "\n",
            "Confusion Matrix : \n",
            "[[1329  523    0   48]\n",
            " [ 101 1756    0   43]\n",
            " [ 528 1269    0  103]\n",
            " [ 283 1508    0  109]]\n"
          ]
        },
        {
          "output_type": "stream",
          "name": "stderr",
          "text": [
            "/usr/local/lib/python3.10/dist-packages/sklearn/metrics/_classification.py:1344: UndefinedMetricWarning: Precision and F-score are ill-defined and being set to 0.0 in labels with no predicted samples. Use `zero_division` parameter to control this behavior.\n",
            "  _warn_prf(average, modifier, msg_start, len(result))\n",
            "/usr/local/lib/python3.10/dist-packages/sklearn/metrics/_classification.py:1344: UndefinedMetricWarning: Precision and F-score are ill-defined and being set to 0.0 in labels with no predicted samples. Use `zero_division` parameter to control this behavior.\n",
            "  _warn_prf(average, modifier, msg_start, len(result))\n",
            "/usr/local/lib/python3.10/dist-packages/sklearn/metrics/_classification.py:1344: UndefinedMetricWarning: Precision and F-score are ill-defined and being set to 0.0 in labels with no predicted samples. Use `zero_division` parameter to control this behavior.\n",
            "  _warn_prf(average, modifier, msg_start, len(result))\n"
          ]
        }
      ]
    },
    {
      "cell_type": "code",
      "source": [
        "# Usage example assuming vocab, EMBEDDING_DIM, HIDDEN_DIM, target_classes, device, and LEARNING_RATE are defined\n",
        "classifier20 = BiRNN1_2(len(vocab), EMBEDDING_DIM, HIDDEN_DIM, len(target_classes), embedding_matrix , True).to(device)\n",
        "loss_fn20 = nn.CrossEntropyLoss().to(device)\n",
        "optimizer20 = torch.optim.Adam(classifier20.parameters(), lr=LEARNING_RATE)\n",
        "\n",
        "\n",
        "print('\\nModel:')\n",
        "print(classifier20)\n",
        "print('Total parameters: ', count_parameters(classifier20))\n",
        "print('\\n\\n')\n",
        "\n",
        "\n",
        "epoch_durations20 = TrainModel(classifier20, loss_fn20, optimizer20, train_loader, EPOCHS)\n",
        "# Calculate and print the average duration per epoch\n",
        "average_duration20 = sum(epoch_durations20) / len(epoch_durations20)\n",
        "print(f\"Average training time per epoch: {average_duration20:.2f} seconds\")\n",
        "\n",
        "\n",
        "######################################################################\n",
        "# Evaluate the model with test dataset\n",
        "# ------------------------------------\n",
        "\n",
        "_, Y_actual, Y_preds, misclf_data20 = EvaluateModel(classifier20, loss_fn20, test_loader, test_data[\"text\"])\n",
        "\n",
        "print(\"\\nTest Accuracy : {:.3f}\".format(accuracy_score(Y_actual, Y_preds)))\n",
        "print(\"\\nClassification Report : \")\n",
        "print(classification_report(Y_actual, Y_preds, target_names=target_classes))\n",
        "print(\"\\nConfusion Matrix : \")\n",
        "print(confusion_matrix(Y_actual, Y_preds))"
      ],
      "metadata": {
        "colab": {
          "base_uri": "https://localhost:8080/"
        },
        "id": "GYzPRXzkrt_a",
        "outputId": "51f14f6d-3113-4686-a148-5a310444436e"
      },
      "execution_count": 46,
      "outputs": [
        {
          "output_type": "stream",
          "name": "stdout",
          "text": [
            "\n",
            "Model:\n",
            "BiRNN1_2(\n",
            "  (embedding_layer): Embedding(21254, 100)\n",
            "  (rnn): RNN(100, 64, batch_first=True, bidirectional=True)\n",
            "  (linear): Linear(in_features=128, out_features=4, bias=True)\n",
            ")\n",
            "Total parameters:  21764\n",
            "\n",
            "\n",
            "\n",
            "Epoch: 1\n"
          ]
        },
        {
          "output_type": "stream",
          "name": "stderr",
          "text": [
            "100%|██████████| 118/118 [00:04<00:00, 26.23it/s]\n"
          ]
        },
        {
          "output_type": "stream",
          "name": "stdout",
          "text": [
            "Train Loss : 1.033\n",
            "Epoch 1/15 - Duration: 4.50 seconds \n",
            "Epoch: 2\n"
          ]
        },
        {
          "output_type": "stream",
          "name": "stderr",
          "text": [
            "100%|██████████| 118/118 [00:04<00:00, 24.88it/s]\n"
          ]
        },
        {
          "output_type": "stream",
          "name": "stdout",
          "text": [
            "Train Loss : 0.933\n",
            "Epoch 2/15 - Duration: 4.75 seconds \n",
            "Epoch: 3\n"
          ]
        },
        {
          "output_type": "stream",
          "name": "stderr",
          "text": [
            "100%|██████████| 118/118 [00:04<00:00, 26.24it/s]\n"
          ]
        },
        {
          "output_type": "stream",
          "name": "stdout",
          "text": [
            "Train Loss : 0.902\n",
            "Epoch 3/15 - Duration: 4.50 seconds \n",
            "Epoch: 4\n"
          ]
        },
        {
          "output_type": "stream",
          "name": "stderr",
          "text": [
            "100%|██████████| 118/118 [00:04<00:00, 25.80it/s]\n"
          ]
        },
        {
          "output_type": "stream",
          "name": "stdout",
          "text": [
            "Train Loss : 0.893\n",
            "Epoch 4/15 - Duration: 4.58 seconds \n",
            "Epoch: 5\n"
          ]
        },
        {
          "output_type": "stream",
          "name": "stderr",
          "text": [
            "100%|██████████| 118/118 [00:04<00:00, 24.73it/s]\n"
          ]
        },
        {
          "output_type": "stream",
          "name": "stdout",
          "text": [
            "Train Loss : 0.877\n",
            "Epoch 5/15 - Duration: 4.78 seconds \n",
            "Epoch: 6\n"
          ]
        },
        {
          "output_type": "stream",
          "name": "stderr",
          "text": [
            "100%|██████████| 118/118 [00:04<00:00, 25.55it/s]\n"
          ]
        },
        {
          "output_type": "stream",
          "name": "stdout",
          "text": [
            "Train Loss : 0.888\n",
            "Epoch 6/15 - Duration: 4.62 seconds \n",
            "Epoch: 7\n"
          ]
        },
        {
          "output_type": "stream",
          "name": "stderr",
          "text": [
            "100%|██████████| 118/118 [00:04<00:00, 25.54it/s]\n"
          ]
        },
        {
          "output_type": "stream",
          "name": "stdout",
          "text": [
            "Train Loss : 0.891\n",
            "Epoch 7/15 - Duration: 4.63 seconds \n",
            "Epoch: 8\n"
          ]
        },
        {
          "output_type": "stream",
          "name": "stderr",
          "text": [
            "100%|██████████| 118/118 [00:04<00:00, 25.44it/s]\n"
          ]
        },
        {
          "output_type": "stream",
          "name": "stdout",
          "text": [
            "Train Loss : 0.916\n",
            "Epoch 8/15 - Duration: 4.64 seconds \n",
            "Epoch: 9\n"
          ]
        },
        {
          "output_type": "stream",
          "name": "stderr",
          "text": [
            "100%|██████████| 118/118 [00:04<00:00, 25.48it/s]\n"
          ]
        },
        {
          "output_type": "stream",
          "name": "stdout",
          "text": [
            "Train Loss : 0.974\n",
            "Epoch 9/15 - Duration: 4.64 seconds \n",
            "Epoch: 10\n"
          ]
        },
        {
          "output_type": "stream",
          "name": "stderr",
          "text": [
            "100%|██████████| 118/118 [00:04<00:00, 24.63it/s]\n"
          ]
        },
        {
          "output_type": "stream",
          "name": "stdout",
          "text": [
            "Train Loss : 0.901\n",
            "Epoch 10/15 - Duration: 4.80 seconds \n",
            "Epoch: 11\n"
          ]
        },
        {
          "output_type": "stream",
          "name": "stderr",
          "text": [
            "100%|██████████| 118/118 [00:04<00:00, 25.56it/s]\n"
          ]
        },
        {
          "output_type": "stream",
          "name": "stdout",
          "text": [
            "Train Loss : 0.894\n",
            "Epoch 11/15 - Duration: 4.62 seconds \n",
            "Epoch: 12\n"
          ]
        },
        {
          "output_type": "stream",
          "name": "stderr",
          "text": [
            "100%|██████████| 118/118 [00:04<00:00, 25.65it/s]\n"
          ]
        },
        {
          "output_type": "stream",
          "name": "stdout",
          "text": [
            "Train Loss : 0.894\n",
            "Epoch 12/15 - Duration: 4.61 seconds \n",
            "Epoch: 13\n"
          ]
        },
        {
          "output_type": "stream",
          "name": "stderr",
          "text": [
            "100%|██████████| 118/118 [00:04<00:00, 25.77it/s]\n"
          ]
        },
        {
          "output_type": "stream",
          "name": "stdout",
          "text": [
            "Train Loss : 0.939\n",
            "Epoch 13/15 - Duration: 4.58 seconds \n",
            "Epoch: 14\n"
          ]
        },
        {
          "output_type": "stream",
          "name": "stderr",
          "text": [
            "100%|██████████| 118/118 [00:04<00:00, 25.03it/s]\n"
          ]
        },
        {
          "output_type": "stream",
          "name": "stdout",
          "text": [
            "Train Loss : 0.885\n",
            "Epoch 14/15 - Duration: 4.72 seconds \n",
            "Epoch: 15\n"
          ]
        },
        {
          "output_type": "stream",
          "name": "stderr",
          "text": [
            "100%|██████████| 118/118 [00:04<00:00, 25.66it/s]\n"
          ]
        },
        {
          "output_type": "stream",
          "name": "stdout",
          "text": [
            "Train Loss : 0.886\n",
            "Epoch 15/15 - Duration: 4.60 seconds \n",
            "Average training time per epoch: 4.64 seconds\n",
            "\n",
            "Test Accuracy : 0.860\n",
            "\n",
            "Classification Report : \n",
            "              precision    recall  f1-score   support\n",
            "\n",
            "       World       0.90      0.85      0.87      1900\n",
            "      Sports       0.92      0.95      0.94      1900\n",
            "    Business       0.83      0.79      0.81      1900\n",
            "    Sci/Tech       0.79      0.86      0.82      1900\n",
            "\n",
            "    accuracy                           0.86      7600\n",
            "   macro avg       0.86      0.86      0.86      7600\n",
            "weighted avg       0.86      0.86      0.86      7600\n",
            "\n",
            "\n",
            "Confusion Matrix : \n",
            "[[1606   67  127  100]\n",
            " [  37 1799   27   37]\n",
            " [  85   22 1502  291]\n",
            " [  62   58  148 1632]]\n"
          ]
        }
      ]
    },
    {
      "cell_type": "code",
      "source": [
        "# Usage example assuming vocab, EMBEDDING_DIM, HIDDEN_DIM, target_classes, device, and LEARNING_RATE are defined\n",
        "classifier21 = BiRNN2_2(len(vocab), EMBEDDING_DIM, HIDDEN_DIM, len(target_classes), embedding_matrix , True).to(device)\n",
        "loss_fn21 = nn.CrossEntropyLoss().to(device)\n",
        "optimizer21 = torch.optim.Adam(classifier21.parameters(), lr=LEARNING_RATE)\n",
        "\n",
        "\n",
        "print('\\nModel:')\n",
        "print(classifier21)\n",
        "print('Total parameters: ', count_parameters(classifier21))\n",
        "print('\\n\\n')\n",
        "\n",
        "\n",
        "epoch_durations21 = TrainModel(classifier21, loss_fn21, optimizer21, train_loader, EPOCHS)\n",
        "# Calculate and print the average duration per epoch\n",
        "average_duration21 = sum(epoch_durations21) / len(epoch_durations21)\n",
        "print(f\"Average training time per epoch: {average_duration21:.2f} seconds\")\n",
        "\n",
        "\n",
        "######################################################################\n",
        "# Evaluate the model with test dataset\n",
        "# ------------------------------------\n",
        "\n",
        "_, Y_actual, Y_preds, misclf_data21 = EvaluateModel(classifier21, loss_fn21, test_loader, test_data[\"text\"])\n",
        "\n",
        "print(\"\\nTest Accuracy : {:.3f}\".format(accuracy_score(Y_actual, Y_preds)))\n",
        "print(\"\\nClassification Report : \")\n",
        "print(classification_report(Y_actual, Y_preds, target_names=target_classes))\n",
        "print(\"\\nConfusion Matrix : \")\n",
        "print(confusion_matrix(Y_actual, Y_preds))"
      ],
      "metadata": {
        "colab": {
          "base_uri": "https://localhost:8080/"
        },
        "id": "K2I8SvIFtUZv",
        "outputId": "e5a11c84-46eb-442e-f6a4-a1172a9afa25"
      },
      "execution_count": 47,
      "outputs": [
        {
          "output_type": "stream",
          "name": "stdout",
          "text": [
            "\n",
            "Model:\n",
            "BiRNN2_2(\n",
            "  (embedding_layer): Embedding(21254, 100)\n",
            "  (rnn): RNN(100, 64, num_layers=2, batch_first=True, bidirectional=True)\n",
            "  (linear): Linear(in_features=128, out_features=4, bias=True)\n",
            ")\n",
            "Total parameters:  46596\n",
            "\n",
            "\n",
            "\n",
            "Epoch: 1\n"
          ]
        },
        {
          "output_type": "stream",
          "name": "stderr",
          "text": [
            "100%|██████████| 118/118 [00:05<00:00, 23.15it/s]\n"
          ]
        },
        {
          "output_type": "stream",
          "name": "stdout",
          "text": [
            "Train Loss : 0.996\n",
            "Epoch 1/15 - Duration: 5.10 seconds \n",
            "Epoch: 2\n"
          ]
        },
        {
          "output_type": "stream",
          "name": "stderr",
          "text": [
            "100%|██████████| 118/118 [00:05<00:00, 23.40it/s]\n"
          ]
        },
        {
          "output_type": "stream",
          "name": "stdout",
          "text": [
            "Train Loss : 0.912\n",
            "Epoch 2/15 - Duration: 5.05 seconds \n",
            "Epoch: 3\n"
          ]
        },
        {
          "output_type": "stream",
          "name": "stderr",
          "text": [
            "100%|██████████| 118/118 [00:04<00:00, 24.03it/s]\n"
          ]
        },
        {
          "output_type": "stream",
          "name": "stdout",
          "text": [
            "Train Loss : 0.887\n",
            "Epoch 3/15 - Duration: 4.92 seconds \n",
            "Epoch: 4\n"
          ]
        },
        {
          "output_type": "stream",
          "name": "stderr",
          "text": [
            "100%|██████████| 118/118 [00:04<00:00, 23.88it/s]\n"
          ]
        },
        {
          "output_type": "stream",
          "name": "stdout",
          "text": [
            "Train Loss : 0.952\n",
            "Epoch 4/15 - Duration: 4.94 seconds \n",
            "Epoch: 5\n"
          ]
        },
        {
          "output_type": "stream",
          "name": "stderr",
          "text": [
            "100%|██████████| 118/118 [00:05<00:00, 22.96it/s]\n"
          ]
        },
        {
          "output_type": "stream",
          "name": "stdout",
          "text": [
            "Train Loss : 1.087\n",
            "Epoch 5/15 - Duration: 5.14 seconds \n",
            "Epoch: 6\n"
          ]
        },
        {
          "output_type": "stream",
          "name": "stderr",
          "text": [
            "100%|██████████| 118/118 [00:05<00:00, 23.28it/s]\n"
          ]
        },
        {
          "output_type": "stream",
          "name": "stdout",
          "text": [
            "Train Loss : 0.932\n",
            "Epoch 6/15 - Duration: 5.08 seconds \n",
            "Epoch: 7\n"
          ]
        },
        {
          "output_type": "stream",
          "name": "stderr",
          "text": [
            "100%|██████████| 118/118 [00:05<00:00, 23.59it/s]\n"
          ]
        },
        {
          "output_type": "stream",
          "name": "stdout",
          "text": [
            "Train Loss : 0.921\n",
            "Epoch 7/15 - Duration: 5.01 seconds \n",
            "Epoch: 8\n"
          ]
        },
        {
          "output_type": "stream",
          "name": "stderr",
          "text": [
            "100%|██████████| 118/118 [00:04<00:00, 23.70it/s]\n"
          ]
        },
        {
          "output_type": "stream",
          "name": "stdout",
          "text": [
            "Train Loss : 0.928\n",
            "Epoch 8/15 - Duration: 4.98 seconds \n",
            "Epoch: 9\n"
          ]
        },
        {
          "output_type": "stream",
          "name": "stderr",
          "text": [
            "100%|██████████| 118/118 [00:04<00:00, 23.72it/s]\n"
          ]
        },
        {
          "output_type": "stream",
          "name": "stdout",
          "text": [
            "Train Loss : 0.890\n",
            "Epoch 9/15 - Duration: 4.98 seconds \n",
            "Epoch: 10\n"
          ]
        },
        {
          "output_type": "stream",
          "name": "stderr",
          "text": [
            "100%|██████████| 118/118 [00:05<00:00, 22.80it/s]\n"
          ]
        },
        {
          "output_type": "stream",
          "name": "stdout",
          "text": [
            "Train Loss : 0.932\n",
            "Epoch 10/15 - Duration: 5.18 seconds \n",
            "Epoch: 11\n"
          ]
        },
        {
          "output_type": "stream",
          "name": "stderr",
          "text": [
            "100%|██████████| 118/118 [00:04<00:00, 24.02it/s]\n"
          ]
        },
        {
          "output_type": "stream",
          "name": "stdout",
          "text": [
            "Train Loss : 0.883\n",
            "Epoch 11/15 - Duration: 4.92 seconds \n",
            "Epoch: 12\n"
          ]
        },
        {
          "output_type": "stream",
          "name": "stderr",
          "text": [
            "100%|██████████| 118/118 [00:05<00:00, 23.51it/s]\n"
          ]
        },
        {
          "output_type": "stream",
          "name": "stdout",
          "text": [
            "Train Loss : 0.929\n",
            "Epoch 12/15 - Duration: 5.02 seconds \n",
            "Epoch: 13\n"
          ]
        },
        {
          "output_type": "stream",
          "name": "stderr",
          "text": [
            "100%|██████████| 118/118 [00:05<00:00, 23.44it/s]\n"
          ]
        },
        {
          "output_type": "stream",
          "name": "stdout",
          "text": [
            "Train Loss : 0.894\n",
            "Epoch 13/15 - Duration: 5.04 seconds \n",
            "Epoch: 14\n"
          ]
        },
        {
          "output_type": "stream",
          "name": "stderr",
          "text": [
            "100%|██████████| 118/118 [00:04<00:00, 23.65it/s]\n"
          ]
        },
        {
          "output_type": "stream",
          "name": "stdout",
          "text": [
            "Train Loss : 0.899\n",
            "Epoch 14/15 - Duration: 4.99 seconds \n",
            "Epoch: 15\n"
          ]
        },
        {
          "output_type": "stream",
          "name": "stderr",
          "text": [
            "100%|██████████| 118/118 [00:04<00:00, 24.06it/s]\n"
          ]
        },
        {
          "output_type": "stream",
          "name": "stdout",
          "text": [
            "Train Loss : 0.908\n",
            "Epoch 15/15 - Duration: 4.91 seconds \n",
            "Average training time per epoch: 5.02 seconds\n",
            "\n",
            "Test Accuracy : 0.595\n",
            "\n",
            "Classification Report : \n",
            "              precision    recall  f1-score   support\n",
            "\n",
            "       World       0.00      0.00      0.00      1900\n",
            "      Sports       0.96      0.65      0.77      1900\n",
            "    Business       0.42      0.80      0.55      1900\n",
            "    Sci/Tech       0.66      0.93      0.77      1900\n",
            "\n",
            "    accuracy                           0.59      7600\n",
            "   macro avg       0.51      0.59      0.52      7600\n",
            "weighted avg       0.51      0.59      0.52      7600\n",
            "\n",
            "\n",
            "Confusion Matrix : \n",
            "[[   0   37 1503  360]\n",
            " [   0 1238  495  167]\n",
            " [   0   17 1521  362]\n",
            " [   0    4  133 1763]]\n"
          ]
        },
        {
          "output_type": "stream",
          "name": "stderr",
          "text": [
            "/usr/local/lib/python3.10/dist-packages/sklearn/metrics/_classification.py:1344: UndefinedMetricWarning: Precision and F-score are ill-defined and being set to 0.0 in labels with no predicted samples. Use `zero_division` parameter to control this behavior.\n",
            "  _warn_prf(average, modifier, msg_start, len(result))\n",
            "/usr/local/lib/python3.10/dist-packages/sklearn/metrics/_classification.py:1344: UndefinedMetricWarning: Precision and F-score are ill-defined and being set to 0.0 in labels with no predicted samples. Use `zero_division` parameter to control this behavior.\n",
            "  _warn_prf(average, modifier, msg_start, len(result))\n",
            "/usr/local/lib/python3.10/dist-packages/sklearn/metrics/_classification.py:1344: UndefinedMetricWarning: Precision and F-score are ill-defined and being set to 0.0 in labels with no predicted samples. Use `zero_division` parameter to control this behavior.\n",
            "  _warn_prf(average, modifier, msg_start, len(result))\n"
          ]
        }
      ]
    },
    {
      "cell_type": "code",
      "source": [
        "# Usage example assuming vocab, EMBEDDING_DIM, HIDDEN_DIM, target_classes, device, and LEARNING_RATE are defined\n",
        "classifier22 = LSTM1_2(len(vocab), EMBEDDING_DIM, HIDDEN_DIM, len(target_classes), embedding_matrix , True).to(device)\n",
        "loss_fn22 = nn.CrossEntropyLoss().to(device)\n",
        "optimizer22 = torch.optim.Adam(classifier22.parameters(), lr=LEARNING_RATE)\n",
        "\n",
        "\n",
        "print('\\nModel:')\n",
        "print(classifier22)\n",
        "print('Total parameters: ', count_parameters(classifier22))\n",
        "print('\\n\\n')\n",
        "\n",
        "\n",
        "epoch_durations22 = TrainModel(classifier22, loss_fn22, optimizer22, train_loader, EPOCHS)\n",
        "# Calculate and print the average duration per epoch\n",
        "average_duration22 = sum(epoch_durations22) / len(epoch_durations22)\n",
        "print(f\"Average training time per epoch: {average_duration22:.2f} seconds\")\n",
        "\n",
        "\n",
        "######################################################################\n",
        "# Evaluate the model with test dataset\n",
        "# ------------------------------------\n",
        "\n",
        "_, Y_actual, Y_preds, misclf_data22 = EvaluateModel(classifier22, loss_fn22, test_loader, test_data[\"text\"])\n",
        "\n",
        "print(\"\\nTest Accuracy : {:.3f}\".format(accuracy_score(Y_actual, Y_preds)))\n",
        "print(\"\\nClassification Report : \")\n",
        "print(classification_report(Y_actual, Y_preds, target_names=target_classes))\n",
        "print(\"\\nConfusion Matrix : \")\n",
        "print(confusion_matrix(Y_actual, Y_preds))"
      ],
      "metadata": {
        "colab": {
          "base_uri": "https://localhost:8080/"
        },
        "id": "rcSwC4nyvWfj",
        "outputId": "d89c2852-739f-4a17-ed0c-eaf00849cdb5"
      },
      "execution_count": 48,
      "outputs": [
        {
          "output_type": "stream",
          "name": "stdout",
          "text": [
            "\n",
            "Model:\n",
            "LSTM1_2(\n",
            "  (embedding_layer): Embedding(21254, 100)\n",
            "  (lstm): LSTM(100, 64, batch_first=True)\n",
            "  (linear): Linear(in_features=64, out_features=4, bias=True)\n",
            ")\n",
            "Total parameters:  42756\n",
            "\n",
            "\n",
            "\n",
            "Epoch: 1\n"
          ]
        },
        {
          "output_type": "stream",
          "name": "stderr",
          "text": [
            "100%|██████████| 118/118 [00:04<00:00, 24.24it/s]\n"
          ]
        },
        {
          "output_type": "stream",
          "name": "stdout",
          "text": [
            "Train Loss : 1.164\n",
            "Epoch 1/15 - Duration: 4.88 seconds \n",
            "Epoch: 2\n"
          ]
        },
        {
          "output_type": "stream",
          "name": "stderr",
          "text": [
            "100%|██████████| 118/118 [00:04<00:00, 23.70it/s]\n"
          ]
        },
        {
          "output_type": "stream",
          "name": "stdout",
          "text": [
            "Train Loss : 0.948\n",
            "Epoch 2/15 - Duration: 4.98 seconds \n",
            "Epoch: 3\n"
          ]
        },
        {
          "output_type": "stream",
          "name": "stderr",
          "text": [
            "100%|██████████| 118/118 [00:05<00:00, 23.49it/s]\n"
          ]
        },
        {
          "output_type": "stream",
          "name": "stdout",
          "text": [
            "Train Loss : 0.926\n",
            "Epoch 3/15 - Duration: 5.03 seconds \n",
            "Epoch: 4\n"
          ]
        },
        {
          "output_type": "stream",
          "name": "stderr",
          "text": [
            "100%|██████████| 118/118 [00:05<00:00, 23.33it/s]\n"
          ]
        },
        {
          "output_type": "stream",
          "name": "stdout",
          "text": [
            "Train Loss : 0.876\n",
            "Epoch 4/15 - Duration: 5.06 seconds \n",
            "Epoch: 5\n"
          ]
        },
        {
          "output_type": "stream",
          "name": "stderr",
          "text": [
            "100%|██████████| 118/118 [00:04<00:00, 24.14it/s]\n"
          ]
        },
        {
          "output_type": "stream",
          "name": "stdout",
          "text": [
            "Train Loss : 0.865\n",
            "Epoch 5/15 - Duration: 4.90 seconds \n",
            "Epoch: 6\n"
          ]
        },
        {
          "output_type": "stream",
          "name": "stderr",
          "text": [
            "100%|██████████| 118/118 [00:04<00:00, 23.80it/s]\n"
          ]
        },
        {
          "output_type": "stream",
          "name": "stdout",
          "text": [
            "Train Loss : 0.865\n",
            "Epoch 6/15 - Duration: 4.96 seconds \n",
            "Epoch: 7\n"
          ]
        },
        {
          "output_type": "stream",
          "name": "stderr",
          "text": [
            "100%|██████████| 118/118 [00:05<00:00, 23.39it/s]\n"
          ]
        },
        {
          "output_type": "stream",
          "name": "stdout",
          "text": [
            "Train Loss : 0.858\n",
            "Epoch 7/15 - Duration: 5.05 seconds \n",
            "Epoch: 8\n"
          ]
        },
        {
          "output_type": "stream",
          "name": "stderr",
          "text": [
            "100%|██████████| 118/118 [00:04<00:00, 23.93it/s]\n"
          ]
        },
        {
          "output_type": "stream",
          "name": "stdout",
          "text": [
            "Train Loss : 0.855\n",
            "Epoch 8/15 - Duration: 4.94 seconds \n",
            "Epoch: 9\n"
          ]
        },
        {
          "output_type": "stream",
          "name": "stderr",
          "text": [
            "100%|██████████| 118/118 [00:05<00:00, 23.20it/s]\n"
          ]
        },
        {
          "output_type": "stream",
          "name": "stdout",
          "text": [
            "Train Loss : 0.852\n",
            "Epoch 9/15 - Duration: 5.09 seconds \n",
            "Epoch: 10\n"
          ]
        },
        {
          "output_type": "stream",
          "name": "stderr",
          "text": [
            "100%|██████████| 118/118 [00:04<00:00, 24.65it/s]\n"
          ]
        },
        {
          "output_type": "stream",
          "name": "stdout",
          "text": [
            "Train Loss : 0.849\n",
            "Epoch 10/15 - Duration: 4.79 seconds \n",
            "Epoch: 11\n"
          ]
        },
        {
          "output_type": "stream",
          "name": "stderr",
          "text": [
            "100%|██████████| 118/118 [00:04<00:00, 23.63it/s]\n"
          ]
        },
        {
          "output_type": "stream",
          "name": "stdout",
          "text": [
            "Train Loss : 0.846\n",
            "Epoch 11/15 - Duration: 5.00 seconds \n",
            "Epoch: 12\n"
          ]
        },
        {
          "output_type": "stream",
          "name": "stderr",
          "text": [
            "100%|██████████| 118/118 [00:04<00:00, 24.56it/s]\n"
          ]
        },
        {
          "output_type": "stream",
          "name": "stdout",
          "text": [
            "Train Loss : 0.845\n",
            "Epoch 12/15 - Duration: 4.81 seconds \n",
            "Epoch: 13\n"
          ]
        },
        {
          "output_type": "stream",
          "name": "stderr",
          "text": [
            "100%|██████████| 118/118 [00:04<00:00, 24.60it/s]\n"
          ]
        },
        {
          "output_type": "stream",
          "name": "stdout",
          "text": [
            "Train Loss : 0.842\n",
            "Epoch 13/15 - Duration: 4.80 seconds \n",
            "Epoch: 14\n"
          ]
        },
        {
          "output_type": "stream",
          "name": "stderr",
          "text": [
            "100%|██████████| 118/118 [00:05<00:00, 23.57it/s]\n"
          ]
        },
        {
          "output_type": "stream",
          "name": "stdout",
          "text": [
            "Train Loss : 0.842\n",
            "Epoch 14/15 - Duration: 5.01 seconds \n",
            "Epoch: 15\n"
          ]
        },
        {
          "output_type": "stream",
          "name": "stderr",
          "text": [
            "100%|██████████| 118/118 [00:04<00:00, 24.52it/s]\n"
          ]
        },
        {
          "output_type": "stream",
          "name": "stdout",
          "text": [
            "Train Loss : 0.841\n",
            "Epoch 15/15 - Duration: 4.82 seconds \n",
            "Average training time per epoch: 4.94 seconds\n",
            "\n",
            "Test Accuracy : 0.898\n",
            "\n",
            "Classification Report : \n",
            "              precision    recall  f1-score   support\n",
            "\n",
            "       World       0.90      0.89      0.90      1900\n",
            "      Sports       0.96      0.96      0.96      1900\n",
            "    Business       0.88      0.84      0.86      1900\n",
            "    Sci/Tech       0.86      0.90      0.88      1900\n",
            "\n",
            "    accuracy                           0.90      7600\n",
            "   macro avg       0.90      0.90      0.90      7600\n",
            "weighted avg       0.90      0.90      0.90      7600\n",
            "\n",
            "\n",
            "Confusion Matrix : \n",
            "[[1692   58   97   53]\n",
            " [  25 1832   22   21]\n",
            " [  76   11 1601  212]\n",
            " [  79   12  107 1702]]\n"
          ]
        }
      ]
    },
    {
      "cell_type": "code",
      "source": [
        "# Usage example assuming vocab, EMBEDDING_DIM, HIDDEN_DIM, target_classes, device, and LEARNING_RATE are defined\n",
        "classifier23 = BiLSTM1_2(len(vocab), EMBEDDING_DIM, HIDDEN_DIM, len(target_classes), embedding_matrix , True).to(device)\n",
        "loss_fn23 = nn.CrossEntropyLoss().to(device)\n",
        "optimizer23 = torch.optim.Adam(classifier23.parameters(), lr=LEARNING_RATE)\n",
        "\n",
        "\n",
        "print('\\nModel:')\n",
        "print(classifier23)\n",
        "print('Total parameters: ', count_parameters(classifier23))\n",
        "print('\\n\\n')\n",
        "\n",
        "\n",
        "epoch_durations23 = TrainModel(classifier23, loss_fn23, optimizer23, train_loader, EPOCHS)\n",
        "# Calculate and print the average duration per epoch\n",
        "average_duration23 = sum(epoch_durations23) / len(epoch_durations23)\n",
        "print(f\"Average training time per epoch: {average_duration23:.2f} seconds\")\n",
        "\n",
        "\n",
        "######################################################################\n",
        "# Evaluate the model with test dataset\n",
        "# ------------------------------------\n",
        "\n",
        "_, Y_actual, Y_preds, misclf_data23 = EvaluateModel(classifier23, loss_fn23, test_loader, test_data[\"text\"])\n",
        "\n",
        "print(\"\\nTest Accuracy : {:.3f}\".format(accuracy_score(Y_actual, Y_preds)))\n",
        "print(\"\\nClassification Report : \")\n",
        "print(classification_report(Y_actual, Y_preds, target_names=target_classes))\n",
        "print(\"\\nConfusion Matrix : \")\n",
        "print(confusion_matrix(Y_actual, Y_preds))"
      ],
      "metadata": {
        "colab": {
          "base_uri": "https://localhost:8080/"
        },
        "id": "GKXZGg7Kx-RF",
        "outputId": "80b3f437-4fd2-49fe-9568-6ac3a5346fa9"
      },
      "execution_count": 49,
      "outputs": [
        {
          "output_type": "stream",
          "name": "stdout",
          "text": [
            "\n",
            "Model:\n",
            "BiLSTM1_2(\n",
            "  (embedding_layer): Embedding(21254, 100)\n",
            "  (lstm): LSTM(100, 64, batch_first=True, bidirectional=True)\n",
            "  (linear): Linear(in_features=128, out_features=4, bias=True)\n",
            ")\n",
            "Total parameters:  85508\n",
            "\n",
            "\n",
            "\n",
            "Epoch: 1\n"
          ]
        },
        {
          "output_type": "stream",
          "name": "stderr",
          "text": [
            "100%|██████████| 118/118 [00:05<00:00, 22.74it/s]\n"
          ]
        },
        {
          "output_type": "stream",
          "name": "stdout",
          "text": [
            "Train Loss : 1.010\n",
            "Epoch 1/15 - Duration: 5.19 seconds \n",
            "Epoch: 2\n"
          ]
        },
        {
          "output_type": "stream",
          "name": "stderr",
          "text": [
            "100%|██████████| 118/118 [00:05<00:00, 23.00it/s]\n"
          ]
        },
        {
          "output_type": "stream",
          "name": "stdout",
          "text": [
            "Train Loss : 0.859\n",
            "Epoch 2/15 - Duration: 5.13 seconds \n",
            "Epoch: 3\n"
          ]
        },
        {
          "output_type": "stream",
          "name": "stderr",
          "text": [
            "100%|██████████| 118/118 [00:05<00:00, 22.40it/s]\n"
          ]
        },
        {
          "output_type": "stream",
          "name": "stdout",
          "text": [
            "Train Loss : 0.851\n",
            "Epoch 3/15 - Duration: 5.27 seconds \n",
            "Epoch: 4\n"
          ]
        },
        {
          "output_type": "stream",
          "name": "stderr",
          "text": [
            "100%|██████████| 118/118 [00:05<00:00, 22.44it/s]\n"
          ]
        },
        {
          "output_type": "stream",
          "name": "stdout",
          "text": [
            "Train Loss : 0.846\n",
            "Epoch 4/15 - Duration: 5.26 seconds \n",
            "Epoch: 5\n"
          ]
        },
        {
          "output_type": "stream",
          "name": "stderr",
          "text": [
            "100%|██████████| 118/118 [00:05<00:00, 23.04it/s]\n"
          ]
        },
        {
          "output_type": "stream",
          "name": "stdout",
          "text": [
            "Train Loss : 0.843\n",
            "Epoch 5/15 - Duration: 5.13 seconds \n",
            "Epoch: 6\n"
          ]
        },
        {
          "output_type": "stream",
          "name": "stderr",
          "text": [
            "100%|██████████| 118/118 [00:05<00:00, 22.16it/s]\n"
          ]
        },
        {
          "output_type": "stream",
          "name": "stdout",
          "text": [
            "Train Loss : 0.840\n",
            "Epoch 6/15 - Duration: 5.33 seconds \n",
            "Epoch: 7\n"
          ]
        },
        {
          "output_type": "stream",
          "name": "stderr",
          "text": [
            "100%|██████████| 118/118 [00:05<00:00, 23.12it/s]\n"
          ]
        },
        {
          "output_type": "stream",
          "name": "stdout",
          "text": [
            "Train Loss : 0.838\n",
            "Epoch 7/15 - Duration: 5.11 seconds \n",
            "Epoch: 8\n"
          ]
        },
        {
          "output_type": "stream",
          "name": "stderr",
          "text": [
            "100%|██████████| 118/118 [00:05<00:00, 22.74it/s]\n"
          ]
        },
        {
          "output_type": "stream",
          "name": "stdout",
          "text": [
            "Train Loss : 0.837\n",
            "Epoch 8/15 - Duration: 5.20 seconds \n",
            "Epoch: 9\n"
          ]
        },
        {
          "output_type": "stream",
          "name": "stderr",
          "text": [
            "100%|██████████| 118/118 [00:05<00:00, 23.22it/s]\n"
          ]
        },
        {
          "output_type": "stream",
          "name": "stdout",
          "text": [
            "Train Loss : 0.833\n",
            "Epoch 9/15 - Duration: 5.09 seconds \n",
            "Epoch: 10\n"
          ]
        },
        {
          "output_type": "stream",
          "name": "stderr",
          "text": [
            "100%|██████████| 118/118 [00:05<00:00, 22.87it/s]\n"
          ]
        },
        {
          "output_type": "stream",
          "name": "stdout",
          "text": [
            "Train Loss : 0.832\n",
            "Epoch 10/15 - Duration: 5.16 seconds \n",
            "Epoch: 11\n"
          ]
        },
        {
          "output_type": "stream",
          "name": "stderr",
          "text": [
            "100%|██████████| 118/118 [00:05<00:00, 22.42it/s]\n"
          ]
        },
        {
          "output_type": "stream",
          "name": "stdout",
          "text": [
            "Train Loss : 0.829\n",
            "Epoch 11/15 - Duration: 5.27 seconds \n",
            "Epoch: 12\n"
          ]
        },
        {
          "output_type": "stream",
          "name": "stderr",
          "text": [
            "100%|██████████| 118/118 [00:05<00:00, 23.09it/s]\n"
          ]
        },
        {
          "output_type": "stream",
          "name": "stdout",
          "text": [
            "Train Loss : 0.828\n",
            "Epoch 12/15 - Duration: 5.12 seconds \n",
            "Epoch: 13\n"
          ]
        },
        {
          "output_type": "stream",
          "name": "stderr",
          "text": [
            "100%|██████████| 118/118 [00:05<00:00, 23.07it/s]\n"
          ]
        },
        {
          "output_type": "stream",
          "name": "stdout",
          "text": [
            "Train Loss : 0.826\n",
            "Epoch 13/15 - Duration: 5.12 seconds \n",
            "Epoch: 14\n"
          ]
        },
        {
          "output_type": "stream",
          "name": "stderr",
          "text": [
            "100%|██████████| 118/118 [00:05<00:00, 23.12it/s]\n"
          ]
        },
        {
          "output_type": "stream",
          "name": "stdout",
          "text": [
            "Train Loss : 0.824\n",
            "Epoch 14/15 - Duration: 5.11 seconds \n",
            "Epoch: 15\n"
          ]
        },
        {
          "output_type": "stream",
          "name": "stderr",
          "text": [
            "100%|██████████| 118/118 [00:05<00:00, 22.08it/s]\n"
          ]
        },
        {
          "output_type": "stream",
          "name": "stdout",
          "text": [
            "Train Loss : 0.823\n",
            "Epoch 15/15 - Duration: 5.35 seconds \n",
            "Average training time per epoch: 5.19 seconds\n",
            "\n",
            "Test Accuracy : 0.911\n",
            "\n",
            "Classification Report : \n",
            "              precision    recall  f1-score   support\n",
            "\n",
            "       World       0.93      0.90      0.91      1900\n",
            "      Sports       0.95      0.99      0.97      1900\n",
            "    Business       0.88      0.87      0.87      1900\n",
            "    Sci/Tech       0.88      0.89      0.89      1900\n",
            "\n",
            "    accuracy                           0.91      7600\n",
            "   macro avg       0.91      0.91      0.91      7600\n",
            "weighted avg       0.91      0.91      0.91      7600\n",
            "\n",
            "\n",
            "Confusion Matrix : \n",
            "[[1708   60   78   54]\n",
            " [   8 1872   12    8]\n",
            " [  72   20 1649  159]\n",
            " [  51   15  143 1691]]\n"
          ]
        }
      ]
    },
    {
      "cell_type": "code",
      "source": [
        "# Usage example assuming vocab, EMBEDDING_DIM, HIDDEN_DIM, target_classes, device, and LEARNING_RATE are defined\n",
        "classifier24 = BiLSTM2_2(len(vocab), EMBEDDING_DIM, HIDDEN_DIM, len(target_classes), embedding_matrix , True).to(device)\n",
        "loss_fn24 = nn.CrossEntropyLoss().to(device)\n",
        "optimizer24 = torch.optim.Adam(classifier24.parameters(), lr=LEARNING_RATE)\n",
        "\n",
        "\n",
        "print('\\nModel:')\n",
        "print(classifier24)\n",
        "print('Total parameters: ', count_parameters(classifier24))\n",
        "print('\\n\\n')\n",
        "\n",
        "\n",
        "epoch_durations24 = TrainModel(classifier24, loss_fn24, optimizer24, train_loader, EPOCHS)\n",
        "# Calculate and print the average duration per epoch\n",
        "average_duration24 = sum(epoch_durations24) / len(epoch_durations24)\n",
        "print(f\"Average training time per epoch: {average_duration24:.2f} seconds\")\n",
        "\n",
        "\n",
        "######################################################################\n",
        "# Evaluate the model with test dataset\n",
        "# ------------------------------------\n",
        "\n",
        "_, Y_actual, Y_preds, misclf_data24 = EvaluateModel(classifier24, loss_fn24, test_loader, test_data[\"text\"])\n",
        "\n",
        "print(\"\\nTest Accuracy : {:.3f}\".format(accuracy_score(Y_actual, Y_preds)))\n",
        "print(\"\\nClassification Report : \")\n",
        "print(classification_report(Y_actual, Y_preds, target_names=target_classes))\n",
        "print(\"\\nConfusion Matrix : \")\n",
        "print(confusion_matrix(Y_actual, Y_preds))"
      ],
      "metadata": {
        "colab": {
          "base_uri": "https://localhost:8080/"
        },
        "id": "DD--OFAv2ZZ7",
        "outputId": "8a6da141-f4bc-4170-c068-3f0d6ee98286"
      },
      "execution_count": 50,
      "outputs": [
        {
          "output_type": "stream",
          "name": "stdout",
          "text": [
            "\n",
            "Model:\n",
            "BiLSTM2_2(\n",
            "  (embedding_layer): Embedding(21254, 100)\n",
            "  (lstm): LSTM(100, 64, num_layers=2, batch_first=True, bidirectional=True)\n",
            "  (linear): Linear(in_features=128, out_features=4, bias=True)\n",
            ")\n",
            "Total parameters:  184836\n",
            "\n",
            "\n",
            "\n",
            "Epoch: 1\n"
          ]
        },
        {
          "output_type": "stream",
          "name": "stderr",
          "text": [
            "100%|██████████| 118/118 [00:05<00:00, 21.90it/s]\n"
          ]
        },
        {
          "output_type": "stream",
          "name": "stdout",
          "text": [
            "Train Loss : 0.990\n",
            "Epoch 1/15 - Duration: 5.39 seconds \n",
            "Epoch: 2\n"
          ]
        },
        {
          "output_type": "stream",
          "name": "stderr",
          "text": [
            "100%|██████████| 118/118 [00:05<00:00, 21.49it/s]\n"
          ]
        },
        {
          "output_type": "stream",
          "name": "stdout",
          "text": [
            "Train Loss : 0.863\n",
            "Epoch 2/15 - Duration: 5.50 seconds \n",
            "Epoch: 3\n"
          ]
        },
        {
          "output_type": "stream",
          "name": "stderr",
          "text": [
            "100%|██████████| 118/118 [00:05<00:00, 22.22it/s]\n"
          ]
        },
        {
          "output_type": "stream",
          "name": "stdout",
          "text": [
            "Train Loss : 0.854\n",
            "Epoch 3/15 - Duration: 5.32 seconds \n",
            "Epoch: 4\n"
          ]
        },
        {
          "output_type": "stream",
          "name": "stderr",
          "text": [
            "100%|██████████| 118/118 [00:05<00:00, 22.15it/s]\n"
          ]
        },
        {
          "output_type": "stream",
          "name": "stdout",
          "text": [
            "Train Loss : 0.852\n",
            "Epoch 4/15 - Duration: 5.33 seconds \n",
            "Epoch: 5\n"
          ]
        },
        {
          "output_type": "stream",
          "name": "stderr",
          "text": [
            "100%|██████████| 118/118 [00:05<00:00, 22.08it/s]\n"
          ]
        },
        {
          "output_type": "stream",
          "name": "stdout",
          "text": [
            "Train Loss : 0.848\n",
            "Epoch 5/15 - Duration: 5.35 seconds \n",
            "Epoch: 6\n"
          ]
        },
        {
          "output_type": "stream",
          "name": "stderr",
          "text": [
            "100%|██████████| 118/118 [00:05<00:00, 22.24it/s]\n"
          ]
        },
        {
          "output_type": "stream",
          "name": "stdout",
          "text": [
            "Train Loss : 0.845\n",
            "Epoch 6/15 - Duration: 5.31 seconds \n",
            "Epoch: 7\n"
          ]
        },
        {
          "output_type": "stream",
          "name": "stderr",
          "text": [
            "100%|██████████| 118/118 [00:05<00:00, 21.32it/s]\n"
          ]
        },
        {
          "output_type": "stream",
          "name": "stdout",
          "text": [
            "Train Loss : 0.844\n",
            "Epoch 7/15 - Duration: 5.54 seconds \n",
            "Epoch: 8\n"
          ]
        },
        {
          "output_type": "stream",
          "name": "stderr",
          "text": [
            "100%|██████████| 118/118 [00:05<00:00, 21.82it/s]\n"
          ]
        },
        {
          "output_type": "stream",
          "name": "stdout",
          "text": [
            "Train Loss : 0.846\n",
            "Epoch 8/15 - Duration: 5.42 seconds \n",
            "Epoch: 9\n"
          ]
        },
        {
          "output_type": "stream",
          "name": "stderr",
          "text": [
            "100%|██████████| 118/118 [00:05<00:00, 21.76it/s]\n"
          ]
        },
        {
          "output_type": "stream",
          "name": "stdout",
          "text": [
            "Train Loss : 0.839\n",
            "Epoch 9/15 - Duration: 5.43 seconds \n",
            "Epoch: 10\n"
          ]
        },
        {
          "output_type": "stream",
          "name": "stderr",
          "text": [
            "100%|██████████| 118/118 [00:05<00:00, 21.77it/s]\n"
          ]
        },
        {
          "output_type": "stream",
          "name": "stdout",
          "text": [
            "Train Loss : 0.836\n",
            "Epoch 10/15 - Duration: 5.43 seconds \n",
            "Epoch: 11\n"
          ]
        },
        {
          "output_type": "stream",
          "name": "stderr",
          "text": [
            "100%|██████████| 118/118 [00:05<00:00, 21.60it/s]\n"
          ]
        },
        {
          "output_type": "stream",
          "name": "stdout",
          "text": [
            "Train Loss : 0.837\n",
            "Epoch 11/15 - Duration: 5.47 seconds \n",
            "Epoch: 12\n"
          ]
        },
        {
          "output_type": "stream",
          "name": "stderr",
          "text": [
            "100%|██████████| 118/118 [00:05<00:00, 21.64it/s]\n"
          ]
        },
        {
          "output_type": "stream",
          "name": "stdout",
          "text": [
            "Train Loss : 0.832\n",
            "Epoch 12/15 - Duration: 5.46 seconds \n",
            "Epoch: 13\n"
          ]
        },
        {
          "output_type": "stream",
          "name": "stderr",
          "text": [
            "100%|██████████| 118/118 [00:05<00:00, 21.71it/s]\n"
          ]
        },
        {
          "output_type": "stream",
          "name": "stdout",
          "text": [
            "Train Loss : 0.831\n",
            "Epoch 13/15 - Duration: 5.44 seconds \n",
            "Epoch: 14\n"
          ]
        },
        {
          "output_type": "stream",
          "name": "stderr",
          "text": [
            "100%|██████████| 118/118 [00:05<00:00, 21.83it/s]\n"
          ]
        },
        {
          "output_type": "stream",
          "name": "stdout",
          "text": [
            "Train Loss : 0.831\n",
            "Epoch 14/15 - Duration: 5.41 seconds \n",
            "Epoch: 15\n"
          ]
        },
        {
          "output_type": "stream",
          "name": "stderr",
          "text": [
            "100%|██████████| 118/118 [00:05<00:00, 22.27it/s]\n"
          ]
        },
        {
          "output_type": "stream",
          "name": "stdout",
          "text": [
            "Train Loss : 0.829\n",
            "Epoch 15/15 - Duration: 5.30 seconds \n",
            "Average training time per epoch: 5.41 seconds\n",
            "\n",
            "Test Accuracy : 0.907\n",
            "\n",
            "Classification Report : \n",
            "              precision    recall  f1-score   support\n",
            "\n",
            "       World       0.93      0.89      0.91      1900\n",
            "      Sports       0.95      0.98      0.97      1900\n",
            "    Business       0.87      0.87      0.87      1900\n",
            "    Sci/Tech       0.88      0.89      0.88      1900\n",
            "\n",
            "    accuracy                           0.91      7600\n",
            "   macro avg       0.91      0.91      0.91      7600\n",
            "weighted avg       0.91      0.91      0.91      7600\n",
            "\n",
            "\n",
            "Confusion Matrix : \n",
            "[[1688   65   85   62]\n",
            " [   6 1870   12   12]\n",
            " [  68   22 1647  163]\n",
            " [  56   17  141 1686]]\n"
          ]
        }
      ]
    },
    {
      "cell_type": "markdown",
      "source": [
        "# Results GloVe pretrained embeddings initialization - With Freeze  (GloVe6B100d)\n",
        "\n",
        "|  | 1RNN | 1-BiRNN | 2-BiRNN | 1LSTM | 1-BiLSTM |2-BiLSTM  |\n",
        "|:---------|:--------:|---------:|---------:|---------:|---------:|---------:|\n",
        "|  Accuracy  |0.420     |     0.860     |  0.595  |    0.898    |   0.911    |       0.907     |\n",
        "|  Parameters   |2136284   |     21764   |      46596 |       42756  |        85508 |        184836     |\n",
        "|  Time Cost(per epoch)   | 4.49 seconds|    4.64 seconds |   5.02 seconds|    4.94 seconds|    5.19 seconds |    5.41 seconds      |\n"
      ],
      "metadata": {
        "id": "CWoy7uw7FL__"
      }
    },
    {
      "cell_type": "markdown",
      "source": [
        "The only change that was made in the code was in this line :             self.embedding_layer = nn.Embedding.from_pretrained(embedding_matrix, freeze=freeze)\n",
        "Freeze was set to 'True' from 'False'\n",
        "\n",
        "Except for 1RNN, all of the other models have around 1.8-2 million less parameters. No major differences were realized regarding time per epoch. They differ 0.1 seconds approximately per epoch(total epochs=15). 1RNN and 2-BiRNN have decreased accuracy compared to the previous experiment (around 30-40% less), which means that the model does not learn the relationships at the training or overfits.\n",
        "\n",
        "On the other hand, LSTM is more robust but not as efficient as before. Again the 1-BiLSTM is the best out of them since it has the greatest accuracy but it is approximately 1% less than without freezing. In conclusion, freezing is not recommended in this situation since the model does not learn the weights of the parameters properly. Gradient update can help the NN capture the context of the dataset better.\n"
      ],
      "metadata": {
        "id": "H-u3Fb81GePB"
      }
    },
    {
      "cell_type": "markdown",
      "source": [
        "# IMDB Movie Review dataset\n",
        "\n",
        "This dataset contains 50k movie reviews that are classified into 2 categories. Several adjustments were made at the code to be able to accept 2 labels instead of 4."
      ],
      "metadata": {
        "id": "sN1P-ulxKaYY"
      }
    },
    {
      "cell_type": "code",
      "source": [
        "from sklearn.model_selection import train_test_split\n",
        "# Specify the path of the train file in your Google Drive\n",
        "imdb_file_path = '/content/drive/My Drive/nlp/nlp2/IMDB Dataset.csv'\n",
        "# Read the file using appropriate methods (e.g., pandas, numpy, etc.)\n",
        "# Example for reading a CSV file using pandas:\n",
        "\n",
        "train_data_imdb = pd.read_csv(imdb_file_path)\n",
        "\n",
        "train_data_imdb['sentiment'] = train_data_imdb['sentiment'].map({'negative': 1, 'positive': 2})\n",
        "\n",
        "train_data_imdb.head()"
      ],
      "metadata": {
        "colab": {
          "base_uri": "https://localhost:8080/",
          "height": 206
        },
        "id": "0xAdSMLylWIS",
        "outputId": "fc93b779-64a1-47b3-b895-198452bf0fdb"
      },
      "execution_count": 62,
      "outputs": [
        {
          "output_type": "execute_result",
          "data": {
            "text/plain": [
              "                                              review  sentiment\n",
              "0  One of the other reviewers has mentioned that ...          2\n",
              "1  A wonderful little production. <br /><br />The...          2\n",
              "2  I thought this was a wonderful way to spend ti...          2\n",
              "3  Basically there's a family where a little boy ...          1\n",
              "4  Petter Mattei's \"Love in the Time of Money\" is...          2"
            ],
            "text/html": [
              "\n",
              "  <div id=\"df-b0fbdc1d-c76a-47d4-8e50-d671af6f2144\" class=\"colab-df-container\">\n",
              "    <div>\n",
              "<style scoped>\n",
              "    .dataframe tbody tr th:only-of-type {\n",
              "        vertical-align: middle;\n",
              "    }\n",
              "\n",
              "    .dataframe tbody tr th {\n",
              "        vertical-align: top;\n",
              "    }\n",
              "\n",
              "    .dataframe thead th {\n",
              "        text-align: right;\n",
              "    }\n",
              "</style>\n",
              "<table border=\"1\" class=\"dataframe\">\n",
              "  <thead>\n",
              "    <tr style=\"text-align: right;\">\n",
              "      <th></th>\n",
              "      <th>review</th>\n",
              "      <th>sentiment</th>\n",
              "    </tr>\n",
              "  </thead>\n",
              "  <tbody>\n",
              "    <tr>\n",
              "      <th>0</th>\n",
              "      <td>One of the other reviewers has mentioned that ...</td>\n",
              "      <td>2</td>\n",
              "    </tr>\n",
              "    <tr>\n",
              "      <th>1</th>\n",
              "      <td>A wonderful little production. &lt;br /&gt;&lt;br /&gt;The...</td>\n",
              "      <td>2</td>\n",
              "    </tr>\n",
              "    <tr>\n",
              "      <th>2</th>\n",
              "      <td>I thought this was a wonderful way to spend ti...</td>\n",
              "      <td>2</td>\n",
              "    </tr>\n",
              "    <tr>\n",
              "      <th>3</th>\n",
              "      <td>Basically there's a family where a little boy ...</td>\n",
              "      <td>1</td>\n",
              "    </tr>\n",
              "    <tr>\n",
              "      <th>4</th>\n",
              "      <td>Petter Mattei's \"Love in the Time of Money\" is...</td>\n",
              "      <td>2</td>\n",
              "    </tr>\n",
              "  </tbody>\n",
              "</table>\n",
              "</div>\n",
              "    <div class=\"colab-df-buttons\">\n",
              "\n",
              "  <div class=\"colab-df-container\">\n",
              "    <button class=\"colab-df-convert\" onclick=\"convertToInteractive('df-b0fbdc1d-c76a-47d4-8e50-d671af6f2144')\"\n",
              "            title=\"Convert this dataframe to an interactive table.\"\n",
              "            style=\"display:none;\">\n",
              "\n",
              "  <svg xmlns=\"http://www.w3.org/2000/svg\" height=\"24px\" viewBox=\"0 -960 960 960\">\n",
              "    <path d=\"M120-120v-720h720v720H120Zm60-500h600v-160H180v160Zm220 220h160v-160H400v160Zm0 220h160v-160H400v160ZM180-400h160v-160H180v160Zm440 0h160v-160H620v160ZM180-180h160v-160H180v160Zm440 0h160v-160H620v160Z\"/>\n",
              "  </svg>\n",
              "    </button>\n",
              "\n",
              "  <style>\n",
              "    .colab-df-container {\n",
              "      display:flex;\n",
              "      gap: 12px;\n",
              "    }\n",
              "\n",
              "    .colab-df-convert {\n",
              "      background-color: #E8F0FE;\n",
              "      border: none;\n",
              "      border-radius: 50%;\n",
              "      cursor: pointer;\n",
              "      display: none;\n",
              "      fill: #1967D2;\n",
              "      height: 32px;\n",
              "      padding: 0 0 0 0;\n",
              "      width: 32px;\n",
              "    }\n",
              "\n",
              "    .colab-df-convert:hover {\n",
              "      background-color: #E2EBFA;\n",
              "      box-shadow: 0px 1px 2px rgba(60, 64, 67, 0.3), 0px 1px 3px 1px rgba(60, 64, 67, 0.15);\n",
              "      fill: #174EA6;\n",
              "    }\n",
              "\n",
              "    .colab-df-buttons div {\n",
              "      margin-bottom: 4px;\n",
              "    }\n",
              "\n",
              "    [theme=dark] .colab-df-convert {\n",
              "      background-color: #3B4455;\n",
              "      fill: #D2E3FC;\n",
              "    }\n",
              "\n",
              "    [theme=dark] .colab-df-convert:hover {\n",
              "      background-color: #434B5C;\n",
              "      box-shadow: 0px 1px 3px 1px rgba(0, 0, 0, 0.15);\n",
              "      filter: drop-shadow(0px 1px 2px rgba(0, 0, 0, 0.3));\n",
              "      fill: #FFFFFF;\n",
              "    }\n",
              "  </style>\n",
              "\n",
              "    <script>\n",
              "      const buttonEl =\n",
              "        document.querySelector('#df-b0fbdc1d-c76a-47d4-8e50-d671af6f2144 button.colab-df-convert');\n",
              "      buttonEl.style.display =\n",
              "        google.colab.kernel.accessAllowed ? 'block' : 'none';\n",
              "\n",
              "      async function convertToInteractive(key) {\n",
              "        const element = document.querySelector('#df-b0fbdc1d-c76a-47d4-8e50-d671af6f2144');\n",
              "        const dataTable =\n",
              "          await google.colab.kernel.invokeFunction('convertToInteractive',\n",
              "                                                    [key], {});\n",
              "        if (!dataTable) return;\n",
              "\n",
              "        const docLinkHtml = 'Like what you see? Visit the ' +\n",
              "          '<a target=\"_blank\" href=https://colab.research.google.com/notebooks/data_table.ipynb>data table notebook</a>'\n",
              "          + ' to learn more about interactive tables.';\n",
              "        element.innerHTML = '';\n",
              "        dataTable['output_type'] = 'display_data';\n",
              "        await google.colab.output.renderOutput(dataTable, element);\n",
              "        const docLink = document.createElement('div');\n",
              "        docLink.innerHTML = docLinkHtml;\n",
              "        element.appendChild(docLink);\n",
              "      }\n",
              "    </script>\n",
              "  </div>\n",
              "\n",
              "\n",
              "<div id=\"df-8e076691-0bc2-4151-8737-7d18caad4d7c\">\n",
              "  <button class=\"colab-df-quickchart\" onclick=\"quickchart('df-8e076691-0bc2-4151-8737-7d18caad4d7c')\"\n",
              "            title=\"Suggest charts\"\n",
              "            style=\"display:none;\">\n",
              "\n",
              "<svg xmlns=\"http://www.w3.org/2000/svg\" height=\"24px\"viewBox=\"0 0 24 24\"\n",
              "     width=\"24px\">\n",
              "    <g>\n",
              "        <path d=\"M19 3H5c-1.1 0-2 .9-2 2v14c0 1.1.9 2 2 2h14c1.1 0 2-.9 2-2V5c0-1.1-.9-2-2-2zM9 17H7v-7h2v7zm4 0h-2V7h2v10zm4 0h-2v-4h2v4z\"/>\n",
              "    </g>\n",
              "</svg>\n",
              "  </button>\n",
              "\n",
              "<style>\n",
              "  .colab-df-quickchart {\n",
              "      --bg-color: #E8F0FE;\n",
              "      --fill-color: #1967D2;\n",
              "      --hover-bg-color: #E2EBFA;\n",
              "      --hover-fill-color: #174EA6;\n",
              "      --disabled-fill-color: #AAA;\n",
              "      --disabled-bg-color: #DDD;\n",
              "  }\n",
              "\n",
              "  [theme=dark] .colab-df-quickchart {\n",
              "      --bg-color: #3B4455;\n",
              "      --fill-color: #D2E3FC;\n",
              "      --hover-bg-color: #434B5C;\n",
              "      --hover-fill-color: #FFFFFF;\n",
              "      --disabled-bg-color: #3B4455;\n",
              "      --disabled-fill-color: #666;\n",
              "  }\n",
              "\n",
              "  .colab-df-quickchart {\n",
              "    background-color: var(--bg-color);\n",
              "    border: none;\n",
              "    border-radius: 50%;\n",
              "    cursor: pointer;\n",
              "    display: none;\n",
              "    fill: var(--fill-color);\n",
              "    height: 32px;\n",
              "    padding: 0;\n",
              "    width: 32px;\n",
              "  }\n",
              "\n",
              "  .colab-df-quickchart:hover {\n",
              "    background-color: var(--hover-bg-color);\n",
              "    box-shadow: 0 1px 2px rgba(60, 64, 67, 0.3), 0 1px 3px 1px rgba(60, 64, 67, 0.15);\n",
              "    fill: var(--button-hover-fill-color);\n",
              "  }\n",
              "\n",
              "  .colab-df-quickchart-complete:disabled,\n",
              "  .colab-df-quickchart-complete:disabled:hover {\n",
              "    background-color: var(--disabled-bg-color);\n",
              "    fill: var(--disabled-fill-color);\n",
              "    box-shadow: none;\n",
              "  }\n",
              "\n",
              "  .colab-df-spinner {\n",
              "    border: 2px solid var(--fill-color);\n",
              "    border-color: transparent;\n",
              "    border-bottom-color: var(--fill-color);\n",
              "    animation:\n",
              "      spin 1s steps(1) infinite;\n",
              "  }\n",
              "\n",
              "  @keyframes spin {\n",
              "    0% {\n",
              "      border-color: transparent;\n",
              "      border-bottom-color: var(--fill-color);\n",
              "      border-left-color: var(--fill-color);\n",
              "    }\n",
              "    20% {\n",
              "      border-color: transparent;\n",
              "      border-left-color: var(--fill-color);\n",
              "      border-top-color: var(--fill-color);\n",
              "    }\n",
              "    30% {\n",
              "      border-color: transparent;\n",
              "      border-left-color: var(--fill-color);\n",
              "      border-top-color: var(--fill-color);\n",
              "      border-right-color: var(--fill-color);\n",
              "    }\n",
              "    40% {\n",
              "      border-color: transparent;\n",
              "      border-right-color: var(--fill-color);\n",
              "      border-top-color: var(--fill-color);\n",
              "    }\n",
              "    60% {\n",
              "      border-color: transparent;\n",
              "      border-right-color: var(--fill-color);\n",
              "    }\n",
              "    80% {\n",
              "      border-color: transparent;\n",
              "      border-right-color: var(--fill-color);\n",
              "      border-bottom-color: var(--fill-color);\n",
              "    }\n",
              "    90% {\n",
              "      border-color: transparent;\n",
              "      border-bottom-color: var(--fill-color);\n",
              "    }\n",
              "  }\n",
              "</style>\n",
              "\n",
              "  <script>\n",
              "    async function quickchart(key) {\n",
              "      const quickchartButtonEl =\n",
              "        document.querySelector('#' + key + ' button');\n",
              "      quickchartButtonEl.disabled = true;  // To prevent multiple clicks.\n",
              "      quickchartButtonEl.classList.add('colab-df-spinner');\n",
              "      try {\n",
              "        const charts = await google.colab.kernel.invokeFunction(\n",
              "            'suggestCharts', [key], {});\n",
              "      } catch (error) {\n",
              "        console.error('Error during call to suggestCharts:', error);\n",
              "      }\n",
              "      quickchartButtonEl.classList.remove('colab-df-spinner');\n",
              "      quickchartButtonEl.classList.add('colab-df-quickchart-complete');\n",
              "    }\n",
              "    (() => {\n",
              "      let quickchartButtonEl =\n",
              "        document.querySelector('#df-8e076691-0bc2-4151-8737-7d18caad4d7c button');\n",
              "      quickchartButtonEl.style.display =\n",
              "        google.colab.kernel.accessAllowed ? 'block' : 'none';\n",
              "    })();\n",
              "  </script>\n",
              "</div>\n",
              "    </div>\n",
              "  </div>\n"
            ],
            "application/vnd.google.colaboratory.intrinsic+json": {
              "type": "dataframe",
              "variable_name": "train_data_imdb",
              "summary": "{\n  \"name\": \"train_data_imdb\",\n  \"rows\": 50000,\n  \"fields\": [\n    {\n      \"column\": \"review\",\n      \"properties\": {\n        \"dtype\": \"string\",\n        \"num_unique_values\": 49582,\n        \"samples\": [\n          \"\\\"Soul Plane\\\" is a horrible attempt at comedy that only should appeal people with thick skulls, bloodshot eyes and furry pawns. <br /><br />The plot is not only incoherent but also non-existent, acting is mostly sub sub-par with a gang of highly moronic and dreadful characters thrown in for bad measure, jokes are often spotted miles ahead and almost never even a bit amusing. This movie lacks any structure and is full of racial stereotypes that must have seemed old even in the fifties, the only thing it really has going for it is some pretty ladies, but really, if you want that you can rent something from the \\\"Adult\\\" section. OK?<br /><br />I can hardly see anything here to recommend since you'll probably have a lot a better and productive time chasing rats with a sledgehammer or inventing waterproof teabags or whatever.<br /><br />2/10\",\n          \"Guest from the Future tells a fascinating story of time travel, friendship, battle of good and evil -- all with a small budget, child actors, and few special effects. Something for Spielberg and Lucas to learn from. ;) A sixth-grader Kolya \\\"Nick\\\" Gerasimov finds a time machine in the basement of a decrepit building and travels 100 years into the future. He discovers a near-perfect, utopian society where robots play guitars and write poetry, everyone is kind to each other and people enjoy everything technology has to offer. Alice is the daughter of a prominent scientist who invented a device called Mielophone that allows to read minds of humans and animals. The device can be put to both good and bad use, depending on whose hands it falls into. When two evil space pirates from Saturn who want to rule the universe attempt to steal Mielophone, it falls into the hands of 20th century school boy Nick. With the pirates hot on his tracks, he travels back to his time, followed by the pirates, and Alice. Chaos, confusion and funny situations follow as the luckless pirates try to blend in with the earthlings. Alice enrolls in the same school Nick goes to and demonstrates superhuman abilities in PE class. The catch is, Alice doesn't know what Nick looks like, while the pirates do. Also, the pirates are able to change their appearance and turn literally into anyone. (Hmm, I wonder if this is where James Cameron got the idea for Terminator...) Who gets to Nick -- and Mielophone -- first? Excellent plot, non-stop adventures, and great soundtrack. I wish Hollywood made kid movies like this one...\",\n          \"\\\"National Treasure\\\" (2004) is a thoroughly misguided hodge-podge of plot entanglements that borrow from nearly every cloak and dagger government conspiracy clich\\u00e9 that has ever been written. The film stars Nicholas Cage as Benjamin Franklin Gates (how precious is that, I ask you?); a seemingly normal fellow who, for no other reason than being of a lineage of like-minded misguided fortune hunters, decides to steal a 'national treasure' that has been hidden by the United States founding fathers. After a bit of subtext and background that plays laughably (unintentionally) like Indiana Jones meets The Patriot, the film degenerates into one misguided whimsy after another \\u0096 attempting to create a 'Stanley Goodspeed' regurgitation of Nicholas Cage and launch the whole convoluted mess forward with a series of high octane, but disconnected misadventures.<br /><br />The relevancy and logic to having George Washington and his motley crew of patriots burying a king's ransom someplace on native soil, and then, going through the meticulous plan of leaving clues scattered throughout U.S. currency art work, is something that director Jon Turteltaub never quite gets around to explaining. Couldn't Washington found better usage for such wealth during the start up of the country? Hence, we are left with a mystery built on top of an enigma that is already on shaky ground by the time Ben appoints himself the new custodian of this untold wealth. Ben's intentions are noble \\u0096 if confusing. He's set on protecting the treasure. For who and when?\\u0085your guess is as good as mine.<br /><br />But there are a few problems with Ben's crusade. First up, his friend, Ian Holmes (Sean Bean) decides that he can't wait for Ben to make up his mind about stealing the Declaration of Independence from the National Archives (oh, yeah \\u0096 brilliant idea!). Presumably, the back of that famous document holds the secret answer to the ultimate fortune. So Ian tries to kill Ben. The assassination attempt is, of course, unsuccessful, if overly melodramatic. It also affords Ben the opportunity to pick up, and pick on, the very sultry curator of the archives, Abigail Chase (Diane Kruger). She thinks Ben is clearly a nut \\u0096 at least at the beginning. But true to action/romance form, Abby's resolve melts quicker than you can say, \\\"is that the Hope Diamond?\\\" The film moves into full X-File-ish mode, as the FBI, mistakenly believing that Ben is behind the theft, retaliate in various benign ways that lead to a multi-layering of action sequences reminiscent of Mission Impossible meets The Fugitive. Honestly, don't those guys ever get 'intelligence' information that is correct? In the final analysis, \\\"National Treasure\\\" isn't great film making, so much as it's a patchwork rehash of tired old bits from other movies, woven together from scraps, the likes of which would make IL' Betsy Ross blush.<br /><br />The Buena Vista DVD delivers a far more generous treatment than this film is deserving of. The anamorphic widescreen picture exhibits a very smooth and finely detailed image with very rich colors, natural flesh tones, solid blacks and clean whites. The stylized image is also free of blemishes and digital enhancements. The audio is 5.1 and delivers a nice sonic boom to your side and rear speakers with intensity and realism. Extras include a host of promotional junket material that is rather deep and over the top in its explanation of how and why this film was made. If only, as an audience, we had had more clarification as to why Ben and co. were chasing after an illusive treasure, this might have been one good flick. Extras conclude with the theatrical trailer, audio commentary and deleted scenes. Not for the faint-hearted \\u0096 just the thick-headed.\"\n        ],\n        \"semantic_type\": \"\",\n        \"description\": \"\"\n      }\n    },\n    {\n      \"column\": \"sentiment\",\n      \"properties\": {\n        \"dtype\": \"number\",\n        \"std\": 0,\n        \"min\": 1,\n        \"max\": 2,\n        \"num_unique_values\": 2,\n        \"samples\": [\n          1,\n          2\n        ],\n        \"semantic_type\": \"\",\n        \"description\": \"\"\n      }\n    }\n  ]\n}"
            }
          },
          "metadata": {},
          "execution_count": 62
        }
      ]
    },
    {
      "cell_type": "markdown",
      "source": [
        "Split the dataset to 80% for training and 20% for test."
      ],
      "metadata": {
        "id": "Jfs6rgwxK8gb"
      }
    },
    {
      "cell_type": "code",
      "source": [
        "X_train_imdb, X_test_imdb, y_train_imdb, y_test_imdb = train_test_split(train_data_imdb[\"review\"], train_data_imdb[\"sentiment\"],test_size = 0.2, random_state=42)\n",
        "train_data_imdb2 = pd.concat([X_train_imdb , y_train_imdb], axis = 1)\n",
        "test_data_imdb2 = pd.concat([X_test_imdb , y_test_imdb], axis = 1)\n",
        "train_data_imdb2.head()"
      ],
      "metadata": {
        "colab": {
          "base_uri": "https://localhost:8080/",
          "height": 206
        },
        "id": "D4hUTU7emadI",
        "outputId": "ae072e2d-267d-4995-ec9f-dd1b4f32f29d"
      },
      "execution_count": 81,
      "outputs": [
        {
          "output_type": "execute_result",
          "data": {
            "text/plain": [
              "                                                  review  sentiment\n",
              "39087  That's what I kept asking myself during the ma...          1\n",
              "30893  I did not watch the entire movie. I could not ...          1\n",
              "45278  A touching love story reminiscent of In the M...          2\n",
              "16398  This latter-day Fulci schlocker is a totally a...          1\n",
              "13653  First of all, I firmly believe that Norwegian ...          1"
            ],
            "text/html": [
              "\n",
              "  <div id=\"df-63bcd6c5-b72f-4c8b-a7c5-72c5d8b72850\" class=\"colab-df-container\">\n",
              "    <div>\n",
              "<style scoped>\n",
              "    .dataframe tbody tr th:only-of-type {\n",
              "        vertical-align: middle;\n",
              "    }\n",
              "\n",
              "    .dataframe tbody tr th {\n",
              "        vertical-align: top;\n",
              "    }\n",
              "\n",
              "    .dataframe thead th {\n",
              "        text-align: right;\n",
              "    }\n",
              "</style>\n",
              "<table border=\"1\" class=\"dataframe\">\n",
              "  <thead>\n",
              "    <tr style=\"text-align: right;\">\n",
              "      <th></th>\n",
              "      <th>review</th>\n",
              "      <th>sentiment</th>\n",
              "    </tr>\n",
              "  </thead>\n",
              "  <tbody>\n",
              "    <tr>\n",
              "      <th>39087</th>\n",
              "      <td>That's what I kept asking myself during the ma...</td>\n",
              "      <td>1</td>\n",
              "    </tr>\n",
              "    <tr>\n",
              "      <th>30893</th>\n",
              "      <td>I did not watch the entire movie. I could not ...</td>\n",
              "      <td>1</td>\n",
              "    </tr>\n",
              "    <tr>\n",
              "      <th>45278</th>\n",
              "      <td>A touching love story reminiscent of In the M...</td>\n",
              "      <td>2</td>\n",
              "    </tr>\n",
              "    <tr>\n",
              "      <th>16398</th>\n",
              "      <td>This latter-day Fulci schlocker is a totally a...</td>\n",
              "      <td>1</td>\n",
              "    </tr>\n",
              "    <tr>\n",
              "      <th>13653</th>\n",
              "      <td>First of all, I firmly believe that Norwegian ...</td>\n",
              "      <td>1</td>\n",
              "    </tr>\n",
              "  </tbody>\n",
              "</table>\n",
              "</div>\n",
              "    <div class=\"colab-df-buttons\">\n",
              "\n",
              "  <div class=\"colab-df-container\">\n",
              "    <button class=\"colab-df-convert\" onclick=\"convertToInteractive('df-63bcd6c5-b72f-4c8b-a7c5-72c5d8b72850')\"\n",
              "            title=\"Convert this dataframe to an interactive table.\"\n",
              "            style=\"display:none;\">\n",
              "\n",
              "  <svg xmlns=\"http://www.w3.org/2000/svg\" height=\"24px\" viewBox=\"0 -960 960 960\">\n",
              "    <path d=\"M120-120v-720h720v720H120Zm60-500h600v-160H180v160Zm220 220h160v-160H400v160Zm0 220h160v-160H400v160ZM180-400h160v-160H180v160Zm440 0h160v-160H620v160ZM180-180h160v-160H180v160Zm440 0h160v-160H620v160Z\"/>\n",
              "  </svg>\n",
              "    </button>\n",
              "\n",
              "  <style>\n",
              "    .colab-df-container {\n",
              "      display:flex;\n",
              "      gap: 12px;\n",
              "    }\n",
              "\n",
              "    .colab-df-convert {\n",
              "      background-color: #E8F0FE;\n",
              "      border: none;\n",
              "      border-radius: 50%;\n",
              "      cursor: pointer;\n",
              "      display: none;\n",
              "      fill: #1967D2;\n",
              "      height: 32px;\n",
              "      padding: 0 0 0 0;\n",
              "      width: 32px;\n",
              "    }\n",
              "\n",
              "    .colab-df-convert:hover {\n",
              "      background-color: #E2EBFA;\n",
              "      box-shadow: 0px 1px 2px rgba(60, 64, 67, 0.3), 0px 1px 3px 1px rgba(60, 64, 67, 0.15);\n",
              "      fill: #174EA6;\n",
              "    }\n",
              "\n",
              "    .colab-df-buttons div {\n",
              "      margin-bottom: 4px;\n",
              "    }\n",
              "\n",
              "    [theme=dark] .colab-df-convert {\n",
              "      background-color: #3B4455;\n",
              "      fill: #D2E3FC;\n",
              "    }\n",
              "\n",
              "    [theme=dark] .colab-df-convert:hover {\n",
              "      background-color: #434B5C;\n",
              "      box-shadow: 0px 1px 3px 1px rgba(0, 0, 0, 0.15);\n",
              "      filter: drop-shadow(0px 1px 2px rgba(0, 0, 0, 0.3));\n",
              "      fill: #FFFFFF;\n",
              "    }\n",
              "  </style>\n",
              "\n",
              "    <script>\n",
              "      const buttonEl =\n",
              "        document.querySelector('#df-63bcd6c5-b72f-4c8b-a7c5-72c5d8b72850 button.colab-df-convert');\n",
              "      buttonEl.style.display =\n",
              "        google.colab.kernel.accessAllowed ? 'block' : 'none';\n",
              "\n",
              "      async function convertToInteractive(key) {\n",
              "        const element = document.querySelector('#df-63bcd6c5-b72f-4c8b-a7c5-72c5d8b72850');\n",
              "        const dataTable =\n",
              "          await google.colab.kernel.invokeFunction('convertToInteractive',\n",
              "                                                    [key], {});\n",
              "        if (!dataTable) return;\n",
              "\n",
              "        const docLinkHtml = 'Like what you see? Visit the ' +\n",
              "          '<a target=\"_blank\" href=https://colab.research.google.com/notebooks/data_table.ipynb>data table notebook</a>'\n",
              "          + ' to learn more about interactive tables.';\n",
              "        element.innerHTML = '';\n",
              "        dataTable['output_type'] = 'display_data';\n",
              "        await google.colab.output.renderOutput(dataTable, element);\n",
              "        const docLink = document.createElement('div');\n",
              "        docLink.innerHTML = docLinkHtml;\n",
              "        element.appendChild(docLink);\n",
              "      }\n",
              "    </script>\n",
              "  </div>\n",
              "\n",
              "\n",
              "<div id=\"df-ae964846-2496-42ed-bb97-5774475b72cf\">\n",
              "  <button class=\"colab-df-quickchart\" onclick=\"quickchart('df-ae964846-2496-42ed-bb97-5774475b72cf')\"\n",
              "            title=\"Suggest charts\"\n",
              "            style=\"display:none;\">\n",
              "\n",
              "<svg xmlns=\"http://www.w3.org/2000/svg\" height=\"24px\"viewBox=\"0 0 24 24\"\n",
              "     width=\"24px\">\n",
              "    <g>\n",
              "        <path d=\"M19 3H5c-1.1 0-2 .9-2 2v14c0 1.1.9 2 2 2h14c1.1 0 2-.9 2-2V5c0-1.1-.9-2-2-2zM9 17H7v-7h2v7zm4 0h-2V7h2v10zm4 0h-2v-4h2v4z\"/>\n",
              "    </g>\n",
              "</svg>\n",
              "  </button>\n",
              "\n",
              "<style>\n",
              "  .colab-df-quickchart {\n",
              "      --bg-color: #E8F0FE;\n",
              "      --fill-color: #1967D2;\n",
              "      --hover-bg-color: #E2EBFA;\n",
              "      --hover-fill-color: #174EA6;\n",
              "      --disabled-fill-color: #AAA;\n",
              "      --disabled-bg-color: #DDD;\n",
              "  }\n",
              "\n",
              "  [theme=dark] .colab-df-quickchart {\n",
              "      --bg-color: #3B4455;\n",
              "      --fill-color: #D2E3FC;\n",
              "      --hover-bg-color: #434B5C;\n",
              "      --hover-fill-color: #FFFFFF;\n",
              "      --disabled-bg-color: #3B4455;\n",
              "      --disabled-fill-color: #666;\n",
              "  }\n",
              "\n",
              "  .colab-df-quickchart {\n",
              "    background-color: var(--bg-color);\n",
              "    border: none;\n",
              "    border-radius: 50%;\n",
              "    cursor: pointer;\n",
              "    display: none;\n",
              "    fill: var(--fill-color);\n",
              "    height: 32px;\n",
              "    padding: 0;\n",
              "    width: 32px;\n",
              "  }\n",
              "\n",
              "  .colab-df-quickchart:hover {\n",
              "    background-color: var(--hover-bg-color);\n",
              "    box-shadow: 0 1px 2px rgba(60, 64, 67, 0.3), 0 1px 3px 1px rgba(60, 64, 67, 0.15);\n",
              "    fill: var(--button-hover-fill-color);\n",
              "  }\n",
              "\n",
              "  .colab-df-quickchart-complete:disabled,\n",
              "  .colab-df-quickchart-complete:disabled:hover {\n",
              "    background-color: var(--disabled-bg-color);\n",
              "    fill: var(--disabled-fill-color);\n",
              "    box-shadow: none;\n",
              "  }\n",
              "\n",
              "  .colab-df-spinner {\n",
              "    border: 2px solid var(--fill-color);\n",
              "    border-color: transparent;\n",
              "    border-bottom-color: var(--fill-color);\n",
              "    animation:\n",
              "      spin 1s steps(1) infinite;\n",
              "  }\n",
              "\n",
              "  @keyframes spin {\n",
              "    0% {\n",
              "      border-color: transparent;\n",
              "      border-bottom-color: var(--fill-color);\n",
              "      border-left-color: var(--fill-color);\n",
              "    }\n",
              "    20% {\n",
              "      border-color: transparent;\n",
              "      border-left-color: var(--fill-color);\n",
              "      border-top-color: var(--fill-color);\n",
              "    }\n",
              "    30% {\n",
              "      border-color: transparent;\n",
              "      border-left-color: var(--fill-color);\n",
              "      border-top-color: var(--fill-color);\n",
              "      border-right-color: var(--fill-color);\n",
              "    }\n",
              "    40% {\n",
              "      border-color: transparent;\n",
              "      border-right-color: var(--fill-color);\n",
              "      border-top-color: var(--fill-color);\n",
              "    }\n",
              "    60% {\n",
              "      border-color: transparent;\n",
              "      border-right-color: var(--fill-color);\n",
              "    }\n",
              "    80% {\n",
              "      border-color: transparent;\n",
              "      border-right-color: var(--fill-color);\n",
              "      border-bottom-color: var(--fill-color);\n",
              "    }\n",
              "    90% {\n",
              "      border-color: transparent;\n",
              "      border-bottom-color: var(--fill-color);\n",
              "    }\n",
              "  }\n",
              "</style>\n",
              "\n",
              "  <script>\n",
              "    async function quickchart(key) {\n",
              "      const quickchartButtonEl =\n",
              "        document.querySelector('#' + key + ' button');\n",
              "      quickchartButtonEl.disabled = true;  // To prevent multiple clicks.\n",
              "      quickchartButtonEl.classList.add('colab-df-spinner');\n",
              "      try {\n",
              "        const charts = await google.colab.kernel.invokeFunction(\n",
              "            'suggestCharts', [key], {});\n",
              "      } catch (error) {\n",
              "        console.error('Error during call to suggestCharts:', error);\n",
              "      }\n",
              "      quickchartButtonEl.classList.remove('colab-df-spinner');\n",
              "      quickchartButtonEl.classList.add('colab-df-quickchart-complete');\n",
              "    }\n",
              "    (() => {\n",
              "      let quickchartButtonEl =\n",
              "        document.querySelector('#df-ae964846-2496-42ed-bb97-5774475b72cf button');\n",
              "      quickchartButtonEl.style.display =\n",
              "        google.colab.kernel.accessAllowed ? 'block' : 'none';\n",
              "    })();\n",
              "  </script>\n",
              "</div>\n",
              "    </div>\n",
              "  </div>\n"
            ],
            "application/vnd.google.colaboratory.intrinsic+json": {
              "type": "dataframe",
              "variable_name": "train_data_imdb2",
              "summary": "{\n  \"name\": \"train_data_imdb2\",\n  \"rows\": 40000,\n  \"fields\": [\n    {\n      \"column\": \"review\",\n      \"properties\": {\n        \"dtype\": \"string\",\n        \"num_unique_values\": 39743,\n        \"samples\": [\n          \"For me this is a good series. I am kind of disappointed that Ana Lucia and Libby died but more upset that Micheal lied to everyone about who killed them. And if any one can answer this what was that guys name who was supposedly \\\"Henry Gale\\\" he was like the leader of the others (or was that Ms. Clue??) anyway if you know his name cool. Well trying to think of what can possibly happen next after they finally didn't press the button. Does that mess up the whole DARMA project thing and i personally thought it was cool how they had that key thing underground that Desmond used to shut off the magnet thing, yeah and what was the whole point of that? I am just glad they didn't press the button finally, but what happens to the people in the hatch? Like Mr. Echo, John, Charlie and well Desmond probably died but what about the others? I think they survived, I forget? well this is just my little thing on what i thought about this season finale!!!\",\n          \"I am not saying that Night of the Twisters was horrible, but it was far from great. Mediocre at absolute best. I seems though that every time one type of movie is released, a second must be around the same time. (Think about Armageddon and Deep Impact, Volcano and Dante's Peak) Night of the Twisters is really just Twister except worse and with mundane special effects.<br /><br />I have nothing against the actors who starred in it, even if they weren't great, it was the movie itself, the directing, the special effects, the whole storyline was just too strange to interpret. A series of tornadoes strike a town and basically the movie is about people trying to find family and friends and deal with the damage.<br /><br />I really don't know why it seems as though duplicates of disaster movies are released almost in sync with each other, but this one would have been better with Bill Paxton and Helen Hunt.\",\n          \"What makes this low budget production one of my favorite movies? Not kidding, i was watching it already 10 times or so and did not get tired. Is it the tender melancholia throughout the whole thing? Is it the similarity to classics like \\\"Niagara\\\"? I was thinking a long time about that. And figured it out: I guess it is: there is no hero, there are only people. Some try to be good. Some gave up trying to be good. Some are hopeless cases but carry still the spunk of being human inside. It is the story of a catastrophic night in a motel at the end of the world. One way the catastrophe is nothing but the end of a chain of coincidences. The other way this night reveals the logical consequents of this peoples lives because they are in a certain constellation cut off the rest of the world. It has something of a Dostoevsky tale.\"\n        ],\n        \"semantic_type\": \"\",\n        \"description\": \"\"\n      }\n    },\n    {\n      \"column\": \"sentiment\",\n      \"properties\": {\n        \"dtype\": \"number\",\n        \"std\": 0,\n        \"min\": 1,\n        \"max\": 2,\n        \"num_unique_values\": 2,\n        \"samples\": [\n          2,\n          1\n        ],\n        \"semantic_type\": \"\",\n        \"description\": \"\"\n      }\n    }\n  ]\n}"
            }
          },
          "metadata": {},
          "execution_count": 81
        }
      ]
    },
    {
      "cell_type": "code",
      "source": [
        "print(train_data_imdb2['sentiment'])\n",
        "print(train_data_imdb2['review'])\n",
        "\n"
      ],
      "metadata": {
        "colab": {
          "base_uri": "https://localhost:8080/"
        },
        "id": "sf7QhZ1zoPUE",
        "outputId": "8f3d6b9f-c7ba-4f10-871f-7490c4b4dfd2"
      },
      "execution_count": 82,
      "outputs": [
        {
          "output_type": "stream",
          "name": "stdout",
          "text": [
            "39087    1\n",
            "30893    1\n",
            "45278    2\n",
            "16398    1\n",
            "13653    1\n",
            "        ..\n",
            "11284    2\n",
            "44732    2\n",
            "38158    1\n",
            "860      2\n",
            "15795    2\n",
            "Name: sentiment, Length: 40000, dtype: int64\n",
            "39087    That's what I kept asking myself during the ma...\n",
            "30893    I did not watch the entire movie. I could not ...\n",
            "45278    A touching love story reminiscent of In the M...\n",
            "16398    This latter-day Fulci schlocker is a totally a...\n",
            "13653    First of all, I firmly believe that Norwegian ...\n",
            "                               ...                        \n",
            "11284    `Shadow Magic' recaptures the joy and amazemen...\n",
            "44732    I found this movie to be quite enjoyable and f...\n",
            "38158    Avoid this one! It is a terrible movie. So wha...\n",
            "860      This production was quite a surprise for me. I...\n",
            "15795    This is a decent movie. Although little bit sh...\n",
            "Name: review, Length: 40000, dtype: object\n"
          ]
        }
      ]
    },
    {
      "cell_type": "markdown",
      "source": [
        "MAX_WORDS were adjusted to 150 in order to improve accuracy. This happens probably because the reviews are longer on this occasion"
      ],
      "metadata": {
        "id": "b2vVDazYLGrw"
      }
    },
    {
      "cell_type": "code",
      "source": [
        "######################################################################\n",
        "# Data processing\n",
        "# -----------------------------\n",
        "tokenizer = get_tokenizer(\"basic_english\")\n",
        "MAX_WORDS=150\n",
        "# All texts are truncated and padded to MAX_WORDS tokens\n",
        "def collate_batch(batch):\n",
        "    Y, X = list(zip(*batch))\n",
        "    Y = torch.tensor(Y) - 1 # Target names in range [0,1,2,3] instead of [1,2,3,4]\n",
        "    X = [vocab(tokenizer(text)) for text in X]\n",
        "    # Bringing all samples to MAX_WORDS length. Shorter texts are padded with <PAD> sequences, longer texts are truncated.\n",
        "    X = [tokens+([vocab['<PAD>']]* (MAX_WORDS-len(tokens))) if len(tokens)<MAX_WORDS else tokens[:MAX_WORDS] for tokens in X]\n",
        "    return torch.tensor(X, dtype=torch.int32).to(device), Y.to(device)\n",
        "\n",
        "# train_dataset_imdb3 = [(label,train_data_imdb2['review'][i]) for i,label in enumerate(train_data_imdb2['sentiment'])]\n",
        "# test_dataset_imdb3 = [(label,test_data_imdb2['review'][i]) for i,label in enumerate(test_data_imdb2['sentiment'])]\n",
        "\n",
        "train_dataset_imdb3 = [(row.sentiment, row.review) for row in train_data_imdb2.itertuples()]\n",
        "test_dataset_imdb3 = [(row.sentiment, row.review) for row in test_data_imdb2.itertuples()]\n",
        "\n",
        "train_loader_imdb = DataLoader(train_dataset_imdb3, batch_size=BATCH_SIZE,\n",
        "                              shuffle=True, collate_fn=collate_batch)\n",
        "test_loader_imdb = DataLoader(test_dataset_imdb3, batch_size=BATCH_SIZE,\n",
        "                              shuffle=False, collate_fn=collate_batch)\n",
        "\n",
        "target_classes2 = [\"Negative\", \"Positive\"]\n",
        "\n",
        "def build_vocabulary(datasets):\n",
        "    for dataset in datasets:\n",
        "        for _, text in dataset:\n",
        "            yield tokenizer(text)\n",
        "\n",
        "# Vocabulary includes all tokens with at least 10 occurrences in the texts\n",
        "# Special tokens <PAD> and <UNK> are used for padding sequences and unknown words respectively\n",
        "vocab3 = build_vocab_from_iterator(build_vocabulary([train_dataset_imdb3, test_dataset_imdb3]), min_freq=10, specials=[\"<PAD>\",\"<UNK>\"])\n",
        "vocab3.set_default_index(vocab3[\"<UNK>\"])"
      ],
      "metadata": {
        "id": "yP3153UWn7ZB"
      },
      "execution_count": 91,
      "outputs": []
    },
    {
      "cell_type": "code",
      "source": [
        "def EvaluateModel2(model, loss_fn, val_loader):\n",
        "    model.eval()\n",
        "    with torch.no_grad():\n",
        "        Y_actual, Y_preds, losses = [],[],[]\n",
        "        for X, Y in val_loader:\n",
        "            preds = model(X)\n",
        "            loss = loss_fn(preds, Y)\n",
        "            losses.append(loss.item())\n",
        "\n",
        "            Y_actual.append(Y)\n",
        "            Y_preds.append(preds.argmax(dim=-1))\n",
        "\n",
        "        Y_actual = torch.cat(Y_actual)\n",
        "        Y_preds = torch.cat(Y_preds)\n",
        "\n",
        "    # Returns mean loss, actual labels, predicted labels\n",
        "    return torch.tensor(losses).mean(), Y_actual.detach().cpu().numpy(), Y_preds.detach().cpu().numpy()"
      ],
      "metadata": {
        "id": "CHOxBk-Z0e7t"
      },
      "execution_count": 92,
      "outputs": []
    },
    {
      "cell_type": "code",
      "source": [
        "# Usage example assuming vocab3, EMBEDDING_DIM, HIDDEN_DIM, target_classes, device, and LEARNING_RATE are defined\n",
        "classifier25 = model(len(vocab3), EMBEDDING_DIM, HIDDEN_DIM, len(target_classes2)).to(device)\n",
        "loss_fn25 = nn.CrossEntropyLoss().to(device)\n",
        "optimizer25 = torch.optim.Adam([param for param in classifier25.parameters() if param.requires_grad], lr=LEARNING_RATE)\n",
        "\n",
        "# Function to count parameters\n",
        "def count_parameters(model):\n",
        "    return sum(p.numel() for p in model.parameters() if p.requires_grad)\n",
        "\n",
        "print('\\nModel:')\n",
        "print(classifier25)\n",
        "print('Total parameters: ', count_parameters(classifier25))\n",
        "print('\\n\\n')\n",
        "\n",
        "epoch_durations25 = TrainModel(classifier25, loss_fn25, optimizer25, train_loader_imdb, EPOCHS)\n",
        "# Calculate and print the average duration per epoch\n",
        "average_duration25 = sum(epoch_durations25) / len(epoch_durations25)\n",
        "print(f\"Average training time per epoch: {average_duration25:.2f} seconds\")\n",
        "\n",
        "######################################################################\n",
        "# Evaluate the model with test dataset\n",
        "# ------------------------------------\n",
        "\n",
        "\n",
        "_, Y_actual, Y_preds = EvaluateModel2(classifier25, loss_fn25, test_loader_imdb)\n",
        "\n",
        "print(\"\\nTest Accuracy : {:.3f}\".format(accuracy_score(Y_actual, Y_preds)))\n",
        "print(\"\\nClassification Report : \")\n",
        "print(classification_report(Y_actual, Y_preds, target_names=target_classes2))\n",
        "print(\"\\nConfusion Matrix : \")\n",
        "print(confusion_matrix(Y_actual, Y_preds))"
      ],
      "metadata": {
        "colab": {
          "base_uri": "https://localhost:8080/"
        },
        "id": "WWeSXnfTuBct",
        "outputId": "8e8d8bcf-4edb-46ef-f1bf-ad8bbb1a7347"
      },
      "execution_count": 93,
      "outputs": [
        {
          "output_type": "stream",
          "name": "stdout",
          "text": [
            "\n",
            "Model:\n",
            "model(\n",
            "  (embedding_layer): Embedding(29065, 100)\n",
            "  (rnn): RNN(100, 64, batch_first=True)\n",
            "  (linear): Linear(in_features=64, out_features=2, bias=True)\n",
            ")\n",
            "Total parameters:  2917254\n",
            "\n",
            "\n",
            "\n",
            "Epoch: 1\n"
          ]
        },
        {
          "output_type": "stream",
          "name": "stderr",
          "text": [
            "100%|██████████| 40/40 [00:06<00:00,  5.81it/s]\n"
          ]
        },
        {
          "output_type": "stream",
          "name": "stdout",
          "text": [
            "Train Loss : 0.694\n",
            "Epoch 1/15 - Duration: 6.89 seconds \n",
            "Epoch: 2\n"
          ]
        },
        {
          "output_type": "stream",
          "name": "stderr",
          "text": [
            "100%|██████████| 40/40 [00:06<00:00,  5.97it/s]\n"
          ]
        },
        {
          "output_type": "stream",
          "name": "stdout",
          "text": [
            "Train Loss : 0.690\n",
            "Epoch 2/15 - Duration: 6.70 seconds \n",
            "Epoch: 3\n"
          ]
        },
        {
          "output_type": "stream",
          "name": "stderr",
          "text": [
            "100%|██████████| 40/40 [00:06<00:00,  6.00it/s]\n"
          ]
        },
        {
          "output_type": "stream",
          "name": "stdout",
          "text": [
            "Train Loss : 0.685\n",
            "Epoch 3/15 - Duration: 6.67 seconds \n",
            "Epoch: 4\n"
          ]
        },
        {
          "output_type": "stream",
          "name": "stderr",
          "text": [
            "100%|██████████| 40/40 [00:06<00:00,  6.06it/s]\n"
          ]
        },
        {
          "output_type": "stream",
          "name": "stdout",
          "text": [
            "Train Loss : 0.683\n",
            "Epoch 4/15 - Duration: 6.60 seconds \n",
            "Epoch: 5\n"
          ]
        },
        {
          "output_type": "stream",
          "name": "stderr",
          "text": [
            "100%|██████████| 40/40 [00:06<00:00,  6.04it/s]\n"
          ]
        },
        {
          "output_type": "stream",
          "name": "stdout",
          "text": [
            "Train Loss : 0.677\n",
            "Epoch 5/15 - Duration: 6.62 seconds \n",
            "Epoch: 6\n"
          ]
        },
        {
          "output_type": "stream",
          "name": "stderr",
          "text": [
            "100%|██████████| 40/40 [00:06<00:00,  5.99it/s]\n"
          ]
        },
        {
          "output_type": "stream",
          "name": "stdout",
          "text": [
            "Train Loss : 0.674\n",
            "Epoch 6/15 - Duration: 6.69 seconds \n",
            "Epoch: 7\n"
          ]
        },
        {
          "output_type": "stream",
          "name": "stderr",
          "text": [
            "100%|██████████| 40/40 [00:06<00:00,  5.90it/s]\n"
          ]
        },
        {
          "output_type": "stream",
          "name": "stdout",
          "text": [
            "Train Loss : 0.675\n",
            "Epoch 7/15 - Duration: 6.78 seconds \n",
            "Epoch: 8\n"
          ]
        },
        {
          "output_type": "stream",
          "name": "stderr",
          "text": [
            "100%|██████████| 40/40 [00:06<00:00,  5.96it/s]\n"
          ]
        },
        {
          "output_type": "stream",
          "name": "stdout",
          "text": [
            "Train Loss : 0.659\n",
            "Epoch 8/15 - Duration: 6.71 seconds \n",
            "Epoch: 9\n"
          ]
        },
        {
          "output_type": "stream",
          "name": "stderr",
          "text": [
            "100%|██████████| 40/40 [00:06<00:00,  5.94it/s]\n"
          ]
        },
        {
          "output_type": "stream",
          "name": "stdout",
          "text": [
            "Train Loss : 0.630\n",
            "Epoch 9/15 - Duration: 6.74 seconds \n",
            "Epoch: 10\n"
          ]
        },
        {
          "output_type": "stream",
          "name": "stderr",
          "text": [
            "100%|██████████| 40/40 [00:06<00:00,  5.97it/s]\n"
          ]
        },
        {
          "output_type": "stream",
          "name": "stdout",
          "text": [
            "Train Loss : 0.705\n",
            "Epoch 10/15 - Duration: 6.70 seconds \n",
            "Epoch: 11\n"
          ]
        },
        {
          "output_type": "stream",
          "name": "stderr",
          "text": [
            "100%|██████████| 40/40 [00:06<00:00,  6.07it/s]\n"
          ]
        },
        {
          "output_type": "stream",
          "name": "stdout",
          "text": [
            "Train Loss : 0.684\n",
            "Epoch 11/15 - Duration: 6.60 seconds \n",
            "Epoch: 12\n"
          ]
        },
        {
          "output_type": "stream",
          "name": "stderr",
          "text": [
            "100%|██████████| 40/40 [00:06<00:00,  6.08it/s]\n"
          ]
        },
        {
          "output_type": "stream",
          "name": "stdout",
          "text": [
            "Train Loss : 0.680\n",
            "Epoch 12/15 - Duration: 6.59 seconds \n",
            "Epoch: 13\n"
          ]
        },
        {
          "output_type": "stream",
          "name": "stderr",
          "text": [
            "100%|██████████| 40/40 [00:06<00:00,  5.99it/s]\n"
          ]
        },
        {
          "output_type": "stream",
          "name": "stdout",
          "text": [
            "Train Loss : 0.677\n",
            "Epoch 13/15 - Duration: 6.68 seconds \n",
            "Epoch: 14\n"
          ]
        },
        {
          "output_type": "stream",
          "name": "stderr",
          "text": [
            "100%|██████████| 40/40 [00:06<00:00,  6.03it/s]\n"
          ]
        },
        {
          "output_type": "stream",
          "name": "stdout",
          "text": [
            "Train Loss : 0.671\n",
            "Epoch 14/15 - Duration: 6.64 seconds \n",
            "Epoch: 15\n"
          ]
        },
        {
          "output_type": "stream",
          "name": "stderr",
          "text": [
            "100%|██████████| 40/40 [00:06<00:00,  5.87it/s]\n"
          ]
        },
        {
          "output_type": "stream",
          "name": "stdout",
          "text": [
            "Train Loss : 0.666\n",
            "Epoch 15/15 - Duration: 6.82 seconds \n",
            "Average training time per epoch: 6.70 seconds\n",
            "\n",
            "Test Accuracy : 0.568\n",
            "\n",
            "Classification Report : \n",
            "              precision    recall  f1-score   support\n",
            "\n",
            "    Negative       0.58      0.49      0.53      4961\n",
            "    Positive       0.56      0.65      0.60      5039\n",
            "\n",
            "    accuracy                           0.57     10000\n",
            "   macro avg       0.57      0.57      0.56     10000\n",
            "weighted avg       0.57      0.57      0.56     10000\n",
            "\n",
            "\n",
            "Confusion Matrix : \n",
            "[[2409 2552]\n",
            " [1769 3270]]\n"
          ]
        }
      ]
    },
    {
      "cell_type": "code",
      "source": [
        "# Usage example assuming vocab3, EMBEDDING_DIM, HIDDEN_DIM, target_classes, device, and LEARNING_RATE are defined\n",
        "classifier26 = BiRNN1(len(vocab3), EMBEDDING_DIM, HIDDEN_DIM, len(target_classes2)).to(device)\n",
        "loss_fn26 = nn.CrossEntropyLoss().to(device)\n",
        "optimizer26 = torch.optim.Adam([param for param in classifier26.parameters() if param.requires_grad], lr=LEARNING_RATE)\n",
        "\n",
        "# Function to count parameters\n",
        "def count_parameters(model):\n",
        "    return sum(p.numel() for p in model.parameters() if p.requires_grad)\n",
        "\n",
        "print('\\nModel:')\n",
        "print(classifier26)\n",
        "print('Total parameters: ', count_parameters(classifier26))\n",
        "print('\\n\\n')\n",
        "\n",
        "epoch_durations26 = TrainModel(classifier26, loss_fn26, optimizer26, train_loader_imdb, EPOCHS)\n",
        "# Calculate and print the average duration per epoch\n",
        "average_duration26 = sum(epoch_durations26) / len(epoch_durations26)\n",
        "print(f\"Average training time per epoch: {average_duration26:.2f} seconds\")\n",
        "\n",
        "######################################################################\n",
        "# Evaluate the model with test dataset\n",
        "# ------------------------------------\n",
        "\n",
        "\n",
        "_, Y_actual, Y_preds = EvaluateModel2(classifier26, loss_fn26, test_loader_imdb)\n",
        "\n",
        "print(\"\\nTest Accuracy : {:.3f}\".format(accuracy_score(Y_actual, Y_preds)))\n",
        "print(\"\\nClassification Report : \")\n",
        "print(classification_report(Y_actual, Y_preds, target_names=target_classes2))\n",
        "print(\"\\nConfusion Matrix : \")\n",
        "print(confusion_matrix(Y_actual, Y_preds))"
      ],
      "metadata": {
        "colab": {
          "base_uri": "https://localhost:8080/"
        },
        "id": "xkcE1XNvw7PB",
        "outputId": "01abd07a-3027-4175-c696-ff1963a7a6a5"
      },
      "execution_count": 94,
      "outputs": [
        {
          "output_type": "stream",
          "name": "stdout",
          "text": [
            "\n",
            "Model:\n",
            "BiRNN1(\n",
            "  (embedding_layer): Embedding(29065, 100)\n",
            "  (rnn): RNN(100, 64, batch_first=True, bidirectional=True)\n",
            "  (linear): Linear(in_features=128, out_features=2, bias=True)\n",
            ")\n",
            "Total parameters:  2928006\n",
            "\n",
            "\n",
            "\n",
            "Epoch: 1\n"
          ]
        },
        {
          "output_type": "stream",
          "name": "stderr",
          "text": [
            "100%|██████████| 40/40 [00:06<00:00,  5.84it/s]\n"
          ]
        },
        {
          "output_type": "stream",
          "name": "stdout",
          "text": [
            "Train Loss : 0.690\n",
            "Epoch 1/15 - Duration: 6.86 seconds \n",
            "Epoch: 2\n"
          ]
        },
        {
          "output_type": "stream",
          "name": "stderr",
          "text": [
            "100%|██████████| 40/40 [00:06<00:00,  5.76it/s]\n"
          ]
        },
        {
          "output_type": "stream",
          "name": "stdout",
          "text": [
            "Train Loss : 0.667\n",
            "Epoch 2/15 - Duration: 6.95 seconds \n",
            "Epoch: 3\n"
          ]
        },
        {
          "output_type": "stream",
          "name": "stderr",
          "text": [
            "100%|██████████| 40/40 [00:07<00:00,  5.52it/s]\n"
          ]
        },
        {
          "output_type": "stream",
          "name": "stdout",
          "text": [
            "Train Loss : 0.660\n",
            "Epoch 3/15 - Duration: 7.25 seconds \n",
            "Epoch: 4\n"
          ]
        },
        {
          "output_type": "stream",
          "name": "stderr",
          "text": [
            "100%|██████████| 40/40 [00:06<00:00,  5.82it/s]\n"
          ]
        },
        {
          "output_type": "stream",
          "name": "stdout",
          "text": [
            "Train Loss : 0.640\n",
            "Epoch 4/15 - Duration: 6.88 seconds \n",
            "Epoch: 5\n"
          ]
        },
        {
          "output_type": "stream",
          "name": "stderr",
          "text": [
            "100%|██████████| 40/40 [00:07<00:00,  5.68it/s]\n"
          ]
        },
        {
          "output_type": "stream",
          "name": "stdout",
          "text": [
            "Train Loss : 0.619\n",
            "Epoch 5/15 - Duration: 7.05 seconds \n",
            "Epoch: 6\n"
          ]
        },
        {
          "output_type": "stream",
          "name": "stderr",
          "text": [
            "100%|██████████| 40/40 [00:06<00:00,  5.87it/s]\n"
          ]
        },
        {
          "output_type": "stream",
          "name": "stdout",
          "text": [
            "Train Loss : 0.647\n",
            "Epoch 6/15 - Duration: 6.82 seconds \n",
            "Epoch: 7\n"
          ]
        },
        {
          "output_type": "stream",
          "name": "stderr",
          "text": [
            "100%|██████████| 40/40 [00:06<00:00,  5.85it/s]\n"
          ]
        },
        {
          "output_type": "stream",
          "name": "stdout",
          "text": [
            "Train Loss : 0.610\n",
            "Epoch 7/15 - Duration: 6.84 seconds \n",
            "Epoch: 8\n"
          ]
        },
        {
          "output_type": "stream",
          "name": "stderr",
          "text": [
            "100%|██████████| 40/40 [00:06<00:00,  5.88it/s]\n"
          ]
        },
        {
          "output_type": "stream",
          "name": "stdout",
          "text": [
            "Train Loss : 0.578\n",
            "Epoch 8/15 - Duration: 6.81 seconds \n",
            "Epoch: 9\n"
          ]
        },
        {
          "output_type": "stream",
          "name": "stderr",
          "text": [
            "100%|██████████| 40/40 [00:06<00:00,  5.86it/s]\n"
          ]
        },
        {
          "output_type": "stream",
          "name": "stdout",
          "text": [
            "Train Loss : 0.556\n",
            "Epoch 9/15 - Duration: 6.83 seconds \n",
            "Epoch: 10\n"
          ]
        },
        {
          "output_type": "stream",
          "name": "stderr",
          "text": [
            "100%|██████████| 40/40 [00:07<00:00,  5.63it/s]\n"
          ]
        },
        {
          "output_type": "stream",
          "name": "stdout",
          "text": [
            "Train Loss : 0.549\n",
            "Epoch 10/15 - Duration: 7.10 seconds \n",
            "Epoch: 11\n"
          ]
        },
        {
          "output_type": "stream",
          "name": "stderr",
          "text": [
            "100%|██████████| 40/40 [00:06<00:00,  5.72it/s]\n"
          ]
        },
        {
          "output_type": "stream",
          "name": "stdout",
          "text": [
            "Train Loss : 0.576\n",
            "Epoch 11/15 - Duration: 7.00 seconds \n",
            "Epoch: 12\n"
          ]
        },
        {
          "output_type": "stream",
          "name": "stderr",
          "text": [
            "100%|██████████| 40/40 [00:07<00:00,  5.67it/s]\n"
          ]
        },
        {
          "output_type": "stream",
          "name": "stdout",
          "text": [
            "Train Loss : 0.551\n",
            "Epoch 12/15 - Duration: 7.06 seconds \n",
            "Epoch: 13\n"
          ]
        },
        {
          "output_type": "stream",
          "name": "stderr",
          "text": [
            "100%|██████████| 40/40 [00:06<00:00,  5.75it/s]\n"
          ]
        },
        {
          "output_type": "stream",
          "name": "stdout",
          "text": [
            "Train Loss : 0.591\n",
            "Epoch 13/15 - Duration: 6.96 seconds \n",
            "Epoch: 14\n"
          ]
        },
        {
          "output_type": "stream",
          "name": "stderr",
          "text": [
            "100%|██████████| 40/40 [00:06<00:00,  5.78it/s]\n"
          ]
        },
        {
          "output_type": "stream",
          "name": "stdout",
          "text": [
            "Train Loss : 0.571\n",
            "Epoch 14/15 - Duration: 6.93 seconds \n",
            "Epoch: 15\n"
          ]
        },
        {
          "output_type": "stream",
          "name": "stderr",
          "text": [
            "100%|██████████| 40/40 [00:06<00:00,  5.75it/s]\n"
          ]
        },
        {
          "output_type": "stream",
          "name": "stdout",
          "text": [
            "Train Loss : 0.556\n",
            "Epoch 15/15 - Duration: 6.96 seconds \n",
            "Average training time per epoch: 6.95 seconds\n",
            "\n",
            "Test Accuracy : 0.665\n",
            "\n",
            "Classification Report : \n",
            "              precision    recall  f1-score   support\n",
            "\n",
            "    Negative       0.70      0.57      0.63      4961\n",
            "    Positive       0.64      0.76      0.70      5039\n",
            "\n",
            "    accuracy                           0.67     10000\n",
            "   macro avg       0.67      0.66      0.66     10000\n",
            "weighted avg       0.67      0.67      0.66     10000\n",
            "\n",
            "\n",
            "Confusion Matrix : \n",
            "[[2839 2122]\n",
            " [1225 3814]]\n"
          ]
        }
      ]
    },
    {
      "cell_type": "code",
      "source": [
        "# Usage example assuming vocab3, EMBEDDING_DIM, HIDDEN_DIM, target_classes, device, and LEARNING_RATE are defined\n",
        "classifier27 = BiRNN2(len(vocab3), EMBEDDING_DIM, HIDDEN_DIM, len(target_classes2)).to(device)\n",
        "loss_fn27 = nn.CrossEntropyLoss().to(device)\n",
        "optimizer27 = torch.optim.Adam([param for param in classifier27.parameters() if param.requires_grad], lr=LEARNING_RATE)\n",
        "\n",
        "# Function to count parameters\n",
        "def count_parameters(model):\n",
        "    return sum(p.numel() for p in model.parameters() if p.requires_grad)\n",
        "\n",
        "print('\\nModel:')\n",
        "print(classifier27)\n",
        "print('Total parameters: ', count_parameters(classifier27))\n",
        "print('\\n\\n')\n",
        "\n",
        "epoch_durations27 = TrainModel(classifier27, loss_fn27, optimizer27, train_loader_imdb, EPOCHS)\n",
        "# Calculate and print the average duration per epoch\n",
        "average_duration27 = sum(epoch_durations27) / len(epoch_durations27)\n",
        "print(f\"Average training time per epoch: {average_duration27:.2f} seconds\")\n",
        "\n",
        "######################################################################\n",
        "# Evaluate the model with test dataset\n",
        "# ------------------------------------\n",
        "\n",
        "\n",
        "_, Y_actual, Y_preds = EvaluateModel2(classifier27, loss_fn27, test_loader_imdb)\n",
        "\n",
        "print(\"\\nTest Accuracy : {:.3f}\".format(accuracy_score(Y_actual, Y_preds)))\n",
        "print(\"\\nClassification Report : \")\n",
        "print(classification_report(Y_actual, Y_preds, target_names=target_classes2))\n",
        "print(\"\\nConfusion Matrix : \")\n",
        "print(confusion_matrix(Y_actual, Y_preds))"
      ],
      "metadata": {
        "colab": {
          "base_uri": "https://localhost:8080/"
        },
        "id": "wQrIHG7T3RYK",
        "outputId": "bffe5b70-a9ce-4e3b-86d7-c2f50d5357fc"
      },
      "execution_count": 95,
      "outputs": [
        {
          "output_type": "stream",
          "name": "stdout",
          "text": [
            "\n",
            "Model:\n",
            "BiRNN2(\n",
            "  (embedding_layer): Embedding(29065, 100)\n",
            "  (rnn): RNN(100, 64, num_layers=2, batch_first=True, bidirectional=True)\n",
            "  (linear): Linear(in_features=128, out_features=2, bias=True)\n",
            ")\n",
            "Total parameters:  2952838\n",
            "\n",
            "\n",
            "\n",
            "Epoch: 1\n"
          ]
        },
        {
          "output_type": "stream",
          "name": "stderr",
          "text": [
            "100%|██████████| 40/40 [00:06<00:00,  5.78it/s]\n"
          ]
        },
        {
          "output_type": "stream",
          "name": "stdout",
          "text": [
            "Train Loss : 0.688\n",
            "Epoch 1/15 - Duration: 6.93 seconds \n",
            "Epoch: 2\n"
          ]
        },
        {
          "output_type": "stream",
          "name": "stderr",
          "text": [
            "100%|██████████| 40/40 [00:07<00:00,  5.68it/s]\n"
          ]
        },
        {
          "output_type": "stream",
          "name": "stdout",
          "text": [
            "Train Loss : 0.663\n",
            "Epoch 2/15 - Duration: 7.05 seconds \n",
            "Epoch: 3\n"
          ]
        },
        {
          "output_type": "stream",
          "name": "stderr",
          "text": [
            "100%|██████████| 40/40 [00:07<00:00,  5.68it/s]\n"
          ]
        },
        {
          "output_type": "stream",
          "name": "stdout",
          "text": [
            "Train Loss : 0.667\n",
            "Epoch 3/15 - Duration: 7.05 seconds \n",
            "Epoch: 4\n"
          ]
        },
        {
          "output_type": "stream",
          "name": "stderr",
          "text": [
            "100%|██████████| 40/40 [00:07<00:00,  5.70it/s]\n"
          ]
        },
        {
          "output_type": "stream",
          "name": "stdout",
          "text": [
            "Train Loss : 0.630\n",
            "Epoch 4/15 - Duration: 7.02 seconds \n",
            "Epoch: 5\n"
          ]
        },
        {
          "output_type": "stream",
          "name": "stderr",
          "text": [
            "100%|██████████| 40/40 [00:07<00:00,  5.65it/s]\n"
          ]
        },
        {
          "output_type": "stream",
          "name": "stdout",
          "text": [
            "Train Loss : 0.675\n",
            "Epoch 5/15 - Duration: 7.09 seconds \n",
            "Epoch: 6\n"
          ]
        },
        {
          "output_type": "stream",
          "name": "stderr",
          "text": [
            "100%|██████████| 40/40 [00:06<00:00,  5.73it/s]\n"
          ]
        },
        {
          "output_type": "stream",
          "name": "stdout",
          "text": [
            "Train Loss : 0.652\n",
            "Epoch 6/15 - Duration: 6.99 seconds \n",
            "Epoch: 7\n"
          ]
        },
        {
          "output_type": "stream",
          "name": "stderr",
          "text": [
            "100%|██████████| 40/40 [00:07<00:00,  5.70it/s]\n"
          ]
        },
        {
          "output_type": "stream",
          "name": "stdout",
          "text": [
            "Train Loss : 0.617\n",
            "Epoch 7/15 - Duration: 7.02 seconds \n",
            "Epoch: 8\n"
          ]
        },
        {
          "output_type": "stream",
          "name": "stderr",
          "text": [
            "100%|██████████| 40/40 [00:07<00:00,  5.55it/s]\n"
          ]
        },
        {
          "output_type": "stream",
          "name": "stdout",
          "text": [
            "Train Loss : 0.606\n",
            "Epoch 8/15 - Duration: 7.21 seconds \n",
            "Epoch: 9\n"
          ]
        },
        {
          "output_type": "stream",
          "name": "stderr",
          "text": [
            "100%|██████████| 40/40 [00:06<00:00,  5.74it/s]\n"
          ]
        },
        {
          "output_type": "stream",
          "name": "stdout",
          "text": [
            "Train Loss : 0.587\n",
            "Epoch 9/15 - Duration: 6.97 seconds \n",
            "Epoch: 10\n"
          ]
        },
        {
          "output_type": "stream",
          "name": "stderr",
          "text": [
            "100%|██████████| 40/40 [00:07<00:00,  5.31it/s]\n"
          ]
        },
        {
          "output_type": "stream",
          "name": "stdout",
          "text": [
            "Train Loss : 0.585\n",
            "Epoch 10/15 - Duration: 7.54 seconds \n",
            "Epoch: 11\n"
          ]
        },
        {
          "output_type": "stream",
          "name": "stderr",
          "text": [
            "100%|██████████| 40/40 [00:07<00:00,  5.54it/s]\n"
          ]
        },
        {
          "output_type": "stream",
          "name": "stdout",
          "text": [
            "Train Loss : 0.559\n",
            "Epoch 11/15 - Duration: 7.23 seconds \n",
            "Epoch: 12\n"
          ]
        },
        {
          "output_type": "stream",
          "name": "stderr",
          "text": [
            "100%|██████████| 40/40 [00:07<00:00,  5.61it/s]\n"
          ]
        },
        {
          "output_type": "stream",
          "name": "stdout",
          "text": [
            "Train Loss : 0.573\n",
            "Epoch 12/15 - Duration: 7.13 seconds \n",
            "Epoch: 13\n"
          ]
        },
        {
          "output_type": "stream",
          "name": "stderr",
          "text": [
            "100%|██████████| 40/40 [00:07<00:00,  5.62it/s]\n"
          ]
        },
        {
          "output_type": "stream",
          "name": "stdout",
          "text": [
            "Train Loss : 0.568\n",
            "Epoch 13/15 - Duration: 7.13 seconds \n",
            "Epoch: 14\n"
          ]
        },
        {
          "output_type": "stream",
          "name": "stderr",
          "text": [
            "100%|██████████| 40/40 [00:07<00:00,  5.51it/s]\n"
          ]
        },
        {
          "output_type": "stream",
          "name": "stdout",
          "text": [
            "Train Loss : 0.609\n",
            "Epoch 14/15 - Duration: 7.26 seconds \n",
            "Epoch: 15\n"
          ]
        },
        {
          "output_type": "stream",
          "name": "stderr",
          "text": [
            "100%|██████████| 40/40 [00:07<00:00,  5.54it/s]\n"
          ]
        },
        {
          "output_type": "stream",
          "name": "stdout",
          "text": [
            "Train Loss : 0.573\n",
            "Epoch 15/15 - Duration: 7.23 seconds \n",
            "Average training time per epoch: 7.12 seconds\n",
            "\n",
            "Test Accuracy : 0.697\n",
            "\n",
            "Classification Report : \n",
            "              precision    recall  f1-score   support\n",
            "\n",
            "    Negative       0.71      0.67      0.69      4961\n",
            "    Positive       0.69      0.72      0.71      5039\n",
            "\n",
            "    accuracy                           0.70     10000\n",
            "   macro avg       0.70      0.70      0.70     10000\n",
            "weighted avg       0.70      0.70      0.70     10000\n",
            "\n",
            "\n",
            "Confusion Matrix : \n",
            "[[3313 1648]\n",
            " [1386 3653]]\n"
          ]
        }
      ]
    },
    {
      "cell_type": "code",
      "source": [
        "# Usage example assuming vocab3, EMBEDDING_DIM, HIDDEN_DIM, target_classes, device, and LEARNING_RATE are defined\n",
        "classifier28 = LSTM1(len(vocab3), EMBEDDING_DIM, HIDDEN_DIM, len(target_classes2)).to(device)\n",
        "loss_fn28 = nn.CrossEntropyLoss().to(device)\n",
        "optimizer28 = torch.optim.Adam([param for param in classifier28.parameters() if param.requires_grad], lr=LEARNING_RATE)\n",
        "\n",
        "# Function to count parameters\n",
        "def count_parameters(model):\n",
        "    return sum(p.numel() for p in model.parameters() if p.requires_grad)\n",
        "\n",
        "print('\\nModel:')\n",
        "print(classifier28)\n",
        "print('Total parameters: ', count_parameters(classifier28))\n",
        "print('\\n\\n')\n",
        "\n",
        "epoch_durations28 = TrainModel(classifier28, loss_fn28, optimizer28, train_loader_imdb, EPOCHS)\n",
        "# Calculate and print the average duration per epoch\n",
        "average_duration28 = sum(epoch_durations28) / len(epoch_durations28)\n",
        "print(f\"Average training time per epoch: {average_duration28:.2f} seconds\")\n",
        "\n",
        "######################################################################\n",
        "# Evaluate the model with test dataset\n",
        "# ------------------------------------\n",
        "\n",
        "\n",
        "_, Y_actual, Y_preds = EvaluateModel2(classifier28, loss_fn28, test_loader_imdb)\n",
        "\n",
        "print(\"\\nTest Accuracy : {:.3f}\".format(accuracy_score(Y_actual, Y_preds)))\n",
        "print(\"\\nClassification Report : \")\n",
        "print(classification_report(Y_actual, Y_preds, target_names=target_classes2))\n",
        "print(\"\\nConfusion Matrix : \")\n",
        "print(confusion_matrix(Y_actual, Y_preds))"
      ],
      "metadata": {
        "colab": {
          "base_uri": "https://localhost:8080/"
        },
        "id": "i90NvaTm4ur4",
        "outputId": "fb1d800a-b0fc-4bbb-d40d-fed009faa71f"
      },
      "execution_count": 96,
      "outputs": [
        {
          "output_type": "stream",
          "name": "stdout",
          "text": [
            "\n",
            "Model:\n",
            "LSTM1(\n",
            "  (embedding_layer): Embedding(29065, 100)\n",
            "  (lstm): LSTM(100, 64, batch_first=True)\n",
            "  (linear): Linear(in_features=64, out_features=2, bias=True)\n",
            ")\n",
            "Total parameters:  2949126\n",
            "\n",
            "\n",
            "\n",
            "Epoch: 1\n"
          ]
        },
        {
          "output_type": "stream",
          "name": "stderr",
          "text": [
            "100%|██████████| 40/40 [00:06<00:00,  5.72it/s]\n"
          ]
        },
        {
          "output_type": "stream",
          "name": "stdout",
          "text": [
            "Train Loss : 0.692\n",
            "Epoch 1/15 - Duration: 6.99 seconds \n",
            "Epoch: 2\n"
          ]
        },
        {
          "output_type": "stream",
          "name": "stderr",
          "text": [
            "100%|██████████| 40/40 [00:07<00:00,  5.66it/s]\n"
          ]
        },
        {
          "output_type": "stream",
          "name": "stdout",
          "text": [
            "Train Loss : 0.689\n",
            "Epoch 2/15 - Duration: 7.07 seconds \n",
            "Epoch: 3\n"
          ]
        },
        {
          "output_type": "stream",
          "name": "stderr",
          "text": [
            "100%|██████████| 40/40 [00:07<00:00,  5.68it/s]\n"
          ]
        },
        {
          "output_type": "stream",
          "name": "stdout",
          "text": [
            "Train Loss : 0.678\n",
            "Epoch 3/15 - Duration: 7.05 seconds \n",
            "Epoch: 4\n"
          ]
        },
        {
          "output_type": "stream",
          "name": "stderr",
          "text": [
            "100%|██████████| 40/40 [00:07<00:00,  5.63it/s]\n"
          ]
        },
        {
          "output_type": "stream",
          "name": "stdout",
          "text": [
            "Train Loss : 0.651\n",
            "Epoch 4/15 - Duration: 7.11 seconds \n",
            "Epoch: 5\n"
          ]
        },
        {
          "output_type": "stream",
          "name": "stderr",
          "text": [
            "100%|██████████| 40/40 [00:07<00:00,  5.44it/s]\n"
          ]
        },
        {
          "output_type": "stream",
          "name": "stdout",
          "text": [
            "Train Loss : 0.640\n",
            "Epoch 5/15 - Duration: 7.36 seconds \n",
            "Epoch: 6\n"
          ]
        },
        {
          "output_type": "stream",
          "name": "stderr",
          "text": [
            "100%|██████████| 40/40 [00:07<00:00,  5.61it/s]\n"
          ]
        },
        {
          "output_type": "stream",
          "name": "stdout",
          "text": [
            "Train Loss : 0.627\n",
            "Epoch 6/15 - Duration: 7.13 seconds \n",
            "Epoch: 7\n"
          ]
        },
        {
          "output_type": "stream",
          "name": "stderr",
          "text": [
            "100%|██████████| 40/40 [00:07<00:00,  5.59it/s]\n"
          ]
        },
        {
          "output_type": "stream",
          "name": "stdout",
          "text": [
            "Train Loss : 0.597\n",
            "Epoch 7/15 - Duration: 7.16 seconds \n",
            "Epoch: 8\n"
          ]
        },
        {
          "output_type": "stream",
          "name": "stderr",
          "text": [
            "100%|██████████| 40/40 [00:07<00:00,  5.63it/s]\n"
          ]
        },
        {
          "output_type": "stream",
          "name": "stdout",
          "text": [
            "Train Loss : 0.586\n",
            "Epoch 8/15 - Duration: 7.11 seconds \n",
            "Epoch: 9\n"
          ]
        },
        {
          "output_type": "stream",
          "name": "stderr",
          "text": [
            "100%|██████████| 40/40 [00:07<00:00,  5.70it/s]\n"
          ]
        },
        {
          "output_type": "stream",
          "name": "stdout",
          "text": [
            "Train Loss : 0.584\n",
            "Epoch 9/15 - Duration: 7.02 seconds \n",
            "Epoch: 10\n"
          ]
        },
        {
          "output_type": "stream",
          "name": "stderr",
          "text": [
            "100%|██████████| 40/40 [00:07<00:00,  5.59it/s]\n"
          ]
        },
        {
          "output_type": "stream",
          "name": "stdout",
          "text": [
            "Train Loss : 0.554\n",
            "Epoch 10/15 - Duration: 7.16 seconds \n",
            "Epoch: 11\n"
          ]
        },
        {
          "output_type": "stream",
          "name": "stderr",
          "text": [
            "100%|██████████| 40/40 [00:06<00:00,  5.72it/s]\n"
          ]
        },
        {
          "output_type": "stream",
          "name": "stdout",
          "text": [
            "Train Loss : 0.537\n",
            "Epoch 11/15 - Duration: 7.00 seconds \n",
            "Epoch: 12\n"
          ]
        },
        {
          "output_type": "stream",
          "name": "stderr",
          "text": [
            "100%|██████████| 40/40 [00:07<00:00,  5.58it/s]\n"
          ]
        },
        {
          "output_type": "stream",
          "name": "stdout",
          "text": [
            "Train Loss : 0.529\n",
            "Epoch 12/15 - Duration: 7.17 seconds \n",
            "Epoch: 13\n"
          ]
        },
        {
          "output_type": "stream",
          "name": "stderr",
          "text": [
            "100%|██████████| 40/40 [00:07<00:00,  5.71it/s]\n"
          ]
        },
        {
          "output_type": "stream",
          "name": "stdout",
          "text": [
            "Train Loss : 0.515\n",
            "Epoch 13/15 - Duration: 7.01 seconds \n",
            "Epoch: 14\n"
          ]
        },
        {
          "output_type": "stream",
          "name": "stderr",
          "text": [
            "100%|██████████| 40/40 [00:07<00:00,  5.70it/s]\n"
          ]
        },
        {
          "output_type": "stream",
          "name": "stdout",
          "text": [
            "Train Loss : 0.536\n",
            "Epoch 14/15 - Duration: 7.03 seconds \n",
            "Epoch: 15\n"
          ]
        },
        {
          "output_type": "stream",
          "name": "stderr",
          "text": [
            "100%|██████████| 40/40 [00:07<00:00,  5.60it/s]\n"
          ]
        },
        {
          "output_type": "stream",
          "name": "stdout",
          "text": [
            "Train Loss : 0.583\n",
            "Epoch 15/15 - Duration: 7.15 seconds \n",
            "Average training time per epoch: 7.10 seconds\n",
            "\n",
            "Test Accuracy : 0.605\n",
            "\n",
            "Classification Report : \n",
            "              precision    recall  f1-score   support\n",
            "\n",
            "    Negative       0.89      0.23      0.37      4961\n",
            "    Positive       0.56      0.97      0.71      5039\n",
            "\n",
            "    accuracy                           0.61     10000\n",
            "   macro avg       0.73      0.60      0.54     10000\n",
            "weighted avg       0.73      0.61      0.54     10000\n",
            "\n",
            "\n",
            "Confusion Matrix : \n",
            "[[1152 3809]\n",
            " [ 140 4899]]\n"
          ]
        }
      ]
    },
    {
      "cell_type": "code",
      "source": [
        "# Usage example assuming vocab3, EMBEDDING_DIM, HIDDEN_DIM, target_classes, device, and LEARNING_RATE are defined\n",
        "classifier29 = BiLSTM1(len(vocab3), EMBEDDING_DIM, HIDDEN_DIM, len(target_classes2)).to(device)\n",
        "loss_fn29 = nn.CrossEntropyLoss().to(device)\n",
        "optimizer29 = torch.optim.Adam([param for param in classifier29.parameters() if param.requires_grad], lr=LEARNING_RATE)\n",
        "\n",
        "# Function to count parameters\n",
        "def count_parameters(model):\n",
        "    return sum(p.numel() for p in model.parameters() if p.requires_grad)\n",
        "\n",
        "print('\\nModel:')\n",
        "print(classifier29)\n",
        "print('Total parameters: ', count_parameters(classifier29))\n",
        "print('\\n\\n')\n",
        "\n",
        "epoch_durations29 = TrainModel(classifier29, loss_fn29, optimizer29, train_loader_imdb, EPOCHS)\n",
        "# Calculate and print the average duration per epoch\n",
        "average_duration29 = sum(epoch_durations29) / len(epoch_durations29)\n",
        "print(f\"Average training time per epoch: {average_duration29:.2f} seconds\")\n",
        "\n",
        "######################################################################\n",
        "# Evaluate the model with test dataset\n",
        "# ------------------------------------\n",
        "\n",
        "\n",
        "_, Y_actual, Y_preds = EvaluateModel2(classifier29, loss_fn29, test_loader_imdb)\n",
        "\n",
        "print(\"\\nTest Accuracy : {:.3f}\".format(accuracy_score(Y_actual, Y_preds)))\n",
        "print(\"\\nClassification Report : \")\n",
        "print(classification_report(Y_actual, Y_preds, target_names=target_classes2))\n",
        "print(\"\\nConfusion Matrix : \")\n",
        "print(confusion_matrix(Y_actual, Y_preds))"
      ],
      "metadata": {
        "colab": {
          "base_uri": "https://localhost:8080/"
        },
        "id": "x3PSSBBv6IgS",
        "outputId": "7d11e072-c069-4c18-9154-bda71efae311"
      },
      "execution_count": 97,
      "outputs": [
        {
          "output_type": "stream",
          "name": "stdout",
          "text": [
            "\n",
            "Model:\n",
            "BiLSTM1(\n",
            "  (embedding_layer): Embedding(29065, 100)\n",
            "  (lstm): LSTM(100, 64, batch_first=True, bidirectional=True)\n",
            "  (linear): Linear(in_features=128, out_features=2, bias=True)\n",
            ")\n",
            "Total parameters:  2991750\n",
            "\n",
            "\n",
            "\n",
            "Epoch: 1\n"
          ]
        },
        {
          "output_type": "stream",
          "name": "stderr",
          "text": [
            "100%|██████████| 40/40 [00:07<00:00,  5.41it/s]\n"
          ]
        },
        {
          "output_type": "stream",
          "name": "stdout",
          "text": [
            "Train Loss : 0.688\n",
            "Epoch 1/15 - Duration: 7.39 seconds \n",
            "Epoch: 2\n"
          ]
        },
        {
          "output_type": "stream",
          "name": "stderr",
          "text": [
            "100%|██████████| 40/40 [00:07<00:00,  5.46it/s]\n"
          ]
        },
        {
          "output_type": "stream",
          "name": "stdout",
          "text": [
            "Train Loss : 0.653\n",
            "Epoch 2/15 - Duration: 7.34 seconds \n",
            "Epoch: 3\n"
          ]
        },
        {
          "output_type": "stream",
          "name": "stderr",
          "text": [
            "100%|██████████| 40/40 [00:07<00:00,  5.47it/s]\n"
          ]
        },
        {
          "output_type": "stream",
          "name": "stdout",
          "text": [
            "Train Loss : 0.618\n",
            "Epoch 3/15 - Duration: 7.32 seconds \n",
            "Epoch: 4\n"
          ]
        },
        {
          "output_type": "stream",
          "name": "stderr",
          "text": [
            "100%|██████████| 40/40 [00:07<00:00,  5.48it/s]\n"
          ]
        },
        {
          "output_type": "stream",
          "name": "stdout",
          "text": [
            "Train Loss : 0.584\n",
            "Epoch 4/15 - Duration: 7.31 seconds \n",
            "Epoch: 5\n"
          ]
        },
        {
          "output_type": "stream",
          "name": "stderr",
          "text": [
            "100%|██████████| 40/40 [00:07<00:00,  5.44it/s]\n"
          ]
        },
        {
          "output_type": "stream",
          "name": "stdout",
          "text": [
            "Train Loss : 0.546\n",
            "Epoch 5/15 - Duration: 7.35 seconds \n",
            "Epoch: 6\n"
          ]
        },
        {
          "output_type": "stream",
          "name": "stderr",
          "text": [
            "100%|██████████| 40/40 [00:07<00:00,  5.34it/s]\n"
          ]
        },
        {
          "output_type": "stream",
          "name": "stdout",
          "text": [
            "Train Loss : 0.519\n",
            "Epoch 6/15 - Duration: 7.49 seconds \n",
            "Epoch: 7\n"
          ]
        },
        {
          "output_type": "stream",
          "name": "stderr",
          "text": [
            "100%|██████████| 40/40 [00:07<00:00,  5.35it/s]\n"
          ]
        },
        {
          "output_type": "stream",
          "name": "stdout",
          "text": [
            "Train Loss : 0.500\n",
            "Epoch 7/15 - Duration: 7.48 seconds \n",
            "Epoch: 8\n"
          ]
        },
        {
          "output_type": "stream",
          "name": "stderr",
          "text": [
            "100%|██████████| 40/40 [00:07<00:00,  5.15it/s]\n"
          ]
        },
        {
          "output_type": "stream",
          "name": "stdout",
          "text": [
            "Train Loss : 0.490\n",
            "Epoch 8/15 - Duration: 7.77 seconds \n",
            "Epoch: 9\n"
          ]
        },
        {
          "output_type": "stream",
          "name": "stderr",
          "text": [
            "100%|██████████| 40/40 [00:07<00:00,  5.34it/s]\n"
          ]
        },
        {
          "output_type": "stream",
          "name": "stdout",
          "text": [
            "Train Loss : 0.486\n",
            "Epoch 9/15 - Duration: 7.50 seconds \n",
            "Epoch: 10\n"
          ]
        },
        {
          "output_type": "stream",
          "name": "stderr",
          "text": [
            "100%|██████████| 40/40 [00:07<00:00,  5.39it/s]\n"
          ]
        },
        {
          "output_type": "stream",
          "name": "stdout",
          "text": [
            "Train Loss : 0.472\n",
            "Epoch 10/15 - Duration: 7.43 seconds \n",
            "Epoch: 11\n"
          ]
        },
        {
          "output_type": "stream",
          "name": "stderr",
          "text": [
            "100%|██████████| 40/40 [00:07<00:00,  5.34it/s]\n"
          ]
        },
        {
          "output_type": "stream",
          "name": "stdout",
          "text": [
            "Train Loss : 0.457\n",
            "Epoch 11/15 - Duration: 7.49 seconds \n",
            "Epoch: 12\n"
          ]
        },
        {
          "output_type": "stream",
          "name": "stderr",
          "text": [
            "100%|██████████| 40/40 [00:07<00:00,  5.37it/s]\n"
          ]
        },
        {
          "output_type": "stream",
          "name": "stdout",
          "text": [
            "Train Loss : 0.448\n",
            "Epoch 12/15 - Duration: 7.46 seconds \n",
            "Epoch: 13\n"
          ]
        },
        {
          "output_type": "stream",
          "name": "stderr",
          "text": [
            "100%|██████████| 40/40 [00:07<00:00,  5.35it/s]\n"
          ]
        },
        {
          "output_type": "stream",
          "name": "stdout",
          "text": [
            "Train Loss : 0.440\n",
            "Epoch 13/15 - Duration: 7.49 seconds \n",
            "Epoch: 14\n"
          ]
        },
        {
          "output_type": "stream",
          "name": "stderr",
          "text": [
            "100%|██████████| 40/40 [00:07<00:00,  5.35it/s]\n"
          ]
        },
        {
          "output_type": "stream",
          "name": "stdout",
          "text": [
            "Train Loss : 0.436\n",
            "Epoch 14/15 - Duration: 7.48 seconds \n",
            "Epoch: 15\n"
          ]
        },
        {
          "output_type": "stream",
          "name": "stderr",
          "text": [
            "100%|██████████| 40/40 [00:07<00:00,  5.41it/s]\n"
          ]
        },
        {
          "output_type": "stream",
          "name": "stdout",
          "text": [
            "Train Loss : 0.427\n",
            "Epoch 15/15 - Duration: 7.39 seconds \n",
            "Average training time per epoch: 7.45 seconds\n",
            "\n",
            "Test Accuracy : 0.818\n",
            "\n",
            "Classification Report : \n",
            "              precision    recall  f1-score   support\n",
            "\n",
            "    Negative       0.87      0.74      0.80      4961\n",
            "    Positive       0.78      0.89      0.83      5039\n",
            "\n",
            "    accuracy                           0.82     10000\n",
            "   macro avg       0.82      0.82      0.82     10000\n",
            "weighted avg       0.82      0.82      0.82     10000\n",
            "\n",
            "\n",
            "Confusion Matrix : \n",
            "[[3677 1284]\n",
            " [ 541 4498]]\n"
          ]
        }
      ]
    },
    {
      "cell_type": "code",
      "source": [
        "# Usage example assuming vocab3, EMBEDDING_DIM, HIDDEN_DIM, target_classes, device, and LEARNING_RATE are defined\n",
        "classifier30 = BiLSTM2(len(vocab3), EMBEDDING_DIM, HIDDEN_DIM, len(target_classes2)).to(device)\n",
        "loss_fn30 = nn.CrossEntropyLoss().to(device)\n",
        "optimizer30 = torch.optim.Adam([param for param in classifier30.parameters() if param.requires_grad], lr=LEARNING_RATE)\n",
        "\n",
        "# Function to count parameters\n",
        "def count_parameters(model):\n",
        "    return sum(p.numel() for p in model.parameters() if p.requires_grad)\n",
        "\n",
        "print('\\nModel:')\n",
        "print(classifier30)\n",
        "print('Total parameters: ', count_parameters(classifier30))\n",
        "print('\\n\\n')\n",
        "\n",
        "epoch_durations30 = TrainModel(classifier30, loss_fn30, optimizer30, train_loader_imdb, EPOCHS)\n",
        "# Calculate and print the average duration per epoch\n",
        "average_duration30 = sum(epoch_durations30) / len(epoch_durations30)\n",
        "print(f\"Average training time per epoch: {average_duration30:.2f} seconds\")\n",
        "\n",
        "######################################################################\n",
        "# Evaluate the model with test dataset\n",
        "# ------------------------------------\n",
        "\n",
        "\n",
        "_, Y_actual, Y_preds = EvaluateModel2(classifier30, loss_fn30, test_loader_imdb)\n",
        "\n",
        "print(\"\\nTest Accuracy : {:.3f}\".format(accuracy_score(Y_actual, Y_preds)))\n",
        "print(\"\\nClassification Report : \")\n",
        "print(classification_report(Y_actual, Y_preds, target_names=target_classes2))\n",
        "print(\"\\nConfusion Matrix : \")\n",
        "print(confusion_matrix(Y_actual, Y_preds))"
      ],
      "metadata": {
        "colab": {
          "base_uri": "https://localhost:8080/"
        },
        "id": "kaKoWLfQ8ZwN",
        "outputId": "27aee956-fe80-4b66-bb63-adca369c70a8"
      },
      "execution_count": 98,
      "outputs": [
        {
          "output_type": "stream",
          "name": "stdout",
          "text": [
            "\n",
            "Model:\n",
            "BiLSTM2(\n",
            "  (embedding_layer): Embedding(29065, 100)\n",
            "  (lstm): LSTM(100, 64, num_layers=2, batch_first=True, bidirectional=True)\n",
            "  (linear): Linear(in_features=128, out_features=2, bias=True)\n",
            ")\n",
            "Total parameters:  3091078\n",
            "\n",
            "\n",
            "\n",
            "Epoch: 1\n"
          ]
        },
        {
          "output_type": "stream",
          "name": "stderr",
          "text": [
            "100%|██████████| 40/40 [00:07<00:00,  5.12it/s]\n"
          ]
        },
        {
          "output_type": "stream",
          "name": "stdout",
          "text": [
            "Train Loss : 0.682\n",
            "Epoch 1/15 - Duration: 7.82 seconds \n",
            "Epoch: 2\n"
          ]
        },
        {
          "output_type": "stream",
          "name": "stderr",
          "text": [
            "100%|██████████| 40/40 [00:07<00:00,  5.19it/s]\n"
          ]
        },
        {
          "output_type": "stream",
          "name": "stdout",
          "text": [
            "Train Loss : 0.639\n",
            "Epoch 2/15 - Duration: 7.71 seconds \n",
            "Epoch: 3\n"
          ]
        },
        {
          "output_type": "stream",
          "name": "stderr",
          "text": [
            "100%|██████████| 40/40 [00:07<00:00,  5.14it/s]\n"
          ]
        },
        {
          "output_type": "stream",
          "name": "stdout",
          "text": [
            "Train Loss : 0.607\n",
            "Epoch 3/15 - Duration: 7.79 seconds \n",
            "Epoch: 4\n"
          ]
        },
        {
          "output_type": "stream",
          "name": "stderr",
          "text": [
            "100%|██████████| 40/40 [00:07<00:00,  5.14it/s]\n"
          ]
        },
        {
          "output_type": "stream",
          "name": "stdout",
          "text": [
            "Train Loss : 0.589\n",
            "Epoch 4/15 - Duration: 7.79 seconds \n",
            "Epoch: 5\n"
          ]
        },
        {
          "output_type": "stream",
          "name": "stderr",
          "text": [
            "100%|██████████| 40/40 [00:07<00:00,  5.24it/s]\n"
          ]
        },
        {
          "output_type": "stream",
          "name": "stdout",
          "text": [
            "Train Loss : 0.598\n",
            "Epoch 5/15 - Duration: 7.65 seconds \n",
            "Epoch: 6\n"
          ]
        },
        {
          "output_type": "stream",
          "name": "stderr",
          "text": [
            "100%|██████████| 40/40 [00:07<00:00,  5.11it/s]\n"
          ]
        },
        {
          "output_type": "stream",
          "name": "stdout",
          "text": [
            "Train Loss : 0.568\n",
            "Epoch 6/15 - Duration: 7.84 seconds \n",
            "Epoch: 7\n"
          ]
        },
        {
          "output_type": "stream",
          "name": "stderr",
          "text": [
            "100%|██████████| 40/40 [00:07<00:00,  5.19it/s]\n"
          ]
        },
        {
          "output_type": "stream",
          "name": "stdout",
          "text": [
            "Train Loss : 0.708\n",
            "Epoch 7/15 - Duration: 7.71 seconds \n",
            "Epoch: 8\n"
          ]
        },
        {
          "output_type": "stream",
          "name": "stderr",
          "text": [
            "100%|██████████| 40/40 [00:07<00:00,  5.14it/s]\n"
          ]
        },
        {
          "output_type": "stream",
          "name": "stdout",
          "text": [
            "Train Loss : 0.770\n",
            "Epoch 8/15 - Duration: 7.79 seconds \n",
            "Epoch: 9\n"
          ]
        },
        {
          "output_type": "stream",
          "name": "stderr",
          "text": [
            "100%|██████████| 40/40 [00:07<00:00,  5.22it/s]\n"
          ]
        },
        {
          "output_type": "stream",
          "name": "stdout",
          "text": [
            "Train Loss : 0.736\n",
            "Epoch 9/15 - Duration: 7.66 seconds \n",
            "Epoch: 10\n"
          ]
        },
        {
          "output_type": "stream",
          "name": "stderr",
          "text": [
            "100%|██████████| 40/40 [00:07<00:00,  5.20it/s]\n"
          ]
        },
        {
          "output_type": "stream",
          "name": "stdout",
          "text": [
            "Train Loss : 0.627\n",
            "Epoch 10/15 - Duration: 7.70 seconds \n",
            "Epoch: 11\n"
          ]
        },
        {
          "output_type": "stream",
          "name": "stderr",
          "text": [
            "100%|██████████| 40/40 [00:07<00:00,  5.11it/s]\n"
          ]
        },
        {
          "output_type": "stream",
          "name": "stdout",
          "text": [
            "Train Loss : 0.569\n",
            "Epoch 11/15 - Duration: 7.84 seconds \n",
            "Epoch: 12\n"
          ]
        },
        {
          "output_type": "stream",
          "name": "stderr",
          "text": [
            "100%|██████████| 40/40 [00:07<00:00,  5.21it/s]\n"
          ]
        },
        {
          "output_type": "stream",
          "name": "stdout",
          "text": [
            "Train Loss : 0.541\n",
            "Epoch 12/15 - Duration: 7.68 seconds \n",
            "Epoch: 13\n"
          ]
        },
        {
          "output_type": "stream",
          "name": "stderr",
          "text": [
            "100%|██████████| 40/40 [00:07<00:00,  5.10it/s]\n"
          ]
        },
        {
          "output_type": "stream",
          "name": "stdout",
          "text": [
            "Train Loss : 0.526\n",
            "Epoch 13/15 - Duration: 7.85 seconds \n",
            "Epoch: 14\n"
          ]
        },
        {
          "output_type": "stream",
          "name": "stderr",
          "text": [
            "100%|██████████| 40/40 [00:07<00:00,  5.11it/s]\n"
          ]
        },
        {
          "output_type": "stream",
          "name": "stdout",
          "text": [
            "Train Loss : 0.570\n",
            "Epoch 14/15 - Duration: 7.83 seconds \n",
            "Epoch: 15\n"
          ]
        },
        {
          "output_type": "stream",
          "name": "stderr",
          "text": [
            "100%|██████████| 40/40 [00:07<00:00,  5.27it/s]\n"
          ]
        },
        {
          "output_type": "stream",
          "name": "stdout",
          "text": [
            "Train Loss : 0.518\n",
            "Epoch 15/15 - Duration: 7.59 seconds \n",
            "Average training time per epoch: 7.75 seconds\n",
            "\n",
            "Test Accuracy : 0.787\n",
            "\n",
            "Classification Report : \n",
            "              precision    recall  f1-score   support\n",
            "\n",
            "    Negative       0.77      0.82      0.79      4961\n",
            "    Positive       0.81      0.75      0.78      5039\n",
            "\n",
            "    accuracy                           0.79     10000\n",
            "   macro avg       0.79      0.79      0.79     10000\n",
            "weighted avg       0.79      0.79      0.79     10000\n",
            "\n",
            "\n",
            "Confusion Matrix : \n",
            "[[4064  897]\n",
            " [1235 3804]]\n"
          ]
        }
      ]
    },
    {
      "cell_type": "markdown",
      "source": [
        "# Results on IMDB Movie Review Dataset (MAX_WORDS=150)\n",
        "\n",
        "|  | 1RNN | 1-BiRNN | 2-BiRNN | 1LSTM | 1-BiLSTM |2-BiLSTM  |\n",
        "|:---------|:--------:|---------:|---------:|---------:|---------:|---------:|\n",
        "|  Accuracy  |0.568     |     0.665      |       0.697  |    0.605    |       0.818   |       0.787      |\n",
        "|  Parameters   |2917254  |     2928006   |      2952838 |       2949126  |    2991750|   3091078     |\n",
        "|  Time Cost(per epoch)   | 6.70 seconds|    6.95 seconds |   7.12 seconds|    4.94 seconds|   7.45 seconds |   7.75 seconds |"
      ],
      "metadata": {
        "id": "lRZ8XJrrMnkG"
      }
    },
    {
      "cell_type": "markdown",
      "source": [
        "From the table above, it can be understood that RNN faces obstacles when it has to deal with long sequences. This is proved by the very low accuracy produced by all of the RNN architectures, but especially unidirectional RNN with 1 layer.\n",
        "Unidirectional Lstm also struggles to perform well on this dataset for the same reason. On the other hand, bidirectional LSTM with one and two layers indicate increased performance. The peak accuracy was reached by unidirectional RNN with 1 layer. The extra layer might result to overfitting but it is still more robust than the unidirectional and RNN approach. LSTM accurate versions need slightly more time per epoch than RNN (almost 1 sec per epoch). Several tenths of a second difference is observed in the running time of RNN models. LSTM unidirectional is faster by 2 seconds but it produces a lot of inaccurate predictions. All of the models produce approximately 800k more parameters than the AG News Topic classification dataset. LSTMs need almost 80k more parameters than RNNs. There is almost 30k parameter differnce from the most simple version to the most complex one.  "
      ],
      "metadata": {
        "id": "XIdM1VKsNtpu"
      }
    }
  ]
}