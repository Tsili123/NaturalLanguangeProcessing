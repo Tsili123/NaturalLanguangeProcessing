{
  "nbformat": 4,
  "nbformat_minor": 0,
  "metadata": {
    "colab": {
      "provenance": []
    },
    "kernelspec": {
      "name": "python3",
      "display_name": "Python 3"
    },
    "language_info": {
      "name": "python"
    }
  },
  "cells": [
    {
      "cell_type": "markdown",
      "source": [
        "# Assignment 2 - NLP, Aris Tsilifonis mtn2323\n",
        "\n",
        "## Word Embeddings\n",
        "\n",
        "## Use pretrained word embeddings word2vec (word2vec-goole-news-300) and GloVe (glove-wiki-gigaword-300) that are included in gensim, to find similar words"
      ],
      "metadata": {
        "id": "lKwnHtLj7U_Z"
      }
    },
    {
      "cell_type": "code",
      "execution_count": null,
      "metadata": {
        "id": "HOTSchbOwVbP"
      },
      "outputs": [],
      "source": [
        "import gensim.downloader as gensimloader"
      ]
    },
    {
      "cell_type": "code",
      "source": [
        "glove = gensimloader.load(\"glove-wiki-gigaword-300\")\n",
        "word2vec =  gensimloader.load(\"word2vec-google-news-300\")"
      ],
      "metadata": {
        "colab": {
          "base_uri": "https://localhost:8080/"
        },
        "id": "JwUcXx5ywYSz",
        "outputId": "a6f32f51-b624-4fe5-a5ec-909fb61338bf"
      },
      "execution_count": null,
      "outputs": [
        {
          "output_type": "stream",
          "name": "stdout",
          "text": [
            "[==================================================] 100.0% 376.1/376.1MB downloaded\n",
            "[==================================================] 100.0% 1662.8/1662.8MB downloaded\n"
          ]
        }
      ]
    },
    {
      "cell_type": "code",
      "source": [
        "!pip install tabulate"
      ],
      "metadata": {
        "colab": {
          "base_uri": "https://localhost:8080/"
        },
        "id": "6bClO5iA0isL",
        "outputId": "b4577af4-7704-4218-c715-95581f566fee"
      },
      "execution_count": null,
      "outputs": [
        {
          "output_type": "stream",
          "name": "stdout",
          "text": [
            "Requirement already satisfied: tabulate in /usr/local/lib/python3.10/dist-packages (0.9.0)\n"
          ]
        }
      ]
    },
    {
      "cell_type": "code",
      "source": [
        "from tabulate import tabulate\n",
        "\n",
        "def find_top10_similar_words(pretmodels, keywords, num_results, use_analogy=False, negative=None, positive=None):\n",
        "\n",
        "    # Validate optional arguments\n",
        "    if positive is None:\n",
        "        positive = []\n",
        "    if negative is None:\n",
        "        negative = []\n",
        "\n",
        "    all_similar_words = []\n",
        "\n",
        "    # Iterate over each model provided\n",
        "    for model_id, model_type in pretmodels.items():\n",
        "        # Initialize data structure to hold similarity results for all keywords\n",
        "        keyword_similarities = {keyword: [] for keyword in keywords}\n",
        "\n",
        "        # Process each keyword to find similar words\n",
        "        for keyword in keywords:\n",
        "            if use_analogy == False:\n",
        "              additional_terms = [keyword]\n",
        "            else:\n",
        "              additional_terms = []\n",
        "\n",
        "             # Check if model contains necessary terms\n",
        "            terms_to_check = positive + negative + additional_terms\n",
        "            missing_terms = [term for term in terms_to_check if term not in model_type.key_to_index]\n",
        "\n",
        "            if not missing_terms:\n",
        "                # Retrieve similarities if all terms are present\n",
        "                similarities = model_type.most_similar(topn=num_results, positive=positive + additional_terms, negative=negative)\n",
        "                keyword_similarities[keyword] = [f\"{word}= {score:.5f}\" for word, score in similarities]\n",
        "            else:\n",
        "                # Assign \"No Answer\" if any term is missing\n",
        "                keyword_similarities[keyword] = [\"No Answer\"] * num_results\n",
        "\n",
        "\n",
        "        # Prepare data for tabulating\n",
        "        formatted_table = []\n",
        "        for i in range(num_results):\n",
        "            row = [keyword_similarities[keyword][i] for keyword in keywords]\n",
        "            formatted_table.append(row)\n",
        "\n",
        "        # Display the model name and the formatted table\n",
        "        print(f\"{model_id} model's table:\")\n",
        "        print(tabulate(formatted_table, headers=keywords, tablefmt='fancy_grid', numalign=\"left\", stralign=\"left\"))\n",
        "\n",
        "        # Store only the words (not the scores) for further use\n",
        "        all_similar_words.append([[(lambda x: x.strip().split('=')[0] if '=' in x else \"No Answer\")(result) for result in results]\n",
        "        for keyword, results in keyword_similarities.items()])\n",
        "\n",
        "\n",
        "    return all_similar_words\n",
        "\n",
        "# Example usage\n",
        "models_to_check = {'GloVe': glove, 'Word2vec': word2vec}\n",
        "top10_similar_words = find_top10_similar_words(models_to_check,['facebook', 'jaguar', 'Jaguar', 'car'], 10)\n"
      ],
      "metadata": {
        "colab": {
          "base_uri": "https://localhost:8080/"
        },
        "id": "3CaVEMoV16m2",
        "outputId": "a670647a-6438-45da-d758-2d7b409944b1"
      },
      "execution_count": null,
      "outputs": [
        {
          "output_type": "stream",
          "name": "stdout",
          "text": [
            "GloVe model's table:\n",
            "╒═════════════════════╤═══════════════════╤═══════════╤═════════════════════╕\n",
            "│ facebook            │ jaguar            │ Jaguar    │ car                 │\n",
            "╞═════════════════════╪═══════════════════╪═══════════╪═════════════════════╡\n",
            "│ twitter= 0.83497    │ rover= 0.59313    │ No Answer │ cars= 0.78272       │\n",
            "├─────────────────────┼───────────────────┼───────────┼─────────────────────┤\n",
            "│ myspace= 0.80559    │ bmw= 0.54151      │ No Answer │ vehicle= 0.76554    │\n",
            "├─────────────────────┼───────────────────┼───────────┼─────────────────────┤\n",
            "│ youtube= 0.72918    │ mercedes= 0.52557 │ No Answer │ truck= 0.73506      │\n",
            "├─────────────────────┼───────────────────┼───────────┼─────────────────────┤\n",
            "│ blog= 0.64036       │ sepecat= 0.50300  │ No Answer │ driver= 0.71148     │\n",
            "├─────────────────────┼───────────────────┼───────────┼─────────────────────┤\n",
            "│ linkedin= 0.63325   │ mustang= 0.49867  │ No Answer │ driving= 0.64422    │\n",
            "├─────────────────────┼───────────────────┼───────────┼─────────────────────┤\n",
            "│ google= 0.62681     │ lexus= 0.48446    │ No Answer │ vehicles= 0.63280   │\n",
            "├─────────────────────┼───────────────────┼───────────┼─────────────────────┤\n",
            "│ website= 0.61573    │ volvo= 0.48287    │ No Answer │ motorcycle= 0.60225 │\n",
            "├─────────────────────┼───────────────────┼───────────┼─────────────────────┤\n",
            "│ web= 0.61432        │ cosworth= 0.48092 │ No Answer │ automobile= 0.59557 │\n",
            "├─────────────────────┼───────────────────┼───────────┼─────────────────────┤\n",
            "│ blogs= 0.60640      │ xk= 0.47640       │ No Answer │ parked= 0.59100     │\n",
            "├─────────────────────┼───────────────────┼───────────┼─────────────────────┤\n",
            "│ networking= 0.60474 │ maserati= 0.47566 │ No Answer │ drivers= 0.57784    │\n",
            "╘═════════════════════╧═══════════════════╧═══════════╧═════════════════════╛\n",
            "Word2vec model's table:\n",
            "╒═══════════════════════════╤══════════════════════════╤═════════════════════════╤═══════════════════════╕\n",
            "│ facebook                  │ jaguar                   │ Jaguar                  │ car                   │\n",
            "╞═══════════════════════════╪══════════════════════════╪═════════════════════════╪═══════════════════════╡\n",
            "│ Facebook= 0.75635         │ jaguars= 0.67384         │ Land_Rover= 0.64839     │ vehicle= 0.78211      │\n",
            "├───────────────────────────┼──────────────────────────┼─────────────────────────┼───────────────────────┤\n",
            "│ FaceBook= 0.70770         │ Macho_B= 0.63131         │ Aston_Martin= 0.64367   │ cars= 0.74238         │\n",
            "├───────────────────────────┼──────────────────────────┼─────────────────────────┼───────────────────────┤\n",
            "│ twitter= 0.69886          │ panther= 0.60863         │ Mercedes= 0.64196       │ SUV= 0.71610          │\n",
            "├───────────────────────────┼──────────────────────────┼─────────────────────────┼───────────────────────┤\n",
            "│ myspace= 0.69418          │ lynx= 0.58146            │ Porsche= 0.62330        │ minivan= 0.69070      │\n",
            "├───────────────────────────┼──────────────────────────┼─────────────────────────┼───────────────────────┤\n",
            "│ Twitter= 0.66424          │ rhino= 0.57543           │ BMW= 0.60554            │ truck= 0.67358        │\n",
            "├───────────────────────────┼──────────────────────────┼─────────────────────────┼───────────────────────┤\n",
            "│ twitter_facebook= 0.65722 │ lizard= 0.56069          │ Bentley_Arnage= 0.60400 │ Car= 0.66776          │\n",
            "├───────────────────────────┼──────────────────────────┼─────────────────────────┼───────────────────────┤\n",
            "│ Facebook.com= 0.65299     │ tapir= 0.55631           │ XF_sedan= 0.59956       │ Ford_Focus= 0.66732   │\n",
            "├───────────────────────────┼──────────────────────────┼─────────────────────────┼───────────────────────┤\n",
            "│ myspace_facebook= 0.63706 │ tiger= 0.55287           │ Audi= 0.59755           │ Honda_Civic= 0.66268  │\n",
            "├───────────────────────────┼──────────────────────────┼─────────────────────────┼───────────────────────┤\n",
            "│ facebook_twitter= 0.63676 │ leopard= 0.54729         │ Jaguar_XF= 0.59509      │ Jeep= 0.65113         │\n",
            "├───────────────────────────┼──────────────────────────┼─────────────────────────┼───────────────────────┤\n",
            "│ linkedin= 0.63566         │ Florida_panther= 0.54641 │ XJ_saloon= 0.59416      │ pickup_truck= 0.64414 │\n",
            "╘═══════════════════════════╧══════════════════════════╧═════════════════════════╧═══════════════════════╛\n"
          ]
        }
      ]
    },
    {
      "cell_type": "markdown",
      "source": [
        "## The tables above show the 10 most similar words of the given words \"facebook\",\"jaguar\",\"Jaguar\",\"car\". The similar words are ranked based on their similarity score produced by GloVe and word2vec models. On this experiment only the keyword is used to determine similarity. Positive and negative context words and analogies are not utilised. GloVe shows \"twitter\" , \"myspace\" as most similar words for \"facebook\" while word2vec \"Facebook\", \"FaceBook\". GloVe's scores are higher than word2vec's ones for the top-2 most simlar words. It can be understood that GloVe can capture similar words that are sigificantly not related to the original keyword. On the other hand, word2vec finds as most similar word to \"facebook\" words that are highly related to the original keyword. The way that those models were trained has great influence on the similarity outcome. Those small differentiations( only some capital letters) can play a critical role on several situations and can be very important."
      ],
      "metadata": {
        "id": "vdp87Quz_TRa"
      }
    },
    {
      "cell_type": "code",
      "source": [
        "print(top10_similar_words)"
      ],
      "metadata": {
        "colab": {
          "base_uri": "https://localhost:8080/"
        },
        "id": "uMNNR9vTDQvR",
        "outputId": "3c62640a-9091-4c3d-c6a0-1d30132e64cd"
      },
      "execution_count": null,
      "outputs": [
        {
          "output_type": "stream",
          "name": "stdout",
          "text": [
            "[[['twitter', 'myspace', 'youtube', 'blog', 'linkedin', 'google', 'website', 'web', 'blogs', 'networking'], ['rover', 'bmw', 'mercedes', 'sepecat', 'mustang', 'lexus', 'volvo', 'cosworth', 'xk', 'maserati'], ['No Answer', 'No Answer', 'No Answer', 'No Answer', 'No Answer', 'No Answer', 'No Answer', 'No Answer', 'No Answer', 'No Answer'], ['cars', 'vehicle', 'truck', 'driver', 'driving', 'vehicles', 'motorcycle', 'automobile', 'parked', 'drivers']], [['Facebook', 'FaceBook', 'twitter', 'myspace', 'Twitter', 'twitter_facebook', 'Facebook.com', 'myspace_facebook', 'facebook_twitter', 'linkedin'], ['jaguars', 'Macho_B', 'panther', 'lynx', 'rhino', 'lizard', 'tapir', 'tiger', 'leopard', 'Florida_panther'], ['Land_Rover', 'Aston_Martin', 'Mercedes', 'Porsche', 'BMW', 'Bentley_Arnage', 'XF_sedan', 'Audi', 'Jaguar_XF', 'XJ_saloon'], ['vehicle', 'cars', 'SUV', 'minivan', 'truck', 'Car', 'Ford_Focus', 'Honda_Civic', 'Jeep', 'pickup_truck']]]\n"
          ]
        }
      ]
    },
    {
      "cell_type": "markdown",
      "source": [
        "# Find Common Words of GloVe and word2vec models in all of the collections that were produced previously"
      ],
      "metadata": {
        "id": "fpF6e8SBD0wS"
      }
    },
    {
      "cell_type": "code",
      "source": [
        "def find_common_words(all_similar_words, keywords):\n",
        "    # Dictionary to hold common words for each keyword\n",
        "    common_words_per_keyword = {keyword: [] for keyword in keywords}\n",
        "\n",
        "    # Compare results for each keyword across models\n",
        "    for keyword_index, keyword in enumerate(keywords):\n",
        "        # Collect all lists of words for this keyword from different models\n",
        "        lists_of_words = [model_results[keyword_index] for model_results in all_similar_words]\n",
        "\n",
        "        # Find the intersection of all lists to get the common words\n",
        "        common_words = set(lists_of_words[0])\n",
        "        for words in lists_of_words[1:]:\n",
        "            common_words.intersection_update(words)\n",
        "\n",
        "        # Store the common words in the dictionary\n",
        "        common_words_per_keyword[keyword] = list(common_words)\n",
        "\n",
        "    return common_words_per_keyword\n",
        "\n",
        "common_words = find_common_words(top10_similar_words, ['facebook', 'jaguar', 'Jaguar', 'car'])\n",
        "\n",
        "# Print common words for each keyword\n",
        "for keyword, words in common_words.items():\n",
        "    print(f\"Common words for '{keyword}': {words}\")\n"
      ],
      "metadata": {
        "colab": {
          "base_uri": "https://localhost:8080/"
        },
        "id": "LAeDfGwmghjv",
        "outputId": "fde20f11-339a-42b7-e9ef-c696e3aedba7"
      },
      "execution_count": null,
      "outputs": [
        {
          "output_type": "stream",
          "name": "stdout",
          "text": [
            "Common words for 'facebook': ['twitter', 'myspace', 'linkedin']\n",
            "Common words for 'jaguar': []\n",
            "Common words for 'Jaguar': []\n",
            "Common words for 'car': ['vehicle', 'cars', 'truck']\n"
          ]
        }
      ]
    },
    {
      "cell_type": "markdown",
      "source": [
        "# Find similarity of words choosed by the user\n",
        "\n",
        "## These words are based on \"Game of thrones\" TV-series. It can be observed that \"weapon\" produce accurate similaries on both of the models. \"Hilt\" does not produce any similarities in GloVe. This word starts with capital letter, so word2vec finds some names that are related in some way with it. This showcases some deficiencies of GloVe's pretrained embeddings(maybe this word was not included in the original train dataset). Regarding \"hilt\" word, GloVe is producing more similar words that word2vec. We drew this conclusion by understanding the meaning of the words, since sword is more related to hilt than shamelessly(logically). Stark is a character in GoT series  but it can have other meanings too. Both models capture some reasonable similarity."
      ],
      "metadata": {
        "id": "7IDAU7LWFybR"
      }
    },
    {
      "cell_type": "code",
      "source": [
        "top10_similar_words2 = find_top10_similar_words(models_to_check ,['hilt', 'Hilt', 'weapon', 'stark'], 10)"
      ],
      "metadata": {
        "colab": {
          "base_uri": "https://localhost:8080/"
        },
        "id": "ysUa09qKu47H",
        "outputId": "a074eab3-d051-4c93-894f-833c43943f38"
      },
      "execution_count": null,
      "outputs": [
        {
          "output_type": "stream",
          "name": "stdout",
          "text": [
            "GloVe model's table:\n",
            "╒═════════════════════╤═══════════╤═════════════════════╤════════════════════╕\n",
            "│ hilt                │ Hilt      │ weapon              │ stark              │\n",
            "╞═════════════════════╪═══════════╪═════════════════════╪════════════════════╡\n",
            "│ scabbard= 0.52840   │ No Answer │ weapons= 0.75726    │ starkly= 0.52564   │\n",
            "├─────────────────────┼───────────┼─────────────────────┼────────────────────┤\n",
            "│ sword= 0.47779      │ No Answer │ weaponry= 0.58211   │ reminder= 0.51579  │\n",
            "├─────────────────────┼───────────┼─────────────────────┼────────────────────┤\n",
            "│ blade= 0.39571      │ No Answer │ gun= 0.57787        │ contrast= 0.50670  │\n",
            "├─────────────────────┼───────────┼─────────────────────┼────────────────────┤\n",
            "│ bayonet= 0.37399    │ No Answer │ firearm= 0.55671    │ grim= 0.48120      │\n",
            "├─────────────────────┼───────────┼─────────────────────┼────────────────────┤\n",
            "│ bladed= 0.37329     │ No Answer │ ammunition= 0.53071 │ contrasts= 0.47736 │\n",
            "├─────────────────────┼───────────┼─────────────────────┼────────────────────┤\n",
            "│ sheath= 0.36531     │ No Answer │ nuclear= 0.52720    │ backdrop= 0.46221  │\n",
            "├─────────────────────┼───────────┼─────────────────────┼────────────────────┤\n",
            "│ swords= 0.35698     │ No Answer │ guns= 0.51561       │ bleak= 0.42954     │\n",
            "├─────────────────────┼───────────┼─────────────────────┼────────────────────┤\n",
            "│ overplayed= 0.35638 │ No Answer │ assault= 0.51076    │ vivid= 0.42689     │\n",
            "├─────────────────────┼───────────┼─────────────────────┼────────────────────┤\n",
            "│ sheathed= 0.35513   │ No Answer │ possessing= 0.50293 │ sobering= 0.42166  │\n",
            "├─────────────────────┼───────────┼─────────────────────┼────────────────────┤\n",
            "│ falchion= 0.35465   │ No Answer │ pistol= 0.50205     │ fortney= 0.40849   │\n",
            "╘═════════════════════╧═══════════╧═════════════════════╧════════════════════╛\n",
            "Word2vec model's table:\n",
            "╒════════════════════════╤══════════════════════╤══════════════════════════════════╤════════════════════╕\n",
            "│ hilt                   │ Hilt                 │ weapon                           │ stark              │\n",
            "╞════════════════════════╪══════════════════════╪══════════════════════════════════╪════════════════════╡\n",
            "│ shamelessly= 0.50236   │ Malicoat= 0.57596    │ weapons= 0.73095                 │ starkest= 0.70140  │\n",
            "├────────────────────────┼──────────────────────┼──────────────────────────────────┼────────────────────┤\n",
            "│ ably= 0.46847          │ Friemoth= 0.56441    │ firearm= 0.61677                 │ starkly= 0.68692   │\n",
            "├────────────────────────┼──────────────────────┼──────────────────────────────────┼────────────────────┤\n",
            "│ cannily= 0.43461       │ Brinkmeier= 0.55596  │ gun= 0.61432                     │ starker= 0.66916   │\n",
            "├────────────────────────┼──────────────────────┼──────────────────────────────────┼────────────────────┤\n",
            "│ shrewdly= 0.43447      │ Zapzalka= 0.55592    │ pistol= 0.59638                  │ startling= 0.61278 │\n",
            "├────────────────────────┼──────────────────────┼──────────────────────────────────┼────────────────────┤\n",
            "│ skilfully= 0.43136     │ Harbst= 0.54729      │ handgun= 0.59037                 │ sobering= 0.60689  │\n",
            "├────────────────────────┼──────────────────────┼──────────────────────────────────┼────────────────────┤\n",
            "│ sensibly= 0.42877      │ Mefferd= 0.54640     │ weaponry= 0.58133                │ grim= 0.59389      │\n",
            "├────────────────────────┼──────────────────────┼──────────────────────────────────┼────────────────────┤\n",
            "│ nth_degree= 0.41829    │ Tegethoff= 0.54564   │ guns= 0.55890                    │ bleak= 0.54980     │\n",
            "├────────────────────────┼──────────────────────┼──────────────────────────────────┼────────────────────┤\n",
            "│ gusto= 0.41598         │ Mothershead= 0.54501 │ double_barreled_shotgun= 0.55513 │ chilling= 0.53918  │\n",
            "├────────────────────────┼──────────────────────┼──────────────────────────────────┼────────────────────┤\n",
            "│ magnificently= 0.41459 │ Gahimer= 0.54450     │ .###_magnum_revolver= 0.54925    │ vivid= 0.53358     │\n",
            "├────────────────────────┼──────────────────────┼──────────────────────────────────┼────────────────────┤\n",
            "│ gleefully= 0.41323     │ Longcor= 0.54345     │ wea_pons= 0.54856                │ starkness= 0.53081 │\n",
            "╘════════════════════════╧══════════════════════╧══════════════════════════════════╧════════════════════╛\n"
          ]
        }
      ]
    },
    {
      "cell_type": "markdown",
      "source": [
        "## Find common words on this occasion"
      ],
      "metadata": {
        "id": "CvZzhTahManr"
      }
    },
    {
      "cell_type": "code",
      "source": [
        "common_words2 = find_common_words(top10_similar_words2, ['hilt', 'Hilt', 'weapon', 'stark'])\n",
        "\n",
        "# Print common words for each keyword\n",
        "for keyword, words in common_words2.items():\n",
        "    print(f\"Common words for '{keyword}': {words}\")\n"
      ],
      "metadata": {
        "colab": {
          "base_uri": "https://localhost:8080/"
        },
        "id": "yEe2SDl1x56n",
        "outputId": "ff3cb9c9-0532-4037-f519-58693ece56d0"
      },
      "execution_count": null,
      "outputs": [
        {
          "output_type": "stream",
          "name": "stdout",
          "text": [
            "Common words for 'hilt': []\n",
            "Common words for 'Hilt': []\n",
            "Common words for 'weapon': ['weapons', 'pistol', 'firearm', 'guns', 'gun', 'weaponry']\n",
            "Common words for 'stark': ['bleak', 'vivid', 'sobering', 'starkly', 'grim']\n"
          ]
        }
      ]
    },
    {
      "cell_type": "markdown",
      "source": [
        "## Find the 10 most closely related words to \"student\""
      ],
      "metadata": {
        "id": "LDxGkS13N-zI"
      }
    },
    {
      "cell_type": "code",
      "source": [
        "top10_similar_words3 = find_top10_similar_words(models_to_check, ['student'], 10)"
      ],
      "metadata": {
        "colab": {
          "base_uri": "https://localhost:8080/"
        },
        "id": "Le5sY6-KyvU9",
        "outputId": "01b08eee-796d-4ddb-b120-a8061e45fc80"
      },
      "execution_count": null,
      "outputs": [
        {
          "output_type": "stream",
          "name": "stdout",
          "text": [
            "GloVe model's table:\n",
            "╒════════════════════════╕\n",
            "│ student                │\n",
            "╞════════════════════════╡\n",
            "│ students= 0.76909      │\n",
            "├────────────────────────┤\n",
            "│ teacher= 0.68737       │\n",
            "├────────────────────────┤\n",
            "│ graduate= 0.67376      │\n",
            "├────────────────────────┤\n",
            "│ school= 0.61306        │\n",
            "├────────────────────────┤\n",
            "│ college= 0.60903       │\n",
            "├────────────────────────┤\n",
            "│ undergraduate= 0.60438 │\n",
            "├────────────────────────┤\n",
            "│ faculty= 0.59990       │\n",
            "├────────────────────────┤\n",
            "│ university= 0.59705    │\n",
            "├────────────────────────┤\n",
            "│ academic= 0.58101      │\n",
            "├────────────────────────┤\n",
            "│ campus= 0.57677        │\n",
            "╘════════════════════════╛\n",
            "Word2vec model's table:\n",
            "╒═════════════════════════╕\n",
            "│ student                 │\n",
            "╞═════════════════════════╡\n",
            "│ students= 0.72949       │\n",
            "├─────────────────────────┤\n",
            "│ Student= 0.67067        │\n",
            "├─────────────────────────┤\n",
            "│ teacher= 0.63014        │\n",
            "├─────────────────────────┤\n",
            "│ stu_dent= 0.62410       │\n",
            "├─────────────────────────┤\n",
            "│ faculty= 0.60873        │\n",
            "├─────────────────────────┤\n",
            "│ school= 0.60556         │\n",
            "├─────────────────────────┤\n",
            "│ undergraduate= 0.60203  │\n",
            "├─────────────────────────┤\n",
            "│ university= 0.60054     │\n",
            "├─────────────────────────┤\n",
            "│ undergraduates= 0.57557 │\n",
            "├─────────────────────────┤\n",
            "│ semester= 0.57376       │\n",
            "╘═════════════════════════╛\n"
          ]
        }
      ]
    },
    {
      "cell_type": "markdown",
      "source": [
        "The common words of those two collections"
      ],
      "metadata": {
        "id": "U7ZEb9TjOZ3i"
      }
    },
    {
      "cell_type": "code",
      "source": [
        "common_words3 = find_common_words(top10_similar_words3, ['student'])\n",
        "\n",
        "# Print common words for each keyword\n",
        "for keyword, words in common_words3.items():\n",
        "    print(f\"Common words for '{keyword}': {words}\")"
      ],
      "metadata": {
        "colab": {
          "base_uri": "https://localhost:8080/"
        },
        "id": "h1DY_1se1A5u",
        "outputId": "9f6eee37-9e1a-4b94-cc95-a69b51f69b76"
      },
      "execution_count": null,
      "outputs": [
        {
          "output_type": "stream",
          "name": "stdout",
          "text": [
            "Common words for 'student': ['teacher', 'school', 'university', 'undergraduate', 'students', 'faculty']\n"
          ]
        }
      ]
    },
    {
      "cell_type": "markdown",
      "source": [
        "Find the top 10 similar words of \"student\". They should not be related to word \"university\""
      ],
      "metadata": {
        "id": "zwniHivKOime"
      }
    },
    {
      "cell_type": "code",
      "source": [
        "top10_similar_words4 = find_top10_similar_words(models_to_check, ['student'], 10, negative=['university'])"
      ],
      "metadata": {
        "colab": {
          "base_uri": "https://localhost:8080/"
        },
        "id": "smzm64Vu5IZ7",
        "outputId": "8615d3eb-0dff-4147-b6d4-1d9100430355"
      },
      "execution_count": null,
      "outputs": [
        {
          "output_type": "stream",
          "name": "stdout",
          "text": [
            "GloVe model's table:\n",
            "╒══════════════════════╕\n",
            "│ student              │\n",
            "╞══════════════════════╡\n",
            "│ 15-year= 0.38301     │\n",
            "├──────────────────────┤\n",
            "│ 16-year= 0.38149     │\n",
            "├──────────────────────┤\n",
            "│ 17-year= 0.37853     │\n",
            "├──────────────────────┤\n",
            "│ 14-year= 0.37658     │\n",
            "├──────────────────────┤\n",
            "│ 13-year-old= 0.37302 │\n",
            "├──────────────────────┤\n",
            "│ 14-year-old= 0.36760 │\n",
            "├──────────────────────┤\n",
            "│ 9-year= 0.36668      │\n",
            "├──────────────────────┤\n",
            "│ 16-year-old= 0.36154 │\n",
            "├──────────────────────┤\n",
            "│ 15-year-old= 0.35097 │\n",
            "├──────────────────────┤\n",
            "│ 12-year-old= 0.34897 │\n",
            "╘══════════════════════╛\n",
            "Word2vec model's table:\n",
            "╒══════════════════════════╕\n",
            "│ student                  │\n",
            "╞══════════════════════════╡\n",
            "│ sixth_grader= 0.43236    │\n",
            "├──────────────────────────┤\n",
            "│ seventh_grader= 0.41784  │\n",
            "├──────────────────────────┤\n",
            "│ 8th_grader= 0.41733      │\n",
            "├──────────────────────────┤\n",
            "│ eighth_grader= 0.40815   │\n",
            "├──────────────────────────┤\n",
            "│ grader= 0.39714          │\n",
            "├──────────────────────────┤\n",
            "│ kindergartner= 0.39181   │\n",
            "├──────────────────────────┤\n",
            "│ kindergartener= 0.37769  │\n",
            "├──────────────────────────┤\n",
            "│ Kindergartner= 0.35654   │\n",
            "├──────────────────────────┤\n",
            "│ teen= 0.34697            │\n",
            "├──────────────────────────┤\n",
            "│ middle_schooler= 0.33836 │\n",
            "╘══════════════════════════╛\n"
          ]
        }
      ]
    },
    {
      "cell_type": "markdown",
      "source": [
        "## We observe that the two collections produced by the models are completely different. On the other hand, the results are reasonable. All of the words are related to \"student\" and not to \"university\". For instance, Mario_Anzuoni is a a professional photographer (word produced by GloVe). It has to be noted that most of the produced words are not very well known."
      ],
      "metadata": {
        "id": "TSI__zzePi2F"
      }
    },
    {
      "cell_type": "code",
      "source": [
        "common_words4 = find_common_words(top10_similar_words4, ['student'])\n",
        "\n",
        "# Print common words for each keyword\n",
        "for keyword, words in common_words4.items():\n",
        "    print(f\"Common words for '{keyword}': {words}, not correlated with 'university'\")"
      ],
      "metadata": {
        "colab": {
          "base_uri": "https://localhost:8080/"
        },
        "id": "R3yc8LqS6V2c",
        "outputId": "e3e4302f-68dc-4297-9409-09684f0d60a2"
      },
      "execution_count": null,
      "outputs": [
        {
          "output_type": "stream",
          "name": "stdout",
          "text": [
            "Common words for 'student': [], not correlated with 'university'\n"
          ]
        }
      ]
    },
    {
      "cell_type": "markdown",
      "source": [
        "On this occasion, we want to find students do not belong in elementary, secondary of higher education. The outcome is deemed reasonable since all of the retrieved words are mostly people who are not related to those stages of education currently."
      ],
      "metadata": {
        "id": "HdKG1JudQwYH"
      }
    },
    {
      "cell_type": "code",
      "source": [
        "models_to_check2 = {'Word2vec': word2vec}\n",
        "\n",
        "top2_similar_words5 = find_top10_similar_words(models_to_check2 , ['student'], 10, negative=['elementary','secondary','high'])"
      ],
      "metadata": {
        "colab": {
          "base_uri": "https://localhost:8080/"
        },
        "id": "VXdl1xJt6TMK",
        "outputId": "25eb634f-73da-4e11-f6ae-244a35d495fb"
      },
      "execution_count": null,
      "outputs": [
        {
          "output_type": "stream",
          "name": "stdout",
          "text": [
            "Word2vec model's table:\n",
            "╒══════════════════════════════════════════════════════════════════════════╕\n",
            "│ student                                                                  │\n",
            "╞══════════════════════════════════════════════════════════════════════════╡\n",
            "│ ----------_-----------------------------------------------_GS##= 0.33800 │\n",
            "├──────────────────────────────────────────────────────────────────────────┤\n",
            "│ K.Kahne_###-###= 0.28100                                                 │\n",
            "├──────────────────────────────────────────────────────────────────────────┤\n",
            "│ Email_info@steelcloud.com= 0.27543                                       │\n",
            "├──────────────────────────────────────────────────────────────────────────┤\n",
            "│ Obiter_Dicta= 0.25279                                                    │\n",
            "├──────────────────────────────────────────────────────────────────────────┤\n",
            "│ Mario_Anzuoni_REUTERS= 0.24803                                           │\n",
            "├──────────────────────────────────────────────────────────────────────────┤\n",
            "│ Hannsen= 0.24555                                                         │\n",
            "├──────────────────────────────────────────────────────────────────────────┤\n",
            "│ By_STEVE_MATTHIES= 0.24404                                               │\n",
            "├──────────────────────────────────────────────────────────────────────────┤\n",
            "│ ***_VIDEO_PROVIDED= 0.24321                                              │\n",
            "├──────────────────────────────────────────────────────────────────────────┤\n",
            "│ Picture_JUSTIN_SANSON= 0.24190                                           │\n",
            "├──────────────────────────────────────────────────────────────────────────┤\n",
            "│ M.Kenseth_###-###= 0.24036                                               │\n",
            "╘══════════════════════════════════════════════════════════════════════════╛\n"
          ]
        }
      ]
    },
    {
      "cell_type": "code",
      "source": [
        "models_to_check3 = {'GloVe': glove}\n",
        "\n",
        "top2_similar_words6 = find_top10_similar_words(models_to_check3 , ['student'], 10, negative=['elementary','secondary','high'])"
      ],
      "metadata": {
        "colab": {
          "base_uri": "https://localhost:8080/"
        },
        "id": "qq4D7Wt3TF30",
        "outputId": "c0df7a15-55d8-4e7a-e607-f80670f311b4"
      },
      "execution_count": null,
      "outputs": [
        {
          "output_type": "stream",
          "name": "stdout",
          "text": [
            "GloVe model's table:\n",
            "╒══════════════════════╕\n",
            "│ student              │\n",
            "╞══════════════════════╡\n",
            "│ farzaneh= 0.38185    │\n",
            "├──────────────────────┤\n",
            "│ n-noreaga= 0.36106   │\n",
            "├──────────────────────┤\n",
            "│ kartel= 0.35846      │\n",
            "├──────────────────────┤\n",
            "│ pitambar= 0.35844    │\n",
            "├──────────────────────┤\n",
            "│ mixologist= 0.35170  │\n",
            "├──────────────────────┤\n",
            "│ zachariadis= 0.35007 │\n",
            "├──────────────────────┤\n",
            "│ miyachi= 0.34684     │\n",
            "├──────────────────────┤\n",
            "│ him/herself= 0.34590 │\n",
            "├──────────────────────┤\n",
            "│ mohmmed= 0.34185     │\n",
            "├──────────────────────┤\n",
            "│ mavado= 0.34027      │\n",
            "╘══════════════════════╛\n"
          ]
        }
      ]
    },
    {
      "cell_type": "markdown",
      "source": [
        "## Missing words in analogies\n",
        "\n",
        "To solve analogies of this kind, we pass the analogy as a list to the model, while identifying the positive and negative context words. We aim to discover a word that bears the same relation to 'woman' as 'man' does to 'king'.\n",
        "We leave out 'man' from this list since we intend to find a replacement for it."
      ],
      "metadata": {
        "id": "h2c9H_GnSE-q"
      }
    },
    {
      "cell_type": "code",
      "source": [
        "top2_similar_words7 = find_top10_similar_words(models_to_check2, ['king - man + woman'], 2, negative=['man'], positive=['king','woman'], use_analogy=True)"
      ],
      "metadata": {
        "colab": {
          "base_uri": "https://localhost:8080/"
        },
        "id": "eFtUBAj1X8ol",
        "outputId": "7ca0a32d-d8dd-4f8d-c6e4-d3eb662fa2a2"
      },
      "execution_count": null,
      "outputs": [
        {
          "output_type": "stream",
          "name": "stdout",
          "text": [
            "Word2vec model's table:\n",
            "╒══════════════════════╕\n",
            "│ king - man + woman   │\n",
            "╞══════════════════════╡\n",
            "│ queen= 0.71182       │\n",
            "├──────────────────────┤\n",
            "│ monarch= 0.61897     │\n",
            "╘══════════════════════╛\n"
          ]
        }
      ]
    },
    {
      "cell_type": "code",
      "source": [
        "top2_similar_words8 = find_top10_similar_words(models_to_check3, ['king - man + woman'], 2, negative=['man'], positive=['king','woman'], use_analogy=True)"
      ],
      "metadata": {
        "colab": {
          "base_uri": "https://localhost:8080/"
        },
        "id": "uNCDI0WuYnjJ",
        "outputId": "5235687c-3567-4104-c9f5-2266cc87b794"
      },
      "execution_count": null,
      "outputs": [
        {
          "output_type": "stream",
          "name": "stdout",
          "text": [
            "GloVe model's table:\n",
            "╒══════════════════════╕\n",
            "│ king - man + woman   │\n",
            "╞══════════════════════╡\n",
            "│ queen= 0.67133       │\n",
            "├──────────────────────┤\n",
            "│ princess= 0.54326    │\n",
            "╘══════════════════════╛\n"
          ]
        }
      ]
    },
    {
      "cell_type": "markdown",
      "source": [
        "Man is related to the king as woman is to whom? The reasonable output is queen, which is produced by both of the models. Argument use_analogy is defined as True because this plays a role in which terms we will check."
      ],
      "metadata": {
        "id": "Bf6k5kqHUDN_"
      }
    },
    {
      "cell_type": "code",
      "source": [
        "top2_similar_words9 = find_top10_similar_words(models_to_check2, ['France - Paris + Tokyo'], 2, negative=['Paris'], positive=['France','Tokyo'], use_analogy=True)"
      ],
      "metadata": {
        "colab": {
          "base_uri": "https://localhost:8080/"
        },
        "id": "8KnkF1xAYyoO",
        "outputId": "b93b5a53-3bea-4603-d678-00ec3f091138"
      },
      "execution_count": null,
      "outputs": [
        {
          "output_type": "stream",
          "name": "stdout",
          "text": [
            "Word2vec model's table:\n",
            "╒══════════════════════════╕\n",
            "│ France - Paris + Tokyo   │\n",
            "╞══════════════════════════╡\n",
            "│ Japan= 0.81678           │\n",
            "├──────────────────────────┤\n",
            "│ Japanese= 0.64809        │\n",
            "╘══════════════════════════╛\n"
          ]
        }
      ]
    },
    {
      "cell_type": "code",
      "source": [
        "top2_similar_words10 = find_top10_similar_words(models_to_check3, ['France - Paris + Tokyo'], 2, negative=['Paris'], positive=['France','Tokyo'], use_analogy=True)"
      ],
      "metadata": {
        "colab": {
          "base_uri": "https://localhost:8080/"
        },
        "id": "GIgeDYNWZdQ1",
        "outputId": "09faf967-7233-4867-80b1-cc90c812cf21"
      },
      "execution_count": null,
      "outputs": [
        {
          "output_type": "stream",
          "name": "stdout",
          "text": [
            "GloVe model's table:\n",
            "╒══════════════════════════╕\n",
            "│ France - Paris + Tokyo   │\n",
            "╞══════════════════════════╡\n",
            "│ No Answer                │\n",
            "├──────────────────────────┤\n",
            "│ No Answer                │\n",
            "╘══════════════════════════╛\n"
          ]
        }
      ]
    },
    {
      "cell_type": "code",
      "source": [
        "top2_similar_words11 = find_top10_similar_words(models_to_check3, ['france - paris + tokyo'], 2, negative=['paris'], positive=['france','tokyo'], use_analogy=True)"
      ],
      "metadata": {
        "colab": {
          "base_uri": "https://localhost:8080/"
        },
        "id": "Cw6CRqnVaYIU",
        "outputId": "c36c01a8-b8ea-4fcf-b83d-3d866381a1b6"
      },
      "execution_count": null,
      "outputs": [
        {
          "output_type": "stream",
          "name": "stdout",
          "text": [
            "GloVe model's table:\n",
            "╒══════════════════════════╕\n",
            "│ france - paris + tokyo   │\n",
            "╞══════════════════════════╡\n",
            "│ japan= 0.80168           │\n",
            "├──────────────────────────┤\n",
            "│ japanese= 0.61106        │\n",
            "╘══════════════════════════╛\n"
          ]
        }
      ]
    },
    {
      "cell_type": "markdown",
      "source": [
        "' France - Paris + Tokyo ' is used as keyword, with positive relationship as 'France,Tokyo' and negative 'Paris'. Paris is related to France as Tokyo is to what. Of course, Tokyo is the capital of Japan, which is the output of the models. Word2vec scores are more confident than those of glove's. We had to lowercase the characters in this analogy because glove was not able to solve it using the initial phrase with capital letters."
      ],
      "metadata": {
        "id": "WjLLjOSUWBCU"
      }
    },
    {
      "cell_type": "code",
      "source": [
        "top2_similar_words12 = find_top10_similar_words(models_to_check2, ['trees - apples + grapes'], 2, negative=['apples'], positive=['trees','grapes'], use_analogy=True)"
      ],
      "metadata": {
        "colab": {
          "base_uri": "https://localhost:8080/"
        },
        "id": "GsTR5sh3akmd",
        "outputId": "7e4126d6-3ac8-449f-e2f7-cc18ba9b1646"
      },
      "execution_count": null,
      "outputs": [
        {
          "output_type": "stream",
          "name": "stdout",
          "text": [
            "Word2vec model's table:\n",
            "╒═══════════════════════════╕\n",
            "│ trees - apples + grapes   │\n",
            "╞═══════════════════════════╡\n",
            "│ oak_trees= 0.67495        │\n",
            "├───────────────────────────┤\n",
            "│ vines= 0.67017            │\n",
            "╘═══════════════════════════╛\n"
          ]
        }
      ]
    },
    {
      "cell_type": "markdown",
      "source": [
        "Apples are related to trees as grapes is to what? Both results are reasonable."
      ],
      "metadata": {
        "id": "M-DUcIGfWtY9"
      }
    },
    {
      "cell_type": "code",
      "source": [
        "top2_similar_words13 = find_top10_similar_words(models_to_check3, ['trees - apples + grapes'], 2, negative=['apples'], positive=['trees','grapes'], use_analogy=True)"
      ],
      "metadata": {
        "colab": {
          "base_uri": "https://localhost:8080/"
        },
        "id": "BmIIghroa3KO",
        "outputId": "2f7a8526-9bf1-4562-b580-dd280893bcf9"
      },
      "execution_count": null,
      "outputs": [
        {
          "output_type": "stream",
          "name": "stdout",
          "text": [
            "GloVe model's table:\n",
            "╒═══════════════════════════╕\n",
            "│ trees - apples + grapes   │\n",
            "╞═══════════════════════════╡\n",
            "│ vines= 0.59093            │\n",
            "├───────────────────────────┤\n",
            "│ tree= 0.58429             │\n",
            "╘═══════════════════════════╛\n"
          ]
        }
      ]
    },
    {
      "cell_type": "markdown",
      "source": [
        "walking is related to swimming as walked ? Word2Vec's results are more accurate than GloVe's but they are both reasonable.  (Word2Vec returns verbs that are related to swimming while GloVe returns a noun)"
      ],
      "metadata": {
        "id": "X53D0QsgXRgF"
      }
    },
    {
      "cell_type": "code",
      "source": [
        "top2_similar_words14 = find_top10_similar_words(models_to_check2, ['swimming - walking + walked'], 2, negative=['walking'], positive=['swimming','walked'], use_analogy=True)"
      ],
      "metadata": {
        "colab": {
          "base_uri": "https://localhost:8080/"
        },
        "id": "jHpvBMI-bByP",
        "outputId": "f49d7aeb-1f3b-4777-c03a-08c8e78aa309"
      },
      "execution_count": null,
      "outputs": [
        {
          "output_type": "stream",
          "name": "stdout",
          "text": [
            "Word2vec model's table:\n",
            "╒═══════════════════════════════╕\n",
            "│ swimming - walking + walked   │\n",
            "╞═══════════════════════════════╡\n",
            "│ swam= 0.69259                 │\n",
            "├───────────────────────────────┤\n",
            "│ swim= 0.67250                 │\n",
            "╘═══════════════════════════════╛\n"
          ]
        }
      ]
    },
    {
      "cell_type": "code",
      "source": [
        "top2_similar_words15 = find_top10_similar_words(models_to_check3, ['swimming - walking + walked'], 2, negative=['walking'], positive=['swimming','walked'], use_analogy=True)"
      ],
      "metadata": {
        "colab": {
          "base_uri": "https://localhost:8080/"
        },
        "id": "4DhUoE_kbeWR",
        "outputId": "1e4924bd-0f28-413e-e0dc-73db21025637"
      },
      "execution_count": null,
      "outputs": [
        {
          "output_type": "stream",
          "name": "stdout",
          "text": [
            "GloVe model's table:\n",
            "╒═══════════════════════════════╕\n",
            "│ swimming - walking + walked   │\n",
            "╞═══════════════════════════════╡\n",
            "│ swam= 0.49780                 │\n",
            "├───────────────────────────────┤\n",
            "│ swimmers= 0.48521             │\n",
            "╘═══════════════════════════════╛\n"
          ]
        }
      ]
    },
    {
      "cell_type": "markdown",
      "source": [
        "Father is related to doctor as mother it to whom? We exprected that the word that solves this analogy is \"doctor\" but suprisingly is \"nurse\". This might be because there are more mothers which are nurses than doctors in the original train dataset."
      ],
      "metadata": {
        "id": "UjtkMSouX9K8"
      }
    },
    {
      "cell_type": "code",
      "source": [
        "top2_similar_words16 = find_top10_similar_words(models_to_check2, ['doctor - father + mother'], 2, negative=['father'], positive=['doctor','mother'], use_analogy=True)"
      ],
      "metadata": {
        "colab": {
          "base_uri": "https://localhost:8080/"
        },
        "id": "UlfV_MuOb3vD",
        "outputId": "b9ed3b37-6329-4ffc-97de-899bc2889ff2"
      },
      "execution_count": null,
      "outputs": [
        {
          "output_type": "stream",
          "name": "stdout",
          "text": [
            "Word2vec model's table:\n",
            "╒════════════════════════════╕\n",
            "│ doctor - father + mother   │\n",
            "╞════════════════════════════╡\n",
            "│ nurse= 0.71279             │\n",
            "├────────────────────────────┤\n",
            "│ doctors= 0.65933           │\n",
            "╘════════════════════════════╛\n"
          ]
        }
      ]
    },
    {
      "cell_type": "code",
      "source": [
        "top2_similar_words17 = find_top10_similar_words(models_to_check3, ['doctor - father + mother'], 2, negative=['father'], positive=['doctor','mother'], use_analogy=True)"
      ],
      "metadata": {
        "colab": {
          "base_uri": "https://localhost:8080/"
        },
        "id": "q7K-BHbYcIyc",
        "outputId": "309b333a-9a63-47e4-a44c-493d34b4922b"
      },
      "execution_count": null,
      "outputs": [
        {
          "output_type": "stream",
          "name": "stdout",
          "text": [
            "GloVe model's table:\n",
            "╒════════════════════════════╕\n",
            "│ doctor - father + mother   │\n",
            "╞════════════════════════════╡\n",
            "│ nurse= 0.65703             │\n",
            "├────────────────────────────┤\n",
            "│ doctors= 0.61718           │\n",
            "╘════════════════════════════╛\n"
          ]
        }
      ]
    },
    {
      "cell_type": "markdown",
      "source": [
        "## Analogies defined by the user\n",
        "\n"
      ],
      "metadata": {
        "id": "AV5MGC6GYgpF"
      }
    },
    {
      "cell_type": "markdown",
      "source": [
        "Guitar is related to rock as piano is to? The expected words were classic or jazz. As a result, word2vec's results are more reasonable than GloVe's."
      ],
      "metadata": {
        "id": "NEUMvxw2YuGp"
      }
    },
    {
      "cell_type": "code",
      "source": [
        "top2_similar_words18 = find_top10_similar_words(models_to_check2, ['rock — guitar + piano'], 2, negative=['guitar'], positive=['rock','piano'], use_analogy=True)"
      ],
      "metadata": {
        "colab": {
          "base_uri": "https://localhost:8080/"
        },
        "id": "wIDpXUO3dP3K",
        "outputId": "4bfaf348-bc96-4c1f-888f-9179117cdc1f"
      },
      "execution_count": null,
      "outputs": [
        {
          "output_type": "stream",
          "name": "stdout",
          "text": [
            "Word2vec model's table:\n",
            "╒══════════════════════════╕\n",
            "│ rock — guitar + piano    │\n",
            "╞══════════════════════════╡\n",
            "│ jazz= 0.50136            │\n",
            "├──────────────────────────┤\n",
            "│ station_WHJY_FM= 0.47569 │\n",
            "╘══════════════════════════╛\n"
          ]
        }
      ]
    },
    {
      "cell_type": "code",
      "source": [
        "top2_similar_words19 = find_top10_similar_words(models_to_check3, ['rock — guitar + piano'], 2, negative=['guitar'], positive=['rock','piano'], use_analogy=True)"
      ],
      "metadata": {
        "colab": {
          "base_uri": "https://localhost:8080/"
        },
        "id": "-gF1u8mofHem",
        "outputId": "4b26856a-8894-42b3-ac47-258f85e1e359"
      },
      "execution_count": null,
      "outputs": [
        {
          "output_type": "stream",
          "name": "stdout",
          "text": [
            "GloVe model's table:\n",
            "╒═════════════════════════╕\n",
            "│ rock — guitar + piano   │\n",
            "╞═════════════════════════╡\n",
            "│ music= 0.51683          │\n",
            "├─────────────────────────┤\n",
            "│ concert= 0.48200        │\n",
            "╘═════════════════════════╛\n"
          ]
        }
      ]
    },
    {
      "cell_type": "markdown",
      "source": [
        "Rock is related to guitar as jass it to saxophone/piano. Both model's results are accurate, but word2vec has learned the relationship better. Its score(75%) is higher than the one of GloVe's(65%)."
      ],
      "metadata": {
        "id": "AUxLVzn6Z0_c"
      }
    },
    {
      "cell_type": "code",
      "source": [
        "top2_similar_words20 = find_top10_similar_words(models_to_check2, ['guitar — rock + jazz'], 2, negative=['rock'], positive=['guitar','jazz'], use_analogy=True)"
      ],
      "metadata": {
        "colab": {
          "base_uri": "https://localhost:8080/"
        },
        "id": "NmB5PM7gfdLo",
        "outputId": "8a32a45f-54ec-41f9-c226-8900be8b4efe"
      },
      "execution_count": null,
      "outputs": [
        {
          "output_type": "stream",
          "name": "stdout",
          "text": [
            "Word2vec model's table:\n",
            "╒════════════════════════╕\n",
            "│ guitar — rock + jazz   │\n",
            "╞════════════════════════╡\n",
            "│ saxophone= 0.74873     │\n",
            "├────────────────────────┤\n",
            "│ sax= 0.71397           │\n",
            "╘════════════════════════╛\n"
          ]
        }
      ]
    },
    {
      "cell_type": "code",
      "source": [
        "top2_similar_words21 = find_top10_similar_words(models_to_check3, ['guitar — rock + jazz'], 2, negative=['rock'], positive=['guitar','jazz'], use_analogy=True)"
      ],
      "metadata": {
        "colab": {
          "base_uri": "https://localhost:8080/"
        },
        "id": "Oy2aXlq8fshT",
        "outputId": "f7f20b89-e760-4919-feb3-0eab8802658e"
      },
      "execution_count": null,
      "outputs": [
        {
          "output_type": "stream",
          "name": "stdout",
          "text": [
            "GloVe model's table:\n",
            "╒════════════════════════╕\n",
            "│ guitar — rock + jazz   │\n",
            "╞════════════════════════╡\n",
            "│ piano= 0.65337         │\n",
            "├────────────────────────┤\n",
            "│ saxophone= 0.64261     │\n",
            "╘════════════════════════╛\n"
          ]
        }
      ]
    },
    {
      "cell_type": "markdown",
      "source": [
        "Barcelona is related to football as athens is related to basketball. Both models indicate similar learning scores. The expected words were basketball or soccer, which are produced by word2vec."
      ],
      "metadata": {
        "id": "wTRlx2usdqCI"
      }
    },
    {
      "cell_type": "code",
      "source": [
        "top2_similar_words22 = find_top10_similar_words(models_to_check2, ['football — barcelona + athens'], 2, negative=['barcelona'], positive=['football','athens'], use_analogy=True)"
      ],
      "metadata": {
        "colab": {
          "base_uri": "https://localhost:8080/"
        },
        "id": "Sew22oQ4fy3b",
        "outputId": "77757cd2-265a-4358-fe0d-3bffd158f759"
      },
      "execution_count": null,
      "outputs": [
        {
          "output_type": "stream",
          "name": "stdout",
          "text": [
            "Word2vec model's table:\n",
            "╒═════════════════════════════════╕\n",
            "│ football — barcelona + athens   │\n",
            "╞═════════════════════════════════╡\n",
            "│ basketball= 0.54082             │\n",
            "├─────────────────────────────────┤\n",
            "│ soccer= 0.53506                 │\n",
            "╘═════════════════════════════════╛\n"
          ]
        }
      ]
    },
    {
      "cell_type": "code",
      "source": [
        "top2_similar_words23 = find_top10_similar_words(models_to_check3, ['football — barcelona + athens'], 2, negative=['barcelona'], positive=['football','athens'], use_analogy=True)"
      ],
      "metadata": {
        "colab": {
          "base_uri": "https://localhost:8080/"
        },
        "id": "vDl3XLwYguEb",
        "outputId": "0a0cf9fc-a7b3-484b-e0e6-215c75f73ff1"
      },
      "execution_count": null,
      "outputs": [
        {
          "output_type": "stream",
          "name": "stdout",
          "text": [
            "GloVe model's table:\n",
            "╒═════════════════════════════════╕\n",
            "│ football — barcelona + athens   │\n",
            "╞═════════════════════════════════╡\n",
            "│ basketball= 0.52758             │\n",
            "├─────────────────────────────────┤\n",
            "│ greek= 0.50150                  │\n",
            "╘═════════════════════════════════╛\n"
          ]
        }
      ]
    },
    {
      "cell_type": "markdown",
      "source": [
        "# Visualize vectors of a given set of words with t-SNE library"
      ],
      "metadata": {
        "id": "XetN5K4CeJLv"
      }
    },
    {
      "cell_type": "code",
      "source": [
        "import numpy as np\n",
        "from gensim.models import KeyedVectors\n",
        "from sklearn.manifold import TSNE\n",
        "import matplotlib.pyplot as plt\n",
        "\n",
        "# Words for which we need to retrieve embeddings and visualize\n",
        "words = [\n",
        "    'assignment', 'exam', 'career', 'classroom', 'colleague', 'college', 'coworker', 'curriculum',\n",
        "    'degree', 'employee', 'employment', 'grade', 'homework', 'job', 'learning', 'lecture', 'lesson',\n",
        "    'major', 'manager', 'occupation', 'office', 'position', 'profession', 'school', 'student', 'subject',\n",
        "    'supervisor', 'teacher', 'teaching', 'test', 'trade', 'university', 'vocation', 'workplace'\n",
        "]\n",
        "\n",
        "# Retrieve the associated vectors for our selected words\n",
        "word_vectors = np.array([glove[word] for word in words if word in glove])\n",
        "\n",
        "# Perform t-SNE dimensionality reduction to transform the vectors into 2D space\n",
        "tsne = TSNE(n_components=2, init='pca',n_iter=5000, random_state=0)\n",
        "word_vectors_2d = tsne.fit_transform(word_vectors)\n",
        "\n",
        "# Plotting the results of t-SNE\n",
        "plt.figure(figsize=(14, 8))\n",
        "plt.scatter(word_vectors_2d[:, 0], word_vectors_2d[:, 1])\n",
        "\n",
        "# Annotate the points on the graph with the words themselves\n",
        "for i, word in enumerate(words):\n",
        "    if word in glove:\n",
        "        plt.annotate(word, xy=(word_vectors_2d[i, 0], word_vectors_2d[i, 1]))\n",
        "\n",
        "# Add grid, title and labels\n",
        "plt.grid(True)\n",
        "plt.title('t-SNE visualization of GloVe word embeddings')\n",
        "plt.xlabel('Component 1')\n",
        "plt.ylabel('Component 2')\n",
        "\n",
        "# Showing the plot\n",
        "plt.show()\n"
      ],
      "metadata": {
        "colab": {
          "base_uri": "https://localhost:8080/",
          "height": 718
        },
        "id": "tkAMemLErE-j",
        "outputId": "ee635eee-9dc5-479a-e496-cca2c099bcd4"
      },
      "execution_count": null,
      "outputs": [
        {
          "output_type": "display_data",
          "data": {
            "text/plain": [
              "<Figure size 1400x800 with 1 Axes>"
            ],
            "image/png": "[encoded data removed]"
          },
          "metadata": {}
        }
      ]
    },
    {
      "cell_type": "markdown",
      "source": [
        "Below, we optimize the parameters to achieve better clustering of the vectors. PCA is utilised to find the principal componets of the vectors(most important ones, they capture more information). Perplexity value of 2 fits the dataset better in this case.  "
      ],
      "metadata": {
        "id": "tWBtZ3lTeXkC"
      }
    },
    {
      "cell_type": "code",
      "source": [
        "import numpy as np\n",
        "from gensim.models import KeyedVectors\n",
        "from sklearn.manifold import TSNE\n",
        "import matplotlib.pyplot as plt\n",
        "\n",
        "# Words for which we need to retrieve embeddings and visualize\n",
        "words = [\n",
        "    'assignment', 'exam', 'career', 'classroom', 'colleague', 'college', 'coworker', 'curriculum',\n",
        "    'degree', 'employee', 'employment', 'grade', 'homework', 'job', 'learning', 'lecture', 'lesson',\n",
        "    'major', 'manager', 'occupation', 'office', 'position', 'profession', 'school', 'student', 'subject',\n",
        "    'supervisor', 'teacher', 'teaching', 'test', 'trade', 'university', 'vocation', 'workplace'\n",
        "]\n",
        "\n",
        "# Retrieve the associated vectors for our selected words\n",
        "word_vectors = np.array([glove[word] for word in words if word in glove])\n",
        "\n",
        "# Perform t-SNE dimensionality reduction to transform the vectors into 2D space\n",
        "tsne = TSNE(n_components=2, init='pca',n_iter=5000,random_state=0, perplexity=2)\n",
        "word_vectors_2d = tsne.fit_transform(word_vectors)\n",
        "\n",
        "# Plotting the results of t-SNE\n",
        "plt.figure(figsize=(14, 8))\n",
        "plt.scatter(word_vectors_2d[:, 0], word_vectors_2d[:, 1])\n",
        "\n",
        "# Annotate the points on the graph with the words themselves\n",
        "for i, word in enumerate(words):\n",
        "    if word in glove:\n",
        "        plt.annotate(word, xy=(word_vectors_2d[i, 0], word_vectors_2d[i, 1]))\n",
        "\n",
        "# Add grid, title and labels\n",
        "plt.grid(True)\n",
        "plt.title('t-SNE visualization of GloVe word embeddings')\n",
        "plt.xlabel('Component 1')\n",
        "plt.ylabel('Component 2')\n",
        "\n",
        "# Showing the plot\n",
        "plt.show()\n"
      ],
      "metadata": {
        "id": "nBS6N-Eyx5XT",
        "outputId": "c3fc7c50-a95c-4cd9-d477-09a2a19d4f64",
        "colab": {
          "base_uri": "https://localhost:8080/",
          "height": 718
        }
      },
      "execution_count": null,
      "outputs": [
        {
          "output_type": "display_data",
          "data": {
            "text/plain": [
              "<Figure size 1400x800 with 1 Axes>"
            ],
            "image/png": "[encoded data removed]"
          },
          "metadata": {}
        }
      ]
    },
    {
      "cell_type": "markdown",
      "source": [
        "We observe five clusters in this case. The first one is on the upper left of the diagram, which includes degree, university, college, grade and school. The second is on the right of the previous one. Words such as lesson, classroom, homework, teaching, curriculum belong to this cluster. There are some outliers at the center of the diagram, namely vacation and occupation which are related very closely. The third cluster in at the bottom of the diagram. There, words like major, occupation and test are included. Most of them are correlated logically. The fourth cluster is on the top-right corner of the picture. It includes words such as supervisor and workplace. The last one is exactly on the left of the one mentioned before. It concerns employment, manager and assignment. In conclusion, by fine-tuning the parameters of t-SNE we achieve  more accurate clustering of the vectors"
      ],
      "metadata": {
        "id": "bvA6UK7CfLPE"
      }
    }
  ]
}