{
  "nbformat": 4,
  "nbformat_minor": 0,
  "metadata": {
    "colab": {
      "provenance": [],
      "machine_shape": "hm",
      "gpuType": "T4"
    },
    "kernelspec": {
      "name": "python3",
      "display_name": "Python 3"
    },
    "language_info": {
      "name": "python"
    },
    "accelerator": "GPU"
  },
  "cells": [
    {
      "cell_type": "code",
      "execution_count": null,
      "metadata": {
        "colab": {
          "base_uri": "https://localhost:8080/"
        },
        "id": "1oiEHtTPln8l",
        "outputId": "6bb7ed4d-a861-4c34-ca52-c34dd5bd6795"
      },
      "outputs": [
        {
          "output_type": "stream",
          "name": "stdout",
          "text": [
            "Mounted at /content/drive\n"
          ]
        }
      ],
      "source": [
        "import os\n",
        "from google.colab import drive\n",
        "drive.mount('/content/drive')"
      ]
    },
    {
      "cell_type": "code",
      "source": [
        "os.chdir('/content/drive/MyDrive/Assignment-4-DependencyParsing/Q_B4')\n",
        "!python main.py --lr 2e-5 --epochs 2"
      ],
      "metadata": {
        "colab": {
          "base_uri": "https://localhost:8080/"
        },
        "id": "5D9hlRGol-8b",
        "outputId": "42f266de-ec00-47d9-e0b7-bc004d4fcb96"
      },
      "execution_count": null,
      "outputs": [
        {
          "output_type": "stream",
          "name": "stdout",
          "text": [
            "2024-06-20 01:19:13,061 - INFO - Experiment Parameters - \n",
            "{'train_path': 'data/train.conll', 'dev_path': 'data/dev.conll', 'test_path': 'data/test.conll', 'ds_name': 'ptb', 'model_dir': None, 'ext_emb': None, 'seed': 1234, 'epochs': 2, 'lr': 2e-05, 'alpha': 0.25, 'w_emb_dim': 100, 'pos_emb_dim': 25, 'lstm_hid_dim': 125, 'mlp_hid_dim': 100, 'n_lstm_layers': 2, 'no_cuda': False, 'log_interval': 2000, 'do_eval': False, 'experiment_dir': './results/ds=ptb_epochs=2_lr=2e-05_seed=1234_extEmb=False_wDim=100_pDim=25_lstmDim=125_mlpDim=100_lstmN=2_date=06_20_2024'}\n",
            "2024-06-20 01:19:15,768 - INFO - Vocab statistics: words - 34327 | relations - 40 | POS tags - 19\n",
            "config.json: 100% 570/570 [00:00<00:00, 2.87MB/s]\n",
            "model.safetensors: 100% 440M/440M [00:01<00:00, 426MB/s]\n",
            "tokenizer_config.json: 100% 48.0/48.0 [00:00<00:00, 341kB/s]\n",
            "vocab.txt: 100% 232k/232k [00:00<00:00, 520kB/s]\n",
            "tokenizer.json: 100% 466k/466k [00:00<00:00, 11.0MB/s]\n",
            "2024-06-20 01:19:33,151 - INFO - -----------+-----------+-----------+-----------+-----------\n",
            "2024-06-20 01:19:33,151 - INFO - Train epoch: 1\n",
            "2024-06-20 01:19:34,845 - INFO - [0/39832 (0%)]\n",
            "2024-06-20 01:24:50,462 - INFO - [2000/39832 (5%)]\n",
            "2024-06-20 01:29:54,728 - INFO - [4000/39832 (10%)]\n",
            "2024-06-20 01:34:48,570 - INFO - [6000/39832 (15%)]\n",
            "2024-06-20 01:39:37,666 - INFO - [8000/39832 (20%)]\n",
            "2024-06-20 01:44:25,920 - INFO - [10000/39832 (25%)]\n",
            "2024-06-20 01:49:16,703 - INFO - [12000/39832 (30%)]\n",
            "2024-06-20 01:53:57,995 - INFO - [14000/39832 (35%)]\n",
            "2024-06-20 01:58:40,060 - INFO - [16000/39832 (40%)]\n",
            "2024-06-20 02:03:20,687 - INFO - [18000/39832 (45%)]\n",
            "2024-06-20 02:08:05,228 - INFO - [20000/39832 (50%)]\n",
            "2024-06-20 02:12:44,709 - INFO - [22000/39832 (55%)]\n",
            "2024-06-20 02:17:22,403 - INFO - [24000/39832 (60%)]\n",
            "2024-06-20 02:21:57,585 - INFO - [26000/39832 (65%)]\n",
            "2024-06-20 02:26:30,954 - INFO - [28000/39832 (70%)]\n",
            "2024-06-20 02:31:04,280 - INFO - [30000/39832 (75%)]\n",
            "2024-06-20 02:35:36,280 - INFO - [32000/39832 (80%)]\n",
            "2024-06-20 02:40:10,224 - INFO - [34000/39832 (85%)]\n",
            "2024-06-20 02:44:46,410 - INFO - [36000/39832 (90%)]\n",
            "2024-06-20 02:49:19,682 - INFO - [38000/39832 (95%)]\n",
            "2024-06-20 02:54:40,186 - INFO - -----------+-----------+-----------+-----------+-----------\n",
            "2024-06-20 02:54:40,186 - INFO - dev results:\n",
            "2024-06-20 02:54:40,186 - INFO - Metric              |Score |\n",
            "2024-06-20 02:54:40,186 - INFO - -----------+-----------+-----------+-----------+-----------\n",
            "2024-06-20 02:54:40,186 - INFO - las                 | 93.17|\n",
            "2024-06-20 02:54:40,186 - INFO - uas                 | 95.28|\n",
            "2024-06-20 02:54:41,266 - INFO - ---UAS was improved. The current parser was saved.---\n",
            "2024-06-20 02:54:41,266 - INFO - -----------+-----------+-----------+-----------+-----------\n",
            "2024-06-20 02:54:41,266 - INFO - Train epoch: 2\n",
            "2024-06-20 02:54:41,374 - INFO - [0/39832 (0%)]\n",
            "2024-06-20 02:59:11,079 - INFO - [2000/39832 (5%)]\n",
            "2024-06-20 03:03:38,858 - INFO - [4000/39832 (10%)]\n",
            "2024-06-20 03:08:00,067 - INFO - [6000/39832 (15%)]\n",
            "2024-06-20 03:12:28,571 - INFO - [8000/39832 (20%)]\n",
            "2024-06-20 03:16:54,784 - INFO - [10000/39832 (25%)]\n",
            "2024-06-20 03:21:24,994 - INFO - [12000/39832 (30%)]\n",
            "2024-06-20 03:25:51,093 - INFO - [14000/39832 (35%)]\n",
            "2024-06-20 03:30:17,651 - INFO - [16000/39832 (40%)]\n",
            "2024-06-20 03:34:41,857 - INFO - [18000/39832 (45%)]\n",
            "2024-06-20 03:39:05,516 - INFO - [20000/39832 (50%)]\n",
            "2024-06-20 03:43:22,510 - INFO - [22000/39832 (55%)]\n",
            "2024-06-20 03:47:46,958 - INFO - [24000/39832 (60%)]\n",
            "2024-06-20 03:52:11,809 - INFO - [26000/39832 (65%)]\n",
            "2024-06-20 03:56:36,683 - INFO - [28000/39832 (70%)]\n",
            "2024-06-20 04:00:57,420 - INFO - [30000/39832 (75%)]\n",
            "2024-06-20 04:05:24,786 - INFO - [32000/39832 (80%)]\n",
            "2024-06-20 04:09:51,715 - INFO - [34000/39832 (85%)]\n",
            "2024-06-20 04:14:13,351 - INFO - [36000/39832 (90%)]\n",
            "2024-06-20 04:18:34,564 - INFO - [38000/39832 (95%)]\n",
            "2024-06-20 04:23:47,415 - INFO - -----------+-----------+-----------+-----------+-----------\n",
            "2024-06-20 04:23:47,416 - INFO - dev results:\n",
            "2024-06-20 04:23:47,416 - INFO - Metric              |Score |\n",
            "2024-06-20 04:23:47,416 - INFO - -----------+-----------+-----------+-----------+-----------\n",
            "2024-06-20 04:23:47,416 - INFO - las                 | 93.57|\n",
            "2024-06-20 04:23:47,416 - INFO - uas                 | 95.64|\n",
            "2024-06-20 04:23:48,590 - INFO - ---UAS was improved. The current parser was saved.---\n"
          ]
        }
      ]
    },
    {
      "cell_type": "code",
      "source": [
        "!python main.py --do_eval --model_dir \"/content/drive/MyDrive/Assignment-4-DependencyParsing/Q_B4/results/ds=ptb_epochs=2_lr=2e-05_seed=1234_extEmb=False_wDim=100_pDim=25_lstmDim=125_mlpDim=100_lstmN=2_date=06_20_2024\""
      ],
      "metadata": {
        "colab": {
          "base_uri": "https://localhost:8080/"
        },
        "id": "uDpRoUdLPK-t",
        "outputId": "18dadfac-dccc-4f4f-83b4-af273c35b17e"
      },
      "execution_count": null,
      "outputs": [
        {
          "output_type": "stream",
          "name": "stdout",
          "text": [
            "2024-06-20 04:24:04,009 - INFO - Experiment Parameters - \n",
            "{'train_path': 'data/train.conll', 'dev_path': 'data/dev.conll', 'test_path': 'data/test.conll', 'ds_name': 'ptb', 'model_dir': '/content/drive/MyDrive/Assignment-4-DependencyParsing/Q_B4/results/ds=ptb_epochs=2_lr=2e-05_seed=1234_extEmb=False_wDim=100_pDim=25_lstmDim=125_mlpDim=100_lstmN=2_date=06_20_2024', 'ext_emb': None, 'seed': 1234, 'epochs': 5, 'lr': 0.001, 'alpha': 0.25, 'w_emb_dim': 100, 'pos_emb_dim': 25, 'lstm_hid_dim': 125, 'mlp_hid_dim': 100, 'n_lstm_layers': 2, 'no_cuda': False, 'log_interval': 2000, 'do_eval': True, 'experiment_dir': '/content/drive/MyDrive/Assignment-4-DependencyParsing/Q_B4/results/ds=ptb_epochs=2_lr=2e-05_seed=1234_extEmb=False_wDim=100_pDim=25_lstmDim=125_mlpDim=100_lstmN=2_date=06_20_2024'}\n",
            "2024-06-20 04:24:04,047 - INFO - Vocab statistics: words - 34327 | relations - 40 | POS tags - 19\n",
            "2024-06-20 04:25:47,549 - INFO - -----------+-----------+-----------+-----------+-----------\n",
            "2024-06-20 04:25:47,550 - INFO - test results:\n",
            "2024-06-20 04:25:47,550 - INFO - Metric              |Score |\n",
            "2024-06-20 04:25:47,550 - INFO - -----------+-----------+-----------+-----------+-----------\n",
            "2024-06-20 04:25:47,550 - INFO - las                 | 94.31|\n",
            "2024-06-20 04:25:47,550 - INFO - uas                 | 96.07|\n"
          ]
        }
      ]
    },
    {
      "cell_type": "code",
      "source": [
        "from google.colab import runtime\n",
        "runtime.unassign()"
      ],
      "metadata": {
        "id": "q7NWbb5kR_7_"
      },
      "execution_count": null,
      "outputs": []
    }
  ]
}